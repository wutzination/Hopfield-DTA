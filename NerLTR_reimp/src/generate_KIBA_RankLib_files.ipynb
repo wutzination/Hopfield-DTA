{
 "nbformat": 4,
 "nbformat_minor": 0,
 "metadata": {
  "colab": {
   "provenance": [],
   "collapsed_sections": [],
   "authorship_tag": "ABX9TyNyqPevNsCPGbG3JGtO5CRG"
  },
  "kernelspec": {
   "name": "python3",
   "display_name": "Python 3"
  },
  "language_info": {
   "name": "python"
  }
 },
 "cells": [
  {
   "cell_type": "code",
   "execution_count": 1,
   "metadata": {
    "colab": {
     "base_uri": "https://localhost:8080/"
    },
    "id": "xldo2u10--hA",
    "executionInfo": {
     "status": "ok",
     "timestamp": 1663250886785,
     "user_tz": -120,
     "elapsed": 18678,
     "user": {
      "displayName": "Laurenz Wurdinger",
      "userId": "00707038666413498638"
     }
    },
    "outputId": "e8a0d413-8da2-4d90-cca1-17112e34fb94"
   },
   "outputs": [
    {
     "output_type": "stream",
     "name": "stdout",
     "text": [
      "Mounted at /content/gdrive\n"
     ]
    }
   ],
   "source": []
  },
  {
   "cell_type": "code",
   "source": [
    "#Connect to data folder of NerLTR-DTA\n",
    "root_path = '/data/'\n",
    "import os\n",
    "os.chdir(root_path)\n",
    "!pwd"
   ],
   "metadata": {
    "colab": {
     "base_uri": "https://localhost:8080/"
    },
    "id": "E_552un2_FpO",
    "executionInfo": {
     "status": "ok",
     "timestamp": 1663250888407,
     "user_tz": -120,
     "elapsed": 1688,
     "user": {
      "displayName": "Laurenz Wurdinger",
      "userId": "00707038666413498638"
     }
    },
    "outputId": "ab16e327-bb9a-49d2-ad46-91a7a63fb62b"
   },
   "execution_count": 2,
   "outputs": [
    {
     "output_type": "stream",
     "name": "stdout",
     "text": [
      "/content/gdrive/My Drive/KI JKU/Seminar_PracticalW_MasterThesis/MasterThesis/NerLTR/data\n"
     ]
    }
   ]
  },
  {
   "cell_type": "code",
   "source": [
    "import numpy as np\n",
    "import pandas as pd\n",
    "import linecache\n",
    "import math\n",
    "from collections import Counter\n",
    "import pickle"
   ],
   "metadata": {
    "id": "N6ElsZBZ_Lu2",
    "executionInfo": {
     "status": "ok",
     "timestamp": 1663250889287,
     "user_tz": -120,
     "elapsed": 884,
     "user": {
      "displayName": "Laurenz Wurdinger",
      "userId": "00707038666413498638"
     }
    }
   },
   "execution_count": 3,
   "outputs": []
  },
  {
   "cell_type": "markdown",
   "source": [
    "#Paths KIBA dataset"
   ],
   "metadata": {
    "id": "2YKKhDc3C0Vg"
   }
  },
  {
   "cell_type": "code",
   "source": [
    "path_KIBA_affinity = 'KIBA/kiba_binding_affinity_v2.txt' #Affinity Matrix AffiDT from Kiba Dataset\n",
    "path_KIBA_SSAF_drugs = 'KIBA/SAF/SSAF_drugs' #SSAF feature of drug\n",
    "path_KIBA_SSAF_targets = 'KIBA/SAF/SSAF_targets' #SSAF feature of target\n",
    "path_KIBA_ASAF_drugs = 'KIBA/SAF/ASAF_drugs' #ASAF feature of drug\n",
    "path_KIBA_ASAF_targets = 'KIBA/SAF/ASAF_targets' #ASAF feature of target\n",
    "path_KIBA_GAAF_drugs = 'KIBA/AAF/GAAF_drugs' #GAAF feature of drugs\n",
    "path_KIBA_GAAF_targets = 'KIBA/AAF/GAAF_targets' #GAAF feature of target\n",
    "path_KIBA_AAAF_drugs = 'KIBA/AAF/AAAF_drugs' #AAAF feature of drugs\n",
    "path_KIBA_AAAF_targets = 'KIBA/AAF/AAAF_targets' #AAAF feature of target"
   ],
   "metadata": {
    "id": "rZlSoBh3_PTu",
    "executionInfo": {
     "status": "ok",
     "timestamp": 1663250889288,
     "user_tz": -120,
     "elapsed": 10,
     "user": {
      "displayName": "Laurenz Wurdinger",
      "userId": "00707038666413498638"
     }
    }
   },
   "execution_count": 4,
   "outputs": []
  },
  {
   "cell_type": "code",
   "source": [
    "path_KIBA_fold_train = 'KIBA/fold/train_fold_setting1.txt'\n",
    "path_KIBA_fold_test = 'KIBA/fold/test_fold_setting1.txt'"
   ],
   "metadata": {
    "id": "hLVk5m_UCSNd",
    "executionInfo": {
     "status": "ok",
     "timestamp": 1663250889289,
     "user_tz": -120,
     "elapsed": 10,
     "user": {
      "displayName": "Laurenz Wurdinger",
      "userId": "00707038666413498638"
     }
    }
   },
   "execution_count": 5,
   "outputs": []
  },
  {
   "cell_type": "markdown",
   "source": [],
   "metadata": {
    "id": "jXob0KipC4Bv"
   }
  },
  {
   "cell_type": "code",
   "source": [],
   "metadata": {
    "id": "ghE_oIpKB-2G",
    "executionInfo": {
     "status": "ok",
     "timestamp": 1663250889289,
     "user_tz": -120,
     "elapsed": 8,
     "user": {
      "displayName": "Laurenz Wurdinger",
      "userId": "00707038666413498638"
     }
    }
   },
   "execution_count": 6,
   "outputs": []
  },
  {
   "cell_type": "code",
   "source": [],
   "metadata": {
    "id": "WEuanlWtC9MW",
    "executionInfo": {
     "status": "ok",
     "timestamp": 1663250889290,
     "user_tz": -120,
     "elapsed": 8,
     "user": {
      "displayName": "Laurenz Wurdinger",
      "userId": "00707038666413498638"
     }
    }
   },
   "execution_count": 7,
   "outputs": []
  },
  {
   "cell_type": "markdown",
   "source": [
    "#Generate test and train files for RankLib"
   ],
   "metadata": {
    "id": "sbRZI2pdDH9p"
   }
  },
  {
   "cell_type": "code",
   "source": [
    "from ast import literal_eval"
   ],
   "metadata": {
    "id": "r4KDDNErPOMn",
    "executionInfo": {
     "status": "ok",
     "timestamp": 1663250889290,
     "user_tz": -120,
     "elapsed": 7,
     "user": {
      "displayName": "Laurenz Wurdinger",
      "userId": "00707038666413498638"
     }
    }
   },
   "execution_count": 8,
   "outputs": []
  },
  {
   "cell_type": "markdown",
   "source": [
    "##KIBA"
   ],
   "metadata": {
    "id": "LNjVhtHBx3ja"
   }
  },
  {
   "cell_type": "code",
   "source": [
    "with open(path_KIBA_fold_test) as f:\n",
    "    test_KIBA = literal_eval(f.read())\n",
    "print(f'Test {len(test_KIBA)}')"
   ],
   "metadata": {
    "colab": {
     "base_uri": "https://localhost:8080/"
    },
    "id": "VQCrsC_FIaEj",
    "executionInfo": {
     "status": "ok",
     "timestamp": 1663250890517,
     "user_tz": -120,
     "elapsed": 1233,
     "user": {
      "displayName": "Laurenz Wurdinger",
      "userId": "00707038666413498638"
     }
    },
    "outputId": "754c7454-2f89-450f-f0d2-b86dceba5718"
   },
   "execution_count": 9,
   "outputs": [
    {
     "output_type": "stream",
     "name": "stdout",
     "text": [
      "Test 19709\n"
     ]
    }
   ]
  },
  {
   "cell_type": "code",
   "source": [
    "#check for highes index in \n",
    "np.max(test_KIBA)"
   ],
   "metadata": {
    "colab": {
     "base_uri": "https://localhost:8080/"
    },
    "id": "2zhOAxboPTOZ",
    "executionInfo": {
     "status": "ok",
     "timestamp": 1663250890518,
     "user_tz": -120,
     "elapsed": 11,
     "user": {
      "displayName": "Laurenz Wurdinger",
      "userId": "00707038666413498638"
     }
    },
    "outputId": "adcf1612-5bff-4b86-dbd3-a4af72afa762"
   },
   "execution_count": 10,
   "outputs": [
    {
     "output_type": "execute_result",
     "data": {
      "text/plain": [
       "118241"
      ]
     },
     "metadata": {},
     "execution_count": 10
    }
   ]
  },
  {
   "cell_type": "code",
   "source": [
    "with open(path_KIBA_fold_train) as f:\n",
    "    train_KIBA = literal_eval(f.read())\n",
    "print(f'Fold1 {len(train_KIBA[0])}')\n",
    "print(f'Fold2 {len(train_KIBA[1])}')\n",
    "print(f'Fold3 {len(train_KIBA[2])}')\n",
    "print(f'Fold4 {len(train_KIBA[3])}')\n",
    "print(f'Fold5 {len(train_KIBA[4])}')\n",
    "#arr[0] # check ids if fold with data fold file"
   ],
   "metadata": {
    "colab": {
     "base_uri": "https://localhost:8080/"
    },
    "id": "z_EdFglSOK81",
    "executionInfo": {
     "status": "ok",
     "timestamp": 1663250891266,
     "user_tz": -120,
     "elapsed": 755,
     "user": {
      "displayName": "Laurenz Wurdinger",
      "userId": "00707038666413498638"
     }
    },
    "outputId": "9805f688-f7f3-43b0-fc68-17f591614bfe"
   },
   "execution_count": 11,
   "outputs": [
    {
     "output_type": "stream",
     "name": "stdout",
     "text": [
      "Fold1 19709\n",
      "Fold2 19709\n",
      "Fold3 19709\n",
      "Fold4 19709\n",
      "Fold5 19709\n"
     ]
    }
   ]
  },
  {
   "cell_type": "code",
   "source": [
    "#check for highes index in folds --> must not be higher than 118253\n",
    "np.max(train_KIBA)"
   ],
   "metadata": {
    "colab": {
     "base_uri": "https://localhost:8080/"
    },
    "id": "fSExEmAhO1sv",
    "executionInfo": {
     "status": "ok",
     "timestamp": 1663250891267,
     "user_tz": -120,
     "elapsed": 10,
     "user": {
      "displayName": "Laurenz Wurdinger",
      "userId": "00707038666413498638"
     }
    },
    "outputId": "6ef22924-cf45-4e29-afda-b3972835749b"
   },
   "execution_count": 12,
   "outputs": [
    {
     "output_type": "execute_result",
     "data": {
      "text/plain": [
       "118253"
      ]
     },
     "metadata": {},
     "execution_count": 12
    }
   ]
  },
  {
   "cell_type": "code",
   "source": [
    "#load Affinity Matrix\n",
    "aff_KIBA = np.loadtxt(path_KIBA_affinity)"
   ],
   "metadata": {
    "id": "knjmBEwvQJU-",
    "executionInfo": {
     "status": "ok",
     "timestamp": 1663250892098,
     "user_tz": -120,
     "elapsed": 836,
     "user": {
      "displayName": "Laurenz Wurdinger",
      "userId": "00707038666413498638"
     }
    }
   },
   "execution_count": 13,
   "outputs": []
  },
  {
   "cell_type": "code",
   "source": [
    "# counter to check how many elements in dataset are not nan e.g. KIBA 118254\n",
    "counter = 0\n",
    "#dataframe for Drug ID, Target ID plus Affinity and general ID \n",
    "kiba_df = pd.DataFrame(columns = ['drug_ID', 'target_ID', 'affinity'])\n",
    "for i,row in enumerate(aff_KIBA):\n",
    "  for j,el in enumerate(row):\n",
    "    if el > -1:\n",
    "      counter +=1\n",
    "      data = {\n",
    "        'drug_ID':i,\n",
    "        'target_ID':j,\n",
    "        'affinity': el\n",
    "        }\n",
    "\n",
    "      kiba_df=kiba_df.append(data, ignore_index=True)\n",
    "kiba_df.drug_ID = kiba_df.drug_ID.astype(int)\n",
    "kiba_df.target_ID = kiba_df.target_ID.astype(int)\n",
    "print(f'Counter: {counter}')"
   ],
   "metadata": {
    "colab": {
     "base_uri": "https://localhost:8080/"
    },
    "id": "IZYhmMq7J2Ah",
    "executionInfo": {
     "status": "ok",
     "timestamp": 1663251139327,
     "user_tz": -120,
     "elapsed": 246468,
     "user": {
      "displayName": "Laurenz Wurdinger",
      "userId": "00707038666413498638"
     }
    },
    "outputId": "3115ae98-8cc7-459a-b5f3-e0af8b3b217a"
   },
   "execution_count": 14,
   "outputs": [
    {
     "output_type": "stream",
     "name": "stdout",
     "text": [
      "Counter: 118254\n"
     ]
    }
   ]
  },
  {
   "cell_type": "code",
   "source": [
    "#check df\n",
    "kiba_df"
   ],
   "metadata": {
    "colab": {
     "base_uri": "https://localhost:8080/",
     "height": 424
    },
    "id": "PRHBOXZ7K1p3",
    "executionInfo": {
     "status": "ok",
     "timestamp": 1663251139605,
     "user_tz": -120,
     "elapsed": 341,
     "user": {
      "displayName": "Laurenz Wurdinger",
      "userId": "00707038666413498638"
     }
    },
    "outputId": "2f38ee76-68ca-4d41-d206-ab24abaa5dae"
   },
   "execution_count": 15,
   "outputs": [
    {
     "output_type": "execute_result",
     "data": {
      "text/plain": [
       "        drug_ID  target_ID  affinity\n",
       "0             0          0  11.10000\n",
       "1             0          6  11.10000\n",
       "2             0          9  11.10000\n",
       "3             0         25  11.10000\n",
       "4             0         27  11.10000\n",
       "...         ...        ...       ...\n",
       "118249     2110        154  10.49794\n",
       "118250     2110        155  10.49794\n",
       "118251     2110        156  10.49794\n",
       "118252     2110        173  10.49794\n",
       "118253     2110        223  10.49794\n",
       "\n",
       "[118254 rows x 3 columns]"
      ],
      "text/html": [
       "\n",
       "  <div id=\"df-0e9b8543-6442-48fb-b5d5-c4dced29916b\">\n",
       "    <div class=\"colab-df-container\">\n",
       "      <div>\n",
       "<style scoped>\n",
       "    .dataframe tbody tr th:only-of-type {\n",
       "        vertical-align: middle;\n",
       "    }\n",
       "\n",
       "    .dataframe tbody tr th {\n",
       "        vertical-align: top;\n",
       "    }\n",
       "\n",
       "    .dataframe thead th {\n",
       "        text-align: right;\n",
       "    }\n",
       "</style>\n",
       "<table border=\"1\" class=\"dataframe\">\n",
       "  <thead>\n",
       "    <tr style=\"text-align: right;\">\n",
       "      <th></th>\n",
       "      <th>drug_ID</th>\n",
       "      <th>target_ID</th>\n",
       "      <th>affinity</th>\n",
       "    </tr>\n",
       "  </thead>\n",
       "  <tbody>\n",
       "    <tr>\n",
       "      <th>0</th>\n",
       "      <td>0</td>\n",
       "      <td>0</td>\n",
       "      <td>11.10000</td>\n",
       "    </tr>\n",
       "    <tr>\n",
       "      <th>1</th>\n",
       "      <td>0</td>\n",
       "      <td>6</td>\n",
       "      <td>11.10000</td>\n",
       "    </tr>\n",
       "    <tr>\n",
       "      <th>2</th>\n",
       "      <td>0</td>\n",
       "      <td>9</td>\n",
       "      <td>11.10000</td>\n",
       "    </tr>\n",
       "    <tr>\n",
       "      <th>3</th>\n",
       "      <td>0</td>\n",
       "      <td>25</td>\n",
       "      <td>11.10000</td>\n",
       "    </tr>\n",
       "    <tr>\n",
       "      <th>4</th>\n",
       "      <td>0</td>\n",
       "      <td>27</td>\n",
       "      <td>11.10000</td>\n",
       "    </tr>\n",
       "    <tr>\n",
       "      <th>...</th>\n",
       "      <td>...</td>\n",
       "      <td>...</td>\n",
       "      <td>...</td>\n",
       "    </tr>\n",
       "    <tr>\n",
       "      <th>118249</th>\n",
       "      <td>2110</td>\n",
       "      <td>154</td>\n",
       "      <td>10.49794</td>\n",
       "    </tr>\n",
       "    <tr>\n",
       "      <th>118250</th>\n",
       "      <td>2110</td>\n",
       "      <td>155</td>\n",
       "      <td>10.49794</td>\n",
       "    </tr>\n",
       "    <tr>\n",
       "      <th>118251</th>\n",
       "      <td>2110</td>\n",
       "      <td>156</td>\n",
       "      <td>10.49794</td>\n",
       "    </tr>\n",
       "    <tr>\n",
       "      <th>118252</th>\n",
       "      <td>2110</td>\n",
       "      <td>173</td>\n",
       "      <td>10.49794</td>\n",
       "    </tr>\n",
       "    <tr>\n",
       "      <th>118253</th>\n",
       "      <td>2110</td>\n",
       "      <td>223</td>\n",
       "      <td>10.49794</td>\n",
       "    </tr>\n",
       "  </tbody>\n",
       "</table>\n",
       "<p>118254 rows × 3 columns</p>\n",
       "</div>\n",
       "      <button class=\"colab-df-convert\" onclick=\"convertToInteractive('df-0e9b8543-6442-48fb-b5d5-c4dced29916b')\"\n",
       "              title=\"Convert this dataframe to an interactive table.\"\n",
       "              style=\"display:none;\">\n",
       "        \n",
       "  <svg xmlns=\"http://www.w3.org/2000/svg\" height=\"24px\"viewBox=\"0 0 24 24\"\n",
       "       width=\"24px\">\n",
       "    <path d=\"M0 0h24v24H0V0z\" fill=\"none\"/>\n",
       "    <path d=\"M18.56 5.44l.94 2.06.94-2.06 2.06-.94-2.06-.94-.94-2.06-.94 2.06-2.06.94zm-11 1L8.5 8.5l.94-2.06 2.06-.94-2.06-.94L8.5 2.5l-.94 2.06-2.06.94zm10 10l.94 2.06.94-2.06 2.06-.94-2.06-.94-.94-2.06-.94 2.06-2.06.94z\"/><path d=\"M17.41 7.96l-1.37-1.37c-.4-.4-.92-.59-1.43-.59-.52 0-1.04.2-1.43.59L10.3 9.45l-7.72 7.72c-.78.78-.78 2.05 0 2.83L4 21.41c.39.39.9.59 1.41.59.51 0 1.02-.2 1.41-.59l7.78-7.78 2.81-2.81c.8-.78.8-2.07 0-2.86zM5.41 20L4 18.59l7.72-7.72 1.47 1.35L5.41 20z\"/>\n",
       "  </svg>\n",
       "      </button>\n",
       "      \n",
       "  <style>\n",
       "    .colab-df-container {\n",
       "      display:flex;\n",
       "      flex-wrap:wrap;\n",
       "      gap: 12px;\n",
       "    }\n",
       "\n",
       "    .colab-df-convert {\n",
       "      background-color: #E8F0FE;\n",
       "      border: none;\n",
       "      border-radius: 50%;\n",
       "      cursor: pointer;\n",
       "      display: none;\n",
       "      fill: #1967D2;\n",
       "      height: 32px;\n",
       "      padding: 0 0 0 0;\n",
       "      width: 32px;\n",
       "    }\n",
       "\n",
       "    .colab-df-convert:hover {\n",
       "      background-color: #E2EBFA;\n",
       "      box-shadow: 0px 1px 2px rgba(60, 64, 67, 0.3), 0px 1px 3px 1px rgba(60, 64, 67, 0.15);\n",
       "      fill: #174EA6;\n",
       "    }\n",
       "\n",
       "    [theme=dark] .colab-df-convert {\n",
       "      background-color: #3B4455;\n",
       "      fill: #D2E3FC;\n",
       "    }\n",
       "\n",
       "    [theme=dark] .colab-df-convert:hover {\n",
       "      background-color: #434B5C;\n",
       "      box-shadow: 0px 1px 3px 1px rgba(0, 0, 0, 0.15);\n",
       "      filter: drop-shadow(0px 1px 2px rgba(0, 0, 0, 0.3));\n",
       "      fill: #FFFFFF;\n",
       "    }\n",
       "  </style>\n",
       "\n",
       "      <script>\n",
       "        const buttonEl =\n",
       "          document.querySelector('#df-0e9b8543-6442-48fb-b5d5-c4dced29916b button.colab-df-convert');\n",
       "        buttonEl.style.display =\n",
       "          google.colab.kernel.accessAllowed ? 'block' : 'none';\n",
       "\n",
       "        async function convertToInteractive(key) {\n",
       "          const element = document.querySelector('#df-0e9b8543-6442-48fb-b5d5-c4dced29916b');\n",
       "          const dataTable =\n",
       "            await google.colab.kernel.invokeFunction('convertToInteractive',\n",
       "                                                     [key], {});\n",
       "          if (!dataTable) return;\n",
       "\n",
       "          const docLinkHtml = 'Like what you see? Visit the ' +\n",
       "            '<a target=\"_blank\" href=https://colab.research.google.com/notebooks/data_table.ipynb>data table notebook</a>'\n",
       "            + ' to learn more about interactive tables.';\n",
       "          element.innerHTML = '';\n",
       "          dataTable['output_type'] = 'display_data';\n",
       "          await google.colab.output.renderOutput(dataTable, element);\n",
       "          const docLink = document.createElement('div');\n",
       "          docLink.innerHTML = docLinkHtml;\n",
       "          element.appendChild(docLink);\n",
       "        }\n",
       "      </script>\n",
       "    </div>\n",
       "  </div>\n",
       "  "
      ]
     },
     "metadata": {},
     "execution_count": 15
    }
   ]
  },
  {
   "cell_type": "code",
   "source": [
    "kiba_train = kiba_df.iloc[train_KIBA[0]+train_KIBA[1]+train_KIBA[2]+train_KIBA[3]+train_KIBA[4]].copy()\n",
    "kiba_fold1 = kiba_df.iloc[train_KIBA[0]].copy()\n",
    "kiba_fold2 = kiba_df.iloc[train_KIBA[1]].copy()\n",
    "kiba_fold3 = kiba_df.iloc[train_KIBA[2]].copy()\n",
    "kiba_fold4 = kiba_df.iloc[train_KIBA[3]].copy()\n",
    "kiba_fold5 = kiba_df.iloc[train_KIBA[4]].copy()\n",
    "kiba_test = kiba_df.iloc[test_KIBA].copy()"
   ],
   "metadata": {
    "id": "LPo9KrqdQhjo",
    "executionInfo": {
     "status": "ok",
     "timestamp": 1663251139606,
     "user_tz": -120,
     "elapsed": 17,
     "user": {
      "displayName": "Laurenz Wurdinger",
      "userId": "00707038666413498638"
     }
    }
   },
   "execution_count": 16,
   "outputs": []
  },
  {
   "cell_type": "code",
   "source": [
    "kiba_train"
   ],
   "metadata": {
    "colab": {
     "base_uri": "https://localhost:8080/",
     "height": 424
    },
    "id": "uAYZPYCcpBK9",
    "executionInfo": {
     "status": "ok",
     "timestamp": 1663251139608,
     "user_tz": -120,
     "elapsed": 18,
     "user": {
      "displayName": "Laurenz Wurdinger",
      "userId": "00707038666413498638"
     }
    },
    "outputId": "9e4658bb-938c-45c5-afd0-24020759510b"
   },
   "execution_count": 17,
   "outputs": [
    {
     "output_type": "execute_result",
     "data": {
      "text/plain": [
       "        drug_ID  target_ID   affinity\n",
       "113703     1776         20   9.798970\n",
       "51222       492        160  11.400000\n",
       "98078      1207        204  11.200000\n",
       "29622       305         98  11.200000\n",
       "80976       917         46  11.999998\n",
       "...         ...        ...        ...\n",
       "88379      1017         96  13.800057\n",
       "98714      1218         39  11.600000\n",
       "11884       158          3  11.500000\n",
       "90741      1080         36  10.600000\n",
       "77366       869         48  11.400000\n",
       "\n",
       "[98545 rows x 3 columns]"
      ],
      "text/html": [
       "\n",
       "  <div id=\"df-c1c25e48-7987-4f85-a4ea-13ec3a0210cf\">\n",
       "    <div class=\"colab-df-container\">\n",
       "      <div>\n",
       "<style scoped>\n",
       "    .dataframe tbody tr th:only-of-type {\n",
       "        vertical-align: middle;\n",
       "    }\n",
       "\n",
       "    .dataframe tbody tr th {\n",
       "        vertical-align: top;\n",
       "    }\n",
       "\n",
       "    .dataframe thead th {\n",
       "        text-align: right;\n",
       "    }\n",
       "</style>\n",
       "<table border=\"1\" class=\"dataframe\">\n",
       "  <thead>\n",
       "    <tr style=\"text-align: right;\">\n",
       "      <th></th>\n",
       "      <th>drug_ID</th>\n",
       "      <th>target_ID</th>\n",
       "      <th>affinity</th>\n",
       "    </tr>\n",
       "  </thead>\n",
       "  <tbody>\n",
       "    <tr>\n",
       "      <th>113703</th>\n",
       "      <td>1776</td>\n",
       "      <td>20</td>\n",
       "      <td>9.798970</td>\n",
       "    </tr>\n",
       "    <tr>\n",
       "      <th>51222</th>\n",
       "      <td>492</td>\n",
       "      <td>160</td>\n",
       "      <td>11.400000</td>\n",
       "    </tr>\n",
       "    <tr>\n",
       "      <th>98078</th>\n",
       "      <td>1207</td>\n",
       "      <td>204</td>\n",
       "      <td>11.200000</td>\n",
       "    </tr>\n",
       "    <tr>\n",
       "      <th>29622</th>\n",
       "      <td>305</td>\n",
       "      <td>98</td>\n",
       "      <td>11.200000</td>\n",
       "    </tr>\n",
       "    <tr>\n",
       "      <th>80976</th>\n",
       "      <td>917</td>\n",
       "      <td>46</td>\n",
       "      <td>11.999998</td>\n",
       "    </tr>\n",
       "    <tr>\n",
       "      <th>...</th>\n",
       "      <td>...</td>\n",
       "      <td>...</td>\n",
       "      <td>...</td>\n",
       "    </tr>\n",
       "    <tr>\n",
       "      <th>88379</th>\n",
       "      <td>1017</td>\n",
       "      <td>96</td>\n",
       "      <td>13.800057</td>\n",
       "    </tr>\n",
       "    <tr>\n",
       "      <th>98714</th>\n",
       "      <td>1218</td>\n",
       "      <td>39</td>\n",
       "      <td>11.600000</td>\n",
       "    </tr>\n",
       "    <tr>\n",
       "      <th>11884</th>\n",
       "      <td>158</td>\n",
       "      <td>3</td>\n",
       "      <td>11.500000</td>\n",
       "    </tr>\n",
       "    <tr>\n",
       "      <th>90741</th>\n",
       "      <td>1080</td>\n",
       "      <td>36</td>\n",
       "      <td>10.600000</td>\n",
       "    </tr>\n",
       "    <tr>\n",
       "      <th>77366</th>\n",
       "      <td>869</td>\n",
       "      <td>48</td>\n",
       "      <td>11.400000</td>\n",
       "    </tr>\n",
       "  </tbody>\n",
       "</table>\n",
       "<p>98545 rows × 3 columns</p>\n",
       "</div>\n",
       "      <button class=\"colab-df-convert\" onclick=\"convertToInteractive('df-c1c25e48-7987-4f85-a4ea-13ec3a0210cf')\"\n",
       "              title=\"Convert this dataframe to an interactive table.\"\n",
       "              style=\"display:none;\">\n",
       "        \n",
       "  <svg xmlns=\"http://www.w3.org/2000/svg\" height=\"24px\"viewBox=\"0 0 24 24\"\n",
       "       width=\"24px\">\n",
       "    <path d=\"M0 0h24v24H0V0z\" fill=\"none\"/>\n",
       "    <path d=\"M18.56 5.44l.94 2.06.94-2.06 2.06-.94-2.06-.94-.94-2.06-.94 2.06-2.06.94zm-11 1L8.5 8.5l.94-2.06 2.06-.94-2.06-.94L8.5 2.5l-.94 2.06-2.06.94zm10 10l.94 2.06.94-2.06 2.06-.94-2.06-.94-.94-2.06-.94 2.06-2.06.94z\"/><path d=\"M17.41 7.96l-1.37-1.37c-.4-.4-.92-.59-1.43-.59-.52 0-1.04.2-1.43.59L10.3 9.45l-7.72 7.72c-.78.78-.78 2.05 0 2.83L4 21.41c.39.39.9.59 1.41.59.51 0 1.02-.2 1.41-.59l7.78-7.78 2.81-2.81c.8-.78.8-2.07 0-2.86zM5.41 20L4 18.59l7.72-7.72 1.47 1.35L5.41 20z\"/>\n",
       "  </svg>\n",
       "      </button>\n",
       "      \n",
       "  <style>\n",
       "    .colab-df-container {\n",
       "      display:flex;\n",
       "      flex-wrap:wrap;\n",
       "      gap: 12px;\n",
       "    }\n",
       "\n",
       "    .colab-df-convert {\n",
       "      background-color: #E8F0FE;\n",
       "      border: none;\n",
       "      border-radius: 50%;\n",
       "      cursor: pointer;\n",
       "      display: none;\n",
       "      fill: #1967D2;\n",
       "      height: 32px;\n",
       "      padding: 0 0 0 0;\n",
       "      width: 32px;\n",
       "    }\n",
       "\n",
       "    .colab-df-convert:hover {\n",
       "      background-color: #E2EBFA;\n",
       "      box-shadow: 0px 1px 2px rgba(60, 64, 67, 0.3), 0px 1px 3px 1px rgba(60, 64, 67, 0.15);\n",
       "      fill: #174EA6;\n",
       "    }\n",
       "\n",
       "    [theme=dark] .colab-df-convert {\n",
       "      background-color: #3B4455;\n",
       "      fill: #D2E3FC;\n",
       "    }\n",
       "\n",
       "    [theme=dark] .colab-df-convert:hover {\n",
       "      background-color: #434B5C;\n",
       "      box-shadow: 0px 1px 3px 1px rgba(0, 0, 0, 0.15);\n",
       "      filter: drop-shadow(0px 1px 2px rgba(0, 0, 0, 0.3));\n",
       "      fill: #FFFFFF;\n",
       "    }\n",
       "  </style>\n",
       "\n",
       "      <script>\n",
       "        const buttonEl =\n",
       "          document.querySelector('#df-c1c25e48-7987-4f85-a4ea-13ec3a0210cf button.colab-df-convert');\n",
       "        buttonEl.style.display =\n",
       "          google.colab.kernel.accessAllowed ? 'block' : 'none';\n",
       "\n",
       "        async function convertToInteractive(key) {\n",
       "          const element = document.querySelector('#df-c1c25e48-7987-4f85-a4ea-13ec3a0210cf');\n",
       "          const dataTable =\n",
       "            await google.colab.kernel.invokeFunction('convertToInteractive',\n",
       "                                                     [key], {});\n",
       "          if (!dataTable) return;\n",
       "\n",
       "          const docLinkHtml = 'Like what you see? Visit the ' +\n",
       "            '<a target=\"_blank\" href=https://colab.research.google.com/notebooks/data_table.ipynb>data table notebook</a>'\n",
       "            + ' to learn more about interactive tables.';\n",
       "          element.innerHTML = '';\n",
       "          dataTable['output_type'] = 'display_data';\n",
       "          await google.colab.output.renderOutput(dataTable, element);\n",
       "          const docLink = document.createElement('div');\n",
       "          docLink.innerHTML = docLinkHtml;\n",
       "          element.appendChild(docLink);\n",
       "        }\n",
       "      </script>\n",
       "    </div>\n",
       "  </div>\n",
       "  "
      ]
     },
     "metadata": {},
     "execution_count": 17
    }
   ]
  },
  {
   "cell_type": "code",
   "source": [
    "kiba_test"
   ],
   "metadata": {
    "colab": {
     "base_uri": "https://localhost:8080/",
     "height": 424
    },
    "id": "CDIQ8MSNpCUF",
    "executionInfo": {
     "status": "ok",
     "timestamp": 1663251139609,
     "user_tz": -120,
     "elapsed": 17,
     "user": {
      "displayName": "Laurenz Wurdinger",
      "userId": "00707038666413498638"
     }
    },
    "outputId": "2b9dd32c-7f77-4f88-975a-dd38afdb5f5e"
   },
   "execution_count": 18,
   "outputs": [
    {
     "output_type": "execute_result",
     "data": {
      "text/plain": [
       "        drug_ID  target_ID   affinity\n",
       "34121       345         83  14.400162\n",
       "51548       495        104  12.399998\n",
       "12611       163        106  11.400000\n",
       "104850     1372        222  10.100000\n",
       "23744       254         97  12.699998\n",
       "...         ...        ...        ...\n",
       "48284       467        159  11.800001\n",
       "84487       967        141  11.200000\n",
       "5856        104        176  11.400000\n",
       "84505       968          4  11.500000\n",
       "24219       258          3  11.500000\n",
       "\n",
       "[19709 rows x 3 columns]"
      ],
      "text/html": [
       "\n",
       "  <div id=\"df-e7c46021-4507-426b-8e24-185d03004ef6\">\n",
       "    <div class=\"colab-df-container\">\n",
       "      <div>\n",
       "<style scoped>\n",
       "    .dataframe tbody tr th:only-of-type {\n",
       "        vertical-align: middle;\n",
       "    }\n",
       "\n",
       "    .dataframe tbody tr th {\n",
       "        vertical-align: top;\n",
       "    }\n",
       "\n",
       "    .dataframe thead th {\n",
       "        text-align: right;\n",
       "    }\n",
       "</style>\n",
       "<table border=\"1\" class=\"dataframe\">\n",
       "  <thead>\n",
       "    <tr style=\"text-align: right;\">\n",
       "      <th></th>\n",
       "      <th>drug_ID</th>\n",
       "      <th>target_ID</th>\n",
       "      <th>affinity</th>\n",
       "    </tr>\n",
       "  </thead>\n",
       "  <tbody>\n",
       "    <tr>\n",
       "      <th>34121</th>\n",
       "      <td>345</td>\n",
       "      <td>83</td>\n",
       "      <td>14.400162</td>\n",
       "    </tr>\n",
       "    <tr>\n",
       "      <th>51548</th>\n",
       "      <td>495</td>\n",
       "      <td>104</td>\n",
       "      <td>12.399998</td>\n",
       "    </tr>\n",
       "    <tr>\n",
       "      <th>12611</th>\n",
       "      <td>163</td>\n",
       "      <td>106</td>\n",
       "      <td>11.400000</td>\n",
       "    </tr>\n",
       "    <tr>\n",
       "      <th>104850</th>\n",
       "      <td>1372</td>\n",
       "      <td>222</td>\n",
       "      <td>10.100000</td>\n",
       "    </tr>\n",
       "    <tr>\n",
       "      <th>23744</th>\n",
       "      <td>254</td>\n",
       "      <td>97</td>\n",
       "      <td>12.699998</td>\n",
       "    </tr>\n",
       "    <tr>\n",
       "      <th>...</th>\n",
       "      <td>...</td>\n",
       "      <td>...</td>\n",
       "      <td>...</td>\n",
       "    </tr>\n",
       "    <tr>\n",
       "      <th>48284</th>\n",
       "      <td>467</td>\n",
       "      <td>159</td>\n",
       "      <td>11.800001</td>\n",
       "    </tr>\n",
       "    <tr>\n",
       "      <th>84487</th>\n",
       "      <td>967</td>\n",
       "      <td>141</td>\n",
       "      <td>11.200000</td>\n",
       "    </tr>\n",
       "    <tr>\n",
       "      <th>5856</th>\n",
       "      <td>104</td>\n",
       "      <td>176</td>\n",
       "      <td>11.400000</td>\n",
       "    </tr>\n",
       "    <tr>\n",
       "      <th>84505</th>\n",
       "      <td>968</td>\n",
       "      <td>4</td>\n",
       "      <td>11.500000</td>\n",
       "    </tr>\n",
       "    <tr>\n",
       "      <th>24219</th>\n",
       "      <td>258</td>\n",
       "      <td>3</td>\n",
       "      <td>11.500000</td>\n",
       "    </tr>\n",
       "  </tbody>\n",
       "</table>\n",
       "<p>19709 rows × 3 columns</p>\n",
       "</div>\n",
       "      <button class=\"colab-df-convert\" onclick=\"convertToInteractive('df-e7c46021-4507-426b-8e24-185d03004ef6')\"\n",
       "              title=\"Convert this dataframe to an interactive table.\"\n",
       "              style=\"display:none;\">\n",
       "        \n",
       "  <svg xmlns=\"http://www.w3.org/2000/svg\" height=\"24px\"viewBox=\"0 0 24 24\"\n",
       "       width=\"24px\">\n",
       "    <path d=\"M0 0h24v24H0V0z\" fill=\"none\"/>\n",
       "    <path d=\"M18.56 5.44l.94 2.06.94-2.06 2.06-.94-2.06-.94-.94-2.06-.94 2.06-2.06.94zm-11 1L8.5 8.5l.94-2.06 2.06-.94-2.06-.94L8.5 2.5l-.94 2.06-2.06.94zm10 10l.94 2.06.94-2.06 2.06-.94-2.06-.94-.94-2.06-.94 2.06-2.06.94z\"/><path d=\"M17.41 7.96l-1.37-1.37c-.4-.4-.92-.59-1.43-.59-.52 0-1.04.2-1.43.59L10.3 9.45l-7.72 7.72c-.78.78-.78 2.05 0 2.83L4 21.41c.39.39.9.59 1.41.59.51 0 1.02-.2 1.41-.59l7.78-7.78 2.81-2.81c.8-.78.8-2.07 0-2.86zM5.41 20L4 18.59l7.72-7.72 1.47 1.35L5.41 20z\"/>\n",
       "  </svg>\n",
       "      </button>\n",
       "      \n",
       "  <style>\n",
       "    .colab-df-container {\n",
       "      display:flex;\n",
       "      flex-wrap:wrap;\n",
       "      gap: 12px;\n",
       "    }\n",
       "\n",
       "    .colab-df-convert {\n",
       "      background-color: #E8F0FE;\n",
       "      border: none;\n",
       "      border-radius: 50%;\n",
       "      cursor: pointer;\n",
       "      display: none;\n",
       "      fill: #1967D2;\n",
       "      height: 32px;\n",
       "      padding: 0 0 0 0;\n",
       "      width: 32px;\n",
       "    }\n",
       "\n",
       "    .colab-df-convert:hover {\n",
       "      background-color: #E2EBFA;\n",
       "      box-shadow: 0px 1px 2px rgba(60, 64, 67, 0.3), 0px 1px 3px 1px rgba(60, 64, 67, 0.15);\n",
       "      fill: #174EA6;\n",
       "    }\n",
       "\n",
       "    [theme=dark] .colab-df-convert {\n",
       "      background-color: #3B4455;\n",
       "      fill: #D2E3FC;\n",
       "    }\n",
       "\n",
       "    [theme=dark] .colab-df-convert:hover {\n",
       "      background-color: #434B5C;\n",
       "      box-shadow: 0px 1px 3px 1px rgba(0, 0, 0, 0.15);\n",
       "      filter: drop-shadow(0px 1px 2px rgba(0, 0, 0, 0.3));\n",
       "      fill: #FFFFFF;\n",
       "    }\n",
       "  </style>\n",
       "\n",
       "      <script>\n",
       "        const buttonEl =\n",
       "          document.querySelector('#df-e7c46021-4507-426b-8e24-185d03004ef6 button.colab-df-convert');\n",
       "        buttonEl.style.display =\n",
       "          google.colab.kernel.accessAllowed ? 'block' : 'none';\n",
       "\n",
       "        async function convertToInteractive(key) {\n",
       "          const element = document.querySelector('#df-e7c46021-4507-426b-8e24-185d03004ef6');\n",
       "          const dataTable =\n",
       "            await google.colab.kernel.invokeFunction('convertToInteractive',\n",
       "                                                     [key], {});\n",
       "          if (!dataTable) return;\n",
       "\n",
       "          const docLinkHtml = 'Like what you see? Visit the ' +\n",
       "            '<a target=\"_blank\" href=https://colab.research.google.com/notebooks/data_table.ipynb>data table notebook</a>'\n",
       "            + ' to learn more about interactive tables.';\n",
       "          element.innerHTML = '';\n",
       "          dataTable['output_type'] = 'display_data';\n",
       "          await google.colab.output.renderOutput(dataTable, element);\n",
       "          const docLink = document.createElement('div');\n",
       "          docLink.innerHTML = docLinkHtml;\n",
       "          element.appendChild(docLink);\n",
       "        }\n",
       "      </script>\n",
       "    </div>\n",
       "  </div>\n",
       "  "
      ]
     },
     "metadata": {},
     "execution_count": 18
    }
   ]
  },
  {
   "cell_type": "code",
   "source": [
    "kiba_train.to_pickle(\"affi/train_aff_KIBA.pkl\")\n",
    "kiba_fold1.to_pickle(\"affi/train_aff_fold1_KIBA.pkl\")\n",
    "kiba_fold2.to_pickle(\"affi/train_aff_fold2_KIBA.pkl\")\n",
    "kiba_fold3.to_pickle(\"affi/train_aff_fold3_KIBA.pkl\")\n",
    "kiba_fold4.to_pickle(\"affi/train_aff_fold4_KIBA.pkl\")\n",
    "kiba_fold5.to_pickle(\"affi/train_aff_fold5_KIBA.pkl\")\n",
    "kiba_test.to_pickle(\"affi/test_aff_KIBA.pkl\")"
   ],
   "metadata": {
    "id": "Dx0PJk0gyzae",
    "executionInfo": {
     "status": "ok",
     "timestamp": 1663251142739,
     "user_tz": -120,
     "elapsed": 3145,
     "user": {
      "displayName": "Laurenz Wurdinger",
      "userId": "00707038666413498638"
     }
    }
   },
   "execution_count": 19,
   "outputs": []
  },
  {
   "cell_type": "markdown",
   "source": [],
   "metadata": {
    "id": "uFbXohfhyASo"
   }
  },
  {
   "cell_type": "code",
   "source": [],
   "metadata": {
    "colab": {
     "base_uri": "https://localhost:8080/"
    },
    "executionInfo": {
     "status": "ok",
     "timestamp": 1663251143387,
     "user_tz": -120,
     "elapsed": 653,
     "user": {
      "displayName": "Laurenz Wurdinger",
      "userId": "00707038666413498638"
     }
    },
    "outputId": "acc2c2f7-00c0-4557-f0ac-f030654b0345",
    "id": "HvVszeGayEIK"
   },
   "execution_count": 20,
   "outputs": [
    {
     "output_type": "stream",
     "name": "stdout",
     "text": [
      "Test 5010\n"
     ]
    }
   ]
  },
  {
   "cell_type": "code",
   "source": [],
   "metadata": {
    "colab": {
     "base_uri": "https://localhost:8080/"
    },
    "executionInfo": {
     "status": "ok",
     "timestamp": 1663251143388,
     "user_tz": -120,
     "elapsed": 8,
     "user": {
      "displayName": "Laurenz Wurdinger",
      "userId": "00707038666413498638"
     }
    },
    "outputId": "e11f2e99-c056-4a96-8048-92c8e58d82a7",
    "id": "qTjJYb36yEIM"
   },
   "execution_count": 21,
   "outputs": [
    {
     "output_type": "execute_result",
     "data": {
      "text/plain": [
       "30054"
      ]
     },
     "metadata": {},
     "execution_count": 21
    }
   ]
  },
  {
   "cell_type": "code",
   "source": [],
   "metadata": {
    "colab": {
     "base_uri": "https://localhost:8080/"
    },
    "executionInfo": {
     "status": "ok",
     "timestamp": 1663251144048,
     "user_tz": -120,
     "elapsed": 664,
     "user": {
      "displayName": "Laurenz Wurdinger",
      "userId": "00707038666413498638"
     }
    },
    "outputId": "f2a552f7-40ac-4136-e62d-8c0f63f92699",
    "id": "f0ertbq7yEIO"
   },
   "execution_count": 22,
   "outputs": [
    {
     "output_type": "stream",
     "name": "stdout",
     "text": [
      "Fold1 5010\n",
      "Fold2 5009\n",
      "Fold3 5009\n",
      "Fold4 5009\n",
      "Fold5 5009\n"
     ]
    }
   ]
  },
  {
   "cell_type": "code",
   "source": [],
   "metadata": {
    "colab": {
     "base_uri": "https://localhost:8080/"
    },
    "id": "rEnsh2HxQGcQ",
    "executionInfo": {
     "status": "ok",
     "timestamp": 1663251144050,
     "user_tz": -120,
     "elapsed": 20,
     "user": {
      "displayName": "Laurenz Wurdinger",
      "userId": "00707038666413498638"
     }
    },
    "outputId": "764f61ea-a9c2-424f-dc85-24342dcbc83e"
   },
   "execution_count": 23,
   "outputs": [
    {
     "output_type": "stream",
     "name": "stdout",
     "text": [
      "30050\n",
      "30046\n",
      "30053\n",
      "30055\n",
      "30051\n"
     ]
    }
   ]
  },
  {
   "cell_type": "code",
   "source": [],
   "metadata": {
    "id": "rOq2XUz5yEIQ",
    "executionInfo": {
     "status": "ok",
     "timestamp": 1663251144795,
     "user_tz": -120,
     "elapsed": 752,
     "user": {
      "displayName": "Laurenz Wurdinger",
      "userId": "00707038666413498638"
     }
    }
   },
   "execution_count": 24,
   "outputs": []
  },
  {
   "cell_type": "code",
   "source": [],
   "metadata": {
    "colab": {
     "base_uri": "https://localhost:8080/"
    },
    "executionInfo": {
     "status": "ok",
     "timestamp": 1663251190370,
     "user_tz": -120,
     "elapsed": 45578,
     "user": {
      "displayName": "Laurenz Wurdinger",
      "userId": "00707038666413498638"
     }
    },
    "outputId": "a1aa3239-3d3e-4bab-81cf-329d70173e0c",
    "id": "cyhth4L7yEIQ"
   },
   "execution_count": 25,
   "outputs": [
    {
     "output_type": "stream",
     "name": "stdout",
     "text": [
      "Counter: 30056\n"
     ]
    }
   ]
  },
  {
   "cell_type": "code",
   "source": [],
   "metadata": {
    "colab": {
     "base_uri": "https://localhost:8080/",
     "height": 424
    },
    "executionInfo": {
     "status": "ok",
     "timestamp": 1663251190371,
     "user_tz": -120,
     "elapsed": 23,
     "user": {
      "displayName": "Laurenz Wurdinger",
      "userId": "00707038666413498638"
     }
    },
    "outputId": "5cf45601-c04d-450f-bd34-85414d5835d7",
    "id": "NROmb-txyEIR"
   },
   "execution_count": 26,
   "outputs": [
    {
     "output_type": "execute_result",
     "data": {
      "text/plain": [
       "       drug_ID  target_ID  affinity\n",
       "0            0          0  7.366532\n",
       "1            0          1  5.000000\n",
       "2            0          2  5.000000\n",
       "3            0          3  5.000000\n",
       "4            0          4  5.000000\n",
       "...        ...        ...       ...\n",
       "30051       67        437  5.000000\n",
       "30052       67        438  5.000000\n",
       "30053       67        439  5.721246\n",
       "30054       67        440  5.356547\n",
       "30055       67        441  5.000000\n",
       "\n",
       "[30056 rows x 3 columns]"
      ],
      "text/html": [
       "\n",
       "  <div id=\"df-7322283f-f8a3-472e-9a5c-c219c350289d\">\n",
       "    <div class=\"colab-df-container\">\n",
       "      <div>\n",
       "<style scoped>\n",
       "    .dataframe tbody tr th:only-of-type {\n",
       "        vertical-align: middle;\n",
       "    }\n",
       "\n",
       "    .dataframe tbody tr th {\n",
       "        vertical-align: top;\n",
       "    }\n",
       "\n",
       "    .dataframe thead th {\n",
       "        text-align: right;\n",
       "    }\n",
       "</style>\n",
       "<table border=\"1\" class=\"dataframe\">\n",
       "  <thead>\n",
       "    <tr style=\"text-align: right;\">\n",
       "      <th></th>\n",
       "      <th>drug_ID</th>\n",
       "      <th>target_ID</th>\n",
       "      <th>affinity</th>\n",
       "    </tr>\n",
       "  </thead>\n",
       "  <tbody>\n",
       "    <tr>\n",
       "      <th>0</th>\n",
       "      <td>0</td>\n",
       "      <td>0</td>\n",
       "      <td>7.366532</td>\n",
       "    </tr>\n",
       "    <tr>\n",
       "      <th>1</th>\n",
       "      <td>0</td>\n",
       "      <td>1</td>\n",
       "      <td>5.000000</td>\n",
       "    </tr>\n",
       "    <tr>\n",
       "      <th>2</th>\n",
       "      <td>0</td>\n",
       "      <td>2</td>\n",
       "      <td>5.000000</td>\n",
       "    </tr>\n",
       "    <tr>\n",
       "      <th>3</th>\n",
       "      <td>0</td>\n",
       "      <td>3</td>\n",
       "      <td>5.000000</td>\n",
       "    </tr>\n",
       "    <tr>\n",
       "      <th>4</th>\n",
       "      <td>0</td>\n",
       "      <td>4</td>\n",
       "      <td>5.000000</td>\n",
       "    </tr>\n",
       "    <tr>\n",
       "      <th>...</th>\n",
       "      <td>...</td>\n",
       "      <td>...</td>\n",
       "      <td>...</td>\n",
       "    </tr>\n",
       "    <tr>\n",
       "      <th>30051</th>\n",
       "      <td>67</td>\n",
       "      <td>437</td>\n",
       "      <td>5.000000</td>\n",
       "    </tr>\n",
       "    <tr>\n",
       "      <th>30052</th>\n",
       "      <td>67</td>\n",
       "      <td>438</td>\n",
       "      <td>5.000000</td>\n",
       "    </tr>\n",
       "    <tr>\n",
       "      <th>30053</th>\n",
       "      <td>67</td>\n",
       "      <td>439</td>\n",
       "      <td>5.721246</td>\n",
       "    </tr>\n",
       "    <tr>\n",
       "      <th>30054</th>\n",
       "      <td>67</td>\n",
       "      <td>440</td>\n",
       "      <td>5.356547</td>\n",
       "    </tr>\n",
       "    <tr>\n",
       "      <th>30055</th>\n",
       "      <td>67</td>\n",
       "      <td>441</td>\n",
       "      <td>5.000000</td>\n",
       "    </tr>\n",
       "  </tbody>\n",
       "</table>\n",
       "<p>30056 rows × 3 columns</p>\n",
       "</div>\n",
       "      <button class=\"colab-df-convert\" onclick=\"convertToInteractive('df-7322283f-f8a3-472e-9a5c-c219c350289d')\"\n",
       "              title=\"Convert this dataframe to an interactive table.\"\n",
       "              style=\"display:none;\">\n",
       "        \n",
       "  <svg xmlns=\"http://www.w3.org/2000/svg\" height=\"24px\"viewBox=\"0 0 24 24\"\n",
       "       width=\"24px\">\n",
       "    <path d=\"M0 0h24v24H0V0z\" fill=\"none\"/>\n",
       "    <path d=\"M18.56 5.44l.94 2.06.94-2.06 2.06-.94-2.06-.94-.94-2.06-.94 2.06-2.06.94zm-11 1L8.5 8.5l.94-2.06 2.06-.94-2.06-.94L8.5 2.5l-.94 2.06-2.06.94zm10 10l.94 2.06.94-2.06 2.06-.94-2.06-.94-.94-2.06-.94 2.06-2.06.94z\"/><path d=\"M17.41 7.96l-1.37-1.37c-.4-.4-.92-.59-1.43-.59-.52 0-1.04.2-1.43.59L10.3 9.45l-7.72 7.72c-.78.78-.78 2.05 0 2.83L4 21.41c.39.39.9.59 1.41.59.51 0 1.02-.2 1.41-.59l7.78-7.78 2.81-2.81c.8-.78.8-2.07 0-2.86zM5.41 20L4 18.59l7.72-7.72 1.47 1.35L5.41 20z\"/>\n",
       "  </svg>\n",
       "      </button>\n",
       "      \n",
       "  <style>\n",
       "    .colab-df-container {\n",
       "      display:flex;\n",
       "      flex-wrap:wrap;\n",
       "      gap: 12px;\n",
       "    }\n",
       "\n",
       "    .colab-df-convert {\n",
       "      background-color: #E8F0FE;\n",
       "      border: none;\n",
       "      border-radius: 50%;\n",
       "      cursor: pointer;\n",
       "      display: none;\n",
       "      fill: #1967D2;\n",
       "      height: 32px;\n",
       "      padding: 0 0 0 0;\n",
       "      width: 32px;\n",
       "    }\n",
       "\n",
       "    .colab-df-convert:hover {\n",
       "      background-color: #E2EBFA;\n",
       "      box-shadow: 0px 1px 2px rgba(60, 64, 67, 0.3), 0px 1px 3px 1px rgba(60, 64, 67, 0.15);\n",
       "      fill: #174EA6;\n",
       "    }\n",
       "\n",
       "    [theme=dark] .colab-df-convert {\n",
       "      background-color: #3B4455;\n",
       "      fill: #D2E3FC;\n",
       "    }\n",
       "\n",
       "    [theme=dark] .colab-df-convert:hover {\n",
       "      background-color: #434B5C;\n",
       "      box-shadow: 0px 1px 3px 1px rgba(0, 0, 0, 0.15);\n",
       "      filter: drop-shadow(0px 1px 2px rgba(0, 0, 0, 0.3));\n",
       "      fill: #FFFFFF;\n",
       "    }\n",
       "  </style>\n",
       "\n",
       "      <script>\n",
       "        const buttonEl =\n",
       "          document.querySelector('#df-7322283f-f8a3-472e-9a5c-c219c350289d button.colab-df-convert');\n",
       "        buttonEl.style.display =\n",
       "          google.colab.kernel.accessAllowed ? 'block' : 'none';\n",
       "\n",
       "        async function convertToInteractive(key) {\n",
       "          const element = document.querySelector('#df-7322283f-f8a3-472e-9a5c-c219c350289d');\n",
       "          const dataTable =\n",
       "            await google.colab.kernel.invokeFunction('convertToInteractive',\n",
       "                                                     [key], {});\n",
       "          if (!dataTable) return;\n",
       "\n",
       "          const docLinkHtml = 'Like what you see? Visit the ' +\n",
       "            '<a target=\"_blank\" href=https://colab.research.google.com/notebooks/data_table.ipynb>data table notebook</a>'\n",
       "            + ' to learn more about interactive tables.';\n",
       "          element.innerHTML = '';\n",
       "          dataTable['output_type'] = 'display_data';\n",
       "          await google.colab.output.renderOutput(dataTable, element);\n",
       "          const docLink = document.createElement('div');\n",
       "          docLink.innerHTML = docLinkHtml;\n",
       "          element.appendChild(docLink);\n",
       "        }\n",
       "      </script>\n",
       "    </div>\n",
       "  </div>\n",
       "  "
      ]
     },
     "metadata": {},
     "execution_count": 26
    }
   ]
  },
  {
   "cell_type": "code",
   "source": [],
   "metadata": {
    "id": "fFy9BV74yEIR",
    "executionInfo": {
     "status": "ok",
     "timestamp": 1663251190373,
     "user_tz": -120,
     "elapsed": 21,
     "user": {
      "displayName": "Laurenz Wurdinger",
      "userId": "00707038666413498638"
     }
    }
   },
   "execution_count": 27,
   "outputs": []
  },
  {
   "cell_type": "code",
   "source": [],
   "metadata": {
    "colab": {
     "base_uri": "https://localhost:8080/",
     "height": 424
    },
    "executionInfo": {
     "status": "ok",
     "timestamp": 1663251190374,
     "user_tz": -120,
     "elapsed": 21,
     "user": {
      "displayName": "Laurenz Wurdinger",
      "userId": "00707038666413498638"
     }
    },
    "outputId": "25ced0b7-dfda-44a6-bcff-7f9bae7f38ce",
    "id": "TMewbb8myEIS"
   },
   "execution_count": 28,
   "outputs": [
    {
     "output_type": "execute_result",
     "data": {
      "text/plain": [
       "       drug_ID  target_ID  affinity\n",
       "1483         3        157  5.000000\n",
       "18097       40        417  5.000000\n",
       "11736       26        244  5.000000\n",
       "16204       36        292  5.000000\n",
       "2085         4        317  5.000000\n",
       "...        ...        ...       ...\n",
       "5060        11        198  5.000000\n",
       "3531         7        437  5.000000\n",
       "21824       49        166  5.000000\n",
       "1017         2        133  6.744727\n",
       "8671        19        273  5.000000\n",
       "\n",
       "[25046 rows x 3 columns]"
      ],
      "text/html": [
       "\n",
       "  <div id=\"df-5eca91fc-02ba-4586-973a-7580dbbe0f43\">\n",
       "    <div class=\"colab-df-container\">\n",
       "      <div>\n",
       "<style scoped>\n",
       "    .dataframe tbody tr th:only-of-type {\n",
       "        vertical-align: middle;\n",
       "    }\n",
       "\n",
       "    .dataframe tbody tr th {\n",
       "        vertical-align: top;\n",
       "    }\n",
       "\n",
       "    .dataframe thead th {\n",
       "        text-align: right;\n",
       "    }\n",
       "</style>\n",
       "<table border=\"1\" class=\"dataframe\">\n",
       "  <thead>\n",
       "    <tr style=\"text-align: right;\">\n",
       "      <th></th>\n",
       "      <th>drug_ID</th>\n",
       "      <th>target_ID</th>\n",
       "      <th>affinity</th>\n",
       "    </tr>\n",
       "  </thead>\n",
       "  <tbody>\n",
       "    <tr>\n",
       "      <th>1483</th>\n",
       "      <td>3</td>\n",
       "      <td>157</td>\n",
       "      <td>5.000000</td>\n",
       "    </tr>\n",
       "    <tr>\n",
       "      <th>18097</th>\n",
       "      <td>40</td>\n",
       "      <td>417</td>\n",
       "      <td>5.000000</td>\n",
       "    </tr>\n",
       "    <tr>\n",
       "      <th>11736</th>\n",
       "      <td>26</td>\n",
       "      <td>244</td>\n",
       "      <td>5.000000</td>\n",
       "    </tr>\n",
       "    <tr>\n",
       "      <th>16204</th>\n",
       "      <td>36</td>\n",
       "      <td>292</td>\n",
       "      <td>5.000000</td>\n",
       "    </tr>\n",
       "    <tr>\n",
       "      <th>2085</th>\n",
       "      <td>4</td>\n",
       "      <td>317</td>\n",
       "      <td>5.000000</td>\n",
       "    </tr>\n",
       "    <tr>\n",
       "      <th>...</th>\n",
       "      <td>...</td>\n",
       "      <td>...</td>\n",
       "      <td>...</td>\n",
       "    </tr>\n",
       "    <tr>\n",
       "      <th>5060</th>\n",
       "      <td>11</td>\n",
       "      <td>198</td>\n",
       "      <td>5.000000</td>\n",
       "    </tr>\n",
       "    <tr>\n",
       "      <th>3531</th>\n",
       "      <td>7</td>\n",
       "      <td>437</td>\n",
       "      <td>5.000000</td>\n",
       "    </tr>\n",
       "    <tr>\n",
       "      <th>21824</th>\n",
       "      <td>49</td>\n",
       "      <td>166</td>\n",
       "      <td>5.000000</td>\n",
       "    </tr>\n",
       "    <tr>\n",
       "      <th>1017</th>\n",
       "      <td>2</td>\n",
       "      <td>133</td>\n",
       "      <td>6.744727</td>\n",
       "    </tr>\n",
       "    <tr>\n",
       "      <th>8671</th>\n",
       "      <td>19</td>\n",
       "      <td>273</td>\n",
       "      <td>5.000000</td>\n",
       "    </tr>\n",
       "  </tbody>\n",
       "</table>\n",
       "<p>25046 rows × 3 columns</p>\n",
       "</div>\n",
       "      <button class=\"colab-df-convert\" onclick=\"convertToInteractive('df-5eca91fc-02ba-4586-973a-7580dbbe0f43')\"\n",
       "              title=\"Convert this dataframe to an interactive table.\"\n",
       "              style=\"display:none;\">\n",
       "        \n",
       "  <svg xmlns=\"http://www.w3.org/2000/svg\" height=\"24px\"viewBox=\"0 0 24 24\"\n",
       "       width=\"24px\">\n",
       "    <path d=\"M0 0h24v24H0V0z\" fill=\"none\"/>\n",
       "    <path d=\"M18.56 5.44l.94 2.06.94-2.06 2.06-.94-2.06-.94-.94-2.06-.94 2.06-2.06.94zm-11 1L8.5 8.5l.94-2.06 2.06-.94-2.06-.94L8.5 2.5l-.94 2.06-2.06.94zm10 10l.94 2.06.94-2.06 2.06-.94-2.06-.94-.94-2.06-.94 2.06-2.06.94z\"/><path d=\"M17.41 7.96l-1.37-1.37c-.4-.4-.92-.59-1.43-.59-.52 0-1.04.2-1.43.59L10.3 9.45l-7.72 7.72c-.78.78-.78 2.05 0 2.83L4 21.41c.39.39.9.59 1.41.59.51 0 1.02-.2 1.41-.59l7.78-7.78 2.81-2.81c.8-.78.8-2.07 0-2.86zM5.41 20L4 18.59l7.72-7.72 1.47 1.35L5.41 20z\"/>\n",
       "  </svg>\n",
       "      </button>\n",
       "      \n",
       "  <style>\n",
       "    .colab-df-container {\n",
       "      display:flex;\n",
       "      flex-wrap:wrap;\n",
       "      gap: 12px;\n",
       "    }\n",
       "\n",
       "    .colab-df-convert {\n",
       "      background-color: #E8F0FE;\n",
       "      border: none;\n",
       "      border-radius: 50%;\n",
       "      cursor: pointer;\n",
       "      display: none;\n",
       "      fill: #1967D2;\n",
       "      height: 32px;\n",
       "      padding: 0 0 0 0;\n",
       "      width: 32px;\n",
       "    }\n",
       "\n",
       "    .colab-df-convert:hover {\n",
       "      background-color: #E2EBFA;\n",
       "      box-shadow: 0px 1px 2px rgba(60, 64, 67, 0.3), 0px 1px 3px 1px rgba(60, 64, 67, 0.15);\n",
       "      fill: #174EA6;\n",
       "    }\n",
       "\n",
       "    [theme=dark] .colab-df-convert {\n",
       "      background-color: #3B4455;\n",
       "      fill: #D2E3FC;\n",
       "    }\n",
       "\n",
       "    [theme=dark] .colab-df-convert:hover {\n",
       "      background-color: #434B5C;\n",
       "      box-shadow: 0px 1px 3px 1px rgba(0, 0, 0, 0.15);\n",
       "      filter: drop-shadow(0px 1px 2px rgba(0, 0, 0, 0.3));\n",
       "      fill: #FFFFFF;\n",
       "    }\n",
       "  </style>\n",
       "\n",
       "      <script>\n",
       "        const buttonEl =\n",
       "          document.querySelector('#df-5eca91fc-02ba-4586-973a-7580dbbe0f43 button.colab-df-convert');\n",
       "        buttonEl.style.display =\n",
       "          google.colab.kernel.accessAllowed ? 'block' : 'none';\n",
       "\n",
       "        async function convertToInteractive(key) {\n",
       "          const element = document.querySelector('#df-5eca91fc-02ba-4586-973a-7580dbbe0f43');\n",
       "          const dataTable =\n",
       "            await google.colab.kernel.invokeFunction('convertToInteractive',\n",
       "                                                     [key], {});\n",
       "          if (!dataTable) return;\n",
       "\n",
       "          const docLinkHtml = 'Like what you see? Visit the ' +\n",
       "            '<a target=\"_blank\" href=https://colab.research.google.com/notebooks/data_table.ipynb>data table notebook</a>'\n",
       "            + ' to learn more about interactive tables.';\n",
       "          element.innerHTML = '';\n",
       "          dataTable['output_type'] = 'display_data';\n",
       "          await google.colab.output.renderOutput(dataTable, element);\n",
       "          const docLink = document.createElement('div');\n",
       "          docLink.innerHTML = docLinkHtml;\n",
       "          element.appendChild(docLink);\n",
       "        }\n",
       "      </script>\n",
       "    </div>\n",
       "  </div>\n",
       "  "
      ]
     },
     "metadata": {},
     "execution_count": 28
    }
   ]
  },
  {
   "cell_type": "code",
   "source": [],
   "metadata": {
    "colab": {
     "base_uri": "https://localhost:8080/",
     "height": 424
    },
    "executionInfo": {
     "status": "ok",
     "timestamp": 1663251190375,
     "user_tz": -120,
     "elapsed": 20,
     "user": {
      "displayName": "Laurenz Wurdinger",
      "userId": "00707038666413498638"
     }
    },
    "outputId": "27a75be6-668e-4e23-9756-64d068d3082e",
    "id": "yDyNrdNJyEIS"
   },
   "execution_count": 29,
   "outputs": [
    {
     "output_type": "execute_result",
     "data": {
      "text/plain": [
       "       drug_ID  target_ID  affinity\n",
       "9331        21         49  5.000000\n",
       "10366       23        200  5.000000\n",
       "13309       30         49  5.000000\n",
       "9889        22        165  8.823909\n",
       "26788       60        268  5.000000\n",
       "...        ...        ...       ...\n",
       "7533        17         19  6.677781\n",
       "24146       54        278  5.000000\n",
       "3676         8        140  5.000000\n",
       "16432       37         78  5.000000\n",
       "5273        11        411  5.000000\n",
       "\n",
       "[5010 rows x 3 columns]"
      ],
      "text/html": [
       "\n",
       "  <div id=\"df-1ae791c8-73c2-4c76-b98c-044679fc8535\">\n",
       "    <div class=\"colab-df-container\">\n",
       "      <div>\n",
       "<style scoped>\n",
       "    .dataframe tbody tr th:only-of-type {\n",
       "        vertical-align: middle;\n",
       "    }\n",
       "\n",
       "    .dataframe tbody tr th {\n",
       "        vertical-align: top;\n",
       "    }\n",
       "\n",
       "    .dataframe thead th {\n",
       "        text-align: right;\n",
       "    }\n",
       "</style>\n",
       "<table border=\"1\" class=\"dataframe\">\n",
       "  <thead>\n",
       "    <tr style=\"text-align: right;\">\n",
       "      <th></th>\n",
       "      <th>drug_ID</th>\n",
       "      <th>target_ID</th>\n",
       "      <th>affinity</th>\n",
       "    </tr>\n",
       "  </thead>\n",
       "  <tbody>\n",
       "    <tr>\n",
       "      <th>9331</th>\n",
       "      <td>21</td>\n",
       "      <td>49</td>\n",
       "      <td>5.000000</td>\n",
       "    </tr>\n",
       "    <tr>\n",
       "      <th>10366</th>\n",
       "      <td>23</td>\n",
       "      <td>200</td>\n",
       "      <td>5.000000</td>\n",
       "    </tr>\n",
       "    <tr>\n",
       "      <th>13309</th>\n",
       "      <td>30</td>\n",
       "      <td>49</td>\n",
       "      <td>5.000000</td>\n",
       "    </tr>\n",
       "    <tr>\n",
       "      <th>9889</th>\n",
       "      <td>22</td>\n",
       "      <td>165</td>\n",
       "      <td>8.823909</td>\n",
       "    </tr>\n",
       "    <tr>\n",
       "      <th>26788</th>\n",
       "      <td>60</td>\n",
       "      <td>268</td>\n",
       "      <td>5.000000</td>\n",
       "    </tr>\n",
       "    <tr>\n",
       "      <th>...</th>\n",
       "      <td>...</td>\n",
       "      <td>...</td>\n",
       "      <td>...</td>\n",
       "    </tr>\n",
       "    <tr>\n",
       "      <th>7533</th>\n",
       "      <td>17</td>\n",
       "      <td>19</td>\n",
       "      <td>6.677781</td>\n",
       "    </tr>\n",
       "    <tr>\n",
       "      <th>24146</th>\n",
       "      <td>54</td>\n",
       "      <td>278</td>\n",
       "      <td>5.000000</td>\n",
       "    </tr>\n",
       "    <tr>\n",
       "      <th>3676</th>\n",
       "      <td>8</td>\n",
       "      <td>140</td>\n",
       "      <td>5.000000</td>\n",
       "    </tr>\n",
       "    <tr>\n",
       "      <th>16432</th>\n",
       "      <td>37</td>\n",
       "      <td>78</td>\n",
       "      <td>5.000000</td>\n",
       "    </tr>\n",
       "    <tr>\n",
       "      <th>5273</th>\n",
       "      <td>11</td>\n",
       "      <td>411</td>\n",
       "      <td>5.000000</td>\n",
       "    </tr>\n",
       "  </tbody>\n",
       "</table>\n",
       "<p>5010 rows × 3 columns</p>\n",
       "</div>\n",
       "      <button class=\"colab-df-convert\" onclick=\"convertToInteractive('df-1ae791c8-73c2-4c76-b98c-044679fc8535')\"\n",
       "              title=\"Convert this dataframe to an interactive table.\"\n",
       "              style=\"display:none;\">\n",
       "        \n",
       "  <svg xmlns=\"http://www.w3.org/2000/svg\" height=\"24px\"viewBox=\"0 0 24 24\"\n",
       "       width=\"24px\">\n",
       "    <path d=\"M0 0h24v24H0V0z\" fill=\"none\"/>\n",
       "    <path d=\"M18.56 5.44l.94 2.06.94-2.06 2.06-.94-2.06-.94-.94-2.06-.94 2.06-2.06.94zm-11 1L8.5 8.5l.94-2.06 2.06-.94-2.06-.94L8.5 2.5l-.94 2.06-2.06.94zm10 10l.94 2.06.94-2.06 2.06-.94-2.06-.94-.94-2.06-.94 2.06-2.06.94z\"/><path d=\"M17.41 7.96l-1.37-1.37c-.4-.4-.92-.59-1.43-.59-.52 0-1.04.2-1.43.59L10.3 9.45l-7.72 7.72c-.78.78-.78 2.05 0 2.83L4 21.41c.39.39.9.59 1.41.59.51 0 1.02-.2 1.41-.59l7.78-7.78 2.81-2.81c.8-.78.8-2.07 0-2.86zM5.41 20L4 18.59l7.72-7.72 1.47 1.35L5.41 20z\"/>\n",
       "  </svg>\n",
       "      </button>\n",
       "      \n",
       "  <style>\n",
       "    .colab-df-container {\n",
       "      display:flex;\n",
       "      flex-wrap:wrap;\n",
       "      gap: 12px;\n",
       "    }\n",
       "\n",
       "    .colab-df-convert {\n",
       "      background-color: #E8F0FE;\n",
       "      border: none;\n",
       "      border-radius: 50%;\n",
       "      cursor: pointer;\n",
       "      display: none;\n",
       "      fill: #1967D2;\n",
       "      height: 32px;\n",
       "      padding: 0 0 0 0;\n",
       "      width: 32px;\n",
       "    }\n",
       "\n",
       "    .colab-df-convert:hover {\n",
       "      background-color: #E2EBFA;\n",
       "      box-shadow: 0px 1px 2px rgba(60, 64, 67, 0.3), 0px 1px 3px 1px rgba(60, 64, 67, 0.15);\n",
       "      fill: #174EA6;\n",
       "    }\n",
       "\n",
       "    [theme=dark] .colab-df-convert {\n",
       "      background-color: #3B4455;\n",
       "      fill: #D2E3FC;\n",
       "    }\n",
       "\n",
       "    [theme=dark] .colab-df-convert:hover {\n",
       "      background-color: #434B5C;\n",
       "      box-shadow: 0px 1px 3px 1px rgba(0, 0, 0, 0.15);\n",
       "      filter: drop-shadow(0px 1px 2px rgba(0, 0, 0, 0.3));\n",
       "      fill: #FFFFFF;\n",
       "    }\n",
       "  </style>\n",
       "\n",
       "      <script>\n",
       "        const buttonEl =\n",
       "          document.querySelector('#df-1ae791c8-73c2-4c76-b98c-044679fc8535 button.colab-df-convert');\n",
       "        buttonEl.style.display =\n",
       "          google.colab.kernel.accessAllowed ? 'block' : 'none';\n",
       "\n",
       "        async function convertToInteractive(key) {\n",
       "          const element = document.querySelector('#df-1ae791c8-73c2-4c76-b98c-044679fc8535');\n",
       "          const dataTable =\n",
       "            await google.colab.kernel.invokeFunction('convertToInteractive',\n",
       "                                                     [key], {});\n",
       "          if (!dataTable) return;\n",
       "\n",
       "          const docLinkHtml = 'Like what you see? Visit the ' +\n",
       "            '<a target=\"_blank\" href=https://colab.research.google.com/notebooks/data_table.ipynb>data table notebook</a>'\n",
       "            + ' to learn more about interactive tables.';\n",
       "          element.innerHTML = '';\n",
       "          dataTable['output_type'] = 'display_data';\n",
       "          await google.colab.output.renderOutput(dataTable, element);\n",
       "          const docLink = document.createElement('div');\n",
       "          docLink.innerHTML = docLinkHtml;\n",
       "          element.appendChild(docLink);\n",
       "        }\n",
       "      </script>\n",
       "    </div>\n",
       "  </div>\n",
       "  "
      ]
     },
     "metadata": {},
     "execution_count": 29
    }
   ]
  },
  {
   "cell_type": "code",
   "source": [],
   "metadata": {
    "id": "vecIp3v4zsfe",
    "executionInfo": {
     "status": "ok",
     "timestamp": 1663251190815,
     "user_tz": -120,
     "elapsed": 457,
     "user": {
      "displayName": "Laurenz Wurdinger",
      "userId": "00707038666413498638"
     }
    }
   },
   "execution_count": 30,
   "outputs": []
  },
  {
   "cell_type": "markdown",
   "source": [
    "##Load feature files"
   ],
   "metadata": {
    "id": "e27izjIkqYl1"
   }
  },
  {
   "cell_type": "markdown",
   "source": [
    "###KIBA"
   ],
   "metadata": {
    "id": "ab9vweMYz0Dg"
   }
  },
  {
   "cell_type": "code",
   "source": [
    "#drugs\n",
    "with open(path_KIBA_SSAF_drugs, \"rb\") as fp:   # Unpickling SSAF features drugs\n",
    "    ssaf_drugs_KIBA = pickle.load(fp)\n",
    "with open(path_KIBA_ASAF_drugs, \"rb\") as fp:   # Unpickling ASAF features drugs\n",
    "    asaf_drugs_KIBA = pickle.load(fp)\n",
    "with open(path_KIBA_GAAF_drugs, \"rb\") as fp:   # Unpickling GAAF features drugs\n",
    "    gaaf_drugs_KIBA = pickle.load(fp)\n",
    "with open(path_KIBA_AAAF_drugs, \"rb\") as fp:   # Unpickling AAAF features drugs\n",
    "    aaaf_drugs_KIBA = pickle.load(fp)\n",
    "\n",
    "#targets\n",
    "with open(path_KIBA_SSAF_targets, \"rb\") as fp:   # Unpickling SSAF features targets\n",
    "    ssaf_targets_KIBA = pickle.load(fp)\n",
    "with open(path_KIBA_ASAF_targets, \"rb\") as fp:   # Unpickling ASAF features targets\n",
    "    asaf_targets_KIBA = pickle.load(fp)\n",
    "with open(path_KIBA_GAAF_targets, \"rb\") as fp:   # Unpickling GAAF features targets\n",
    "    gaaf_targets_KIBA = pickle.load(fp)\n",
    "with open(path_KIBA_AAAF_targets, \"rb\") as fp:   # Unpickling AAAF features targets\n",
    "    aaaf_targets_KIBA = pickle.load(fp)"
   ],
   "metadata": {
    "id": "JpcQjAZbz5Ci",
    "executionInfo": {
     "status": "ok",
     "timestamp": 1663251193802,
     "user_tz": -120,
     "elapsed": 2992,
     "user": {
      "displayName": "Laurenz Wurdinger",
      "userId": "00707038666413498638"
     }
    }
   },
   "execution_count": 31,
   "outputs": []
  },
  {
   "cell_type": "code",
   "source": [
    "print(len(ssaf_drugs_KIBA))\n",
    "print(len(asaf_drugs_KIBA))\n",
    "print(len(gaaf_drugs_KIBA))\n",
    "print(len(aaaf_drugs_KIBA))"
   ],
   "metadata": {
    "colab": {
     "base_uri": "https://localhost:8080/"
    },
    "executionInfo": {
     "status": "ok",
     "timestamp": 1663251193803,
     "user_tz": -120,
     "elapsed": 26,
     "user": {
      "displayName": "Laurenz Wurdinger",
      "userId": "00707038666413498638"
     }
    },
    "outputId": "d1d6569f-248c-4f68-bb63-1ea13710a4b3",
    "id": "y0JeosMQz5Ck"
   },
   "execution_count": 32,
   "outputs": [
    {
     "output_type": "stream",
     "name": "stdout",
     "text": [
      "2111\n",
      "2111\n",
      "2111\n",
      "2111\n"
     ]
    }
   ]
  },
  {
   "cell_type": "code",
   "source": [
    "print(len(ssaf_targets_KIBA))\n",
    "print(len(asaf_targets_KIBA))\n",
    "print(len(gaaf_targets_KIBA))\n",
    "print(len(aaaf_targets_KIBA))"
   ],
   "metadata": {
    "colab": {
     "base_uri": "https://localhost:8080/"
    },
    "executionInfo": {
     "status": "ok",
     "timestamp": 1663251193804,
     "user_tz": -120,
     "elapsed": 26,
     "user": {
      "displayName": "Laurenz Wurdinger",
      "userId": "00707038666413498638"
     }
    },
    "outputId": "be72688d-b16e-47f4-e76b-e98386db9db0",
    "id": "58B2feg0z5Ck"
   },
   "execution_count": 33,
   "outputs": [
    {
     "output_type": "stream",
     "name": "stdout",
     "text": [
      "229\n",
      "229\n",
      "229\n",
      "229\n"
     ]
    }
   ]
  },
  {
   "cell_type": "code",
   "source": [
    "ssaf_drugs_KIBA"
   ],
   "metadata": {
    "colab": {
     "base_uri": "https://localhost:8080/",
     "height": 424
    },
    "id": "EVJIJIHkddUn",
    "executionInfo": {
     "status": "ok",
     "timestamp": 1663251193805,
     "user_tz": -120,
     "elapsed": 21,
     "user": {
      "displayName": "Laurenz Wurdinger",
      "userId": "00707038666413498638"
     }
    },
    "outputId": "c1b6db20-8b38-4edd-b3fb-e5d019aab79b"
   },
   "execution_count": 34,
   "outputs": [
    {
     "output_type": "execute_result",
     "data": {
      "text/plain": [
       "          mean  median     75q     85q     95q\n",
       "0     0.381405   0.366  0.4360  0.4675  0.5070\n",
       "1     0.387980   0.372  0.4430  0.4760  0.5165\n",
       "2     0.551189   0.567  0.6200  0.6480  0.6870\n",
       "3     0.572271   0.587  0.6700  0.7140  0.7865\n",
       "4     0.581582   0.597  0.6560  0.6850  0.7270\n",
       "...        ...     ...     ...     ...     ...\n",
       "2106  0.336646   0.314  0.3810  0.4150  0.5680\n",
       "2107  0.338769   0.316  0.3840  0.4160  0.5725\n",
       "2108  0.408101   0.400  0.4550  0.4780  0.5115\n",
       "2109  0.557937   0.558  0.6155  0.6530  0.7570\n",
       "2110  0.540603   0.557  0.6230  0.6615  0.7220\n",
       "\n",
       "[2111 rows x 5 columns]"
      ],
      "text/html": [
       "\n",
       "  <div id=\"df-786d8a00-90ac-4572-b222-a8df14cd68a3\">\n",
       "    <div class=\"colab-df-container\">\n",
       "      <div>\n",
       "<style scoped>\n",
       "    .dataframe tbody tr th:only-of-type {\n",
       "        vertical-align: middle;\n",
       "    }\n",
       "\n",
       "    .dataframe tbody tr th {\n",
       "        vertical-align: top;\n",
       "    }\n",
       "\n",
       "    .dataframe thead th {\n",
       "        text-align: right;\n",
       "    }\n",
       "</style>\n",
       "<table border=\"1\" class=\"dataframe\">\n",
       "  <thead>\n",
       "    <tr style=\"text-align: right;\">\n",
       "      <th></th>\n",
       "      <th>mean</th>\n",
       "      <th>median</th>\n",
       "      <th>75q</th>\n",
       "      <th>85q</th>\n",
       "      <th>95q</th>\n",
       "    </tr>\n",
       "  </thead>\n",
       "  <tbody>\n",
       "    <tr>\n",
       "      <th>0</th>\n",
       "      <td>0.381405</td>\n",
       "      <td>0.366</td>\n",
       "      <td>0.4360</td>\n",
       "      <td>0.4675</td>\n",
       "      <td>0.5070</td>\n",
       "    </tr>\n",
       "    <tr>\n",
       "      <th>1</th>\n",
       "      <td>0.387980</td>\n",
       "      <td>0.372</td>\n",
       "      <td>0.4430</td>\n",
       "      <td>0.4760</td>\n",
       "      <td>0.5165</td>\n",
       "    </tr>\n",
       "    <tr>\n",
       "      <th>2</th>\n",
       "      <td>0.551189</td>\n",
       "      <td>0.567</td>\n",
       "      <td>0.6200</td>\n",
       "      <td>0.6480</td>\n",
       "      <td>0.6870</td>\n",
       "    </tr>\n",
       "    <tr>\n",
       "      <th>3</th>\n",
       "      <td>0.572271</td>\n",
       "      <td>0.587</td>\n",
       "      <td>0.6700</td>\n",
       "      <td>0.7140</td>\n",
       "      <td>0.7865</td>\n",
       "    </tr>\n",
       "    <tr>\n",
       "      <th>4</th>\n",
       "      <td>0.581582</td>\n",
       "      <td>0.597</td>\n",
       "      <td>0.6560</td>\n",
       "      <td>0.6850</td>\n",
       "      <td>0.7270</td>\n",
       "    </tr>\n",
       "    <tr>\n",
       "      <th>...</th>\n",
       "      <td>...</td>\n",
       "      <td>...</td>\n",
       "      <td>...</td>\n",
       "      <td>...</td>\n",
       "      <td>...</td>\n",
       "    </tr>\n",
       "    <tr>\n",
       "      <th>2106</th>\n",
       "      <td>0.336646</td>\n",
       "      <td>0.314</td>\n",
       "      <td>0.3810</td>\n",
       "      <td>0.4150</td>\n",
       "      <td>0.5680</td>\n",
       "    </tr>\n",
       "    <tr>\n",
       "      <th>2107</th>\n",
       "      <td>0.338769</td>\n",
       "      <td>0.316</td>\n",
       "      <td>0.3840</td>\n",
       "      <td>0.4160</td>\n",
       "      <td>0.5725</td>\n",
       "    </tr>\n",
       "    <tr>\n",
       "      <th>2108</th>\n",
       "      <td>0.408101</td>\n",
       "      <td>0.400</td>\n",
       "      <td>0.4550</td>\n",
       "      <td>0.4780</td>\n",
       "      <td>0.5115</td>\n",
       "    </tr>\n",
       "    <tr>\n",
       "      <th>2109</th>\n",
       "      <td>0.557937</td>\n",
       "      <td>0.558</td>\n",
       "      <td>0.6155</td>\n",
       "      <td>0.6530</td>\n",
       "      <td>0.7570</td>\n",
       "    </tr>\n",
       "    <tr>\n",
       "      <th>2110</th>\n",
       "      <td>0.540603</td>\n",
       "      <td>0.557</td>\n",
       "      <td>0.6230</td>\n",
       "      <td>0.6615</td>\n",
       "      <td>0.7220</td>\n",
       "    </tr>\n",
       "  </tbody>\n",
       "</table>\n",
       "<p>2111 rows × 5 columns</p>\n",
       "</div>\n",
       "      <button class=\"colab-df-convert\" onclick=\"convertToInteractive('df-786d8a00-90ac-4572-b222-a8df14cd68a3')\"\n",
       "              title=\"Convert this dataframe to an interactive table.\"\n",
       "              style=\"display:none;\">\n",
       "        \n",
       "  <svg xmlns=\"http://www.w3.org/2000/svg\" height=\"24px\"viewBox=\"0 0 24 24\"\n",
       "       width=\"24px\">\n",
       "    <path d=\"M0 0h24v24H0V0z\" fill=\"none\"/>\n",
       "    <path d=\"M18.56 5.44l.94 2.06.94-2.06 2.06-.94-2.06-.94-.94-2.06-.94 2.06-2.06.94zm-11 1L8.5 8.5l.94-2.06 2.06-.94-2.06-.94L8.5 2.5l-.94 2.06-2.06.94zm10 10l.94 2.06.94-2.06 2.06-.94-2.06-.94-.94-2.06-.94 2.06-2.06.94z\"/><path d=\"M17.41 7.96l-1.37-1.37c-.4-.4-.92-.59-1.43-.59-.52 0-1.04.2-1.43.59L10.3 9.45l-7.72 7.72c-.78.78-.78 2.05 0 2.83L4 21.41c.39.39.9.59 1.41.59.51 0 1.02-.2 1.41-.59l7.78-7.78 2.81-2.81c.8-.78.8-2.07 0-2.86zM5.41 20L4 18.59l7.72-7.72 1.47 1.35L5.41 20z\"/>\n",
       "  </svg>\n",
       "      </button>\n",
       "      \n",
       "  <style>\n",
       "    .colab-df-container {\n",
       "      display:flex;\n",
       "      flex-wrap:wrap;\n",
       "      gap: 12px;\n",
       "    }\n",
       "\n",
       "    .colab-df-convert {\n",
       "      background-color: #E8F0FE;\n",
       "      border: none;\n",
       "      border-radius: 50%;\n",
       "      cursor: pointer;\n",
       "      display: none;\n",
       "      fill: #1967D2;\n",
       "      height: 32px;\n",
       "      padding: 0 0 0 0;\n",
       "      width: 32px;\n",
       "    }\n",
       "\n",
       "    .colab-df-convert:hover {\n",
       "      background-color: #E2EBFA;\n",
       "      box-shadow: 0px 1px 2px rgba(60, 64, 67, 0.3), 0px 1px 3px 1px rgba(60, 64, 67, 0.15);\n",
       "      fill: #174EA6;\n",
       "    }\n",
       "\n",
       "    [theme=dark] .colab-df-convert {\n",
       "      background-color: #3B4455;\n",
       "      fill: #D2E3FC;\n",
       "    }\n",
       "\n",
       "    [theme=dark] .colab-df-convert:hover {\n",
       "      background-color: #434B5C;\n",
       "      box-shadow: 0px 1px 3px 1px rgba(0, 0, 0, 0.15);\n",
       "      filter: drop-shadow(0px 1px 2px rgba(0, 0, 0, 0.3));\n",
       "      fill: #FFFFFF;\n",
       "    }\n",
       "  </style>\n",
       "\n",
       "      <script>\n",
       "        const buttonEl =\n",
       "          document.querySelector('#df-786d8a00-90ac-4572-b222-a8df14cd68a3 button.colab-df-convert');\n",
       "        buttonEl.style.display =\n",
       "          google.colab.kernel.accessAllowed ? 'block' : 'none';\n",
       "\n",
       "        async function convertToInteractive(key) {\n",
       "          const element = document.querySelector('#df-786d8a00-90ac-4572-b222-a8df14cd68a3');\n",
       "          const dataTable =\n",
       "            await google.colab.kernel.invokeFunction('convertToInteractive',\n",
       "                                                     [key], {});\n",
       "          if (!dataTable) return;\n",
       "\n",
       "          const docLinkHtml = 'Like what you see? Visit the ' +\n",
       "            '<a target=\"_blank\" href=https://colab.research.google.com/notebooks/data_table.ipynb>data table notebook</a>'\n",
       "            + ' to learn more about interactive tables.';\n",
       "          element.innerHTML = '';\n",
       "          dataTable['output_type'] = 'display_data';\n",
       "          await google.colab.output.renderOutput(dataTable, element);\n",
       "          const docLink = document.createElement('div');\n",
       "          docLink.innerHTML = docLinkHtml;\n",
       "          element.appendChild(docLink);\n",
       "        }\n",
       "      </script>\n",
       "    </div>\n",
       "  </div>\n",
       "  "
      ]
     },
     "metadata": {},
     "execution_count": 34
    }
   ]
  },
  {
   "cell_type": "code",
   "source": [
    "asaf_drugs_KIBA"
   ],
   "metadata": {
    "colab": {
     "base_uri": "https://localhost:8080/",
     "height": 424
    },
    "id": "28tsmFiYdghl",
    "executionInfo": {
     "status": "ok",
     "timestamp": 1663251193805,
     "user_tz": -120,
     "elapsed": 20,
     "user": {
      "displayName": "Laurenz Wurdinger",
      "userId": "00707038666413498638"
     }
    },
    "outputId": "4991af87-d634-4a98-f623-4490632fa892"
   },
   "execution_count": 35,
   "outputs": [
    {
     "output_type": "execute_result",
     "data": {
      "text/plain": [
       "        mean_1     mean_2 number       mode        25q        50q        75q  \\\n",
       "0     0.877293  11.161111     18  11.100000  11.100000  11.100000  11.100000   \n",
       "1     0.875764  11.141667     18  11.100000  11.100000  11.100000  11.100000   \n",
       "2     6.513864  12.127439    123  11.200000  11.450000  12.112837  12.380846   \n",
       "3     0.918660  11.687402     18  11.100000  11.100000  11.421414  12.157882   \n",
       "4     3.405819  12.186447     64  12.100000  12.100000  12.100000  12.100000   \n",
       "...        ...        ...    ...        ...        ...        ...        ...   \n",
       "2106  0.589416  11.248023     12  10.100000  10.100000  10.946895  12.014542   \n",
       "2107  0.546941  11.386322     11  10.100000  10.340743  11.020819  12.412077   \n",
       "2108  0.630685  13.129721     11  12.986057  12.660739  12.986057  13.372578   \n",
       "2109  0.680002  11.978493     13  12.765546  11.361219  11.633132  12.765546   \n",
       "2110  0.606865  10.690159     13  10.497940  10.302732  10.497940  10.497940   \n",
       "\n",
       "                                                 5_high  \\\n",
       "0     [11.1, 11.1, 11.200000128, 12.199999035, 12.99...   \n",
       "1     [11.1, 11.1, 11.200000128, 11.999998417, 12.85...   \n",
       "2     [13.816269724, 13.986582248, 14.113255031, 14....   \n",
       "3     [12.175720714, 12.504466153, 12.515897595, 12....   \n",
       "4     [12.555931956, 12.798970004, 13.020818754, 13....   \n",
       "...                                                 ...   \n",
       "2106  [11.953871964, 11.986056648, 12.1, 12.58148606...   \n",
       "2107  [11.986056648, 12.242667504, 12.58148606, 12.6...   \n",
       "2108  [12.986056648, 13.122276395, 13.622878745, 13....   \n",
       "2109  [12.765546249, 12.765546249, 12.765546249, 12....   \n",
       "2110  [10.497940009, 10.497940009, 10.497940009, 10....   \n",
       "\n",
       "                                                  5_low  \n",
       "0                        [10.1, 10.1, 11.1, 11.1, 11.1]  \n",
       "1                        [10.1, 10.1, 11.1, 11.1, 11.1]  \n",
       "2                        [11.1, 11.1, 11.1, 11.1, 11.1]  \n",
       "3                        [11.1, 11.1, 11.1, 11.1, 11.1]  \n",
       "4     [11.798970004, 11.798970004, 11.798970004, 11....  \n",
       "...                                                 ...  \n",
       "2106             [10.1, 10.1, 10.1, 10.1, 10.392429824]  \n",
       "2107      [10.1, 10.1, 10.1, 10.58148606, 10.777780705]  \n",
       "2108  [12.622878745, 12.637602002, 12.652841969, 12....  \n",
       "2109  [10.794648631, 10.798970004, 11.101304842, 11....  \n",
       "2110  [10.218615343, 10.218615343, 10.218615343, 10....  \n",
       "\n",
       "[2111 rows x 9 columns]"
      ],
      "text/html": [
       "\n",
       "  <div id=\"df-8c32387c-c60b-42e7-85ef-d2d25b80d19d\">\n",
       "    <div class=\"colab-df-container\">\n",
       "      <div>\n",
       "<style scoped>\n",
       "    .dataframe tbody tr th:only-of-type {\n",
       "        vertical-align: middle;\n",
       "    }\n",
       "\n",
       "    .dataframe tbody tr th {\n",
       "        vertical-align: top;\n",
       "    }\n",
       "\n",
       "    .dataframe thead th {\n",
       "        text-align: right;\n",
       "    }\n",
       "</style>\n",
       "<table border=\"1\" class=\"dataframe\">\n",
       "  <thead>\n",
       "    <tr style=\"text-align: right;\">\n",
       "      <th></th>\n",
       "      <th>mean_1</th>\n",
       "      <th>mean_2</th>\n",
       "      <th>number</th>\n",
       "      <th>mode</th>\n",
       "      <th>25q</th>\n",
       "      <th>50q</th>\n",
       "      <th>75q</th>\n",
       "      <th>5_high</th>\n",
       "      <th>5_low</th>\n",
       "    </tr>\n",
       "  </thead>\n",
       "  <tbody>\n",
       "    <tr>\n",
       "      <th>0</th>\n",
       "      <td>0.877293</td>\n",
       "      <td>11.161111</td>\n",
       "      <td>18</td>\n",
       "      <td>11.100000</td>\n",
       "      <td>11.100000</td>\n",
       "      <td>11.100000</td>\n",
       "      <td>11.100000</td>\n",
       "      <td>[11.1, 11.1, 11.200000128, 12.199999035, 12.99...</td>\n",
       "      <td>[10.1, 10.1, 11.1, 11.1, 11.1]</td>\n",
       "    </tr>\n",
       "    <tr>\n",
       "      <th>1</th>\n",
       "      <td>0.875764</td>\n",
       "      <td>11.141667</td>\n",
       "      <td>18</td>\n",
       "      <td>11.100000</td>\n",
       "      <td>11.100000</td>\n",
       "      <td>11.100000</td>\n",
       "      <td>11.100000</td>\n",
       "      <td>[11.1, 11.1, 11.200000128, 11.999998417, 12.85...</td>\n",
       "      <td>[10.1, 10.1, 11.1, 11.1, 11.1]</td>\n",
       "    </tr>\n",
       "    <tr>\n",
       "      <th>2</th>\n",
       "      <td>6.513864</td>\n",
       "      <td>12.127439</td>\n",
       "      <td>123</td>\n",
       "      <td>11.200000</td>\n",
       "      <td>11.450000</td>\n",
       "      <td>12.112837</td>\n",
       "      <td>12.380846</td>\n",
       "      <td>[13.816269724, 13.986582248, 14.113255031, 14....</td>\n",
       "      <td>[11.1, 11.1, 11.1, 11.1, 11.1]</td>\n",
       "    </tr>\n",
       "    <tr>\n",
       "      <th>3</th>\n",
       "      <td>0.918660</td>\n",
       "      <td>11.687402</td>\n",
       "      <td>18</td>\n",
       "      <td>11.100000</td>\n",
       "      <td>11.100000</td>\n",
       "      <td>11.421414</td>\n",
       "      <td>12.157882</td>\n",
       "      <td>[12.175720714, 12.504466153, 12.515897595, 12....</td>\n",
       "      <td>[11.1, 11.1, 11.1, 11.1, 11.1]</td>\n",
       "    </tr>\n",
       "    <tr>\n",
       "      <th>4</th>\n",
       "      <td>3.405819</td>\n",
       "      <td>12.186447</td>\n",
       "      <td>64</td>\n",
       "      <td>12.100000</td>\n",
       "      <td>12.100000</td>\n",
       "      <td>12.100000</td>\n",
       "      <td>12.100000</td>\n",
       "      <td>[12.555931956, 12.798970004, 13.020818754, 13....</td>\n",
       "      <td>[11.798970004, 11.798970004, 11.798970004, 11....</td>\n",
       "    </tr>\n",
       "    <tr>\n",
       "      <th>...</th>\n",
       "      <td>...</td>\n",
       "      <td>...</td>\n",
       "      <td>...</td>\n",
       "      <td>...</td>\n",
       "      <td>...</td>\n",
       "      <td>...</td>\n",
       "      <td>...</td>\n",
       "      <td>...</td>\n",
       "      <td>...</td>\n",
       "    </tr>\n",
       "    <tr>\n",
       "      <th>2106</th>\n",
       "      <td>0.589416</td>\n",
       "      <td>11.248023</td>\n",
       "      <td>12</td>\n",
       "      <td>10.100000</td>\n",
       "      <td>10.100000</td>\n",
       "      <td>10.946895</td>\n",
       "      <td>12.014542</td>\n",
       "      <td>[11.953871964, 11.986056648, 12.1, 12.58148606...</td>\n",
       "      <td>[10.1, 10.1, 10.1, 10.1, 10.392429824]</td>\n",
       "    </tr>\n",
       "    <tr>\n",
       "      <th>2107</th>\n",
       "      <td>0.546941</td>\n",
       "      <td>11.386322</td>\n",
       "      <td>11</td>\n",
       "      <td>10.100000</td>\n",
       "      <td>10.340743</td>\n",
       "      <td>11.020819</td>\n",
       "      <td>12.412077</td>\n",
       "      <td>[11.986056648, 12.242667504, 12.58148606, 12.6...</td>\n",
       "      <td>[10.1, 10.1, 10.1, 10.58148606, 10.777780705]</td>\n",
       "    </tr>\n",
       "    <tr>\n",
       "      <th>2108</th>\n",
       "      <td>0.630685</td>\n",
       "      <td>13.129721</td>\n",
       "      <td>11</td>\n",
       "      <td>12.986057</td>\n",
       "      <td>12.660739</td>\n",
       "      <td>12.986057</td>\n",
       "      <td>13.372578</td>\n",
       "      <td>[12.986056648, 13.122276395, 13.622878745, 13....</td>\n",
       "      <td>[12.622878745, 12.637602002, 12.652841969, 12....</td>\n",
       "    </tr>\n",
       "    <tr>\n",
       "      <th>2109</th>\n",
       "      <td>0.680002</td>\n",
       "      <td>11.978493</td>\n",
       "      <td>13</td>\n",
       "      <td>12.765546</td>\n",
       "      <td>11.361219</td>\n",
       "      <td>11.633132</td>\n",
       "      <td>12.765546</td>\n",
       "      <td>[12.765546249, 12.765546249, 12.765546249, 12....</td>\n",
       "      <td>[10.794648631, 10.798970004, 11.101304842, 11....</td>\n",
       "    </tr>\n",
       "    <tr>\n",
       "      <th>2110</th>\n",
       "      <td>0.606865</td>\n",
       "      <td>10.690159</td>\n",
       "      <td>13</td>\n",
       "      <td>10.497940</td>\n",
       "      <td>10.302732</td>\n",
       "      <td>10.497940</td>\n",
       "      <td>10.497940</td>\n",
       "      <td>[10.497940009, 10.497940009, 10.497940009, 10....</td>\n",
       "      <td>[10.218615343, 10.218615343, 10.218615343, 10....</td>\n",
       "    </tr>\n",
       "  </tbody>\n",
       "</table>\n",
       "<p>2111 rows × 9 columns</p>\n",
       "</div>\n",
       "      <button class=\"colab-df-convert\" onclick=\"convertToInteractive('df-8c32387c-c60b-42e7-85ef-d2d25b80d19d')\"\n",
       "              title=\"Convert this dataframe to an interactive table.\"\n",
       "              style=\"display:none;\">\n",
       "        \n",
       "  <svg xmlns=\"http://www.w3.org/2000/svg\" height=\"24px\"viewBox=\"0 0 24 24\"\n",
       "       width=\"24px\">\n",
       "    <path d=\"M0 0h24v24H0V0z\" fill=\"none\"/>\n",
       "    <path d=\"M18.56 5.44l.94 2.06.94-2.06 2.06-.94-2.06-.94-.94-2.06-.94 2.06-2.06.94zm-11 1L8.5 8.5l.94-2.06 2.06-.94-2.06-.94L8.5 2.5l-.94 2.06-2.06.94zm10 10l.94 2.06.94-2.06 2.06-.94-2.06-.94-.94-2.06-.94 2.06-2.06.94z\"/><path d=\"M17.41 7.96l-1.37-1.37c-.4-.4-.92-.59-1.43-.59-.52 0-1.04.2-1.43.59L10.3 9.45l-7.72 7.72c-.78.78-.78 2.05 0 2.83L4 21.41c.39.39.9.59 1.41.59.51 0 1.02-.2 1.41-.59l7.78-7.78 2.81-2.81c.8-.78.8-2.07 0-2.86zM5.41 20L4 18.59l7.72-7.72 1.47 1.35L5.41 20z\"/>\n",
       "  </svg>\n",
       "      </button>\n",
       "      \n",
       "  <style>\n",
       "    .colab-df-container {\n",
       "      display:flex;\n",
       "      flex-wrap:wrap;\n",
       "      gap: 12px;\n",
       "    }\n",
       "\n",
       "    .colab-df-convert {\n",
       "      background-color: #E8F0FE;\n",
       "      border: none;\n",
       "      border-radius: 50%;\n",
       "      cursor: pointer;\n",
       "      display: none;\n",
       "      fill: #1967D2;\n",
       "      height: 32px;\n",
       "      padding: 0 0 0 0;\n",
       "      width: 32px;\n",
       "    }\n",
       "\n",
       "    .colab-df-convert:hover {\n",
       "      background-color: #E2EBFA;\n",
       "      box-shadow: 0px 1px 2px rgba(60, 64, 67, 0.3), 0px 1px 3px 1px rgba(60, 64, 67, 0.15);\n",
       "      fill: #174EA6;\n",
       "    }\n",
       "\n",
       "    [theme=dark] .colab-df-convert {\n",
       "      background-color: #3B4455;\n",
       "      fill: #D2E3FC;\n",
       "    }\n",
       "\n",
       "    [theme=dark] .colab-df-convert:hover {\n",
       "      background-color: #434B5C;\n",
       "      box-shadow: 0px 1px 3px 1px rgba(0, 0, 0, 0.15);\n",
       "      filter: drop-shadow(0px 1px 2px rgba(0, 0, 0, 0.3));\n",
       "      fill: #FFFFFF;\n",
       "    }\n",
       "  </style>\n",
       "\n",
       "      <script>\n",
       "        const buttonEl =\n",
       "          document.querySelector('#df-8c32387c-c60b-42e7-85ef-d2d25b80d19d button.colab-df-convert');\n",
       "        buttonEl.style.display =\n",
       "          google.colab.kernel.accessAllowed ? 'block' : 'none';\n",
       "\n",
       "        async function convertToInteractive(key) {\n",
       "          const element = document.querySelector('#df-8c32387c-c60b-42e7-85ef-d2d25b80d19d');\n",
       "          const dataTable =\n",
       "            await google.colab.kernel.invokeFunction('convertToInteractive',\n",
       "                                                     [key], {});\n",
       "          if (!dataTable) return;\n",
       "\n",
       "          const docLinkHtml = 'Like what you see? Visit the ' +\n",
       "            '<a target=\"_blank\" href=https://colab.research.google.com/notebooks/data_table.ipynb>data table notebook</a>'\n",
       "            + ' to learn more about interactive tables.';\n",
       "          element.innerHTML = '';\n",
       "          dataTable['output_type'] = 'display_data';\n",
       "          await google.colab.output.renderOutput(dataTable, element);\n",
       "          const docLink = document.createElement('div');\n",
       "          docLink.innerHTML = docLinkHtml;\n",
       "          element.appendChild(docLink);\n",
       "        }\n",
       "      </script>\n",
       "    </div>\n",
       "  </div>\n",
       "  "
      ]
     },
     "metadata": {},
     "execution_count": 35
    }
   ]
  },
  {
   "cell_type": "code",
   "source": [
    "gaaf_drugs_KIBA"
   ],
   "metadata": {
    "colab": {
     "base_uri": "https://localhost:8080/",
     "height": 424
    },
    "id": "oSAwdIBDdgny",
    "executionInfo": {
     "status": "ok",
     "timestamp": 1663251193806,
     "user_tz": -120,
     "elapsed": 19,
     "user": {
      "displayName": "Laurenz Wurdinger",
      "userId": "00707038666413498638"
     }
    },
    "outputId": "916b74ee-c373-4d3d-e96d-18dc62ab34ff"
   },
   "execution_count": 36,
   "outputs": [
    {
     "output_type": "execute_result",
     "data": {
      "text/plain": [
       "           min    max    upper_q     median  lower_q       mean  mode\n",
       "0     0.000000  166.0  12.599997  11.300000     11.1  14.600535  11.1\n",
       "1     0.000000  166.0  12.599997  11.300000     11.1  14.590844  11.1\n",
       "2     0.000000  166.0  13.000000  11.588833     11.1  15.491607  11.1\n",
       "3     0.498253  166.0  12.899998  11.608638     11.1  14.989021  11.1\n",
       "4     0.475089  166.0  12.899998  11.538074     11.1  15.375821  11.1\n",
       "...        ...    ...        ...        ...      ...        ...   ...\n",
       "2106  0.000000  166.0  12.463643  11.300000     10.8  13.825336  11.1\n",
       "2107  0.000000  166.0  12.489340  11.300000     10.8  13.826116  11.1\n",
       "2108  0.000000  166.0  12.599997  11.400000     11.1  14.887384  11.1\n",
       "2109  0.470693  166.0  12.899998  11.500000     11.1  14.240340  11.1\n",
       "2110  0.479846  166.0  12.869551  11.500000     11.1  14.958757  11.1\n",
       "\n",
       "[2111 rows x 7 columns]"
      ],
      "text/html": [
       "\n",
       "  <div id=\"df-72fdfe06-315e-44bf-bc64-f91ccd0af867\">\n",
       "    <div class=\"colab-df-container\">\n",
       "      <div>\n",
       "<style scoped>\n",
       "    .dataframe tbody tr th:only-of-type {\n",
       "        vertical-align: middle;\n",
       "    }\n",
       "\n",
       "    .dataframe tbody tr th {\n",
       "        vertical-align: top;\n",
       "    }\n",
       "\n",
       "    .dataframe thead th {\n",
       "        text-align: right;\n",
       "    }\n",
       "</style>\n",
       "<table border=\"1\" class=\"dataframe\">\n",
       "  <thead>\n",
       "    <tr style=\"text-align: right;\">\n",
       "      <th></th>\n",
       "      <th>min</th>\n",
       "      <th>max</th>\n",
       "      <th>upper_q</th>\n",
       "      <th>median</th>\n",
       "      <th>lower_q</th>\n",
       "      <th>mean</th>\n",
       "      <th>mode</th>\n",
       "    </tr>\n",
       "  </thead>\n",
       "  <tbody>\n",
       "    <tr>\n",
       "      <th>0</th>\n",
       "      <td>0.000000</td>\n",
       "      <td>166.0</td>\n",
       "      <td>12.599997</td>\n",
       "      <td>11.300000</td>\n",
       "      <td>11.1</td>\n",
       "      <td>14.600535</td>\n",
       "      <td>11.1</td>\n",
       "    </tr>\n",
       "    <tr>\n",
       "      <th>1</th>\n",
       "      <td>0.000000</td>\n",
       "      <td>166.0</td>\n",
       "      <td>12.599997</td>\n",
       "      <td>11.300000</td>\n",
       "      <td>11.1</td>\n",
       "      <td>14.590844</td>\n",
       "      <td>11.1</td>\n",
       "    </tr>\n",
       "    <tr>\n",
       "      <th>2</th>\n",
       "      <td>0.000000</td>\n",
       "      <td>166.0</td>\n",
       "      <td>13.000000</td>\n",
       "      <td>11.588833</td>\n",
       "      <td>11.1</td>\n",
       "      <td>15.491607</td>\n",
       "      <td>11.1</td>\n",
       "    </tr>\n",
       "    <tr>\n",
       "      <th>3</th>\n",
       "      <td>0.498253</td>\n",
       "      <td>166.0</td>\n",
       "      <td>12.899998</td>\n",
       "      <td>11.608638</td>\n",
       "      <td>11.1</td>\n",
       "      <td>14.989021</td>\n",
       "      <td>11.1</td>\n",
       "    </tr>\n",
       "    <tr>\n",
       "      <th>4</th>\n",
       "      <td>0.475089</td>\n",
       "      <td>166.0</td>\n",
       "      <td>12.899998</td>\n",
       "      <td>11.538074</td>\n",
       "      <td>11.1</td>\n",
       "      <td>15.375821</td>\n",
       "      <td>11.1</td>\n",
       "    </tr>\n",
       "    <tr>\n",
       "      <th>...</th>\n",
       "      <td>...</td>\n",
       "      <td>...</td>\n",
       "      <td>...</td>\n",
       "      <td>...</td>\n",
       "      <td>...</td>\n",
       "      <td>...</td>\n",
       "      <td>...</td>\n",
       "    </tr>\n",
       "    <tr>\n",
       "      <th>2106</th>\n",
       "      <td>0.000000</td>\n",
       "      <td>166.0</td>\n",
       "      <td>12.463643</td>\n",
       "      <td>11.300000</td>\n",
       "      <td>10.8</td>\n",
       "      <td>13.825336</td>\n",
       "      <td>11.1</td>\n",
       "    </tr>\n",
       "    <tr>\n",
       "      <th>2107</th>\n",
       "      <td>0.000000</td>\n",
       "      <td>166.0</td>\n",
       "      <td>12.489340</td>\n",
       "      <td>11.300000</td>\n",
       "      <td>10.8</td>\n",
       "      <td>13.826116</td>\n",
       "      <td>11.1</td>\n",
       "    </tr>\n",
       "    <tr>\n",
       "      <th>2108</th>\n",
       "      <td>0.000000</td>\n",
       "      <td>166.0</td>\n",
       "      <td>12.599997</td>\n",
       "      <td>11.400000</td>\n",
       "      <td>11.1</td>\n",
       "      <td>14.887384</td>\n",
       "      <td>11.1</td>\n",
       "    </tr>\n",
       "    <tr>\n",
       "      <th>2109</th>\n",
       "      <td>0.470693</td>\n",
       "      <td>166.0</td>\n",
       "      <td>12.899998</td>\n",
       "      <td>11.500000</td>\n",
       "      <td>11.1</td>\n",
       "      <td>14.240340</td>\n",
       "      <td>11.1</td>\n",
       "    </tr>\n",
       "    <tr>\n",
       "      <th>2110</th>\n",
       "      <td>0.479846</td>\n",
       "      <td>166.0</td>\n",
       "      <td>12.869551</td>\n",
       "      <td>11.500000</td>\n",
       "      <td>11.1</td>\n",
       "      <td>14.958757</td>\n",
       "      <td>11.1</td>\n",
       "    </tr>\n",
       "  </tbody>\n",
       "</table>\n",
       "<p>2111 rows × 7 columns</p>\n",
       "</div>\n",
       "      <button class=\"colab-df-convert\" onclick=\"convertToInteractive('df-72fdfe06-315e-44bf-bc64-f91ccd0af867')\"\n",
       "              title=\"Convert this dataframe to an interactive table.\"\n",
       "              style=\"display:none;\">\n",
       "        \n",
       "  <svg xmlns=\"http://www.w3.org/2000/svg\" height=\"24px\"viewBox=\"0 0 24 24\"\n",
       "       width=\"24px\">\n",
       "    <path d=\"M0 0h24v24H0V0z\" fill=\"none\"/>\n",
       "    <path d=\"M18.56 5.44l.94 2.06.94-2.06 2.06-.94-2.06-.94-.94-2.06-.94 2.06-2.06.94zm-11 1L8.5 8.5l.94-2.06 2.06-.94-2.06-.94L8.5 2.5l-.94 2.06-2.06.94zm10 10l.94 2.06.94-2.06 2.06-.94-2.06-.94-.94-2.06-.94 2.06-2.06.94z\"/><path d=\"M17.41 7.96l-1.37-1.37c-.4-.4-.92-.59-1.43-.59-.52 0-1.04.2-1.43.59L10.3 9.45l-7.72 7.72c-.78.78-.78 2.05 0 2.83L4 21.41c.39.39.9.59 1.41.59.51 0 1.02-.2 1.41-.59l7.78-7.78 2.81-2.81c.8-.78.8-2.07 0-2.86zM5.41 20L4 18.59l7.72-7.72 1.47 1.35L5.41 20z\"/>\n",
       "  </svg>\n",
       "      </button>\n",
       "      \n",
       "  <style>\n",
       "    .colab-df-container {\n",
       "      display:flex;\n",
       "      flex-wrap:wrap;\n",
       "      gap: 12px;\n",
       "    }\n",
       "\n",
       "    .colab-df-convert {\n",
       "      background-color: #E8F0FE;\n",
       "      border: none;\n",
       "      border-radius: 50%;\n",
       "      cursor: pointer;\n",
       "      display: none;\n",
       "      fill: #1967D2;\n",
       "      height: 32px;\n",
       "      padding: 0 0 0 0;\n",
       "      width: 32px;\n",
       "    }\n",
       "\n",
       "    .colab-df-convert:hover {\n",
       "      background-color: #E2EBFA;\n",
       "      box-shadow: 0px 1px 2px rgba(60, 64, 67, 0.3), 0px 1px 3px 1px rgba(60, 64, 67, 0.15);\n",
       "      fill: #174EA6;\n",
       "    }\n",
       "\n",
       "    [theme=dark] .colab-df-convert {\n",
       "      background-color: #3B4455;\n",
       "      fill: #D2E3FC;\n",
       "    }\n",
       "\n",
       "    [theme=dark] .colab-df-convert:hover {\n",
       "      background-color: #434B5C;\n",
       "      box-shadow: 0px 1px 3px 1px rgba(0, 0, 0, 0.15);\n",
       "      filter: drop-shadow(0px 1px 2px rgba(0, 0, 0, 0.3));\n",
       "      fill: #FFFFFF;\n",
       "    }\n",
       "  </style>\n",
       "\n",
       "      <script>\n",
       "        const buttonEl =\n",
       "          document.querySelector('#df-72fdfe06-315e-44bf-bc64-f91ccd0af867 button.colab-df-convert');\n",
       "        buttonEl.style.display =\n",
       "          google.colab.kernel.accessAllowed ? 'block' : 'none';\n",
       "\n",
       "        async function convertToInteractive(key) {\n",
       "          const element = document.querySelector('#df-72fdfe06-315e-44bf-bc64-f91ccd0af867');\n",
       "          const dataTable =\n",
       "            await google.colab.kernel.invokeFunction('convertToInteractive',\n",
       "                                                     [key], {});\n",
       "          if (!dataTable) return;\n",
       "\n",
       "          const docLinkHtml = 'Like what you see? Visit the ' +\n",
       "            '<a target=\"_blank\" href=https://colab.research.google.com/notebooks/data_table.ipynb>data table notebook</a>'\n",
       "            + ' to learn more about interactive tables.';\n",
       "          element.innerHTML = '';\n",
       "          dataTable['output_type'] = 'display_data';\n",
       "          await google.colab.output.renderOutput(dataTable, element);\n",
       "          const docLink = document.createElement('div');\n",
       "          docLink.innerHTML = docLinkHtml;\n",
       "          element.appendChild(docLink);\n",
       "        }\n",
       "      </script>\n",
       "    </div>\n",
       "  </div>\n",
       "  "
      ]
     },
     "metadata": {},
     "execution_count": 36
    }
   ]
  },
  {
   "cell_type": "code",
   "source": [
    "#aaaf_drugs_KIBA"
   ],
   "metadata": {
    "id": "dOHeNFQ3dgub",
    "executionInfo": {
     "status": "ok",
     "timestamp": 1663251193807,
     "user_tz": -120,
     "elapsed": 16,
     "user": {
      "displayName": "Laurenz Wurdinger",
      "userId": "00707038666413498638"
     }
    }
   },
   "execution_count": 37,
   "outputs": []
  },
  {
   "cell_type": "markdown",
   "source": [],
   "metadata": {
    "id": "QMRQ9BmJzxmS"
   }
  },
  {
   "cell_type": "code",
   "source": [],
   "metadata": {
    "id": "8k9gCuPtpNfc",
    "executionInfo": {
     "status": "ok",
     "timestamp": 1663251197525,
     "user_tz": -120,
     "elapsed": 3733,
     "user": {
      "displayName": "Laurenz Wurdinger",
      "userId": "00707038666413498638"
     }
    }
   },
   "execution_count": 38,
   "outputs": []
  },
  {
   "cell_type": "code",
   "source": [],
   "metadata": {
    "colab": {
     "base_uri": "https://localhost:8080/"
    },
    "id": "qsBE3m7OrCdE",
    "executionInfo": {
     "status": "ok",
     "timestamp": 1663251197526,
     "user_tz": -120,
     "elapsed": 10,
     "user": {
      "displayName": "Laurenz Wurdinger",
      "userId": "00707038666413498638"
     }
    },
    "outputId": "6f03db5d-0ca1-4a16-c784-27b0138f84b9"
   },
   "execution_count": 39,
   "outputs": [
    {
     "output_type": "stream",
     "name": "stdout",
     "text": [
      "68\n",
      "68\n",
      "68\n",
      "68\n"
     ]
    }
   ]
  },
  {
   "cell_type": "code",
   "source": [],
   "metadata": {
    "colab": {
     "base_uri": "https://localhost:8080/"
    },
    "id": "fvzpiOwvrMLm",
    "executionInfo": {
     "status": "ok",
     "timestamp": 1663251197526,
     "user_tz": -120,
     "elapsed": 8,
     "user": {
      "displayName": "Laurenz Wurdinger",
      "userId": "00707038666413498638"
     }
    },
    "outputId": "8e5114f2-098b-4370-ba9d-2eecb9ae46ed"
   },
   "execution_count": 40,
   "outputs": [
    {
     "output_type": "stream",
     "name": "stdout",
     "text": [
      "442\n",
      "442\n",
      "442\n",
      "442\n"
     ]
    }
   ]
  },
  {
   "cell_type": "markdown",
   "source": [
    "#Write Train and Test File"
   ],
   "metadata": {
    "id": "QSeBQ6_L0hKp"
   }
  },
  {
   "cell_type": "code",
   "source": [
    "def write_file(outpath:str, dataframe, ssaf_drugs, asaf_drugs, gaaf_drugs, aaaf_drugs, ssaf_targets, asaf_targets, gaaf_targets, aaaf_targets):\n",
    "  with open(outpath, 'w') as f:\n",
    "      for index, row in dataframe.iterrows():\n",
    "        #write affinity\n",
    "        f.write(str(row['affinity']))\n",
    "        #write qid\n",
    "        f.write(' qid:')\n",
    "        f.write(str(int(row['drug_ID'])))\n",
    "        f.write(' ')\n",
    "        #write features\n",
    "        feature_number = 1  # for Ranklib thte feature number has to be infront of each feature\n",
    "        #DRUGS\n",
    "        #ssaf\n",
    "        ssaf_dict = {'mean', 'median', '75q', '85q', '95q'}\n",
    "        for entry in ssaf_dict:\n",
    "          f.write(str(feature_number)+':')\n",
    "          f.write(str(ssaf_drugs[entry][row['drug_ID']]))\n",
    "          f.write(' ')\n",
    "          feature_number +=1\n",
    "        #asaf\n",
    "        asaf_dict ={'mean_1','mean_2','number','mode','25q','50q','75q'}\n",
    "        for entry in asaf_dict:\n",
    "          f.write(str(feature_number)+':')\n",
    "          f.write(str(asaf_drugs[entry][row['drug_ID']]))\n",
    "          f.write(' ')\n",
    "          feature_number +=1\n",
    "\n",
    "        for el in asaf_drugs['5_high'][row['drug_ID']]:\n",
    "          f.write(str(feature_number)+':')\n",
    "          f.write(str(el))\n",
    "          f.write(' ')\n",
    "          feature_number +=1\n",
    "        for el in asaf_drugs['5_low'][row['drug_ID']]:\n",
    "          f.write(str(feature_number)+':')\n",
    "          f.write(str(el))\n",
    "          f.write(' ')\n",
    "          feature_number +=1\n",
    "        #gaaf\n",
    "        gaaf_dict ={'min','max','upper_q','median','lower_q','mean','mode'}\n",
    "        for entry in gaaf_dict:\n",
    "          f.write(str(feature_number)+':')\n",
    "          f.write(str(gaaf_drugs[entry][row['drug_ID']]))\n",
    "          f.write(' ')\n",
    "          feature_number +=1\n",
    "        #aaaf\n",
    "        for el in aaaf_drugs[int(row['drug_ID'])]:\n",
    "          f.write(str(feature_number)+':')\n",
    "          f.write(str(el))\n",
    "          f.write(' ')\n",
    "          feature_number +=1\n",
    "\n",
    "        #Targets\n",
    "        #ssaf\n",
    "        ssaf_dict = {'mean', 'median', '75q', '85q', '95q'}\n",
    "        for entry in ssaf_dict:\n",
    "          f.write(str(feature_number)+':')\n",
    "          f.write(str(ssaf_targets[entry][row['target_ID']]))\n",
    "          f.write(' ')\n",
    "          feature_number +=1\n",
    "        #asaf\n",
    "        asaf_dict ={'mean_1','mean_2','number','mode','25q','50q','75q'}\n",
    "        for entry in asaf_dict:\n",
    "          f.write(str(feature_number)+':')\n",
    "          f.write(str(asaf_targets[entry][row['target_ID']]))\n",
    "          f.write(' ')\n",
    "          feature_number +=1\n",
    "\n",
    "        for el in asaf_targets['5_high'][row['target_ID']]:\n",
    "          f.write(str(feature_number)+':')\n",
    "          f.write(str(el))\n",
    "          f.write(' ')\n",
    "          feature_number +=1\n",
    "        for el in asaf_targets['5_low'][row['target_ID']]:\n",
    "          f.write(str(feature_number)+':')\n",
    "          f.write(str(el))\n",
    "          f.write(' ')\n",
    "          feature_number +=1\n",
    "        #gaaf\n",
    "        gaaf_dict ={'min','max','upper_q','median','lower_q','mean','mode'}\n",
    "        for entry in gaaf_dict:\n",
    "          f.write(str(feature_number)+':')\n",
    "          f.write(str(gaaf_targets[entry][row['target_ID']]))\n",
    "          f.write(' ')\n",
    "          feature_number +=1\n",
    "        #aaaf\n",
    "        for el in aaaf_targets[int(row['target_ID'])]:\n",
    "          f.write(str(feature_number)+':')\n",
    "          f.write(str(el))\n",
    "          f.write(' ')\n",
    "          feature_number +=1\n",
    "        f.write('\\n')\n",
    "      "
   ],
   "metadata": {
    "id": "-XhTRkM0rW2v",
    "executionInfo": {
     "status": "ok",
     "timestamp": 1663251197526,
     "user_tz": -120,
     "elapsed": 3,
     "user": {
      "displayName": "Laurenz Wurdinger",
      "userId": "00707038666413498638"
     }
    }
   },
   "execution_count": 41,
   "outputs": []
  },
  {
   "cell_type": "code",
   "source": [
    "write_file('train_KIBA_Ner.txt', kiba_train, ssaf_drugs_KIBA, asaf_drugs_KIBA, gaaf_drugs_KIBA, aaaf_drugs_KIBA, ssaf_targets_KIBA, asaf_targets_KIBA, gaaf_targets_KIBA, aaaf_targets_KIBA)"
   ],
   "metadata": {
    "id": "GYYnrDaP1Cgu",
    "executionInfo": {
     "status": "ok",
     "timestamp": 1663251417492,
     "user_tz": -120,
     "elapsed": 219619,
     "user": {
      "displayName": "Laurenz Wurdinger",
      "userId": "00707038666413498638"
     }
    }
   },
   "execution_count": 42,
   "outputs": []
  },
  {
   "cell_type": "code",
   "source": [],
   "metadata": {
    "id": "Ejx60R4f1Cro",
    "executionInfo": {
     "status": "ok",
     "timestamp": 1663251483829,
     "user_tz": -120,
     "elapsed": 66403,
     "user": {
      "displayName": "Laurenz Wurdinger",
      "userId": "00707038666413498638"
     }
    }
   },
   "execution_count": 43,
   "outputs": []
  },
  {
   "cell_type": "code",
   "source": [
    "write_file('features/combined_RankLib/train_fold1_KIBA.txt', kiba_fold1, ssaf_drugs_KIBA, asaf_drugs_KIBA, gaaf_drugs_KIBA, aaaf_drugs_KIBA, ssaf_targets_KIBA, asaf_targets_KIBA, gaaf_targets_KIBA, aaaf_targets_KIBA)\n",
    "write_file('features/combined_RankLib/train_fold2_KIBA.txt', kiba_fold2, ssaf_drugs_KIBA, asaf_drugs_KIBA, gaaf_drugs_KIBA, aaaf_drugs_KIBA, ssaf_targets_KIBA, asaf_targets_KIBA, gaaf_targets_KIBA, aaaf_targets_KIBA)\n",
    "write_file('features/combined_RankLib/train_fold3_KIBA.txt', kiba_fold3, ssaf_drugs_KIBA, asaf_drugs_KIBA, gaaf_drugs_KIBA, aaaf_drugs_KIBA, ssaf_targets_KIBA, asaf_targets_KIBA, gaaf_targets_KIBA, aaaf_targets_KIBA)\n",
    "write_file('features/combined_RankLib/train_fold4_KIBA.txt', kiba_fold4, ssaf_drugs_KIBA, asaf_drugs_KIBA, gaaf_drugs_KIBA, aaaf_drugs_KIBA, ssaf_targets_KIBA, asaf_targets_KIBA, gaaf_targets_KIBA, aaaf_targets_KIBA)\n",
    "write_file('features/combined_RankLib/train_fold5_KIBA.txt', kiba_fold5, ssaf_drugs_KIBA, asaf_drugs_KIBA, gaaf_drugs_KIBA, aaaf_drugs_KIBA, ssaf_targets_KIBA, asaf_targets_KIBA, gaaf_targets_KIBA, aaaf_targets_KIBA)"
   ],
   "metadata": {
    "id": "e_JTbV-ixsmW",
    "executionInfo": {
     "status": "ok",
     "timestamp": 1663251715672,
     "user_tz": -120,
     "elapsed": 231909,
     "user": {
      "displayName": "Laurenz Wurdinger",
      "userId": "00707038666413498638"
     }
    }
   },
   "execution_count": 44,
   "outputs": []
  },
  {
   "cell_type": "code",
   "source": [
    "write_file('test_KIBA_Ner.txt', kiba_test, ssaf_drugs_KIBA, asaf_drugs_KIBA, gaaf_drugs_KIBA, aaaf_drugs_KIBA, ssaf_targets_KIBA, asaf_targets_KIBA, gaaf_targets_KIBA, aaaf_targets_KIBA)"
   ],
   "metadata": {
    "id": "sVqeRoAN1pSb",
    "executionInfo": {
     "status": "ok",
     "timestamp": 1663251759478,
     "user_tz": -120,
     "elapsed": 43878,
     "user": {
      "displayName": "Laurenz Wurdinger",
      "userId": "00707038666413498638"
     }
    }
   },
   "execution_count": 45,
   "outputs": []
  },
  {
   "cell_type": "code",
   "source": [],
   "metadata": {
    "id": "35ck0WWi1pSd",
    "executionInfo": {
     "status": "ok",
     "timestamp": 1663251772298,
     "user_tz": -120,
     "elapsed": 12886,
     "user": {
      "displayName": "Laurenz Wurdinger",
      "userId": "00707038666413498638"
     }
    }
   },
   "execution_count": 46,
   "outputs": []
  },
  {
   "cell_type": "markdown",
   "source": [
    "#Only features without RankLib format"
   ],
   "metadata": {
    "id": "eLi1ugvO2iRh"
   }
  },
  {
   "cell_type": "markdown",
   "source": [
    "##Write file with Drugs and Targets combined"
   ],
   "metadata": {
    "id": "2zUOKgeA2uaz"
   }
  },
  {
   "cell_type": "code",
   "source": [
    "def write_file_RAW(outpath:str, dataframe, ssaf_drugs, asaf_drugs, gaaf_drugs, aaaf_drugs, ssaf_targets, asaf_targets, gaaf_targets, aaaf_targets):\n",
    "  with open(outpath, 'w') as f:\n",
    "      for index, row in dataframe.iterrows():\n",
    "        #DRUGS\n",
    "        #ssaf\n",
    "        ssaf_dict = {'mean', 'median', '75q', '85q', '95q'}\n",
    "        for entry in ssaf_dict:\n",
    "          f.write(str(ssaf_drugs[entry][row['drug_ID']]))\n",
    "          f.write(' ')\n",
    "        #asaf\n",
    "        asaf_dict ={'mean_1','mean_2','number','mode','25q','50q','75q'}\n",
    "        for entry in asaf_dict:\n",
    "          f.write(str(asaf_drugs[entry][row['drug_ID']]))\n",
    "          f.write(' ')\n",
    "        for el in asaf_drugs['5_high'][row['drug_ID']]:\n",
    "          f.write(str(el))\n",
    "          f.write(' ')\n",
    "        for el in asaf_drugs['5_low'][row['drug_ID']]:\n",
    "          f.write(str(el))\n",
    "          f.write(' ')\n",
    "        #gaaf\n",
    "        gaaf_dict ={'min','max','upper_q','median','lower_q','mean','mode'}\n",
    "        for entry in gaaf_dict:\n",
    "          f.write(str(gaaf_drugs[entry][row['drug_ID']]))\n",
    "          f.write(' ')\n",
    "        #aaaf\n",
    "        for el in aaaf_drugs[int(row['drug_ID'])]:\n",
    "          f.write(str(el))\n",
    "          f.write(' ')\n",
    "\n",
    "        #Targets\n",
    "        #ssaf\n",
    "        ssaf_dict = {'mean', 'median', '75q', '85q', '95q'}\n",
    "        for entry in ssaf_dict:\n",
    "          f.write(str(ssaf_targets[entry][row['target_ID']]))\n",
    "          f.write(' ')\n",
    "        #asaf\n",
    "        asaf_dict ={'mean_1','mean_2','number','mode','25q','50q','75q'}\n",
    "        for entry in asaf_dict:\n",
    "          f.write(str(asaf_targets[entry][row['target_ID']]))\n",
    "          f.write(' ')\n",
    "\n",
    "        for el in asaf_targets['5_high'][row['target_ID']]:\n",
    "          f.write(str(el))\n",
    "          f.write(' ')\n",
    "        for el in asaf_targets['5_low'][row['target_ID']]:\n",
    "          f.write(str(el))\n",
    "          f.write(' ')\n",
    "        #gaaf\n",
    "        gaaf_dict ={'min','max','upper_q','median','lower_q','mean','mode'}\n",
    "        for entry in gaaf_dict:\n",
    "          f.write(str(gaaf_targets[entry][row['target_ID']]))\n",
    "          f.write(' ')\n",
    "        #aaaf\n",
    "        for el in aaaf_targets[int(row['target_ID'])]:\n",
    "          f.write(str(el))\n",
    "          f.write(' ')\n",
    "        f.write('\\n')\n",
    "      "
   ],
   "metadata": {
    "id": "1Jw8rimny2rA",
    "executionInfo": {
     "status": "ok",
     "timestamp": 1663251772300,
     "user_tz": -120,
     "elapsed": 8,
     "user": {
      "displayName": "Laurenz Wurdinger",
      "userId": "00707038666413498638"
     }
    }
   },
   "execution_count": 47,
   "outputs": []
  },
  {
   "cell_type": "code",
   "source": [
    "write_file_RAW('features/train_features_KIBA.txt', kiba_train, ssaf_drugs_KIBA, asaf_drugs_KIBA, gaaf_drugs_KIBA, aaaf_drugs_KIBA, ssaf_targets_KIBA, asaf_targets_KIBA, gaaf_targets_KIBA, aaaf_targets_KIBA)"
   ],
   "metadata": {
    "executionInfo": {
     "status": "ok",
     "timestamp": 1663251941174,
     "user_tz": -120,
     "elapsed": 168880,
     "user": {
      "displayName": "Laurenz Wurdinger",
      "userId": "00707038666413498638"
     }
    },
    "id": "rITuxwiMzVBr"
   },
   "execution_count": 48,
   "outputs": []
  },
  {
   "cell_type": "code",
   "source": [
    "write_file_RAW('features/combined/train_fold1_KIBA.txt', kiba_fold1, ssaf_drugs_KIBA, asaf_drugs_KIBA, gaaf_drugs_KIBA, aaaf_drugs_KIBA, ssaf_targets_KIBA, asaf_targets_KIBA, gaaf_targets_KIBA, aaaf_targets_KIBA)\n",
    "write_file_RAW('features/combined/train_fold2_KIBA.txt', kiba_fold2, ssaf_drugs_KIBA, asaf_drugs_KIBA, gaaf_drugs_KIBA, aaaf_drugs_KIBA, ssaf_targets_KIBA, asaf_targets_KIBA, gaaf_targets_KIBA, aaaf_targets_KIBA)\n",
    "write_file_RAW('features/combined/train_fold3_KIBA.txt', kiba_fold3, ssaf_drugs_KIBA, asaf_drugs_KIBA, gaaf_drugs_KIBA, aaaf_drugs_KIBA, ssaf_targets_KIBA, asaf_targets_KIBA, gaaf_targets_KIBA, aaaf_targets_KIBA)\n",
    "write_file_RAW('features/combined/train_fold4_KIBA.txt', kiba_fold4, ssaf_drugs_KIBA, asaf_drugs_KIBA, gaaf_drugs_KIBA, aaaf_drugs_KIBA, ssaf_targets_KIBA, asaf_targets_KIBA, gaaf_targets_KIBA, aaaf_targets_KIBA)\n",
    "write_file_RAW('features/combined/train_fold5_KIBA.txt', kiba_fold5, ssaf_drugs_KIBA, asaf_drugs_KIBA, gaaf_drugs_KIBA, aaaf_drugs_KIBA, ssaf_targets_KIBA, asaf_targets_KIBA, gaaf_targets_KIBA, aaaf_targets_KIBA)"
   ],
   "metadata": {
    "id": "SNMlqDwsP1EY",
    "executionInfo": {
     "status": "ok",
     "timestamp": 1663252124038,
     "user_tz": -120,
     "elapsed": 182955,
     "user": {
      "displayName": "Laurenz Wurdinger",
      "userId": "00707038666413498638"
     }
    }
   },
   "execution_count": 49,
   "outputs": []
  },
  {
   "cell_type": "code",
   "source": [],
   "metadata": {
    "executionInfo": {
     "status": "ok",
     "timestamp": 1663252169957,
     "user_tz": -120,
     "elapsed": 45986,
     "user": {
      "displayName": "Laurenz Wurdinger",
      "userId": "00707038666413498638"
     }
    },
    "id": "IDFjs2hYzVBs"
   },
   "execution_count": 50,
   "outputs": []
  },
  {
   "cell_type": "code",
   "source": [
    "write_file_RAW('features/test_features_KIBA.txt', kiba_test, ssaf_drugs_KIBA, asaf_drugs_KIBA, gaaf_drugs_KIBA, aaaf_drugs_KIBA, ssaf_targets_KIBA, asaf_targets_KIBA, gaaf_targets_KIBA, aaaf_targets_KIBA)"
   ],
   "metadata": {
    "executionInfo": {
     "status": "ok",
     "timestamp": 1663252205314,
     "user_tz": -120,
     "elapsed": 35361,
     "user": {
      "displayName": "Laurenz Wurdinger",
      "userId": "00707038666413498638"
     }
    },
    "id": "wOf_MXFgzVBt"
   },
   "execution_count": 51,
   "outputs": []
  },
  {
   "cell_type": "code",
   "source": [],
   "metadata": {
    "executionInfo": {
     "status": "ok",
     "timestamp": 1663252215738,
     "user_tz": -120,
     "elapsed": 10426,
     "user": {
      "displayName": "Laurenz Wurdinger",
      "userId": "00707038666413498638"
     }
    },
    "id": "DuOAxZVXzVBu"
   },
   "execution_count": 52,
   "outputs": []
  },
  {
   "cell_type": "markdown",
   "source": [
    "#Write file with Drugs and Targets split"
   ],
   "metadata": {
    "id": "6WYLSr8Q-9ic"
   }
  },
  {
   "cell_type": "code",
   "source": [
    "def write_file_RAW_drugs(outpath:str, dataframe, ssaf, asaf, gaaf, aaaf):\n",
    "  with open(outpath, 'w') as f:\n",
    "      for index, row in dataframe.iterrows():\n",
    "        #DRUGS\n",
    "        #ssaf\n",
    "        ssaf_dict = {'mean', 'median', '75q', '85q', '95q'}\n",
    "        for entry in ssaf_dict:\n",
    "          f.write(str(ssaf[entry][row['drug_ID']]))\n",
    "          f.write(' ')\n",
    "        #asaf\n",
    "        asaf_dict ={'mean_1','mean_2','number','mode','25q','50q','75q'}\n",
    "        for entry in asaf_dict:\n",
    "          f.write(str(asaf[entry][row['drug_ID']]))\n",
    "          f.write(' ')\n",
    "        for el in asaf['5_high'][row['drug_ID']]:\n",
    "          f.write(str(el))\n",
    "          f.write(' ')\n",
    "        for el in asaf['5_low'][row['drug_ID']]:\n",
    "          f.write(str(el))\n",
    "          f.write(' ')\n",
    "        #gaaf\n",
    "        gaaf_dict ={'min','max','upper_q','median','lower_q','mean','mode'}\n",
    "        for entry in gaaf_dict:\n",
    "          f.write(str(gaaf[entry][row['drug_ID']]))\n",
    "          f.write(' ')\n",
    "        #aaaf\n",
    "        for el in aaaf[int(row['drug_ID'])]:\n",
    "          f.write(str(el))\n",
    "          f.write(' ')\n",
    "        f.write('\\n')\n",
    "\n",
    "def write_file_RAW_targets(outpath:str, dataframe, ssaf, asaf, gaaf, aaaf):\n",
    "  with open(outpath, 'w') as f:\n",
    "      for index, row in dataframe.iterrows():\n",
    "        #DRUGS\n",
    "        #ssaf\n",
    "        ssaf_dict = {'mean', 'median', '75q', '85q', '95q'}\n",
    "        for entry in ssaf_dict:\n",
    "          f.write(str(ssaf[entry][row['target_ID']]))\n",
    "          f.write(' ')\n",
    "        #asaf\n",
    "        asaf_dict ={'mean_1','mean_2','number','mode','25q','50q','75q'}\n",
    "        for entry in asaf_dict:\n",
    "          f.write(str(asaf[entry][row['target_ID']]))\n",
    "          f.write(' ')\n",
    "        for el in asaf['5_high'][row['target_ID']]:\n",
    "          f.write(str(el))\n",
    "          f.write(' ')\n",
    "        for el in asaf['5_low'][row['target_ID']]:\n",
    "          f.write(str(el))\n",
    "          f.write(' ')\n",
    "        #gaaf\n",
    "        gaaf_dict ={'min','max','upper_q','median','lower_q','mean','mode'}\n",
    "        for entry in gaaf_dict:\n",
    "          f.write(str(gaaf[entry][row['target_ID']]))\n",
    "          f.write(' ')\n",
    "        #aaaf\n",
    "        for el in aaaf[int(row['target_ID'])]:\n",
    "          f.write(str(el))\n",
    "          f.write(' ')\n",
    "        f.write('\\n')\n",
    "      "
   ],
   "metadata": {
    "id": "HyINRbvk2qqb",
    "executionInfo": {
     "status": "ok",
     "timestamp": 1663252215739,
     "user_tz": -120,
     "elapsed": 5,
     "user": {
      "displayName": "Laurenz Wurdinger",
      "userId": "00707038666413498638"
     }
    }
   },
   "execution_count": 53,
   "outputs": []
  },
  {
   "cell_type": "code",
   "source": [
    "write_file_RAW_drugs('features/drugs/train_fold1_KIBA.txt', kiba_fold1, ssaf_drugs_KIBA, asaf_drugs_KIBA, gaaf_drugs_KIBA, aaaf_drugs_KIBA)\n",
    "write_file_RAW_drugs('features/drugs/train_fold2_KIBA.txt', kiba_fold2, ssaf_drugs_KIBA, asaf_drugs_KIBA, gaaf_drugs_KIBA, aaaf_drugs_KIBA)\n",
    "write_file_RAW_drugs('features/drugs/train_fold3_KIBA.txt', kiba_fold3, ssaf_drugs_KIBA, asaf_drugs_KIBA, gaaf_drugs_KIBA, aaaf_drugs_KIBA)\n",
    "write_file_RAW_drugs('features/drugs/train_fold4_KIBA.txt', kiba_fold4, ssaf_drugs_KIBA, asaf_drugs_KIBA, gaaf_drugs_KIBA, aaaf_drugs_KIBA)\n",
    "write_file_RAW_drugs('features/drugs/train_fold5_KIBA.txt', kiba_fold5, ssaf_drugs_KIBA, asaf_drugs_KIBA, gaaf_drugs_KIBA, aaaf_drugs_KIBA)"
   ],
   "metadata": {
    "executionInfo": {
     "status": "ok",
     "timestamp": 1663252308074,
     "user_tz": -120,
     "elapsed": 92339,
     "user": {
      "displayName": "Laurenz Wurdinger",
      "userId": "00707038666413498638"
     }
    },
    "id": "3vngnTyj_Wz8"
   },
   "execution_count": 54,
   "outputs": []
  },
  {
   "cell_type": "code",
   "source": [
    "write_file_RAW_targets('features/targets/train_fold1_KIBA.txt', kiba_fold1, ssaf_targets_KIBA, asaf_targets_KIBA, gaaf_targets_KIBA, aaaf_targets_KIBA)\n",
    "write_file_RAW_targets('features/targets/train_fold2_KIBA.txt', kiba_fold2, ssaf_targets_KIBA, asaf_targets_KIBA, gaaf_targets_KIBA, aaaf_targets_KIBA)\n",
    "write_file_RAW_targets('features/targets/train_fold3_KIBA.txt', kiba_fold3, ssaf_targets_KIBA, asaf_targets_KIBA, gaaf_targets_KIBA, aaaf_targets_KIBA)\n",
    "write_file_RAW_targets('features/targets/train_fold4_KIBA.txt', kiba_fold4, ssaf_targets_KIBA, asaf_targets_KIBA, gaaf_targets_KIBA, aaaf_targets_KIBA)\n",
    "write_file_RAW_targets('features/targets/train_fold5_KIBA.txt', kiba_fold5, ssaf_targets_KIBA, asaf_targets_KIBA, gaaf_targets_KIBA, aaaf_targets_KIBA)"
   ],
   "metadata": {
    "id": "eYNsDE_gANul",
    "executionInfo": {
     "status": "ok",
     "timestamp": 1663252397757,
     "user_tz": -120,
     "elapsed": 89748,
     "user": {
      "displayName": "Laurenz Wurdinger",
      "userId": "00707038666413498638"
     }
    }
   },
   "execution_count": 55,
   "outputs": []
  },
  {
   "cell_type": "code",
   "source": [
    "write_file_RAW_drugs('features/drugs/test_KIBA.txt', kiba_test, ssaf_drugs_KIBA, asaf_drugs_KIBA, gaaf_drugs_KIBA, aaaf_drugs_KIBA)\n",
    "write_file_RAW_targets('features/targets/test_KIBA.txt', kiba_test, ssaf_targets_KIBA, asaf_targets_KIBA, gaaf_targets_KIBA, aaaf_targets_KIBA)"
   ],
   "metadata": {
    "executionInfo": {
     "status": "ok",
     "timestamp": 1663252435647,
     "user_tz": -120,
     "elapsed": 37961,
     "user": {
      "displayName": "Laurenz Wurdinger",
      "userId": "00707038666413498638"
     }
    },
    "id": "XJWGl3j4Bf1e"
   },
   "execution_count": 56,
   "outputs": []
  },
  {
   "cell_type": "code",
   "source": [],
   "metadata": {
    "id": "L7l-9VrhCs3X",
    "executionInfo": {
     "status": "ok",
     "timestamp": 1663252435649,
     "user_tz": -120,
     "elapsed": 20,
     "user": {
      "displayName": "Laurenz Wurdinger",
      "userId": "00707038666413498638"
     }
    }
   },
   "execution_count": 56,
   "outputs": []
  }
 ]
}
