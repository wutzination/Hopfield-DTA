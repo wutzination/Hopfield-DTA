{
 "nbformat": 4,
 "nbformat_minor": 0,
 "metadata": {
  "colab": {
   "provenance": [],
   "machine_shape": "hm",
   "authorship_tag": "ABX9TyMC9MYb+LcfV1LE8piyErVe"
  },
  "kernelspec": {
   "name": "python3",
   "display_name": "Python 3"
  },
  "language_info": {
   "name": "python"
  },
  "gpuClass": "standard"
 },
 "cells": [
  {
   "cell_type": "code",
   "execution_count": 1,
   "metadata": {
    "colab": {
     "base_uri": "https://localhost:8080/"
    },
    "id": "zgoXcN5MWzKZ",
    "executionInfo": {
     "status": "ok",
     "timestamp": 1662276709311,
     "user_tz": -120,
     "elapsed": 14909,
     "user": {
      "displayName": "Laurenz Wurdinger",
      "userId": "00707038666413498638"
     }
    },
    "outputId": "4d023e64-1be9-4a05-c28a-9bf2c052d30c"
   },
   "outputs": [
    {
     "output_type": "stream",
     "name": "stdout",
     "text": [
      "Mounted at /content/gdrive\n"
     ]
    }
   ],
   "source": []
  },
  {
   "cell_type": "code",
   "source": [
    "#Connect to data folder of NerLTR-DTA\n",
    "root_path = '/data/'\n",
    "import os\n",
    "os.chdir(root_path)\n",
    "!pwd"
   ],
   "metadata": {
    "colab": {
     "base_uri": "https://localhost:8080/"
    },
    "id": "NoPFcXYIW5Da",
    "executionInfo": {
     "status": "ok",
     "timestamp": 1662276709943,
     "user_tz": -120,
     "elapsed": 640,
     "user": {
      "displayName": "Laurenz Wurdinger",
      "userId": "00707038666413498638"
     }
    },
    "outputId": "c51c1b08-ba24-4755-d56c-e295a9875409"
   },
   "execution_count": 2,
   "outputs": [
    {
     "output_type": "stream",
     "name": "stdout",
     "text": [
      "/content/gdrive/My Drive/KI JKU/Seminar_PracticalW_MasterThesis/MasterThesis/NerLTR/data\n"
     ]
    }
   ]
  },
  {
   "cell_type": "code",
   "source": [
    "import numpy as np\n",
    "import pandas as pd\n",
    "import pickle\n",
    "\n",
    "#https://www.journaldev.com/45109/normalize-data-in-python\n",
    "#https://scikit-learn.org/stable/modules/generated/sklearn.preprocessing.MinMaxScaler.html#sklearn.preprocessing.MinMaxScaler\n",
    "from sklearn import preprocessing"
   ],
   "metadata": {
    "id": "44sCIOuXXHnm",
    "executionInfo": {
     "status": "ok",
     "timestamp": 1662287912679,
     "user_tz": -120,
     "elapsed": 229,
     "user": {
      "displayName": "Laurenz Wurdinger",
      "userId": "00707038666413498638"
     }
    }
   },
   "execution_count": 49,
   "outputs": []
  },
  {
   "cell_type": "markdown",
   "source": [
    "Data only processed for the KIBA dataset as this will be the focus of the Master Thesis"
   ],
   "metadata": {
    "id": "04pEV5ltXksv"
   }
  },
  {
   "cell_type": "markdown",
   "source": [
    "#Load Data"
   ],
   "metadata": {
    "id": "7Vz3008BXCn8"
   }
  },
  {
   "cell_type": "code",
   "source": [
    "#paths\n",
    "path_train_fold1_drugs = 'features/drugs/train_fold1_KIBA.txt'\n",
    "path_train_fold2_drugs = 'features/drugs/train_fold2_KIBA.txt'\n",
    "path_train_fold3_drugs = 'features/drugs/train_fold3_KIBA.txt'\n",
    "path_train_fold4_drugs = 'features/drugs/train_fold4_KIBA.txt'\n",
    "path_train_fold5_drugs = 'features/drugs/train_fold5_KIBA.txt'\n",
    "path_test_drugs = 'features/drugs/test_KIBA.txt'\n",
    "\n",
    "path_train_fold1_targets = 'features/targets/train_fold1_KIBA.txt'\n",
    "path_train_fold2_targets = 'features/targets/train_fold2_KIBA.txt'\n",
    "path_train_fold3_targets = 'features/targets/train_fold3_KIBA.txt'\n",
    "path_train_fold4_targets = 'features/targets/train_fold4_KIBA.txt'\n",
    "path_train_fold5_targets = 'features/targets/train_fold5_KIBA.txt'\n",
    "path_test_targets = 'features/targets/test_KIBA.txt'"
   ],
   "metadata": {
    "id": "2ywhH9caW7Va",
    "executionInfo": {
     "status": "ok",
     "timestamp": 1662287336881,
     "user_tz": -120,
     "elapsed": 226,
     "user": {
      "displayName": "Laurenz Wurdinger",
      "userId": "00707038666413498638"
     }
    }
   },
   "execution_count": 36,
   "outputs": []
  },
  {
   "cell_type": "code",
   "source": [
    "#load features\n",
    "def get_feature_list(inpath:str):\n",
    "  feature_list = []\n",
    "  with open(inpath) as f:\n",
    "    for line in f:\n",
    "      split=line.split()\n",
    "      a_list=[]\n",
    "      for el in split:\n",
    "        a_list.append(float(el))\n",
    "      feature_list.append(a_list)\n",
    "  return feature_list\n",
    "\n",
    "#folds drugs\n",
    "train_fold1_drugs=get_feature_list(path_train_fold1_drugs)\n",
    "train_fold2_drugs=get_feature_list(path_train_fold2_drugs)\n",
    "train_fold3_drugs=get_feature_list(path_train_fold3_drugs)\n",
    "train_fold4_drugs=get_feature_list(path_train_fold4_drugs)\n",
    "train_fold5_drugs=get_feature_list(path_train_fold5_drugs)\n",
    "test_drugs=get_feature_list(path_test_drugs)\n",
    "#folds drugs\n",
    "train_fold1_targets=get_feature_list(path_train_fold1_targets)\n",
    "train_fold2_targets=get_feature_list(path_train_fold2_targets)\n",
    "train_fold3_targets=get_feature_list(path_train_fold3_targets)\n",
    "train_fold4_targets=get_feature_list(path_train_fold4_targets)\n",
    "train_fold5_targets=get_feature_list(path_train_fold5_targets)\n",
    "test_targets=get_feature_list(path_test_targets)"
   ],
   "metadata": {
    "id": "44gJAAX_XFSB",
    "executionInfo": {
     "status": "ok",
     "timestamp": 1662287539164,
     "user_tz": -120,
     "elapsed": 46644,
     "user": {
      "displayName": "Laurenz Wurdinger",
      "userId": "00707038666413498638"
     }
    }
   },
   "execution_count": 37,
   "outputs": []
  },
  {
   "cell_type": "markdown",
   "source": [
    "#Create lists for training and test"
   ],
   "metadata": {
    "id": "wCSN_wHhYo9v"
   }
  },
  {
   "cell_type": "code",
   "source": [
    "#trainig data\n",
    "train_drugs = train_fold1_drugs+train_fold2_drugs+train_fold3_drugs+train_fold4_drugs\n",
    "val_drugs = train_fold5_drugs\n",
    "\n",
    "#test data\n",
    "train_targets = train_fold1_targets+train_fold2_targets+train_fold3_targets+train_fold4_targets\n",
    "val_targets = train_fold5_targets"
   ],
   "metadata": {
    "id": "ejTLp_2zYBs6",
    "executionInfo": {
     "status": "ok",
     "timestamp": 1662287539165,
     "user_tz": -120,
     "elapsed": 8,
     "user": {
      "displayName": "Laurenz Wurdinger",
      "userId": "00707038666413498638"
     }
    }
   },
   "execution_count": 38,
   "outputs": []
  },
  {
   "cell_type": "markdown",
   "source": [
    "#Scale Data"
   ],
   "metadata": {
    "id": "_VhczOceZh4j"
   }
  },
  {
   "cell_type": "code",
   "source": [
    "#create scaler\n",
    "scaler_drugs = preprocessing.StandardScaler()\n",
    "scaler_drugs.fit(train_drugs)\n",
    "\n",
    "scaler_targets = preprocessing.StandardScaler()\n",
    "scaler_targets.fit(train_drugs)"
   ],
   "metadata": {
    "colab": {
     "base_uri": "https://localhost:8080/"
    },
    "id": "SDm1K0BsZQVb",
    "executionInfo": {
     "status": "ok",
     "timestamp": 1662287579877,
     "user_tz": -120,
     "elapsed": 2368,
     "user": {
      "displayName": "Laurenz Wurdinger",
      "userId": "00707038666413498638"
     }
    },
    "outputId": "6aceb87e-954a-4c5d-8f2a-77f06693af34"
   },
   "execution_count": 40,
   "outputs": [
    {
     "output_type": "execute_result",
     "data": {
      "text/plain": [
       "StandardScaler()"
      ]
     },
     "metadata": {},
     "execution_count": 40
    }
   ]
  },
  {
   "cell_type": "code",
   "source": [
    "#fit scaler\n",
    "train_drug_scaled=scaler_drugs.transform(train_drugs)\n",
    "val_drug_scaled=scaler_drugs.transform(val_drugs)\n",
    "test_drug_scaled=scaler_drugs.transform(test_drugs)\n",
    "\n",
    "train_targets_scaled=scaler_targets.transform(train_targets)\n",
    "val_targets_scaled=scaler_targets.transform(val_targets)\n",
    "test_targets_scaled=scaler_targets.transform(test_targets)"
   ],
   "metadata": {
    "id": "1GRXtp9Ya2Iy",
    "executionInfo": {
     "status": "ok",
     "timestamp": 1662287592389,
     "user_tz": -120,
     "elapsed": 11160,
     "user": {
      "displayName": "Laurenz Wurdinger",
      "userId": "00707038666413498638"
     }
    }
   },
   "execution_count": 41,
   "outputs": []
  },
  {
   "cell_type": "code",
   "source": [
    "#drugs\n",
    "with open('features/drugs/train_scaled.txt', \"wb\") as fp:  \n",
    "    pickle.dump(train_drug_scaled, fp)\n",
    "with open('features/drugs/val_scaled.txt', \"wb\") as fp:  \n",
    "    pickle.dump(val_drug_scaled, fp)\n",
    "with open('features/drugs/test_scaled.txt', \"wb\") as fp:  \n",
    "    pickle.dump(test_drug_scaled, fp)\n",
    "#targets\n",
    "with open('features/targets/train_scaled.txt', \"wb\") as fp:  \n",
    "    pickle.dump(train_targets_scaled, fp)\n",
    "with open('features/targets/val_scaled.txt', \"wb\") as fp:  \n",
    "    pickle.dump(val_targets_scaled, fp)\n",
    "with open('features/targets/test_scaled.txt', \"wb\") as fp:  \n",
    "    pickle.dump(test_targets_scaled, fp)"
   ],
   "metadata": {
    "id": "7sWFKwxJa-hq",
    "executionInfo": {
     "status": "ok",
     "timestamp": 1662288032749,
     "user_tz": -120,
     "elapsed": 5138,
     "user": {
      "displayName": "Laurenz Wurdinger",
      "userId": "00707038666413498638"
     }
    }
   },
   "execution_count": 50,
   "outputs": []
  },
  {
   "cell_type": "code",
   "source": [],
   "metadata": {
    "id": "qu9QSvy4-78r"
   },
   "execution_count": null,
   "outputs": []
  }
 ]
}
