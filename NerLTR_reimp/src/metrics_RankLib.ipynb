{
 "nbformat": 4,
 "nbformat_minor": 0,
 "metadata": {
  "colab": {
   "provenance": [],
   "authorship_tag": "ABX9TyMddlLMReMDAa4Vjan+uQuG"
  },
  "kernelspec": {
   "name": "python3",
   "display_name": "Python 3"
  },
  "language_info": {
   "name": "python"
  }
 },
 "cells": [
  {
   "cell_type": "code",
   "execution_count": 51,
   "metadata": {
    "colab": {
     "base_uri": "https://localhost:8080/"
    },
    "id": "U4U353uXS2Pe",
    "executionInfo": {
     "status": "ok",
     "timestamp": 1686919331237,
     "user_tz": -120,
     "elapsed": 2152,
     "user": {
      "displayName": "Laurenz Wurdinger",
      "userId": "00707038666413498638"
     }
    },
    "outputId": "a4bec3da-1c88-4e14-87cf-5e93fc27b180"
   },
   "outputs": [
    {
     "output_type": "stream",
     "name": "stdout",
     "text": [
      "Drive already mounted at /content/gdrive; to attempt to forcibly remount, call drive.mount(\"/content/gdrive\", force_remount=True).\n"
     ]
    }
   ],
   "source": []
  },
  {
   "cell_type": "code",
   "source": [
    "#Connect to data folder of NerLTR-DTA\n",
    "root_path = '/data/'\n",
    "import os\n",
    "os.chdir(root_path)\n",
    "!pwd"
   ],
   "metadata": {
    "colab": {
     "base_uri": "https://localhost:8080/"
    },
    "id": "KHwdC6aLS4Ce",
    "executionInfo": {
     "status": "ok",
     "timestamp": 1686919331238,
     "user_tz": -120,
     "elapsed": 16,
     "user": {
      "displayName": "Laurenz Wurdinger",
      "userId": "00707038666413498638"
     }
    },
    "outputId": "5a83bf00-f423-423d-d5e1-bfe9775a5ba9"
   },
   "execution_count": 52,
   "outputs": [
    {
     "output_type": "stream",
     "name": "stdout",
     "text": [
      "/content/gdrive/My Drive/KI JKU/Seminar_PracticalW_MasterThesis/MasterThesis/NerLTR/data\n"
     ]
    }
   ]
  },
  {
   "cell_type": "code",
   "source": [
    "\n",
    "import numpy as np\n",
    "import pandas as pd\n",
    "import linecache\n",
    "import math\n",
    "from collections import Counter\n",
    "import pickle\n",
    "from posixpath import split"
   ],
   "metadata": {
    "id": "o24gBHuaTBGm",
    "executionInfo": {
     "status": "ok",
     "timestamp": 1686919331239,
     "user_tz": -120,
     "elapsed": 10,
     "user": {
      "displayName": "Laurenz Wurdinger",
      "userId": "00707038666413498638"
     }
    }
   },
   "execution_count": 53,
   "outputs": []
  },
  {
   "cell_type": "markdown",
   "source": [
    "#Load Data"
   ],
   "metadata": {
    "id": "meJDDjHpTCEJ"
   }
  },
  {
   "cell_type": "code",
   "source": [
    "path_score_KIBA = 'RankLibEval/data_KIBA/test_score_KIBA.txt'\n",
    "path_test_KIBA = 'RankLibEval/data_KIBA/test_KIBA.txt'"
   ],
   "metadata": {
    "id": "pSpZkL9HTBY-",
    "executionInfo": {
     "status": "ok",
     "timestamp": 1686919331240,
     "user_tz": -120,
     "elapsed": 11,
     "user": {
      "displayName": "Laurenz Wurdinger",
      "userId": "00707038666413498638"
     }
    }
   },
   "execution_count": 54,
   "outputs": []
  },
  {
   "cell_type": "code",
   "source": [
    "path_score_KIBA = 'RankLibEval/data_KIBA2/test_score_KIBA2.txt'\n",
    "path_test_KIBA = 'RankLibEval/data_KIBA2/test_KIBA_Ner.txt'"
   ],
   "metadata": {
    "id": "1MHdCVYnSvih",
    "executionInfo": {
     "status": "ok",
     "timestamp": 1686919331241,
     "user_tz": -120,
     "elapsed": 11,
     "user": {
      "displayName": "Laurenz Wurdinger",
      "userId": "00707038666413498638"
     }
    }
   },
   "execution_count": 55,
   "outputs": []
  },
  {
   "cell_type": "code",
   "source": [
    "path_test_KIBA = 'RankLibEval/data_KIBA3/test_KIBA_Ner.txt'\n",
    "path_score_KIBA_1 = 'RankLibEval/data_KIBA3/test_score_KIBA_1.txt'\n",
    "path_score_KIBA_2 = 'RankLibEval/data_KIBA3/test_score_KIBA_3.txt'\n",
    "path_score_KIBA_3 = 'RankLibEval/data_KIBA3/test_score_KIBA_3.txt'"
   ],
   "metadata": {
    "id": "Oye_FZmQLhV8",
    "executionInfo": {
     "status": "ok",
     "timestamp": 1686919331241,
     "user_tz": -120,
     "elapsed": 10,
     "user": {
      "displayName": "Laurenz Wurdinger",
      "userId": "00707038666413498638"
     }
    }
   },
   "execution_count": 56,
   "outputs": []
  },
  {
   "cell_type": "code",
   "source": [
    "#split1\n",
    "path_split1_score = 'RankLibEval/data_KIBA2/split1/val_score_1.txt'\n",
    "path_split1_val = 'RankLibEval/data_KIBA2/split1/val1.txt'\n",
    "path_split1_score_test = 'RankLibEval/data_KIBA2/split1/test_score_1.txt'\n",
    "#split2\n",
    "path_split2_score = 'RankLibEval/data_KIBA2/split2/val_score_2.txt'\n",
    "path_split2_val = 'RankLibEval/data_KIBA2/split2/val2.txt'\n",
    "path_split2_score_test = 'RankLibEval/data_KIBA2/split2/test_score_2.txt'\n",
    "#split1\n",
    "path_split3_score = 'RankLibEval/data_KIBA2/split3/val_score_3.txt'\n",
    "path_split3_val = 'RankLibEval/data_KIBA2/split3/val3.txt'\n",
    "path_split3_score_test = 'RankLibEval/data_KIBA2/split3/test_score_3.txt'\n",
    "#split1\n",
    "path_split4_score = 'RankLibEval/data_KIBA2/split4/val_score_4.txt'\n",
    "path_split4_val = 'RankLibEval/data_KIBA2/split4/val4.txt'\n",
    "path_split4_score_test = 'RankLibEval/data_KIBA2/split4/test_score_4.txt'\n",
    "#split1\n",
    "path_split5_score = 'RankLibEval/data_KIBA2/split5/val_score_5.txt'\n",
    "path_split5_val = 'RankLibEval/data_KIBA2/split5/val5.txt'\n",
    "path_split5_score_test = 'RankLibEval/data_KIBA2/split5/test_score_5.txt'"
   ],
   "metadata": {
    "id": "_uONQTi4_5Iu",
    "executionInfo": {
     "status": "ok",
     "timestamp": 1686919331242,
     "user_tz": -120,
     "elapsed": 11,
     "user": {
      "displayName": "Laurenz Wurdinger",
      "userId": "00707038666413498638"
     }
    }
   },
   "execution_count": 57,
   "outputs": []
  },
  {
   "cell_type": "markdown",
   "source": [
    "##Get Predictions"
   ],
   "metadata": {
    "id": "_nrwqbbdU3Rz"
   }
  },
  {
   "cell_type": "code",
   "source": [
    "#KIBA\n",
    "pred_KIBA = []\n",
    "with open(path_score_KIBA_2) as f:\n",
    "  for line in f:\n",
    "    split=line.split()\n",
    "    pred_score = float(split[2])\n",
    "    pred_KIBA.append(pred_score)\n",
    "\n"
   ],
   "metadata": {
    "id": "iCGg7u_PTMS9",
    "executionInfo": {
     "status": "ok",
     "timestamp": 1686919331693,
     "user_tz": -120,
     "elapsed": 462,
     "user": {
      "displayName": "Laurenz Wurdinger",
      "userId": "00707038666413498638"
     }
    }
   },
   "execution_count": 58,
   "outputs": []
  },
  {
   "cell_type": "code",
   "source": [
    "print(f'Len Prd KIBA: {len(pred_KIBA)}')"
   ],
   "metadata": {
    "colab": {
     "base_uri": "https://localhost:8080/"
    },
    "id": "7jKXqfW7TtdN",
    "executionInfo": {
     "status": "ok",
     "timestamp": 1686919331693,
     "user_tz": -120,
     "elapsed": 11,
     "user": {
      "displayName": "Laurenz Wurdinger",
      "userId": "00707038666413498638"
     }
    },
    "outputId": "a4840f3e-9713-4d01-f5a0-b87b4de164b4"
   },
   "execution_count": 59,
   "outputs": [
    {
     "output_type": "stream",
     "name": "stdout",
     "text": [
      "Len Prd KIBA: 19709\n"
     ]
    }
   ]
  },
  {
   "cell_type": "code",
   "source": [
    "def get_pred_score(input_path):\n",
    "  pred = []\n",
    "  with open(input_path) as f:\n",
    "    for line in f:\n",
    "      split=line.split()\n",
    "      pred_score = float(split[2])\n",
    "      pred.append(pred_score)\n",
    "  return pred\n"
   ],
   "metadata": {
    "id": "LKMIRAcTAcvq",
    "executionInfo": {
     "status": "ok",
     "timestamp": 1686919331694,
     "user_tz": -120,
     "elapsed": 9,
     "user": {
      "displayName": "Laurenz Wurdinger",
      "userId": "00707038666413498638"
     }
    }
   },
   "execution_count": 60,
   "outputs": []
  },
  {
   "cell_type": "code",
   "source": [],
   "metadata": {
    "id": "r4nu1r3aCSpS",
    "executionInfo": {
     "status": "ok",
     "timestamp": 1686919331694,
     "user_tz": -120,
     "elapsed": 7,
     "user": {
      "displayName": "Laurenz Wurdinger",
      "userId": "00707038666413498638"
     }
    }
   },
   "execution_count": 61,
   "outputs": []
  },
  {
   "cell_type": "code",
   "source": [],
   "metadata": {
    "id": "qnhw8w-fDC1t",
    "executionInfo": {
     "status": "ok",
     "timestamp": 1686919331696,
     "user_tz": -120,
     "elapsed": 9,
     "user": {
      "displayName": "Laurenz Wurdinger",
      "userId": "00707038666413498638"
     }
    }
   },
   "execution_count": 62,
   "outputs": []
  },
  {
   "cell_type": "markdown",
   "source": [
    "##Get Truth"
   ],
   "metadata": {
    "id": "k_eG9RtEU6Le"
   }
  },
  {
   "cell_type": "code",
   "source": [
    "#KIBA\n",
    "y_KIBA = []\n",
    "with open(path_test_KIBA) as f:\n",
    "  for line in f:\n",
    "    split=line.split()\n",
    "    pred_score = float(split[0])\n",
    "    y_KIBA.append(pred_score)\n"
   ],
   "metadata": {
    "id": "igCsrzmaUrQe",
    "executionInfo": {
     "status": "ok",
     "timestamp": 1686919333860,
     "user_tz": -120,
     "elapsed": 2172,
     "user": {
      "displayName": "Laurenz Wurdinger",
      "userId": "00707038666413498638"
     }
    }
   },
   "execution_count": 63,
   "outputs": []
  },
  {
   "cell_type": "code",
   "source": [
    "print(f'Len Truth KIBA: {len(y_KIBA)}')"
   ],
   "metadata": {
    "colab": {
     "base_uri": "https://localhost:8080/"
    },
    "id": "KSzMi_gFVBg9",
    "executionInfo": {
     "status": "ok",
     "timestamp": 1686919333861,
     "user_tz": -120,
     "elapsed": 24,
     "user": {
      "displayName": "Laurenz Wurdinger",
      "userId": "00707038666413498638"
     }
    },
    "outputId": "63d49da7-4d30-4c1f-e2c0-132a7c012b89"
   },
   "execution_count": 64,
   "outputs": [
    {
     "output_type": "stream",
     "name": "stdout",
     "text": [
      "Len Truth KIBA: 19709\n"
     ]
    }
   ]
  },
  {
   "cell_type": "code",
   "source": [
    "def get_truth(input_path):\n",
    "  truth = []\n",
    "  with open(input_path) as f:\n",
    "    for line in f:\n",
    "      split=line.split()\n",
    "      pred_score = float(split[0])\n",
    "      truth.append(pred_score)\n",
    "  return truth\n"
   ],
   "metadata": {
    "id": "AC_iah6wBGUM",
    "executionInfo": {
     "status": "ok",
     "timestamp": 1686919333862,
     "user_tz": -120,
     "elapsed": 19,
     "user": {
      "displayName": "Laurenz Wurdinger",
      "userId": "00707038666413498638"
     }
    }
   },
   "execution_count": 65,
   "outputs": []
  },
  {
   "cell_type": "code",
   "source": [],
   "metadata": {
    "id": "YVL_eR6sCZ43",
    "executionInfo": {
     "status": "ok",
     "timestamp": 1686919333862,
     "user_tz": -120,
     "elapsed": 19,
     "user": {
      "displayName": "Laurenz Wurdinger",
      "userId": "00707038666413498638"
     }
    }
   },
   "execution_count": 66,
   "outputs": []
  },
  {
   "cell_type": "code",
   "source": [],
   "metadata": {
    "id": "-O2mG2dfDKXD",
    "executionInfo": {
     "status": "ok",
     "timestamp": 1686919333862,
     "user_tz": -120,
     "elapsed": 19,
     "user": {
      "displayName": "Laurenz Wurdinger",
      "userId": "00707038666413498638"
     }
    }
   },
   "execution_count": 67,
   "outputs": []
  },
  {
   "cell_type": "markdown",
   "source": [
    "#Get IDs"
   ],
   "metadata": {
    "id": "Pz-y4clC4AhR"
   }
  },
  {
   "cell_type": "code",
   "source": [
    "#Affinities\n",
    "path_test_aff_KIBA = 'affi/test_aff_KIBA.pkl'"
   ],
   "metadata": {
    "id": "ujQIKc4w4OXZ",
    "executionInfo": {
     "status": "ok",
     "timestamp": 1686919333862,
     "user_tz": -120,
     "elapsed": 18,
     "user": {
      "displayName": "Laurenz Wurdinger",
      "userId": "00707038666413498638"
     }
    }
   },
   "execution_count": 68,
   "outputs": []
  },
  {
   "cell_type": "code",
   "source": [
    "#test\n",
    "test_affi_KIBA = pd.read_pickle(path_test_aff_KIBA)\n",
    "y_test_KIBA_ID = test_affi_KIBA['target_ID'].tolist()\n"
   ],
   "metadata": {
    "id": "2D4U_1Bc4QVM",
    "executionInfo": {
     "status": "ok",
     "timestamp": 1686919333863,
     "user_tz": -120,
     "elapsed": 19,
     "user": {
      "displayName": "Laurenz Wurdinger",
      "userId": "00707038666413498638"
     }
    }
   },
   "execution_count": 69,
   "outputs": []
  },
  {
   "cell_type": "markdown",
   "source": [
    "##Metrics"
   ],
   "metadata": {
    "id": "qOICO9o3V2r5"
   }
  },
  {
   "cell_type": "code",
   "source": [
    "# install lifelines\n",
    "!pip install -q lifelines\n",
    "from lifelines.utils import concordance_index\n",
    "from sklearn.metrics import mean_squared_error, r2_score"
   ],
   "metadata": {
    "id": "PBgK3PjuVafW",
    "executionInfo": {
     "status": "ok",
     "timestamp": 1686919336906,
     "user_tz": -120,
     "elapsed": 3060,
     "user": {
      "displayName": "Laurenz Wurdinger",
      "userId": "00707038666413498638"
     }
    }
   },
   "execution_count": 70,
   "outputs": []
  },
  {
   "cell_type": "code",
   "source": [
    "def r_squared_error(y_obs,y_pred):\n",
    "    y_obs = np.array(y_obs)\n",
    "    y_pred = np.array(y_pred)\n",
    "    y_obs_mean = [np.mean(y_obs) for y in y_obs]\n",
    "    y_pred_mean = [np.mean(y_pred) for y in y_pred]\n",
    "\n",
    "    mult = sum((y_pred - y_pred_mean) * (y_obs - y_obs_mean))\n",
    "    mult = mult * mult\n",
    "\n",
    "    y_obs_sq = sum((y_obs - y_obs_mean)*(y_obs - y_obs_mean))\n",
    "    y_pred_sq = sum((y_pred - y_pred_mean) * (y_pred - y_pred_mean) )\n",
    "\n",
    "    return mult / float(y_obs_sq * y_pred_sq)\n",
    "def squared_error_zero(y_obs,y_pred):\n",
    "    k = get_k(y_obs,y_pred)\n",
    "\n",
    "    y_obs = np.array(y_obs)\n",
    "    y_pred = np.array(y_pred)\n",
    "    y_obs_mean = [np.mean(y_obs) for y in y_obs]\n",
    "    upp = sum((y_obs - (k*y_pred)) * (y_obs - (k* y_pred)))\n",
    "    down= sum((y_obs - y_obs_mean)*(y_obs - y_obs_mean))\n",
    "\n",
    "    return 1 - (upp / float(down))\n",
    "\n",
    "def get_k(y_obs,y_pred):\n",
    "    y_obs = np.array(y_obs)\n",
    "    y_pred = np.array(y_pred)\n",
    "\n",
    "    return sum(y_obs*y_pred) / float(sum(y_pred*y_pred))\n",
    "def get_rm2(ys_orig,ys_line):\n",
    "    r2 = r_squared_error(ys_orig, ys_line)\n",
    "    r02 = squared_error_zero(ys_orig, ys_line)\n",
    "    return r2 * (1 - np.sqrt(np.absolute((r2*r2)-(r02*r02))))\n",
    "\n",
    "import torch\n",
    "def concordance_index_taskwise(predictions, labels, target_ids):\n",
    "    CIs = list()\n",
    "    target_id_list = list()\n",
    "    predictions = torch.tensor(predictions)\n",
    "    labels = torch.tensor(labels)\n",
    "    target_ids = torch.tensor(target_ids)\n",
    "\n",
    "    for target_idx in torch.unique(target_ids):\n",
    "        rows = torch.where(target_ids == target_idx)\n",
    "        preds = predictions[rows]\n",
    "        y = labels[rows]\n",
    "\n",
    "        if torch.unique(y).shape[0] >= 2:\n",
    "            ci = concordance_index(y, preds)\n",
    "            CIs.append(ci)\n",
    "            target_id_list.append(target_idx.item())\n",
    "        else:\n",
    "            CIs.append(np.nan)\n",
    "            target_id_list.append(target_idx.item())\n",
    "    return np.nanmean(CIs), CIs, target_id_list\n"
   ],
   "metadata": {
    "id": "Gnhm9IKfWbje",
    "executionInfo": {
     "status": "ok",
     "timestamp": 1686919337254,
     "user_tz": -120,
     "elapsed": 352,
     "user": {
      "displayName": "Laurenz Wurdinger",
      "userId": "00707038666413498638"
     }
    }
   },
   "execution_count": 71,
   "outputs": []
  },
  {
   "cell_type": "code",
   "source": [
    "print(\"KIBA\")\n",
    "ci, CIs, _ = concordance_index_taskwise(pred_KIBA, y_KIBA, y_test_KIBA_ID)\n",
    "print(f'Concordance index New:\\t {ci}')\n",
    "#print(f'Concordance index Old:\\t {concordance_index(y_KIBA, pred_KIBA)}')\n",
    "print(f\"MSE\\t\\t：{mean_squared_error(y_KIBA, pred_KIBA)}\")\n",
    "print(f\"rm2\\t\\t：{get_rm2(y_KIBA, pred_KIBA)}\")"
   ],
   "metadata": {
    "colab": {
     "base_uri": "https://localhost:8080/"
    },
    "id": "_uriPmEMV7hk",
    "executionInfo": {
     "status": "ok",
     "timestamp": 1686919338499,
     "user_tz": -120,
     "elapsed": 1248,
     "user": {
      "displayName": "Laurenz Wurdinger",
      "userId": "00707038666413498638"
     }
    },
    "outputId": "d4d0b2b0-a5eb-4ada-cd14-703cf5b2e169"
   },
   "execution_count": 72,
   "outputs": [
    {
     "output_type": "stream",
     "name": "stdout",
     "text": [
      "KIBA\n",
      "Concordance index New:\t 0.8444831598332931\n",
      "MSE\t\t：0.18979772274042064\n",
      "rm2\t\t：0.704343001916262\n"
     ]
    }
   ]
  },
  {
   "cell_type": "code",
   "source": [
    "CIs"
   ],
   "metadata": {
    "colab": {
     "base_uri": "https://localhost:8080/"
    },
    "id": "ImR3lTeE6agf",
    "executionInfo": {
     "status": "ok",
     "timestamp": 1686919338500,
     "user_tz": -120,
     "elapsed": 67,
     "user": {
      "displayName": "Laurenz Wurdinger",
      "userId": "00707038666413498638"
     }
    },
    "outputId": "32396c28-01ac-493b-9577-eea314c09e02"
   },
   "execution_count": 73,
   "outputs": [
    {
     "output_type": "execute_result",
     "data": {
      "text/plain": [
       "[0.6756756756756757,\n",
       " 0.8653846153846154,\n",
       " 0.8174904942965779,\n",
       " 0.8489010989010989,\n",
       " 0.8750959815715382,\n",
       " 0.8792071435580414,\n",
       " 0.7417218543046358,\n",
       " 0.8648270345930814,\n",
       " 0.9542097488921714,\n",
       " 0.72544080604534,\n",
       " 0.8756906077348067,\n",
       " 0.7984097287184284,\n",
       " 0.8330719247143177,\n",
       " 0.9787234042553191,\n",
       " 0.7800891530460624,\n",
       " 0.8333333333333334,\n",
       " 0.7716383772721801,\n",
       " 0.8530600029926679,\n",
       " 0.8999374609130707,\n",
       " 0.9333333333333333,\n",
       " 0.8837423454118514,\n",
       " 0.7936354019746121,\n",
       " 0.8455677655677656,\n",
       " 0.7960291871712201,\n",
       " 0.8895088342209824,\n",
       " 0.771657455132584,\n",
       " 0.8571428571428571,\n",
       " 0.8795063332250731,\n",
       " 0.8433861201676758,\n",
       " 0.9566113998185267,\n",
       " 0.9619016606968415,\n",
       " 0.8549551135363492,\n",
       " 0.859338061465721,\n",
       " 0.8919763806877388,\n",
       " 0.8787755102040816,\n",
       " 0.7881996974281392,\n",
       " 0.8856874044454899,\n",
       " 1.0,\n",
       " 0.8942262186464742,\n",
       " 0.8580743618201998,\n",
       " 0.8130728412928123,\n",
       " 0.8023642732049037,\n",
       " 0.8530670470756063,\n",
       " 0.797971259509721,\n",
       " 0.8562895291637386,\n",
       " 1.0,\n",
       " 0.8228404099560761,\n",
       " 0.7739914808318717,\n",
       " 0.8156410256410257,\n",
       " 0.7240143369175627,\n",
       " 0.8364239926739927,\n",
       " 0.7333333333333333,\n",
       " 0.8695187165775401,\n",
       " 0.8495575221238938,\n",
       " 0.800677966101695,\n",
       " 0.946369388369991,\n",
       " 0.8751939924906132,\n",
       " 0.9127159946832077,\n",
       " 0.8,\n",
       " 0.8636363636363636,\n",
       " 0.9318181818181818,\n",
       " 0.9079184163167366,\n",
       " 0.9384615384615385,\n",
       " 0.8984575835475579,\n",
       " 0.8419964559952746,\n",
       " 0.16666666666666666,\n",
       " 0.9517412935323383,\n",
       " 0.870962768827565,\n",
       " 0.7731958762886598,\n",
       " 0.8298585256887565,\n",
       " 0.8160112359550562,\n",
       " 0.6394633873672443,\n",
       " 1.0,\n",
       " 0.8851030110935024,\n",
       " 0.7862095531587057,\n",
       " 0.5,\n",
       " 0.8537271448663853,\n",
       " 0.8736761320030698,\n",
       " 0.8448630136986301,\n",
       " 0.9015544041450777,\n",
       " 0.8905631945752496,\n",
       " 0.8408857436365712,\n",
       " 0.816247582205029,\n",
       " 0.8687515190796403,\n",
       " nan,\n",
       " 0.8181818181818182,\n",
       " 0.9414893617021277,\n",
       " 0.8258064516129032,\n",
       " 0.764018691588785,\n",
       " 0.6711590296495957,\n",
       " 0.9172932330827067,\n",
       " 0.6,\n",
       " 0.9040511727078892,\n",
       " 0.8,\n",
       " 0.8815948449456303,\n",
       " 0.7890684170663974,\n",
       " 0.825076608784474,\n",
       " 0.8822922044398555,\n",
       " 0.7602838933951332,\n",
       " 0.8419753086419753,\n",
       " 0.8211396728383965,\n",
       " 0.7093081134892981,\n",
       " 1.0,\n",
       " 0.7857142857142857,\n",
       " 0.7778040141676505,\n",
       " 0.8006188006188006,\n",
       " 0.7893430656934307,\n",
       " 0.8733733733733734,\n",
       " 0.8832807570977917,\n",
       " 0.8877908830092445,\n",
       " 0.774712643678161,\n",
       " 0.8074331911071188,\n",
       " 1.0,\n",
       " 0.8262392713259765,\n",
       " 0.8779908365857797,\n",
       " 0.8231740801757276,\n",
       " 0.8117321867321867,\n",
       " 1.0,\n",
       " 0.8314969604863222,\n",
       " 0.7809606481481481,\n",
       " 0.8609434997257268,\n",
       " 0.8875,\n",
       " 0.7575757575757576,\n",
       " 1.0,\n",
       " 0.8590021691973969,\n",
       " 0.7435897435897436,\n",
       " 0.8199239543726236,\n",
       " 0.8751203852327448,\n",
       " 0.7645502645502645,\n",
       " 1.0,\n",
       " 1.0,\n",
       " 0.8554115210554576,\n",
       " 0.9750580046403712,\n",
       " 0.827688651218063,\n",
       " 0.9473684210526315,\n",
       " 1.0,\n",
       " 0.9424311451646303,\n",
       " 0.7958974358974359,\n",
       " 0.8321995464852607,\n",
       " 0.8827785817655571,\n",
       " 0.9744816586921851,\n",
       " 0.9191594376308705,\n",
       " 0.9172235395559388,\n",
       " 0.9171532846715329,\n",
       " 0.8831460674157303,\n",
       " 0.7235169491525424,\n",
       " 0.875222816399287,\n",
       " 1.0,\n",
       " 0.8519226176259852,\n",
       " 0.7959372114496768,\n",
       " nan,\n",
       " 0.8610529705361456,\n",
       " 0.9052132701421801,\n",
       " 0.8182906913445835,\n",
       " 0.8456149455111572,\n",
       " 0.878085949405669,\n",
       " 0.8636828644501279,\n",
       " 0.8471944797530416,\n",
       " 0.9240622140896615,\n",
       " 0.8598979013045944,\n",
       " 0.678417742469381,\n",
       " 0.9700787401574803,\n",
       " 0.9414519906323185,\n",
       " 0.8209277238403452,\n",
       " 1.0,\n",
       " 0.75,\n",
       " 0.9704316972205795,\n",
       " 0.8737331081081081,\n",
       " 0.9090909090909091,\n",
       " 0.9111111111111111,\n",
       " 0.8304530593180757,\n",
       " 1.0,\n",
       " 0.8728443320303518,\n",
       " 0.7292332268370607,\n",
       " 1.0,\n",
       " nan,\n",
       " 0.8325737265415549,\n",
       " 0.7828054298642534,\n",
       " 0.7927090779127949,\n",
       " 0.8289835164835165,\n",
       " 0.8226261360075211,\n",
       " 0.8310507817234275,\n",
       " 0.8565619223659889,\n",
       " 0.8864142538975501,\n",
       " 0.9080118694362018,\n",
       " 0.837166172106825,\n",
       " 0.8414533443435177,\n",
       " 0.747716894977169,\n",
       " 0.7860718585640961,\n",
       " 0.7899910634495085,\n",
       " 0.3333333333333333,\n",
       " 0.8498074454428755,\n",
       " 0.8108108108108109,\n",
       " 0.8,\n",
       " 0.7432558139534884,\n",
       " nan,\n",
       " 0.9333333333333333,\n",
       " 0.9305555555555556,\n",
       " 0.9346879535558781,\n",
       " 0.8477662178702571,\n",
       " 1.0,\n",
       " 0.8339233987769553,\n",
       " 0.8384847780618173,\n",
       " 0.8305304010349288,\n",
       " 0.7718932443703086,\n",
       " 0.8100211363918935,\n",
       " 0.8360511238431027,\n",
       " 0.8525336500395883,\n",
       " 1.0,\n",
       " 0.8768253968253968,\n",
       " 0.9323867478025692,\n",
       " 0.8132593766508188,\n",
       " 0.6984982672314208,\n",
       " 0.7973209085614443,\n",
       " 0.0,\n",
       " 0.9285714285714286,\n",
       " 0.743421052631579,\n",
       " 0.8461538461538461,\n",
       " 0.8900221729490022,\n",
       " 1.0,\n",
       " 0.9777777777777777,\n",
       " 0.8444816053511706,\n",
       " 0.8355403673643742,\n",
       " 0.8950381679389313,\n",
       " 0.8787978863936592,\n",
       " 0.8459357277882797,\n",
       " 0.8461538461538461,\n",
       " 0.7693062025006129,\n",
       " 0.8880439374735952]"
      ]
     },
     "metadata": {},
     "execution_count": 73
    }
   ]
  },
  {
   "cell_type": "code",
   "source": [],
   "metadata": {
    "colab": {
     "base_uri": "https://localhost:8080/",
     "height": 242
    },
    "id": "s1_KU3q6Wsnm",
    "executionInfo": {
     "status": "error",
     "timestamp": 1686919338500,
     "user_tz": -120,
     "elapsed": 64,
     "user": {
      "displayName": "Laurenz Wurdinger",
      "userId": "00707038666413498638"
     }
    },
    "outputId": "51cb97f7-3d16-424a-ee6e-b4ae4ef70606"
   },
   "execution_count": 74,
   "outputs": [
    {
     "output_type": "stream",
     "name": "stdout",
     "text": [
      "Davis\n"
     ]
    },
    {
     "output_type": "error",
     "ename": "NameError",
     "evalue": "ignored",
     "traceback": [
      "\u001B[0;31m---------------------------------------------------------------------------\u001B[0m",
      "\u001B[0;31mNameError\u001B[0m                                 Traceback (most recent call last)",
      "\u001B[0;32m<ipython-input-74-e3a35411770d>\u001B[0m in \u001B[0;36m<cell line: 2>\u001B[0;34m()\u001B[0m\n\u001B[1;32m      1\u001B[0m \u001B[0mprint\u001B[0m\u001B[0;34m(\u001B[0m\u001B[0;34m\"Davis\"\u001B[0m\u001B[0;34m)\u001B[0m\u001B[0;34m\u001B[0m\u001B[0;34m\u001B[0m\u001B[0m\n\u001B[0;32m----> 2\u001B[0;31m \u001B[0mprint\u001B[0m\u001B[0;34m(\u001B[0m\u001B[0;34mf'Concordance index:\\t {concordance_index(y_Davis, pred_Davis)}'\u001B[0m\u001B[0;34m)\u001B[0m\u001B[0;34m\u001B[0m\u001B[0;34m\u001B[0m\u001B[0m\n\u001B[0m\u001B[1;32m      3\u001B[0m \u001B[0mprint\u001B[0m\u001B[0;34m(\u001B[0m\u001B[0;34mf\"MSE\\t\\t：{mean_squared_error(y_Davis, pred_Davis)}\"\u001B[0m\u001B[0;34m)\u001B[0m\u001B[0;34m\u001B[0m\u001B[0;34m\u001B[0m\u001B[0m\n\u001B[1;32m      4\u001B[0m \u001B[0mprint\u001B[0m\u001B[0;34m(\u001B[0m\u001B[0;34mf\"rm2\\t\\t：{get_rm2(y_Davis, pred_Davis)}\"\u001B[0m\u001B[0;34m)\u001B[0m\u001B[0;34m\u001B[0m\u001B[0;34m\u001B[0m\u001B[0m\n",
      "\u001B[0;31mNameError\u001B[0m: name 'y_Davis' is not defined"
     ]
    }
   ]
  },
  {
   "cell_type": "markdown",
   "source": [
    "#Val"
   ],
   "metadata": {
    "id": "7wLbSyNaRDLU"
   }
  },
  {
   "cell_type": "code",
   "source": [
    "print(\"Split1\")\n",
    "print(f'Concordance index:\\t {concordance_index(truth_split1, pred_split1)}')\n",
    "print(f\"MSE\\t\\t：{mean_squared_error(truth_split1, pred_split1)}\")\n",
    "print(f\"rm2\\t\\t：{get_rm2(truth_split1, pred_split1)}\")"
   ],
   "metadata": {
    "id": "Xni-llvr4kPB",
    "executionInfo": {
     "status": "aborted",
     "timestamp": 1686919338501,
     "user_tz": -120,
     "elapsed": 42,
     "user": {
      "displayName": "Laurenz Wurdinger",
      "userId": "00707038666413498638"
     }
    }
   },
   "execution_count": null,
   "outputs": []
  },
  {
   "cell_type": "code",
   "source": [
    "print(\"Split2\")\n",
    "print(f'Concordance index:\\t {concordance_index(truth_split2, pred_split2)}')\n",
    "print(f\"MSE\\t\\t：{mean_squared_error(truth_split2, pred_split2)}\")\n",
    "print(f\"rm2\\t\\t：{get_rm2(truth_split2, pred_split2)}\")"
   ],
   "metadata": {
    "id": "1VfUMQR4Bvzc",
    "executionInfo": {
     "status": "aborted",
     "timestamp": 1686919338502,
     "user_tz": -120,
     "elapsed": 43,
     "user": {
      "displayName": "Laurenz Wurdinger",
      "userId": "00707038666413498638"
     }
    }
   },
   "execution_count": null,
   "outputs": []
  },
  {
   "cell_type": "code",
   "source": [
    "print(\"Split3\")\n",
    "print(f'Concordance index:\\t {concordance_index(truth_split3, pred_split3)}')\n",
    "print(f\"MSE\\t\\t：{mean_squared_error(truth_split3, pred_split3)}\")\n",
    "print(f\"rm2\\t\\t：{get_rm2(truth_split3, pred_split3)}\")"
   ],
   "metadata": {
    "id": "PEpwWKSSB14U",
    "executionInfo": {
     "status": "aborted",
     "timestamp": 1686919338503,
     "user_tz": -120,
     "elapsed": 43,
     "user": {
      "displayName": "Laurenz Wurdinger",
      "userId": "00707038666413498638"
     }
    }
   },
   "execution_count": null,
   "outputs": []
  },
  {
   "cell_type": "code",
   "source": [
    "print(\"Split4\")\n",
    "print(f'Concordance index:\\t {concordance_index(truth_split4, pred_split4)}')\n",
    "print(f\"MSE\\t\\t：{mean_squared_error(truth_split4, pred_split4)}\")\n",
    "print(f\"rm2\\t\\t：{get_rm2(truth_split4, pred_split4)}\")"
   ],
   "metadata": {
    "id": "lA2MtVuMB8Sc",
    "executionInfo": {
     "status": "aborted",
     "timestamp": 1686919338504,
     "user_tz": -120,
     "elapsed": 44,
     "user": {
      "displayName": "Laurenz Wurdinger",
      "userId": "00707038666413498638"
     }
    }
   },
   "execution_count": null,
   "outputs": []
  },
  {
   "cell_type": "code",
   "source": [
    "print(\"Split5\")\n",
    "print(f'Concordance index:\\t {concordance_index(truth_split5, pred_split5)}')\n",
    "print(f\"MSE\\t\\t：{mean_squared_error(truth_split5, pred_split5)}\")\n",
    "print(f\"rm2\\t\\t：{get_rm2(truth_split5, pred_split5)}\")"
   ],
   "metadata": {
    "id": "hnBdS_exCAfs",
    "executionInfo": {
     "status": "aborted",
     "timestamp": 1686919338505,
     "user_tz": -120,
     "elapsed": 45,
     "user": {
      "displayName": "Laurenz Wurdinger",
      "userId": "00707038666413498638"
     }
    }
   },
   "execution_count": null,
   "outputs": []
  },
  {
   "cell_type": "markdown",
   "source": [
    "#Test"
   ],
   "metadata": {
    "id": "8ReCjD4kRGi2"
   }
  },
  {
   "cell_type": "code",
   "source": [
    "print(\"Split1\")\n",
    "print(f'Concordance index:\\t {concordance_index(truth_test, pred_split1_test)}')\n",
    "print(f\"MSE\\t\\t：{mean_squared_error(truth_test, pred_split1_test)}\")\n",
    "print(f\"rm2\\t\\t：{get_rm2(truth_test, pred_split1_test)}\")"
   ],
   "metadata": {
    "executionInfo": {
     "status": "aborted",
     "timestamp": 1686919338506,
     "user_tz": -120,
     "elapsed": 45,
     "user": {
      "displayName": "Laurenz Wurdinger",
      "userId": "00707038666413498638"
     }
    },
    "id": "MixI5fPeRJms"
   },
   "execution_count": null,
   "outputs": []
  },
  {
   "cell_type": "code",
   "source": [
    "print(\"Split2\")\n",
    "print(f'Concordance index:\\t {concordance_index(truth_test, pred_split2_test)}')\n",
    "print(f\"MSE\\t\\t：{mean_squared_error(truth_test, pred_split2_test)}\")\n",
    "print(f\"rm2\\t\\t：{get_rm2(truth_test, pred_split2_test)}\")"
   ],
   "metadata": {
    "executionInfo": {
     "status": "aborted",
     "timestamp": 1686919338506,
     "user_tz": -120,
     "elapsed": 45,
     "user": {
      "displayName": "Laurenz Wurdinger",
      "userId": "00707038666413498638"
     }
    },
    "id": "CFJIsOu9RJmt"
   },
   "execution_count": null,
   "outputs": []
  },
  {
   "cell_type": "code",
   "source": [
    "print(\"Split3\")\n",
    "print(f'Concordance index:\\t {concordance_index(truth_test, pred_split3_test)}')\n",
    "print(f\"MSE\\t\\t：{mean_squared_error(truth_test, pred_split3_test)}\")\n",
    "print(f\"rm2\\t\\t：{get_rm2(truth_test, pred_split3_test)}\")"
   ],
   "metadata": {
    "executionInfo": {
     "status": "aborted",
     "timestamp": 1686919338507,
     "user_tz": -120,
     "elapsed": 44,
     "user": {
      "displayName": "Laurenz Wurdinger",
      "userId": "00707038666413498638"
     }
    },
    "id": "7KM3J0RwRJmu"
   },
   "execution_count": null,
   "outputs": []
  },
  {
   "cell_type": "code",
   "source": [
    "print(\"Split4\")\n",
    "print(f'Concordance index:\\t {concordance_index(truth_test, pred_split4_test)}')\n",
    "print(f\"MSE\\t\\t：{mean_squared_error(truth_test, pred_split4_test)}\")\n",
    "print(f\"rm2\\t\\t：{get_rm2(truth_test, pred_split4_test)}\")"
   ],
   "metadata": {
    "executionInfo": {
     "status": "aborted",
     "timestamp": 1686919338508,
     "user_tz": -120,
     "elapsed": 45,
     "user": {
      "displayName": "Laurenz Wurdinger",
      "userId": "00707038666413498638"
     }
    },
    "id": "jle8zATRRJmu"
   },
   "execution_count": null,
   "outputs": []
  },
  {
   "cell_type": "code",
   "source": [
    "print(\"Split5\")\n",
    "print(f'Concordance index:\\t {concordance_index(truth_test, pred_split5_test)}')\n",
    "print(f\"MSE\\t\\t：{mean_squared_error(truth_test, pred_split5_test)}\")\n",
    "print(f\"rm2\\t\\t：{get_rm2(truth_test, pred_split5_test)}\")"
   ],
   "metadata": {
    "executionInfo": {
     "status": "aborted",
     "timestamp": 1686919338508,
     "user_tz": -120,
     "elapsed": 45,
     "user": {
      "displayName": "Laurenz Wurdinger",
      "userId": "00707038666413498638"
     }
    },
    "id": "Z8SSUh4pRJmw"
   },
   "execution_count": null,
   "outputs": []
  },
  {
   "cell_type": "code",
   "source": [],
   "metadata": {
    "id": "dHmyCNj_CEd1",
    "executionInfo": {
     "status": "aborted",
     "timestamp": 1686919338508,
     "user_tz": -120,
     "elapsed": 45,
     "user": {
      "displayName": "Laurenz Wurdinger",
      "userId": "00707038666413498638"
     }
    }
   },
   "execution_count": null,
   "outputs": []
  }
 ]
}
