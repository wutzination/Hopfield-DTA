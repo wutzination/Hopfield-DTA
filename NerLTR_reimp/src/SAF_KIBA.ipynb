{
 "nbformat": 4,
 "nbformat_minor": 0,
 "metadata": {
  "colab": {
   "name": "SAF_KIBA.ipynb",
   "provenance": [],
   "collapsed_sections": [],
   "authorship_tag": "ABX9TyMR/L5wm0ZsUdT9wXk68dt5"
  },
  "kernelspec": {
   "name": "python3",
   "display_name": "Python 3"
  },
  "language_info": {
   "name": "python"
  }
 },
 "cells": [
  {
   "cell_type": "code",
   "source": [],
   "metadata": {
    "colab": {
     "base_uri": "https://localhost:8080/"
    },
    "id": "eMZHxNMwyvlF",
    "executionInfo": {
     "status": "ok",
     "timestamp": 1658847311128,
     "user_tz": -120,
     "elapsed": 3655,
     "user": {
      "displayName": "Laurenz Wurdinger",
      "userId": "00707038666413498638"
     }
    },
    "outputId": "fd9b57b1-0a22-4a11-c4d2-fd7fd835a120"
   },
   "execution_count": 1,
   "outputs": [
    {
     "output_type": "stream",
     "name": "stdout",
     "text": [
      "Drive already mounted at /content/gdrive; to attempt to forcibly remount, call drive.mount(\"/content/gdrive\", force_remount=True).\n"
     ]
    }
   ]
  },
  {
   "cell_type": "code",
   "source": [
    "root_path = '/data/KIBA/'  #change dir to your project folder\n",
    "import os\n",
    "os.chdir(root_path)\n",
    "!pwd"
   ],
   "metadata": {
    "colab": {
     "base_uri": "https://localhost:8080/"
    },
    "id": "lsglsirhyxDI",
    "executionInfo": {
     "status": "ok",
     "timestamp": 1658847311985,
     "user_tz": -120,
     "elapsed": 859,
     "user": {
      "displayName": "Laurenz Wurdinger",
      "userId": "00707038666413498638"
     }
    },
    "outputId": "61b785d7-349c-49c3-ecdf-a90242bc1d0d"
   },
   "execution_count": 2,
   "outputs": [
    {
     "output_type": "stream",
     "name": "stdout",
     "text": [
      "/content/gdrive/My Drive/KI JKU/Seminar_PracticalW_MasterThesis/MasterThesis/NerLTR/data/KIBA\n"
     ]
    }
   ]
  },
  {
   "cell_type": "code",
   "source": [
    "!python3 --version"
   ],
   "metadata": {
    "colab": {
     "base_uri": "https://localhost:8080/"
    },
    "id": "OlUB3ex24z8s",
    "executionInfo": {
     "status": "ok",
     "timestamp": 1658847311986,
     "user_tz": -120,
     "elapsed": 7,
     "user": {
      "displayName": "Laurenz Wurdinger",
      "userId": "00707038666413498638"
     }
    },
    "outputId": "2e434378-7aa3-4781-e5e5-70d12a45d3f0"
   },
   "execution_count": 3,
   "outputs": [
    {
     "output_type": "stream",
     "name": "stdout",
     "text": [
      "Python 3.7.13\n"
     ]
    }
   ]
  },
  {
   "cell_type": "code",
   "source": [
    "#!/usr/bin/env python\n",
    "# coding: utf-8\n",
    "!pip install numpy==1.17.0\n",
    "!pip install pandas==1.2.3\n",
    "\n",
    "import numpy as np\n",
    "import pandas as pd\n",
    "import linecache\n",
    "import math"
   ],
   "metadata": {
    "colab": {
     "base_uri": "https://localhost:8080/"
    },
    "id": "jGOEC3dh18ey",
    "executionInfo": {
     "status": "ok",
     "timestamp": 1658847321363,
     "user_tz": -120,
     "elapsed": 9381,
     "user": {
      "displayName": "Laurenz Wurdinger",
      "userId": "00707038666413498638"
     }
    },
    "outputId": "fe7e3540-c7b1-4d2b-8cf8-5daeab0ed29f"
   },
   "execution_count": 4,
   "outputs": [
    {
     "output_type": "stream",
     "name": "stdout",
     "text": [
      "Looking in indexes: https://pypi.org/simple, https://us-python.pkg.dev/colab-wheels/public/simple/\n",
      "Requirement already satisfied: numpy==1.17.0 in /usr/local/lib/python3.7/dist-packages (1.17.0)\n",
      "Looking in indexes: https://pypi.org/simple, https://us-python.pkg.dev/colab-wheels/public/simple/\n",
      "Requirement already satisfied: pandas==1.2.3 in /usr/local/lib/python3.7/dist-packages (1.2.3)\n",
      "Requirement already satisfied: numpy>=1.16.5 in /usr/local/lib/python3.7/dist-packages (from pandas==1.2.3) (1.17.0)\n",
      "Requirement already satisfied: python-dateutil>=2.7.3 in /usr/local/lib/python3.7/dist-packages (from pandas==1.2.3) (2.8.2)\n",
      "Requirement already satisfied: pytz>=2017.3 in /usr/local/lib/python3.7/dist-packages (from pandas==1.2.3) (2022.1)\n",
      "Requirement already satisfied: six>=1.5 in /usr/local/lib/python3.7/dist-packages (from python-dateutil>=2.7.3->pandas==1.2.3) (1.15.0)\n"
     ]
    }
   ]
  },
  {
   "cell_type": "code",
   "source": [
    "#threshold /SSAF\n",
    "a = np.loadtxt(\"kiba_drug_sim.txt\")\n",
    "each_row_1 = np.mean(a,axis=1)\n",
    "each_row_median = np.median(a, axis=1)\n",
    "each_row_quantile_75 = np.percentile(a, 75, axis=1)\n",
    "each_row_quantile_85 = np.percentile(a, 85, axis=1)\n",
    "each_row_quantile_95 = np.percentile(a, 95, axis=1)\n",
    "np.savetxt(\"quantile/drug_eachrow_avg_sim.txt\", each_row_1,fmt='%.3f',delimiter=' ')\n",
    "np.savetxt(\"quantile/drug_eachrow_median.txt\", each_row_median,fmt='%.3f',delimiter=' ')\n",
    "np.savetxt(\"quantile/drug_eachrow_quantile_75.txt\", each_row_quantile_75,fmt='%.4f',delimiter=' ')\n",
    "np.savetxt(\"quantile/drug_eachrow_quantile_85.txt\", each_row_quantile_85,fmt='%.3f',delimiter=' ')\n",
    "np.savetxt(\"quantile/drug_eachrow_quantile_95.txt\", each_row_quantile_95,fmt='%.3f',delimiter=' ')"
   ],
   "metadata": {
    "id": "jATWjuDz2Axo",
    "executionInfo": {
     "status": "ok",
     "timestamp": 1658847325412,
     "user_tz": -120,
     "elapsed": 4057,
     "user": {
      "displayName": "Laurenz Wurdinger",
      "userId": "00707038666413498638"
     }
    }
   },
   "execution_count": 5,
   "outputs": []
  },
  {
   "cell_type": "code",
   "source": [
    "#ASAF-mean\n",
    "with open('kiba_binding_affinity_v2.txt','r') as f, open('quantile/Affi_DT_avg.txt','w') as f1, open('quantile/Affi_DT_fre.txt','w') as f2:\n",
    "    lines = f.readlines()\n",
    "    for i in lines:\n",
    "        #print(i)\n",
    "        j = i.split()\n",
    "        counter = 0\n",
    "        avg = 0\n",
    "        #print(j)\n",
    "        for i,p in enumerate(j):\n",
    "          #print(p)\n",
    "          m = float(p)\n",
    "          #print(m)\n",
    "          if m > -1.0:                \n",
    "              counter += 1 \n",
    "              avg += m\n",
    "              #f1.write(str(i)+' ')\n",
    "              #q = i\n",
    "        f1.write(str(avg/229)+' ')\n",
    "        f1.write('\\n')\n",
    "        f2.write(str(avg/counter)+' ')\n",
    "        f2.write('\\n')"
   ],
   "metadata": {
    "id": "Ag96R3fV2C9u",
    "executionInfo": {
     "status": "ok",
     "timestamp": 1658847325898,
     "user_tz": -120,
     "elapsed": 499,
     "user": {
      "displayName": "Laurenz Wurdinger",
      "userId": "00707038666413498638"
     }
    }
   },
   "execution_count": 6,
   "outputs": []
  },
  {
   "cell_type": "code",
   "source": [
    "#ASAF-num\n",
    "with open('kiba_binding_affinity_v2.txt','r') as f, open('quantile/Affi_DT_index.txt','w') as f1, open('quantile/Affi_DT_num.txt','w') as f2:\n",
    "    lines = f.readlines()\n",
    "    for i in lines:\n",
    "        j = i.split()\n",
    "        counter = 0\n",
    "        \n",
    "        for i,p in enumerate(j):\n",
    "            m = float(p)\n",
    "            #print(m)\n",
    "            if m > -1.0:                \n",
    "                counter += 1 \n",
    "                f1.write(str(i)+' ')\n",
    "                #q = i\n",
    "        f1.write('\\n')\n",
    "        f2.write(str(counter)+' ')\n",
    "        f2.write('\\n')"
   ],
   "metadata": {
    "id": "ROyrHvif75FT",
    "executionInfo": {
     "status": "ok",
     "timestamp": 1658847326495,
     "user_tz": -120,
     "elapsed": 599,
     "user": {
      "displayName": "Laurenz Wurdinger",
      "userId": "00707038666413498638"
     }
    }
   },
   "execution_count": 7,
   "outputs": []
  },
  {
   "cell_type": "code",
   "source": [
    "#ASAF-quantiles\n",
    "#step1\n",
    "with open('kiba_binding_affinity_v2.txt','r') as f, open('quantile/1/Affi_DT_values.txt','w') as f1:\n",
    "    lines = f.readlines()\n",
    "    for i in lines:\n",
    "        j = i.split()\n",
    "        for i,p in enumerate(j):\n",
    "            m = float(p)\n",
    "            #print(m)\n",
    "            if m > -1.0:                \n",
    "                f1.write(str(m)+' ')\n",
    "        f1.write('\\n')"
   ],
   "metadata": {
    "id": "itPLtSKf8Ae-",
    "executionInfo": {
     "status": "ok",
     "timestamp": 1658847326869,
     "user_tz": -120,
     "elapsed": 380,
     "user": {
      "displayName": "Laurenz Wurdinger",
      "userId": "00707038666413498638"
     }
    }
   },
   "execution_count": 8,
   "outputs": []
  },
  {
   "cell_type": "code",
   "source": [
    "#step2\n",
    "lines1 = linecache.getlines(\"quantile/1/Affi_DT_values.txt\")#AA\n",
    "lines1 = [line1.rstrip('\\n').strip() for line1 in lines1]\n",
    "\n",
    "def calculate_percentile(arry, percentile):\n",
    "    size = len(arry)\n",
    "    return sorted(arry)[int(math.ceil((size * percentile) / 100)) - 1]\n",
    "\n",
    "mm = open('quantile/Affi_DT_values_percent25.txt',mode = 'w+', encoding='utf-8') \n",
    "mm1 = open('quantile/Affi_DT_values_percent50.txt',mode = 'w+', encoding='utf-8') \n",
    "mm2 = open('quantile/Affi_DT_values_percent75.txt',mode = 'w+', encoding='utf-8') \n",
    "for i in lines1:\n",
    "    #i=i.replace('\\n','')\n",
    "    \n",
    "    a = i.split(\" \")\n",
    "    a_float = [ ]\n",
    "    for num in a:\n",
    "        a_float.append(float(num))\n",
    "    #print(a_float)\n",
    "    percentile_25 = calculate_percentile(a_float, 25)\n",
    "    percentile_50 = calculate_percentile(a_float, 50)\n",
    "    percentile_75 = calculate_percentile(a_float, 75)\n",
    "    mm.write(str(percentile_25)+' ')\n",
    "    mm.write('\\n')\n",
    "    mm1.write(str(percentile_50)+' ')\n",
    "    mm1.write('\\n')\n",
    "    mm2.write(str(percentile_75)+' ')\n",
    "    mm2.write('\\n')\n",
    "    #print(percentile_25)\n",
    "    #print(percentile_50)\n",
    "    #print(percentile_75)\n",
    "mm.close()\n",
    "mm1.close()\n",
    "mm2.close()"
   ],
   "metadata": {
    "id": "k2FC8yUB8Rl1",
    "executionInfo": {
     "status": "ok",
     "timestamp": 1658847326869,
     "user_tz": -120,
     "elapsed": 3,
     "user": {
      "displayName": "Laurenz Wurdinger",
      "userId": "00707038666413498638"
     }
    }
   },
   "execution_count": 9,
   "outputs": []
  },
  {
   "cell_type": "code",
   "source": [
    "#ASAF-mode\n",
    "#step1\n",
    "lines1 = linecache.getlines(\"quantile/1/Affi_DT_values.txt\")#AA\n",
    "lines1 = [line1.rstrip('\\n').strip() for line1 in lines1]\n",
    "\n",
    "mm = open('quantile/1/Affi_DT_values_mode.txt',mode = 'w+', encoding='utf-8')\n",
    "for i in lines1:\n",
    "    #i=i.replace('\\n','')\n",
    "    \n",
    "    a = i.split(\" \")\n",
    "    a_float = [ ]\n",
    "    for num in a:\n",
    "        a_float.append(float(num))\n",
    "    #print(a_float)\n",
    "\n",
    "    li = a_float\n",
    "    #print(li)\n",
    "    d = {}\n",
    "    for i in li:\n",
    "        ss = d.get(i)\n",
    "        if ss == None:\n",
    "            d[i] = 1\n",
    "        else:\n",
    "            d[i]+=1\n",
    "    for i in d.items():\n",
    "        if i[1] == max(d.values()):\n",
    "            #print(\"众数:\",i[0])\n",
    "            \n",
    "    #print(\" \")\n",
    "            mm.write(str(i[0])+' ')\n",
    "    mm.write('\\n')\n",
    "mm.close()\n",
    "\n",
    "\n",
    "#step2\n",
    "lines1 = linecache.getlines(\"quantile/1/Affi_DT_values_mode.txt\")#AA\n",
    "lines1 = [line1.rstrip('\\n').strip() for line1 in lines1]\n",
    "mm = open('quantile/Affi_DT_values_mode_avg.txt',mode = 'w+', encoding='utf-8') \n",
    "for i in lines1:\n",
    "    #i=i.replace('\\n','')\n",
    "    \n",
    "    a = i.split(\" \")\n",
    "    a_float = [ ]\n",
    "    for num in a:\n",
    "        a_float.append(float(num))\n",
    "    #print(a_float)\n",
    "    li = a_float\n",
    "    c = np.mean(li)\n",
    "    #print(c)\n",
    "    mm.write(str(c)+' ')\n",
    "    mm.write('\\n')\n",
    "mm.close()"
   ],
   "metadata": {
    "id": "XWERwQ2X8yXo",
    "executionInfo": {
     "status": "ok",
     "timestamp": 1658847327176,
     "user_tz": -120,
     "elapsed": 310,
     "user": {
      "displayName": "Laurenz Wurdinger",
      "userId": "00707038666413498638"
     }
    }
   },
   "execution_count": 10,
   "outputs": []
  },
  {
   "cell_type": "code",
   "execution_count": 11,
   "metadata": {
    "id": "hU3DwyudwJ6y",
    "executionInfo": {
     "status": "ok",
     "timestamp": 1658847327758,
     "user_tz": -120,
     "elapsed": 583,
     "user": {
      "displayName": "Laurenz Wurdinger",
      "userId": "00707038666413498638"
     }
    }
   },
   "outputs": [],
   "source": [
    "#ASAF-higher values\n",
    "data = np.loadtxt('kiba_binding_affinity_v2.txt')\n",
    "sim_index_rank = np.argsort(-data)\n",
    "#sim_index_rank\n",
    "#np.savetxt(\"low_sim_drug\\drug_sim_index_rank.txt\", sim_index_rank,fmt='%d',delimiter=' ')\n",
    "low_sort = -np.sort(-data)\n",
    "q = pd.DataFrame(sim_index_rank)\n",
    "p = pd.DataFrame(low_sort)\n",
    "d = q[[0,1,2,3,4]]\n",
    "f = q[[0]]\n",
    "g = p[[0,1,2,3,4]]\n",
    "h = p[[0]]\n",
    "np.savetxt(\"index/Affis_DT_rank_F5_index_high.txt\", d,fmt='%d',delimiter=' ')\n",
    "np.savetxt(\"index/Affis_DT_rank_F1_index_high.txt\", f,fmt='%d',delimiter=' ')\n",
    "g.to_csv(\"quantile/Affis_DT_rank_F5_value_high.txt\",sep=' ',header = 0,index=0)\n",
    "h.to_csv(\"quantile/Affis_DT_rank_F1_value_high.txt\",sep=' ',header = 0,index=0)\n",
    "\n"
   ]
  },
  {
   "cell_type": "code",
   "source": [
    "#ASAF-lower values\n",
    "data = np.loadtxt('kiba_binding_affinity_v2.txt')\n",
    "sim_index_rank = np.argsort(data)\n",
    "#sim_index_rank\n",
    "#np.savetxt(\"low_sim_drug\\drug_sim_index_rank.txt\", sim_index_rank,fmt='%d',delimiter=' ')\n",
    "low_sort = np.sort(data)\n",
    "q = pd.DataFrame(sim_index_rank)\n",
    "p = pd.DataFrame(low_sort)\n",
    "d = q[[0,1,2,3,4]]\n",
    "f = q[[0]]\n",
    "g = p[[0,1,2,3,4]]\n",
    "h = p[[0]]\n",
    "np.savetxt(\"index/Affis_DT_rank_F5_index_low.txt\", d,fmt='%d',delimiter=' ')\n",
    "np.savetxt(\"index/Affis_DT_rank_F1_index_low.txt\", f,fmt='%d',delimiter=' ')\n",
    "g.to_csv(\"quantile/Affis_DT_rank_F5_value_low.txt\",sep=' ',header = 0,index=0)\n",
    "h.to_csv(\"quantile/Affis_DT_rank_F1_value_low.txt\",sep=' ',header = 0,index=0)"
   ],
   "metadata": {
    "id": "vh_Ea3939eX8",
    "executionInfo": {
     "status": "ok",
     "timestamp": 1658847328074,
     "user_tz": -120,
     "elapsed": 322,
     "user": {
      "displayName": "Laurenz Wurdinger",
      "userId": "00707038666413498638"
     }
    }
   },
   "execution_count": 12,
   "outputs": []
  },
  {
   "cell_type": "code",
   "source": [
    "#ASAF-num\n",
    "#with open('Trans_kiba_binding_affinity.txt','r') as f, open('index/Trans_Affi_DT_index.txt','w') as f1, open('quantile/Trans_Affi_DT_num.txt','w') as f2:\n",
    "#    lines = f.readlines()\n",
    "#    for i in lines:\n",
    "#        j = i.split()\n",
    "#        counter = 0\n",
    "#\n",
    "#        for i,p in enumerate(j):\n",
    "#            m = float(p)\n",
    "#            #print(m)\n",
    "#            if m > -1.0:                \n",
    "#                counter += 1 \n",
    "#                f1.write(str(i)+' ')\n",
    "#                #q = i\n",
    "#        f1.write('\\n')\n",
    "#        f2.write(str(counter)+' ')\n",
    "#        f2.write('\\n')\n",
    "#\n",
    "#        #print(counter)"
   ],
   "metadata": {
    "id": "seXNY6aszq9U",
    "executionInfo": {
     "status": "ok",
     "timestamp": 1658847328075,
     "user_tz": -120,
     "elapsed": 7,
     "user": {
      "displayName": "Laurenz Wurdinger",
      "userId": "00707038666413498638"
     }
    }
   },
   "execution_count": 13,
   "outputs": []
  },
  {
   "cell_type": "code",
   "source": [],
   "metadata": {
    "id": "pnUR73XC9hgF",
    "executionInfo": {
     "status": "ok",
     "timestamp": 1658847328075,
     "user_tz": -120,
     "elapsed": 6,
     "user": {
      "displayName": "Laurenz Wurdinger",
      "userId": "00707038666413498638"
     }
    }
   },
   "execution_count": 13,
   "outputs": []
  }
 ]
}
