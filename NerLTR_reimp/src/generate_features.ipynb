{
 "nbformat": 4,
 "nbformat_minor": 0,
 "metadata": {
  "colab": {
   "provenance": [],
   "collapsed_sections": [],
   "authorship_tag": "ABX9TyPlzFGKzKlputEoWvwZVQnP"
  },
  "kernelspec": {
   "name": "python3",
   "display_name": "Python 3"
  },
  "language_info": {
   "name": "python"
  }
 },
 "cells": [
  {
   "cell_type": "markdown",
   "source": [],
   "metadata": {
    "id": "nfaN0MyDLBth"
   }
  },
  {
   "cell_type": "code",
   "execution_count": 1,
   "metadata": {
    "colab": {
     "base_uri": "https://localhost:8080/"
    },
    "id": "rUR8BZaVK258",
    "executionInfo": {
     "status": "ok",
     "timestamp": 1662566291121,
     "user_tz": -120,
     "elapsed": 19698,
     "user": {
      "displayName": "Laurenz Wurdinger",
      "userId": "00707038666413498638"
     }
    },
    "outputId": "c1e6f399-47fe-420f-c020-13bde94f48c3"
   },
   "outputs": [
    {
     "output_type": "stream",
     "name": "stdout",
     "text": [
      "Mounted at /content/gdrive\n"
     ]
    }
   ],
   "source": []
  },
  {
   "cell_type": "code",
   "source": [
    "#Connect to data folder of NerLTR-DTA\n",
    "root_path = '/data/'\n",
    "import os\n",
    "os.chdir(root_path)\n",
    "!pwd"
   ],
   "metadata": {
    "colab": {
     "base_uri": "https://localhost:8080/"
    },
    "id": "5eKQSTNhLGIh",
    "executionInfo": {
     "status": "ok",
     "timestamp": 1662566292585,
     "user_tz": -120,
     "elapsed": 1541,
     "user": {
      "displayName": "Laurenz Wurdinger",
      "userId": "00707038666413498638"
     }
    },
    "outputId": "2cf0aaaf-3b09-47ad-c526-b7e9dd2f9df8"
   },
   "execution_count": 2,
   "outputs": [
    {
     "output_type": "stream",
     "name": "stdout",
     "text": [
      "/content/gdrive/My Drive/KI JKU/Seminar_PracticalW_MasterThesis/MasterThesis/NerLTR/data\n"
     ]
    }
   ]
  },
  {
   "cell_type": "markdown",
   "source": [
    "#Import libs with versions specified in git repo of NerLTR-DTA"
   ],
   "metadata": {
    "id": "NUMVGV2mLPEf"
   }
  },
  {
   "cell_type": "code",
   "source": [
    "!pip install numpy==1.17.0\n",
    "!pip install pandas==1.2.3\n",
    "\n",
    "import numpy as np\n",
    "import pandas as pd\n",
    "import linecache\n",
    "import math\n",
    "from collections import Counter\n",
    "import pickle"
   ],
   "metadata": {
    "colab": {
     "base_uri": "https://localhost:8080/",
     "height": 892
    },
    "id": "m9hb1F1OLQce",
    "executionInfo": {
     "status": "ok",
     "timestamp": 1662566316203,
     "user_tz": -120,
     "elapsed": 23624,
     "user": {
      "displayName": "Laurenz Wurdinger",
      "userId": "00707038666413498638"
     }
    },
    "outputId": "d1e0505b-ef71-4bce-ef2f-05c97ccc4491"
   },
   "execution_count": 3,
   "outputs": [
    {
     "output_type": "stream",
     "name": "stdout",
     "text": [
      "Looking in indexes: https://pypi.org/simple, https://us-python.pkg.dev/colab-wheels/public/simple/\n",
      "Collecting numpy==1.17.0\n",
      "  Downloading numpy-1.17.0-cp37-cp37m-manylinux1_x86_64.whl (20.3 MB)\n",
      "\u001B[K     |████████████████████████████████| 20.3 MB 1.3 MB/s \n",
      "\u001B[?25hInstalling collected packages: numpy\n",
      "  Attempting uninstall: numpy\n",
      "    Found existing installation: numpy 1.21.6\n",
      "    Uninstalling numpy-1.21.6:\n",
      "      Successfully uninstalled numpy-1.21.6\n",
      "\u001B[31mERROR: pip's dependency resolver does not currently take into account all the packages that are installed. This behaviour is the source of the following dependency conflicts.\n",
      "xarray 0.20.2 requires numpy>=1.18, but you have numpy 1.17.0 which is incompatible.\n",
      "xarray-einstats 0.2.2 requires numpy>=1.21, but you have numpy 1.17.0 which is incompatible.\n",
      "tensorflow 2.8.2+zzzcolab20220719082949 requires numpy>=1.20, but you have numpy 1.17.0 which is incompatible.\n",
      "tables 3.7.0 requires numpy>=1.19.0, but you have numpy 1.17.0 which is incompatible.\n",
      "pywavelets 1.3.0 requires numpy>=1.17.3, but you have numpy 1.17.0 which is incompatible.\n",
      "plotnine 0.8.0 requires numpy>=1.19.0, but you have numpy 1.17.0 which is incompatible.\n",
      "pandas 1.3.5 requires numpy>=1.17.3; platform_machine != \"aarch64\" and platform_machine != \"arm64\" and python_version < \"3.10\", but you have numpy 1.17.0 which is incompatible.\n",
      "numba 0.56.0 requires numpy<1.23,>=1.18, but you have numpy 1.17.0 which is incompatible.\n",
      "kapre 0.3.7 requires numpy>=1.18.5, but you have numpy 1.17.0 which is incompatible.\n",
      "jaxlib 0.3.15+cuda11.cudnn805 requires numpy>=1.19, but you have numpy 1.17.0 which is incompatible.\n",
      "jax 0.3.17 requires numpy>=1.20, but you have numpy 1.17.0 which is incompatible.\n",
      "gym 0.25.2 requires numpy>=1.18.0, but you have numpy 1.17.0 which is incompatible.\n",
      "cmdstanpy 1.0.7 requires numpy>=1.21, but you have numpy 1.17.0 which is incompatible.\n",
      "aeppl 0.0.33 requires numpy>=1.18.1, but you have numpy 1.17.0 which is incompatible.\u001B[0m\n",
      "Successfully installed numpy-1.17.0\n"
     ]
    },
    {
     "output_type": "display_data",
     "data": {
      "application/vnd.colab-display-data+json": {
       "pip_warning": {
        "packages": [
         "numpy"
        ]
       }
      }
     },
     "metadata": {}
    },
    {
     "output_type": "stream",
     "name": "stdout",
     "text": [
      "Looking in indexes: https://pypi.org/simple, https://us-python.pkg.dev/colab-wheels/public/simple/\n",
      "Collecting pandas==1.2.3\n",
      "  Downloading pandas-1.2.3-cp37-cp37m-manylinux1_x86_64.whl (9.9 MB)\n",
      "\u001B[K     |████████████████████████████████| 9.9 MB 5.1 MB/s \n",
      "\u001B[?25hRequirement already satisfied: python-dateutil>=2.7.3 in /usr/local/lib/python3.7/dist-packages (from pandas==1.2.3) (2.8.2)\n",
      "Requirement already satisfied: numpy>=1.16.5 in /usr/local/lib/python3.7/dist-packages (from pandas==1.2.3) (1.17.0)\n",
      "Requirement already satisfied: pytz>=2017.3 in /usr/local/lib/python3.7/dist-packages (from pandas==1.2.3) (2022.2.1)\n",
      "Requirement already satisfied: six>=1.5 in /usr/local/lib/python3.7/dist-packages (from python-dateutil>=2.7.3->pandas==1.2.3) (1.15.0)\n",
      "Installing collected packages: pandas\n",
      "  Attempting uninstall: pandas\n",
      "    Found existing installation: pandas 1.3.5\n",
      "    Uninstalling pandas-1.3.5:\n",
      "      Successfully uninstalled pandas-1.3.5\n",
      "\u001B[31mERROR: pip's dependency resolver does not currently take into account all the packages that are installed. This behaviour is the source of the following dependency conflicts.\n",
      "xarray 0.20.2 requires numpy>=1.18, but you have numpy 1.17.0 which is incompatible.\n",
      "xarray-einstats 0.2.2 requires numpy>=1.21, but you have numpy 1.17.0 which is incompatible.\n",
      "plotnine 0.8.0 requires numpy>=1.19.0, but you have numpy 1.17.0 which is incompatible.\n",
      "cmdstanpy 1.0.7 requires numpy>=1.21, but you have numpy 1.17.0 which is incompatible.\u001B[0m\n",
      "Successfully installed pandas-1.2.3\n"
     ]
    }
   ]
  },
  {
   "cell_type": "markdown",
   "source": [
    "#Set paths to the dataset files"
   ],
   "metadata": {
    "id": "OYjtU8x4Lt0F"
   }
  },
  {
   "cell_type": "code",
   "source": [
    "path_KIBA_drug_sim = 'KIBA/kiba_drug_sim.txt' #Drug Similarity Matrix SimDD from Kiba Dataset\n",
    "path_KIBA_target_sim = 'KIBA/kiba_target_sim.txt' #Target Similarity Matrix SimTT from Kiba Dataset\n",
    "path_KIBA_affinity = 'KIBA/kiba_binding_affinity_v2.txt' #Affinity Matrix AffiDT from Kiba Dataset\n",
    "save_KIBA_SAF = 'KIBA/SAF'\n",
    "save_KIBA_AAF = 'KIBA/AAF'"
   ],
   "metadata": {
    "id": "kJ5Xa5dTLYzL",
    "executionInfo": {
     "status": "ok",
     "timestamp": 1662566316204,
     "user_tz": -120,
     "elapsed": 7,
     "user": {
      "displayName": "Laurenz Wurdinger",
      "userId": "00707038666413498638"
     }
    }
   },
   "execution_count": 4,
   "outputs": []
  },
  {
   "cell_type": "code",
   "source": [],
   "metadata": {
    "id": "Z-Co72GXMWkA",
    "executionInfo": {
     "status": "ok",
     "timestamp": 1662566316205,
     "user_tz": -120,
     "elapsed": 7,
     "user": {
      "displayName": "Laurenz Wurdinger",
      "userId": "00707038666413498638"
     }
    }
   },
   "execution_count": 5,
   "outputs": []
  },
  {
   "cell_type": "code",
   "source": [
    "#FOR TESTING ONLY\n",
    "path_test_drug_sim = 'test/drug_sim.txt' \n",
    "path_test_target_sim = 'test/target_sim.txt' \n",
    "path_test_affinity = 'test/affi.txt' \n",
    "save_test_SAF = 'test/SAF'\n",
    "save_test_AAF = 'test/AAF'"
   ],
   "metadata": {
    "id": "1lvirzjSkOlw",
    "executionInfo": {
     "status": "ok",
     "timestamp": 1662480735657,
     "user_tz": -120,
     "elapsed": 8,
     "user": {
      "displayName": "Laurenz Wurdinger",
      "userId": "00707038666413498638"
     }
    }
   },
   "execution_count": 5,
   "outputs": []
  },
  {
   "cell_type": "markdown",
   "source": [
    "#Generate SAF"
   ],
   "metadata": {
    "id": "vPHKrW1dNHOC"
   }
  },
  {
   "cell_type": "markdown",
   "source": [
    "##SSAF"
   ],
   "metadata": {
    "id": "ugLVwLAHVnxu"
   }
  },
  {
   "cell_type": "code",
   "source": [
    "def generate_SSAF_feature(input_array):\n",
    "  #compute ssaf features for each row of similarity matrix\n",
    "  ssaf_mean = np.mean(input_array)  #compute mean\n",
    "  ssaf_median = np.median(input_array)  #compute median\n",
    "  ssaf_quantile_75 = np.percentile(input_array, 75) #compute 75th quantile\n",
    "  ssaf_quantile_85 = np.percentile(input_array, 85) #compute 85th quantile\n",
    "  ssaf_quantile_95 = np.percentile(input_array, 95) #compute 95th quantile\n",
    "  ssaf_feature = [ssaf_mean, ssaf_median, ssaf_quantile_75, ssaf_quantile_85, ssaf_quantile_95]\n",
    "  return ssaf_feature"
   ],
   "metadata": {
    "id": "GwfTdl8xNBkl",
    "executionInfo": {
     "status": "ok",
     "timestamp": 1662480736031,
     "user_tz": -120,
     "elapsed": 380,
     "user": {
      "displayName": "Laurenz Wurdinger",
      "userId": "00707038666413498638"
     }
    }
   },
   "execution_count": 6,
   "outputs": []
  },
  {
   "cell_type": "code",
   "source": [
    "def SSAF_features(input_path:str, output_path: str):\n",
    "  #load Similarity Matrix\n",
    "  sim = np.loadtxt(input_path)\n",
    "  #create dataframe\n",
    "  ssaf_df = pd.DataFrame(columns = ['mean', 'median', '75q', '85q', '95q'])\n",
    "  #compute ssaf features\n",
    "  for i,s in enumerate(sim):\n",
    "    ssaf_feature = generate_SSAF_feature(s)\n",
    "    data = {\n",
    "        'mean':ssaf_feature[0],\n",
    "        'median': ssaf_feature[1],\n",
    "        '75q' : ssaf_feature[2],\n",
    "        '85q' : ssaf_feature[3],\n",
    "        '95q' : ssaf_feature[4]\n",
    "    }\n",
    "    ssaf_df= ssaf_df.append(data, ignore_index=True)\n",
    "  #save dataframe\n",
    "  ssaf_df.to_pickle(output_path)"
   ],
   "metadata": {
    "id": "CBvHYM5uOu5n",
    "executionInfo": {
     "status": "ok",
     "timestamp": 1662480736033,
     "user_tz": -120,
     "elapsed": 10,
     "user": {
      "displayName": "Laurenz Wurdinger",
      "userId": "00707038666413498638"
     }
    }
   },
   "execution_count": 7,
   "outputs": []
  },
  {
   "cell_type": "markdown",
   "source": [
    "###Drugs"
   ],
   "metadata": {
    "id": "mSke9slr-cjN"
   }
  },
  {
   "cell_type": "code",
   "source": [
    "#Save SSAF features for KIBA dataset drugs\n",
    "SSAF_features(input_path=path_KIBA_drug_sim, output_path=save_KIBA_SAF+'/SSAF_drugs')"
   ],
   "metadata": {
    "id": "xcsNeIF7Q9M5"
   },
   "execution_count": null,
   "outputs": []
  },
  {
   "cell_type": "code",
   "source": [],
   "metadata": {
    "id": "NGFc_9SIREGg"
   },
   "execution_count": null,
   "outputs": []
  },
  {
   "cell_type": "markdown",
   "source": [
    "###Proteins"
   ],
   "metadata": {
    "id": "3l-YC40p-fGO"
   }
  },
  {
   "cell_type": "code",
   "source": [
    "#Save SSAF features for KIBA dataset targets\n",
    "SSAF_features(input_path=path_KIBA_target_sim, output_path=save_KIBA_SAF+'/SSAF_targets')"
   ],
   "metadata": {
    "id": "oxJMfSyY-iN0"
   },
   "execution_count": null,
   "outputs": []
  },
  {
   "cell_type": "code",
   "source": [],
   "metadata": {
    "id": "lqI4CQVa-iQU"
   },
   "execution_count": null,
   "outputs": []
  },
  {
   "cell_type": "markdown",
   "source": [
    "##Test"
   ],
   "metadata": {
    "id": "G3NiHVDkkq2P"
   }
  },
  {
   "cell_type": "code",
   "source": [
    "#Save SSAF features for KIBA dataset drugs\n",
    "SSAF_features(input_path=path_test_drug_sim, output_path=save_test_SAF+'/SSAF_drugs')\n",
    "#Save SSAF features for KIBA dataset targets\n",
    "SSAF_features(input_path=path_test_target_sim, output_path=save_test_SAF+'/SSAF_targets')"
   ],
   "metadata": {
    "id": "pK0Oh7ZKkv4p",
    "executionInfo": {
     "status": "ok",
     "timestamp": 1662481011170,
     "user_tz": -120,
     "elapsed": 627,
     "user": {
      "displayName": "Laurenz Wurdinger",
      "userId": "00707038666413498638"
     }
    }
   },
   "execution_count": 10,
   "outputs": []
  },
  {
   "cell_type": "markdown",
   "source": [
    "##ASAF"
   ],
   "metadata": {
    "id": "5RM6kzDmWB2i"
   }
  },
  {
   "cell_type": "code",
   "source": [
    "def compute_mode(sample):\n",
    "\n",
    "  c = Counter(sample)\n",
    "  return [k for k, v in c.items() if v == c.most_common(1)[0][1]] #returns a list of all modes\n",
    "\n",
    "def generate_ASAF_feature(input_array):\n",
    "  #compute asaf features for each row of affinity matrix\n",
    "  asaf_mean1 = np.mean(np.nan_to_num(input_array))   # compute mean including nan (full length of affinity e.g. KIBA=229)\n",
    "\n",
    "  #removing all nan from array\n",
    "  no_nan_array = input_array[~np.isnan(input_array)]\n",
    "  asaf_mean2 = np.mean(no_nan_array)  # compute mean excluding nan (all nan values ignored)\n",
    "  asaf_number = len(no_nan_array)  #number of non-nan values\n",
    "  asaf_mode = np.mean(compute_mode(no_nan_array))  #compute mean of all modes\n",
    "  asaf_quantile_25 = np.percentile(no_nan_array, 25) #compute 25th quantile\n",
    "  asaf_quantile_50 = np.percentile(no_nan_array, 50)  #compute 50th quantile\n",
    "  asaf_quantile_75 = np.percentile(no_nan_array, 75)  #compute 75th quantile\n",
    "\n",
    "  #Sort arary for lowest and highest values\n",
    "  sorted_index_array = np.argsort(no_nan_array)# sorted array\n",
    "  sorted_array = no_nan_array[sorted_index_array]  # sorted array from lowest to highest\n",
    "  n=5 #n highest/lowest values\n",
    "  asaf_5_high = sorted_array[-n:]\n",
    "  asaf_5_low = sorted_array[:n]\n",
    "\n",
    "  asaf_feature = [asaf_mean1, asaf_mean2, asaf_number, asaf_mode, asaf_quantile_25, asaf_quantile_50, asaf_quantile_75, asaf_5_high, asaf_5_low]\n",
    "  return asaf_feature"
   ],
   "metadata": {
    "id": "fcLAdAbkVyv3",
    "executionInfo": {
     "status": "ok",
     "timestamp": 1662481016394,
     "user_tz": -120,
     "elapsed": 265,
     "user": {
      "displayName": "Laurenz Wurdinger",
      "userId": "00707038666413498638"
     }
    }
   },
   "execution_count": 11,
   "outputs": []
  },
  {
   "cell_type": "code",
   "source": [
    "def ASAF_features(input_path:str, output_path: str, drugs=False):\n",
    "  #load Affinity Matrix\n",
    "  aff = np.loadtxt(input_path)\n",
    "  #if targets --> transpose Affinity Matrix\n",
    "  if drugs==False:\n",
    "    aff = aff.T\n",
    "  #create dataframe\n",
    "  asaf_df = pd.DataFrame(columns = ['mean_1', 'mean_2', 'number', 'mode', '25q', '50q', '75q', '5_high', '5_low'])\n",
    "  #compute asaf features\n",
    "  for i,a in enumerate(aff):\n",
    "    asaf_feature = generate_ASAF_feature(a)\n",
    "    data = {\n",
    "        'mean_1':asaf_feature[0],\n",
    "        'mean_2':asaf_feature[1],\n",
    "        'number':asaf_feature[2],\n",
    "        'mode': asaf_feature[3],\n",
    "        '25q' : asaf_feature[4],\n",
    "        '50q' : asaf_feature[5],\n",
    "        '75q' : asaf_feature[6],\n",
    "        '5_high' : asaf_feature[7],\n",
    "        '5_low' : asaf_feature[8],\n",
    "    }\n",
    "    asaf_df= asaf_df.append(data, ignore_index=True)\n",
    "  #save dataframe\n",
    "  asaf_df.to_pickle(output_path)"
   ],
   "metadata": {
    "id": "i2nPansiWG8-",
    "executionInfo": {
     "status": "ok",
     "timestamp": 1662481020279,
     "user_tz": -120,
     "elapsed": 466,
     "user": {
      "displayName": "Laurenz Wurdinger",
      "userId": "00707038666413498638"
     }
    }
   },
   "execution_count": 12,
   "outputs": []
  },
  {
   "cell_type": "markdown",
   "source": [
    "###Drugs"
   ],
   "metadata": {
    "id": "2h07rjHC-05I"
   }
  },
  {
   "cell_type": "code",
   "source": [
    "#Save SSAF features for KIBA dataset drugs\n",
    "ASAF_features(input_path=path_KIBA_affinity, output_path=save_KIBA_SAF+'/ASAF_drugs', drugs=True)"
   ],
   "metadata": {
    "id": "RVLgztdMXJKe"
   },
   "execution_count": null,
   "outputs": []
  },
  {
   "cell_type": "code",
   "source": [],
   "metadata": {
    "id": "eOUA70E5dJw5"
   },
   "execution_count": null,
   "outputs": []
  },
  {
   "cell_type": "markdown",
   "source": [
    "###Targets"
   ],
   "metadata": {
    "id": "zSkZkOrG-2eq"
   }
  },
  {
   "cell_type": "code",
   "source": [
    "#Save SSAF features for KIBA dataset targets\n",
    "ASAF_features(input_path=path_KIBA_affinity, output_path=save_KIBA_SAF+'/ASAF_targets', drugs=False)"
   ],
   "metadata": {
    "id": "Q_5bqO5L-526"
   },
   "execution_count": null,
   "outputs": []
  },
  {
   "cell_type": "code",
   "source": [],
   "metadata": {
    "id": "HtYjJtMP-55x"
   },
   "execution_count": null,
   "outputs": []
  },
  {
   "cell_type": "markdown",
   "source": [
    "##Test"
   ],
   "metadata": {
    "id": "23OJ0CXDl0Bn"
   }
  },
  {
   "cell_type": "code",
   "source": [
    "#Save SSAF features for KIBA dataset drugs\n",
    "ASAF_features(input_path=path_test_affinity, output_path=save_test_SAF+'/ASAF_drugs', drugs=True)\n",
    "#Save SSAF features for KIBA dataset targets\n",
    "ASAF_features(input_path=path_test_affinity, output_path=save_test_SAF+'/ASAF_targets', drugs=False)"
   ],
   "metadata": {
    "id": "h4BBgSIRl1s4",
    "executionInfo": {
     "status": "ok",
     "timestamp": 1662481234855,
     "user_tz": -120,
     "elapsed": 597,
     "user": {
      "displayName": "Laurenz Wurdinger",
      "userId": "00707038666413498638"
     }
    }
   },
   "execution_count": 17,
   "outputs": []
  },
  {
   "cell_type": "markdown",
   "source": [
    "#Generate AAF"
   ],
   "metadata": {
    "id": "jqKVL15l476U"
   }
  },
  {
   "cell_type": "markdown",
   "source": [
    "##Compute Share matrix"
   ],
   "metadata": {
    "id": "4H3qLcrJ0EeK"
   }
  },
  {
   "cell_type": "code",
   "source": [
    "def generate_share_matrix_KIBA(input_path:str, output_path:str):\n",
    "  #load Affinity Matrix\n",
    "  aff = np.loadtxt(input_path)\n",
    "  aff[aff > -1.0] = 1 #set all values that are not nan to 1 for easier comparison\n",
    "  share_matrix_drugs = np.zeros((len(aff),len(aff)))\n",
    "  for i,row in enumerate(aff): #loop through each row in aff matrix for drug-drug share --> initial row vector = row \n",
    "    for j, compare_row in enumerate(aff): #loop through each row and compare with initial row vector\n",
    "      share_matrix_drugs[i][j]=np.count_nonzero(row==compare_row) #count number of places where both arrays are 1\n",
    "  np.save(output_path+'share_drugs', share_matrix_drugs)\n",
    "\n",
    "  #do this again with the transposed matrix to get share  matrix for targets\n",
    "  aff_transposed = aff.T\n",
    "  share_matrix_targets = np.zeros((len(aff_transposed),len(aff_transposed)))\n",
    "  for i,row in enumerate(aff_transposed): #loop through each row in aff matrix for drug-drug share --> initial row vector = row \n",
    "    for j, compare_row in enumerate(aff_transposed): #loop through each row and compare with initial row vector\n",
    "      share_matrix_targets[i][j]=np.count_nonzero(row==compare_row)\n",
    "  np.save(output_path+'share_targets', share_matrix_targets)\n"
   ],
   "metadata": {
    "id": "PnEqt22c0D9T",
    "executionInfo": {
     "status": "ok",
     "timestamp": 1662481245667,
     "user_tz": -120,
     "elapsed": 240,
     "user": {
      "displayName": "Laurenz Wurdinger",
      "userId": "00707038666413498638"
     }
    }
   },
   "execution_count": 18,
   "outputs": []
  },
  {
   "cell_type": "markdown",
   "source": [
    "###Drugs and Targets"
   ],
   "metadata": {
    "id": "M08cV00bAEnF"
   }
  },
  {
   "cell_type": "code",
   "source": [
    "#Save drug and target share matrix for KIBA dataset\n",
    "generate_share_matrix_KIBA(input_path=path_KIBA_affinity, output_path='KIBA/')"
   ],
   "metadata": {
    "colab": {
     "base_uri": "https://localhost:8080/"
    },
    "id": "0C_YLFKR0rhr",
    "executionInfo": {
     "status": "ok",
     "timestamp": 1661857547237,
     "user_tz": -120,
     "elapsed": 14993,
     "user": {
      "displayName": "Laurenz Wurdinger",
      "userId": "00707038666413498638"
     }
    },
    "outputId": "811e0744-f86c-4157-e787-cbeb3dc6b3c7"
   },
   "execution_count": null,
   "outputs": [
    {
     "output_type": "stream",
     "name": "stderr",
     "text": [
      "/usr/local/lib/python3.7/dist-packages/ipykernel_launcher.py:4: RuntimeWarning: invalid value encountered in greater\n",
      "  after removing the cwd from sys.path.\n"
     ]
    }
   ]
  },
  {
   "cell_type": "code",
   "source": [],
   "metadata": {
    "id": "6a2eW3LLAKSD",
    "executionInfo": {
     "status": "ok",
     "timestamp": 1662481291101,
     "user_tz": -120,
     "elapsed": 231,
     "user": {
      "displayName": "Laurenz Wurdinger",
      "userId": "00707038666413498638"
     }
    }
   },
   "execution_count": 19,
   "outputs": []
  },
  {
   "cell_type": "markdown",
   "source": [
    "##Test"
   ],
   "metadata": {
    "id": "fe66fZT-mtAS"
   }
  },
  {
   "cell_type": "code",
   "source": [
    "#Save SSAF features for KIBA dataset drugs\n",
    "generate_share_matrix_KIBA(input_path=path_test_affinity, output_path='test/')"
   ],
   "metadata": {
    "executionInfo": {
     "status": "ok",
     "timestamp": 1662481337350,
     "user_tz": -120,
     "elapsed": 248,
     "user": {
      "displayName": "Laurenz Wurdinger",
      "userId": "00707038666413498638"
     }
    },
    "id": "j1PNA4awmtAT"
   },
   "execution_count": 20,
   "outputs": []
  },
  {
   "cell_type": "markdown",
   "source": [
    "##Index for GAAF"
   ],
   "metadata": {
    "id": "MkOvm6he48FU"
   }
  },
  {
   "cell_type": "markdown",
   "source": [
    "###Index with Threshold 1 from similarity matrix"
   ],
   "metadata": {
    "id": "avEVNBgHlfLo"
   }
  },
  {
   "cell_type": "code",
   "source": [
    "def compute_index_threshold_1(input_path_similarity:str, input_path_ssaf:str, output_path:str):\n",
    "  #load the similarity matrix\n",
    "  sim_matrix=np.loadtxt(input_path_similarity)\n",
    "  #load ssaf features that are used as thresholds\n",
    "  with open(input_path_ssaf, \"rb\") as fp:   # Unpickling SSAF features\n",
    "    ssaf_feature = pickle.load(fp)\n",
    "  #loop through each row of the similarity matrix\n",
    "  gaaf_t1_index=[]\n",
    "  for i,row in enumerate(sim_matrix):\n",
    "    threshold_mean = ssaf_feature['mean'][i]\n",
    "    threshold_median = ssaf_feature['median'][i]\n",
    "    threshold_75 = ssaf_feature['75q'][i]\n",
    "    threshold_85 = ssaf_feature['85q'][i]\n",
    "    threshold_95 = ssaf_feature['95q'][i]\n",
    "    #get index that have value higher than the thresholds\n",
    "    index_mean = [idx for idx, val in enumerate(row) if val > threshold_mean]\n",
    "    index_median = [idx for idx, val in enumerate(row) if val > threshold_median] \n",
    "    index_75 = [idx for idx, val in enumerate(row) if val > threshold_75] \n",
    "    index_85 = [idx for idx, val in enumerate(row) if val > threshold_85]\n",
    "    index_95 = [idx for idx, val in enumerate(row) if val > threshold_95]\n",
    "    #combine the index to one list \n",
    "    gaaf_t1_index.append(index_mean+index_median+index_75+index_85+index_95)\n",
    "  #save to pickl file\n",
    "  with open(output_path, \"wb\") as fp:  \n",
    "    pickle.dump(gaaf_t1_index, fp)\n",
    "  return gaaf_t1_index"
   ],
   "metadata": {
    "id": "pfoIKA7mlfUl",
    "executionInfo": {
     "status": "ok",
     "timestamp": 1662484700238,
     "user_tz": -120,
     "elapsed": 231,
     "user": {
      "displayName": "Laurenz Wurdinger",
      "userId": "00707038666413498638"
     }
    }
   },
   "execution_count": 42,
   "outputs": []
  },
  {
   "cell_type": "markdown",
   "source": [
    "###Drugs"
   ],
   "metadata": {
    "id": "I8hUrgp_ARb8"
   }
  },
  {
   "cell_type": "code",
   "source": [
    "#Save GAAF index for KIBA dataset\n",
    "gaaf_index_t1_KIBA_drugs = compute_index_threshold_1(input_path_similarity=path_KIBA_drug_sim, input_path_ssaf=save_KIBA_SAF+'/SSAF_drugs', output_path=save_KIBA_AAF+'/GAAF_T1_index_drugs')"
   ],
   "metadata": {
    "id": "UVlaawbZllnf"
   },
   "execution_count": null,
   "outputs": []
  },
  {
   "cell_type": "code",
   "source": [],
   "metadata": {
    "id": "SCDTLeZYpbwt"
   },
   "execution_count": null,
   "outputs": []
  },
  {
   "cell_type": "markdown",
   "source": [
    "###Targets"
   ],
   "metadata": {
    "id": "iQS6RJqTATuo"
   }
  },
  {
   "cell_type": "code",
   "source": [
    "#Save GAAF index for KIBA dataset\n",
    "gaaf_index_t1_KIBA_drugs = compute_index_threshold_1(input_path_similarity=path_KIBA_target_sim, input_path_ssaf=save_KIBA_SAF+'/SSAF_targets', output_path=save_KIBA_AAF+'/GAAF_T1_index_targets')"
   ],
   "metadata": {
    "id": "yzih_xGkATDO"
   },
   "execution_count": null,
   "outputs": []
  },
  {
   "cell_type": "code",
   "source": [],
   "metadata": {
    "id": "krXjuRZZATIM"
   },
   "execution_count": null,
   "outputs": []
  },
  {
   "cell_type": "markdown",
   "source": [
    "##Test"
   ],
   "metadata": {
    "id": "uRtL0Bz8nD2b"
   }
  },
  {
   "cell_type": "code",
   "source": [
    "#Save GAAF index for test dataset\n",
    "gaaf_index_t1_test_drugs = compute_index_threshold_1(input_path_similarity=path_test_drug_sim, input_path_ssaf=save_test_SAF+'/SSAF_drugs', output_path=save_test_AAF+'/GAAF_T1_index_drugs')\n",
    "#Save GAAF index for test dataset\n",
    "gaaf_index_t1_test_targets = compute_index_threshold_1(input_path_similarity=path_test_target_sim, input_path_ssaf=save_test_SAF+'/SSAF_targets', output_path=save_test_AAF+'/GAAF_T1_index_targets')"
   ],
   "metadata": {
    "executionInfo": {
     "status": "ok",
     "timestamp": 1662484703229,
     "user_tz": -120,
     "elapsed": 258,
     "user": {
      "displayName": "Laurenz Wurdinger",
      "userId": "00707038666413498638"
     }
    },
    "id": "BaOME5E8nD2c"
   },
   "execution_count": 43,
   "outputs": []
  },
  {
   "cell_type": "code",
   "source": [
    "gaaf_index_t1_test_drugs"
   ],
   "metadata": {
    "colab": {
     "base_uri": "https://localhost:8080/"
    },
    "id": "re31uB2Kv6UU",
    "executionInfo": {
     "status": "ok",
     "timestamp": 1662484707246,
     "user_tz": -120,
     "elapsed": 258,
     "user": {
      "displayName": "Laurenz Wurdinger",
      "userId": "00707038666413498638"
     }
    },
    "outputId": "54528310-beee-4d7a-9448-e5bf1df01a4b"
   },
   "execution_count": 44,
   "outputs": [
    {
     "output_type": "execute_result",
     "data": {
      "text/plain": [
       "[[0, 2, 0, 2, 0, 0, 0],\n",
       " [1, 2, 1, 2, 1, 1, 1],\n",
       " [0, 1, 2, 1, 2, 2, 2, 2],\n",
       " [3, 4, 3, 4, 3, 3, 3],\n",
       " [3, 4, 3, 4, 4, 4, 4]]"
      ]
     },
     "metadata": {},
     "execution_count": 44
    }
   ]
  },
  {
   "cell_type": "markdown",
   "source": [
    "###Index with Threshold 2 from share matrix"
   ],
   "metadata": {
    "id": "rxfgpAIsk2m0"
   }
  },
  {
   "cell_type": "code",
   "source": [
    "def compute_index_threshold_2(input_path:str, output_path:str):\n",
    "  #load the share matrix\n",
    "  share_matrix=np.load(input_path)\n",
    "  #loop through each row of the share matrix\n",
    "  gaaf_t2_index=[]\n",
    "  for row in share_matrix:\n",
    "    threshold_75=np.percentile(row, 75)  #compute 75th quantile\n",
    "    threshold_85=np.percentile(row, 85)  #compute 85th quantile\n",
    "    threshold_95=np.percentile(row, 95)  #compute 95th quantile\n",
    "    #get index that have value higher than the thresholds\n",
    "    index_75 = [idx for idx, val in enumerate(row) if val > threshold_75] \n",
    "    index_85 = [idx for idx, val in enumerate(row) if val > threshold_85]\n",
    "    index_95 = [idx for idx, val in enumerate(row) if val > threshold_95]\n",
    "    #combine the index to one list \n",
    "    gaaf_t2_index.append(index_75+index_85+index_95)\n",
    "  #save to pickl file\n",
    "  with open(output_path, \"wb\") as fp:  \n",
    "    pickle.dump(gaaf_t2_index, fp)\n",
    "  return gaaf_t2_index"
   ],
   "metadata": {
    "id": "pmGeRVJYdcLx",
    "executionInfo": {
     "status": "ok",
     "timestamp": 1662481420429,
     "user_tz": -120,
     "elapsed": 424,
     "user": {
      "displayName": "Laurenz Wurdinger",
      "userId": "00707038666413498638"
     }
    }
   },
   "execution_count": 23,
   "outputs": []
  },
  {
   "cell_type": "markdown",
   "source": [
    "###Drugs"
   ],
   "metadata": {
    "id": "fpHJKk5YAxZm"
   }
  },
  {
   "cell_type": "code",
   "source": [
    "#Save GAAF index for KIBA dataset drugs\n",
    "gaaf_index_t2_KIBA_drugs = compute_index_threshold_2(input_path='KIBA/share_drugs.npy', output_path=save_KIBA_AAF+'/GAAF_T2_index_drugs')"
   ],
   "metadata": {
    "id": "yXowhckNhRR0"
   },
   "execution_count": null,
   "outputs": []
  },
  {
   "cell_type": "code",
   "source": [],
   "metadata": {
    "id": "i-oF684OlJaS"
   },
   "execution_count": null,
   "outputs": []
  },
  {
   "cell_type": "markdown",
   "source": [
    "###Targets"
   ],
   "metadata": {
    "id": "vxwF-LgFAz9G"
   }
  },
  {
   "cell_type": "code",
   "source": [
    "#Save GAAF index for KIBA dataset drugs\n",
    "gaaf_index_t2_KIBA_drugs = compute_index_threshold_2(input_path='KIBA/share_targets.npy', output_path=save_KIBA_AAF+'/GAAF_T2_index_targets')"
   ],
   "metadata": {
    "id": "F0WqzCLHAzbI"
   },
   "execution_count": null,
   "outputs": []
  },
  {
   "cell_type": "code",
   "source": [],
   "metadata": {
    "id": "SYb-n4fpAzd2"
   },
   "execution_count": null,
   "outputs": []
  },
  {
   "cell_type": "markdown",
   "source": [
    "##Test"
   ],
   "metadata": {
    "id": "Qgj8hd-hnV3w"
   }
  },
  {
   "cell_type": "code",
   "source": [
    "#Save GAAF index for test dataset drugs\n",
    "gaaf_index_t2_test_drugs = compute_index_threshold_2(input_path='test/share_drugs.npy', output_path=save_test_AAF+'/GAAF_T2_index_drugs')\n",
    "#Save GAAF index for test dataset drugs\n",
    "gaaf_index_t2_test_targets = compute_index_threshold_2(input_path='test/share_targets.npy', output_path=save_test_AAF+'/GAAF_T2_index_targets')"
   ],
   "metadata": {
    "executionInfo": {
     "status": "ok",
     "timestamp": 1662483640947,
     "user_tz": -120,
     "elapsed": 8,
     "user": {
      "displayName": "Laurenz Wurdinger",
      "userId": "00707038666413498638"
     }
    },
    "id": "Iz3-mXlDnV3x"
   },
   "execution_count": 34,
   "outputs": []
  },
  {
   "cell_type": "code",
   "source": [
    "gaaf_index_t2_test_drugs"
   ],
   "metadata": {
    "colab": {
     "base_uri": "https://localhost:8080/"
    },
    "id": "6trsjP4RvatM",
    "executionInfo": {
     "status": "ok",
     "timestamp": 1662483640948,
     "user_tz": -120,
     "elapsed": 7,
     "user": {
      "displayName": "Laurenz Wurdinger",
      "userId": "00707038666413498638"
     }
    },
    "outputId": "139d041b-4cbf-4ead-c839-e9b5f56d1eb6"
   },
   "execution_count": 35,
   "outputs": [
    {
     "output_type": "execute_result",
     "data": {
      "text/plain": [
       "[[], [], [2, 2, 2], [3, 3, 3], []]"
      ]
     },
     "metadata": {},
     "execution_count": 35
    }
   ]
  },
  {
   "cell_type": "markdown",
   "source": [
    "##Generate GAAF feature"
   ],
   "metadata": {
    "id": "r7U-RNqU-oLL"
   }
  },
  {
   "cell_type": "code",
   "source": [
    "#Concat to one long vector and take min, max, upepr quartile , median, lower quartile, mean and mode\n",
    "def generate_GAAF_feature(input_path_t1_index:str, input_path_t2_index:str, input_path_features:str, output_path: str):\n",
    "  with open(input_path_t1_index, \"rb\") as fp:   # Unpickling GAAF_index index from Threshold 1\n",
    "    index_t1_file = pickle.load(fp)\n",
    "\n",
    "  with open(input_path_t2_index, \"rb\") as fp:   # Unpickling GAAF_index index from Threshold 2\n",
    "    index_t2_file = pickle.load(fp)\n",
    "\n",
    "  with open(input_path_features, \"rb\") as fp:   # Unpickling ASAF features index\n",
    "    feature_file = pickle.load(fp)\n",
    "  #create dataframe\n",
    "  gaaf_df = pd.DataFrame(columns = ['min', 'max', 'upper_q', 'median', 'lower_q', 'mean', 'mode'])\n",
    "  for i,row in enumerate(index_t1_file): #loop through each row of index file\n",
    "    combined_index = row+index_t2_file[i] #combine index of thresold 1 and thresold 2\n",
    "    asaf_feature = [] # initial vector used to cumpute the gaaf features\n",
    "    for idx in combined_index: #loop through each index in the row to extrax the according ASAF features \n",
    "      asaf_feature.append(feature_file['mean_1'][idx])\n",
    "      asaf_feature.append(feature_file['mean_2'][idx])\n",
    "      asaf_feature.append(feature_file['number'][idx])\n",
    "      asaf_feature.append(feature_file['mode'][idx])\n",
    "      asaf_feature.append(feature_file['25q'][idx])\n",
    "      asaf_feature.append(feature_file['50q'][idx])\n",
    "      asaf_feature.append(feature_file['75q'][idx])\n",
    "      #Append the 5 high/low values not as an array but as singl values\n",
    "      for high in feature_file['5_high'][idx]:\n",
    "        asaf_feature.append(high)\n",
    "      for low in feature_file['5_low'][idx]:\n",
    "        asaf_feature.append(low)\n",
    "    #now compute the gaaf features from asaf features\n",
    "    data = {\n",
    "        'min':np.min(asaf_feature),\n",
    "        'max':np.max(asaf_feature),\n",
    "        'upper_q':np.percentile(asaf_feature, 75),\n",
    "        'median': np.percentile(asaf_feature, 50),\n",
    "        'lower_q' : np.percentile(asaf_feature, 25),\n",
    "        'mean' : np.mean(asaf_feature),\n",
    "        'mode' : np.mean(compute_mode(asaf_feature))\n",
    "    }\n",
    "    gaaf_df= gaaf_df.append(data, ignore_index=True)\n",
    "  with open(output_path, \"wb\") as fp:  \n",
    "    pickle.dump(gaaf_df, fp)"
   ],
   "metadata": {
    "id": "gIJxgg-x-tyI",
    "executionInfo": {
     "status": "ok",
     "timestamp": 1662487333278,
     "user_tz": -120,
     "elapsed": 259,
     "user": {
      "displayName": "Laurenz Wurdinger",
      "userId": "00707038666413498638"
     }
    }
   },
   "execution_count": 67,
   "outputs": []
  },
  {
   "cell_type": "markdown",
   "source": [
    "###Drugs"
   ],
   "metadata": {
    "id": "OtoM0LF0BMuD"
   }
  },
  {
   "cell_type": "code",
   "source": [
    "#Save GAAF features for KIBA dataset\n",
    "generate_GAAF_feature(input_path_t1_index=save_KIBA_AAF+'/GAAF_T1_index_drugs', \n",
    "                      input_path_t2_index=save_KIBA_AAF+'/GAAF_T2_index_drugs', \n",
    "                      input_path_features=save_KIBA_SAF+'/ASAF_drugs', \n",
    "                      output_path=save_KIBA_AAF+'/GAAF_drugs')"
   ],
   "metadata": {
    "id": "oixXOZR_riqK"
   },
   "execution_count": null,
   "outputs": []
  },
  {
   "cell_type": "code",
   "source": [],
   "metadata": {
    "id": "1WgjiXndv4V8"
   },
   "execution_count": null,
   "outputs": []
  },
  {
   "cell_type": "markdown",
   "source": [
    "###Targets"
   ],
   "metadata": {
    "id": "uxIxpGOzBO1E"
   }
  },
  {
   "cell_type": "code",
   "source": [
    "#Save GAAF features for KIBA dataset\n",
    "generate_GAAF_feature(input_path_t1_index=save_KIBA_AAF+'/GAAF_T1_index_targets', \n",
    "                      input_path_t2_index=save_KIBA_AAF+'/GAAF_T2_index_targets', \n",
    "                      input_path_features=save_KIBA_SAF+'/ASAF_targets', \n",
    "                      output_path=save_KIBA_AAF+'/GAAF_targets')"
   ],
   "metadata": {
    "id": "1pPJy19MBOLD"
   },
   "execution_count": null,
   "outputs": []
  },
  {
   "cell_type": "code",
   "source": [],
   "metadata": {
    "id": "JjFPih9wBOOC"
   },
   "execution_count": null,
   "outputs": []
  },
  {
   "cell_type": "markdown",
   "source": [
    "##Test"
   ],
   "metadata": {
    "id": "oZwQ7tkmnhmI"
   }
  },
  {
   "cell_type": "code",
   "source": [
    "#Save GAAF features for KIBA dataset\n",
    "generate_GAAF_feature(input_path_t1_index=save_test_AAF+'/GAAF_T1_index_drugs', \n",
    "                      input_path_t2_index=save_test_AAF+'/GAAF_T2_index_drugs', \n",
    "                      input_path_features=save_test_SAF+'/ASAF_drugs', \n",
    "                      output_path=save_test_AAF+'/GAAF_drugs')\n",
    "#Save GAAF features for KIBA dataset\n",
    "generate_GAAF_feature(input_path_t1_index=save_test_AAF+'/GAAF_T1_index_targets', \n",
    "                      input_path_t2_index=save_test_AAF+'/GAAF_T2_index_targets', \n",
    "                      input_path_features=save_test_SAF+'/ASAF_targets', \n",
    "                      output_path=save_test_AAF+'/GAAF_targets')"
   ],
   "metadata": {
    "executionInfo": {
     "status": "ok",
     "timestamp": 1662487336516,
     "user_tz": -120,
     "elapsed": 333,
     "user": {
      "displayName": "Laurenz Wurdinger",
      "userId": "00707038666413498638"
     }
    },
    "id": "u2Z2k7zUnhmJ"
   },
   "execution_count": 68,
   "outputs": []
  },
  {
   "cell_type": "markdown",
   "source": [
    "##Index for AAAF"
   ],
   "metadata": {
    "id": "jVhv_RN85Ezg"
   }
  },
  {
   "cell_type": "code",
   "source": [
    "def AAAF_indexes(input_path:str, output_path: str):\n",
    "  #load similary matrix\n",
    "  sim = np.loadtxt(input_path)\n",
    "  #Sort arary for highes and lowest values\n",
    "  top_5_similar_index=[]\n",
    "  n=5 #n most similar index\n",
    "  for s in sim:\n",
    "    top_5_similar_index.append(np.argsort(-s)[1:n+1].tolist()) #sort and get 5 most similar\n",
    "  #get 5 similar for each of the 5 most similar \n",
    "  aaaf_index=[]\n",
    "  for row in top_5_similar_index:\n",
    "    all_25_index=[]\n",
    "    all_25_index.append([top_5_similar_index[i] for i in row])\n",
    "    flat_list = [subitem for item in all_25_index for subitem in item]\n",
    "    flat_list = [subitem for item in flat_list for subitem in item]\n",
    "    aaaf_index.append(flat_list)\n",
    "\n",
    "  #save to pickl file\n",
    "  with open(output_path, \"wb\") as fp:  \n",
    "    pickle.dump(aaaf_index, fp)\n",
    "  return aaaf_index"
   ],
   "metadata": {
    "id": "ilfLhI8O5LoR",
    "executionInfo": {
     "status": "ok",
     "timestamp": 1662566370705,
     "user_tz": -120,
     "elapsed": 198,
     "user": {
      "displayName": "Laurenz Wurdinger",
      "userId": "00707038666413498638"
     }
    }
   },
   "execution_count": 6,
   "outputs": []
  },
  {
   "cell_type": "markdown",
   "source": [
    "###Drugs"
   ],
   "metadata": {
    "id": "U1NSqkWzBrP1"
   }
  },
  {
   "cell_type": "code",
   "source": [
    "#Save AAAF index for KIBA dataset\n",
    "aaaf_index_KIBA_drugs = AAAF_indexes(input_path=path_KIBA_drug_sim, output_path=save_KIBA_AAF+'/AAAF_index_drugs')"
   ],
   "metadata": {
    "id": "-Bf0_rjH7iM6",
    "executionInfo": {
     "status": "ok",
     "timestamp": 1662566376131,
     "user_tz": -120,
     "elapsed": 4325,
     "user": {
      "displayName": "Laurenz Wurdinger",
      "userId": "00707038666413498638"
     }
    }
   },
   "execution_count": 7,
   "outputs": []
  },
  {
   "cell_type": "code",
   "source": [],
   "metadata": {
    "id": "jnhHgOnC7wR1",
    "executionInfo": {
     "status": "ok",
     "timestamp": 1662566377235,
     "user_tz": -120,
     "elapsed": 1110,
     "user": {
      "displayName": "Laurenz Wurdinger",
      "userId": "00707038666413498638"
     }
    }
   },
   "execution_count": 8,
   "outputs": []
  },
  {
   "cell_type": "markdown",
   "source": [
    "###Targets"
   ],
   "metadata": {
    "id": "stAJQJdtBtfU"
   }
  },
  {
   "cell_type": "code",
   "source": [
    "#Save AAAF index for KIBA dataset\n",
    "aaaf_index_KIBA_drugs = AAAF_indexes(input_path=path_KIBA_target_sim, output_path=save_KIBA_AAF+'/AAAF_index_targets')"
   ],
   "metadata": {
    "id": "RJlQr-0_Bs8D",
    "executionInfo": {
     "status": "ok",
     "timestamp": 1662566377652,
     "user_tz": -120,
     "elapsed": 419,
     "user": {
      "displayName": "Laurenz Wurdinger",
      "userId": "00707038666413498638"
     }
    }
   },
   "execution_count": 9,
   "outputs": []
  },
  {
   "cell_type": "code",
   "source": [],
   "metadata": {
    "id": "JFP5sFjkBtAO",
    "executionInfo": {
     "status": "ok",
     "timestamp": 1662566378490,
     "user_tz": -120,
     "elapsed": 841,
     "user": {
      "displayName": "Laurenz Wurdinger",
      "userId": "00707038666413498638"
     }
    }
   },
   "execution_count": 10,
   "outputs": []
  },
  {
   "cell_type": "markdown",
   "source": [
    "##Test"
   ],
   "metadata": {
    "id": "U3g2NMsgns7o"
   }
  },
  {
   "cell_type": "code",
   "source": [
    "#Save AAAF index for test dataset\n",
    "aaaf_index_test_drugs = AAAF_indexes(input_path=path_test_drug_sim, output_path=save_test_AAF+'/AAAF_index_drugs')\n",
    "#Save AAAF index for test dataset\n",
    "aaaf_index_test_targets = AAAF_indexes(input_path=path_test_target_sim, output_path=save_test_AAF+'/AAAF_index_targets')"
   ],
   "metadata": {
    "executionInfo": {
     "status": "ok",
     "timestamp": 1662489378536,
     "user_tz": -120,
     "elapsed": 2,
     "user": {
      "displayName": "Laurenz Wurdinger",
      "userId": "00707038666413498638"
     }
    },
    "id": "fs87-odGns7p"
   },
   "execution_count": 111,
   "outputs": []
  },
  {
   "cell_type": "markdown",
   "source": [
    "##Gernerate AAAF feature "
   ],
   "metadata": {
    "id": "Hyp98ZzTQ8bA"
   }
  },
  {
   "cell_type": "code",
   "source": [
    "def generate_AAAF_feature(input_path_index:str, input_path_features:str, output_path: str):\n",
    "  with open(input_path_index, \"rb\") as fp:   # Unpickling AAAF_index index\n",
    "    index_file = pickle.load(fp)\n",
    "\n",
    "  with open(input_path_features, \"rb\") as fp:   # Unpickling ASAF features index\n",
    "    feature_file = pickle.load(fp)\n",
    "  \n",
    "  aaaf_features=[]\n",
    "  for row in index_file: #loop through each row of index file --> contains 25 index\n",
    "    asaf_features = []\n",
    "    for idx in row: #loop through each index in the row to extrax the according ASAF features \n",
    "      asaf_features.append(feature_file['mean_1'][idx])\n",
    "      asaf_features.append(feature_file['mean_2'][idx])\n",
    "      asaf_features.append(feature_file['number'][idx])\n",
    "      asaf_features.append(feature_file['mode'][idx])\n",
    "      asaf_features.append(feature_file['25q'][idx])\n",
    "      asaf_features.append(feature_file['50q'][idx])\n",
    "      asaf_features.append(feature_file['75q'][idx])\n",
    "      #Append the 5 high/low values not as an array but as singl values\n",
    "      for high in feature_file['5_high'][idx]:\n",
    "        asaf_features.append(high)\n",
    "      for low in feature_file['5_low'][idx]:\n",
    "        asaf_features.append(high)\n",
    "    aaaf_features.append(asaf_features)\n",
    "  #save to pickl file\n",
    "  with open(output_path, \"wb\") as fp:  \n",
    "    pickle.dump(aaaf_features, fp)"
   ],
   "metadata": {
    "id": "YWAofQAuLq3p",
    "executionInfo": {
     "status": "ok",
     "timestamp": 1662566378493,
     "user_tz": -120,
     "elapsed": 9,
     "user": {
      "displayName": "Laurenz Wurdinger",
      "userId": "00707038666413498638"
     }
    }
   },
   "execution_count": 11,
   "outputs": []
  },
  {
   "cell_type": "markdown",
   "source": [
    "###Drugs"
   ],
   "metadata": {
    "id": "F1WT_G3nB46D"
   }
  },
  {
   "cell_type": "code",
   "source": [
    "#Save AAAF features for KIBA dataset\n",
    "generate_AAAF_feature(input_path_index=save_KIBA_AAF+'/AAAF_index_drugs', input_path_features=save_KIBA_SAF+'/ASAF_drugs', output_path=save_KIBA_AAF+'/AAAF_drugs')"
   ],
   "metadata": {
    "id": "p8lSmnOtUVBK",
    "executionInfo": {
     "status": "ok",
     "timestamp": 1662566392819,
     "user_tz": -120,
     "elapsed": 10570,
     "user": {
      "displayName": "Laurenz Wurdinger",
      "userId": "00707038666413498638"
     }
    }
   },
   "execution_count": 12,
   "outputs": []
  },
  {
   "cell_type": "code",
   "source": [],
   "metadata": {
    "id": "whzzR7aTamcN",
    "executionInfo": {
     "status": "ok",
     "timestamp": 1662566393658,
     "user_tz": -120,
     "elapsed": 909,
     "user": {
      "displayName": "Laurenz Wurdinger",
      "userId": "00707038666413498638"
     }
    }
   },
   "execution_count": 13,
   "outputs": []
  },
  {
   "cell_type": "markdown",
   "source": [
    "###Targets"
   ],
   "metadata": {
    "id": "yJiLwYLVB6XZ"
   }
  },
  {
   "cell_type": "code",
   "source": [
    "#Save AAAF features for KIBA dataset\n",
    "generate_AAAF_feature(input_path_index=save_KIBA_AAF+'/AAAF_index_targets', input_path_features=save_KIBA_SAF+'/ASAF_targets', output_path=save_KIBA_AAF+'/AAAF_targets')"
   ],
   "metadata": {
    "id": "aNnamsdxaJqT",
    "executionInfo": {
     "status": "ok",
     "timestamp": 1662566394889,
     "user_tz": -120,
     "elapsed": 1237,
     "user": {
      "displayName": "Laurenz Wurdinger",
      "userId": "00707038666413498638"
     }
    }
   },
   "execution_count": 14,
   "outputs": []
  },
  {
   "cell_type": "code",
   "source": [],
   "metadata": {
    "id": "saNGNEGJB9R3",
    "executionInfo": {
     "status": "ok",
     "timestamp": 1662566396574,
     "user_tz": -120,
     "elapsed": 1689,
     "user": {
      "displayName": "Laurenz Wurdinger",
      "userId": "00707038666413498638"
     }
    }
   },
   "execution_count": 15,
   "outputs": []
  },
  {
   "cell_type": "markdown",
   "source": [
    "##Test"
   ],
   "metadata": {
    "id": "RmCtHYwAn39e"
   }
  },
  {
   "cell_type": "code",
   "source": [
    "#Save AAAF features for test dataset\n",
    "generate_AAAF_feature(input_path_index=save_test_AAF+'/AAAF_index_drugs', input_path_features=save_test_SAF+'/ASAF_drugs', output_path=save_test_AAF+'/AAAF_drugs')\n",
    "#Save AAAF features for KIBA dataset\n",
    "generate_AAAF_feature(input_path_index=save_test_AAF+'/AAAF_index_targets', input_path_features=save_test_SAF+'/ASAF_targets', output_path=save_test_AAF+'/AAAF_targets')"
   ],
   "metadata": {
    "executionInfo": {
     "status": "ok",
     "timestamp": 1662488855998,
     "user_tz": -120,
     "elapsed": 247,
     "user": {
      "displayName": "Laurenz Wurdinger",
      "userId": "00707038666413498638"
     }
    },
    "id": "YTz4dDCan39h"
   },
   "execution_count": 94,
   "outputs": []
  },
  {
   "cell_type": "code",
   "source": [],
   "metadata": {
    "id": "xWLVAXR6oCYX"
   },
   "execution_count": null,
   "outputs": []
  }
 ]
}
