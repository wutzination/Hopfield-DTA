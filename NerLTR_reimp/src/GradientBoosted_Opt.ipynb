{
 "cells": [
  {
   "cell_type": "code",
   "execution_count": 1,
   "metadata": {
    "executionInfo": {
     "elapsed": 5481,
     "status": "ok",
     "timestamp": 1674063106122,
     "user": {
      "displayName": "Laurenz Wurdinger",
      "userId": "00707038666413498638"
     },
     "user_tz": -60
    },
    "id": "DYMt2BtiYz1J"
   },
   "outputs": [],
   "source": [
    "from matplotlib import pyplot as plt\n",
    "from torch.utils import data\n",
    "import numpy as np\n",
    "import pandas as pd\n",
    "\n",
    "#Organize Data\n",
    "import matplotlib.pyplot as plt\n",
    "import seaborn as sns; sns.set()"
   ]
  },
  {
   "cell_type": "code",
   "execution_count": 2,
   "metadata": {
    "executionInfo": {
     "elapsed": 1927,
     "status": "ok",
     "timestamp": 1674063108039,
     "user": {
      "displayName": "Laurenz Wurdinger",
      "userId": "00707038666413498638"
     },
     "user_tz": -60
    },
    "id": "Nd-73UPgbkSo"
   },
   "outputs": [],
   "source": [
    "from sklearn.ensemble import GradientBoostingRegressor\n",
    "from sklearn.metrics import classification_report, roc_auc_score, confusion_matrix\n",
    "from sklearn.metrics import pairwise_distances\n",
    "from sklearn.cluster import AgglomerativeClustering\n",
    "#Find Hyperparameters\n",
    "from sklearn.model_selection import RandomizedSearchCV, GridSearchCV\n",
    "from ast import literal_eval"
   ]
  },
  {
   "cell_type": "code",
   "execution_count": 3,
   "metadata": {
    "colab": {
     "base_uri": "https://localhost:8080/"
    },
    "executionInfo": {
     "elapsed": 16259,
     "status": "ok",
     "timestamp": 1674063124286,
     "user": {
      "displayName": "Laurenz Wurdinger",
      "userId": "00707038666413498638"
     },
     "user_tz": -60
    },
    "id": "y1EeaHs1Y7hi",
    "outputId": "b6405f8b-3628-472e-b44f-ebb089c75bea"
   },
   "outputs": [
    {
     "output_type": "stream",
     "name": "stdout",
     "text": [
      "Mounted at /content/gdrive\n"
     ]
    }
   ],
   "source": []
  },
  {
   "cell_type": "code",
   "execution_count": 4,
   "metadata": {
    "colab": {
     "base_uri": "https://localhost:8080/"
    },
    "executionInfo": {
     "elapsed": 975,
     "status": "ok",
     "timestamp": 1674063125250,
     "user": {
      "displayName": "Laurenz Wurdinger",
      "userId": "00707038666413498638"
     },
     "user_tz": -60
    },
    "id": "5MpzKm5bY82S",
    "outputId": "168fa308-bf34-4447-df1c-dd4e4d162c27"
   },
   "outputs": [
    {
     "output_type": "stream",
     "name": "stdout",
     "text": [
      "/content/gdrive/My Drive/KI JKU/Seminar_PracticalW_MasterThesis/MasterThesis/NerLTR/data\n"
     ]
    }
   ],
   "source": [
    "#Connect to data folder of NerLTR-DTA\n",
    "root_path = '/data/'\n",
    "import os\n",
    "os.chdir(root_path)\n",
    "!pwd"
   ]
  },
  {
   "cell_type": "code",
   "execution_count": 5,
   "metadata": {
    "executionInfo": {
     "elapsed": 7073,
     "status": "ok",
     "timestamp": 1674063132320,
     "user": {
      "displayName": "Laurenz Wurdinger",
      "userId": "00707038666413498638"
     },
     "user_tz": -60
    },
    "id": "PBgK3PjuVafW",
    "colab": {
     "base_uri": "https://localhost:8080/"
    },
    "outputId": "be282ce3-1071-4b44-e2c8-acee78784acb"
   },
   "outputs": [
    {
     "output_type": "stream",
     "name": "stdout",
     "text": [
      "\u001B[?25l     \u001B[90m━━━━━━━━━━━━━━━━━━━━━━━━━━━━━━━━━━━━━━━━\u001B[0m \u001B[32m0.0/349.7 KB\u001B[0m \u001B[31m?\u001B[0m eta \u001B[36m-:--:--\u001B[0m\r\u001B[2K     \u001B[91m━━━━━━━━━━━━━━━━━━━━━━━━━━━━━━━━━━━━━\u001B[0m\u001B[91m╸\u001B[0m \u001B[32m348.2/349.7 KB\u001B[0m \u001B[31m10.9 MB/s\u001B[0m eta \u001B[36m0:00:01\u001B[0m\r\u001B[2K     \u001B[90m━━━━━━━━━━━━━━━━━━━━━━━━━━━━━━━━━━━━━━━\u001B[0m \u001B[32m349.7/349.7 KB\u001B[0m \u001B[31m7.6 MB/s\u001B[0m eta \u001B[36m0:00:00\u001B[0m\n",
      "\u001B[?25h\u001B[?25l     \u001B[90m━━━━━━━━━━━━━━━━━━━━━━━━━━━━━━━━━━━━━━━━\u001B[0m \u001B[32m0.0/77.1 KB\u001B[0m \u001B[31m?\u001B[0m eta \u001B[36m-:--:--\u001B[0m\r\u001B[2K     \u001B[90m━━━━━━━━━━━━━━━━━━━━━━━━━━━━━━━━━━━━━━━━\u001B[0m \u001B[32m77.1/77.1 KB\u001B[0m \u001B[31m8.6 MB/s\u001B[0m eta \u001B[36m0:00:00\u001B[0m\n",
      "\u001B[?25h  Preparing metadata (setup.py) ... \u001B[?25l\u001B[?25hdone\n",
      "  Building wheel for autograd-gamma (setup.py) ... \u001B[?25l\u001B[?25hdone\n"
     ]
    }
   ],
   "source": [
    "# install lifelines\n",
    "!pip install -q lifelines\n",
    "from lifelines.utils import concordance_index\n",
    "from sklearn.metrics import mean_squared_error, r2_score"
   ]
  },
  {
   "cell_type": "code",
   "execution_count": 6,
   "metadata": {
    "colab": {
     "base_uri": "https://localhost:8080/"
    },
    "executionInfo": {
     "elapsed": 9120,
     "status": "ok",
     "timestamp": 1674063141435,
     "user": {
      "displayName": "Laurenz Wurdinger",
      "userId": "00707038666413498638"
     },
     "user_tz": -60
    },
    "id": "Wh5nx0EvY-Ox",
    "outputId": "e7f09370-0d19-4031-b62f-88e2492df280"
   },
   "outputs": [
    {
     "output_type": "stream",
     "name": "stdout",
     "text": [
      "Looking in indexes: https://pypi.org/simple, https://us-python.pkg.dev/colab-wheels/public/simple/\n",
      "Collecting pickle5\n",
      "  Downloading pickle5-0.0.11.tar.gz (132 kB)\n",
      "\u001B[?25l     \u001B[90m━━━━━━━━━━━━━━━━━━━━━━━━━━━━━━━━━━━━━━━━\u001B[0m \u001B[32m0.0/132.1 KB\u001B[0m \u001B[31m?\u001B[0m eta \u001B[36m-:--:--\u001B[0m\r\u001B[2K     \u001B[90m━━━━━━━━━━━━━━━━━━━━━━━━━━━━━━━━━━━━━━━\u001B[0m \u001B[32m132.1/132.1 KB\u001B[0m \u001B[31m4.4 MB/s\u001B[0m eta \u001B[36m0:00:00\u001B[0m\n",
      "\u001B[?25h  Preparing metadata (setup.py) ... \u001B[?25l\u001B[?25hdone\n",
      "Building wheels for collected packages: pickle5\n",
      "  Building wheel for pickle5 (setup.py) ... \u001B[?25l\u001B[?25hdone\n",
      "  Created wheel for pickle5: filename=pickle5-0.0.11-cp38-cp38-linux_x86_64.whl size=262127 sha256=8016582548a1872223a7f1c34003663e83d24ab5c1f0d4684c34f283fe8d9645\n",
      "  Stored in directory: /root/.cache/pip/wheels/25/d4/61/dbd8edd1a0d656be7b4267c85db3b61951eb60016a0154a122\n",
      "Successfully built pickle5\n",
      "Installing collected packages: pickle5\n",
      "Successfully installed pickle5-0.0.11\n"
     ]
    }
   ],
   "source": [
    "!pip3 install pickle5\n",
    "import pickle5 as pickle"
   ]
  },
  {
   "cell_type": "markdown",
   "metadata": {
    "id": "8u9VwBmn2vcA"
   },
   "source": [
    "#Paths"
   ]
  },
  {
   "cell_type": "code",
   "execution_count": 7,
   "metadata": {
    "executionInfo": {
     "elapsed": 6,
     "status": "ok",
     "timestamp": 1674063142044,
     "user": {
      "displayName": "Laurenz Wurdinger",
      "userId": "00707038666413498638"
     },
     "user_tz": -60
    },
    "id": "AKNodSgk1ZM1"
   },
   "outputs": [],
   "source": [
    "#paths\n",
    "#featues\n",
    "path_train_fold1 = 'features/combined/train_fold1_KIBA.txt'\n",
    "path_train_fold2 = 'features/combined/train_fold2_KIBA.txt'\n",
    "path_train_fold3 = 'features/combined/train_fold3_KIBA.txt'\n",
    "path_train_fold4 = 'features/combined/train_fold4_KIBA.txt'\n",
    "path_train_fold5 = 'features/combined/train_fold5_KIBA.txt'\n",
    "path_test = 'features/test_features_KIBA.txt'\n",
    "\n",
    "#Affinities\n",
    "path_train_fold1_aff_KIBA = 'affi/train_aff_fold1_KIBA.pkl'\n",
    "path_train_fold2_aff_KIBA = 'affi/train_aff_fold2_KIBA.pkl'\n",
    "path_train_fold3_aff_KIBA = 'affi/train_aff_fold3_KIBA.pkl'\n",
    "path_train_fold4_aff_KIBA = 'affi/train_aff_fold4_KIBA.pkl'\n",
    "path_train_fold5_aff_KIBA = 'affi/train_aff_fold5_KIBA.pkl'\n",
    "path_test_aff_KIBA = 'affi/test_aff_KIBA.pkl'"
   ]
  },
  {
   "cell_type": "markdown",
   "metadata": {
    "id": "gVG2KCQu7Yjv"
   },
   "source": [
    "#Get Labels"
   ]
  },
  {
   "cell_type": "code",
   "execution_count": 8,
   "metadata": {
    "colab": {
     "base_uri": "https://localhost:8080/"
    },
    "executionInfo": {
     "elapsed": 1519,
     "status": "ok",
     "timestamp": 1674063143560,
     "user": {
      "displayName": "Laurenz Wurdinger",
      "userId": "00707038666413498638"
     },
     "user_tz": -60
    },
    "id": "k-tOy5PB7crZ",
    "outputId": "cdb66d34-2737-48f3-9820-5ef66b09cc0a"
   },
   "outputs": [
    {
     "output_type": "stream",
     "name": "stdout",
     "text": [
      "Len Fold1:19709\n",
      "Len Fold2:19709\n",
      "Len Fold3:19709\n",
      "Len Fold4:19709\n",
      "Len Fold5:19709\n"
     ]
    }
   ],
   "source": [
    "#KIBA  fold 1-4 = train; fold 5 = val \n",
    "#folds\n",
    "train_affi_fold1_KIBA = pd.read_pickle(path_train_fold1_aff_KIBA)\n",
    "y_train_fold1_KIBA = train_affi_fold1_KIBA['affinity'].tolist()\n",
    "train_affi_fold2_KIBA = pd.read_pickle(path_train_fold2_aff_KIBA)\n",
    "y_train_fold2_KIBA = train_affi_fold2_KIBA['affinity'].tolist()\n",
    "train_affi_fold3_KIBA = pd.read_pickle(path_train_fold3_aff_KIBA)\n",
    "y_train_fold3_KIBA = train_affi_fold3_KIBA['affinity'].tolist()\n",
    "train_affi_fold4_KIBA = pd.read_pickle(path_train_fold4_aff_KIBA)\n",
    "y_train_fold4_KIBA = train_affi_fold4_KIBA['affinity'].tolist()\n",
    "train_affi_fold5_KIBA = pd.read_pickle(path_train_fold5_aff_KIBA)\n",
    "y_train_fold5_KIBA = train_affi_fold5_KIBA['affinity'].tolist()\n",
    "\n",
    "y_train_KIBA = y_train_fold1_KIBA#+y_train_fold2_KIBA+y_train_fold3_KIBA+y_train_fold4_KIBA+y_train_fold5_KIBA\n",
    "\n",
    "#test\n",
    "test_affi_KIBA = pd.read_pickle(path_test_aff_KIBA)\n",
    "y_test_KIBA = test_affi_KIBA['affinity'].tolist()\n",
    "\n",
    "#lengths\n",
    "print(f'Len Fold1:{len(y_train_fold1_KIBA)}')\n",
    "print(f'Len Fold2:{len(y_train_fold2_KIBA)}')\n",
    "print(f'Len Fold3:{len(y_train_fold3_KIBA)}')\n",
    "print(f'Len Fold4:{len(y_train_fold4_KIBA)}')\n",
    "print(f'Len Fold5:{len(y_train_fold5_KIBA)}')"
   ]
  },
  {
   "cell_type": "markdown",
   "source": [
    "#Get IDs"
   ],
   "metadata": {
    "id": "9I85q-NH1WYR"
   }
  },
  {
   "cell_type": "code",
   "source": [
    "#KIBA  fold 1-4 = train; fold 5 = val \n",
    "#folds\n",
    "y_train_fold1_KIBA_ID = train_affi_fold1_KIBA['target_ID'].tolist()\n",
    "y_train_fold2_KIBA_ID = train_affi_fold2_KIBA['target_ID'].tolist()\n",
    "y_train_fold3_KIBA_ID = train_affi_fold3_KIBA['target_ID'].tolist()\n",
    "y_train_fold4_KIBA_ID = train_affi_fold4_KIBA['target_ID'].tolist()\n",
    "y_train_fold5_KIBA_ID = train_affi_fold5_KIBA['target_ID'].tolist()\n",
    "\n",
    "y_train_KIBA_ID = y_train_fold1_KIBA_ID#+y_train_fold2_KIBA_ID+y_train_fold3_KIBA_ID+y_train_fold4_KIBA_ID+y_train_fold5_KIBA_ID\n",
    "\n",
    "#test\n",
    "y_test_KIBA_ID = test_affi_KIBA['target_ID'].tolist()\n",
    "\n",
    "#lengths\n",
    "print(f'Len Fold1:{len(y_train_fold1_KIBA_ID)}')\n",
    "print(f'Len Fold2:{len(y_train_fold2_KIBA_ID)}')\n",
    "print(f'Len Fold3:{len(y_train_fold3_KIBA_ID)}')\n",
    "print(f'Len Fold4:{len(y_train_fold4_KIBA_ID)}')\n",
    "print(f'Len Fold5:{len(y_train_fold5_KIBA_ID)}')\n",
    "print(f'Len Test:{len(y_test_KIBA_ID)}')"
   ],
   "metadata": {
    "colab": {
     "base_uri": "https://localhost:8080/"
    },
    "id": "sacUqEjK1TSX",
    "executionInfo": {
     "status": "ok",
     "timestamp": 1674063143562,
     "user_tz": -60,
     "elapsed": 8,
     "user": {
      "displayName": "Laurenz Wurdinger",
      "userId": "00707038666413498638"
     }
    },
    "outputId": "264b5519-1499-4ff8-ac84-be79d9d98ea4"
   },
   "execution_count": 9,
   "outputs": [
    {
     "output_type": "stream",
     "name": "stdout",
     "text": [
      "Len Fold1:19709\n",
      "Len Fold2:19709\n",
      "Len Fold3:19709\n",
      "Len Fold4:19709\n",
      "Len Fold5:19709\n",
      "Len Test:19709\n"
     ]
    }
   ]
  },
  {
   "cell_type": "markdown",
   "metadata": {
    "id": "ThEx_UjB2vCx"
   },
   "source": [
    "#Get Features"
   ]
  },
  {
   "cell_type": "code",
   "execution_count": 10,
   "metadata": {
    "executionInfo": {
     "elapsed": 74306,
     "status": "ok",
     "timestamp": 1674063217862,
     "user": {
      "displayName": "Laurenz Wurdinger",
      "userId": "00707038666413498638"
     },
     "user_tz": -60
    },
    "id": "ynrH9B1d2uNr"
   },
   "outputs": [],
   "source": [
    "#folds drugs\n",
    "train_fold1=np.loadtxt(path_train_fold1)\n",
    "train_fold2=np.loadtxt(path_train_fold2)\n",
    "train_fold3=np.loadtxt(path_train_fold3)\n",
    "train_fold4=np.loadtxt(path_train_fold4)\n",
    "train_fold5=np.loadtxt(path_train_fold5)\n",
    "test_data=np.loadtxt(path_test)"
   ]
  },
  {
   "cell_type": "code",
   "execution_count": 11,
   "metadata": {
    "colab": {
     "base_uri": "https://localhost:8080/"
    },
    "executionInfo": {
     "elapsed": 47,
     "status": "ok",
     "timestamp": 1674063217863,
     "user": {
      "displayName": "Laurenz Wurdinger",
      "userId": "00707038666413498638"
     },
     "user_tz": -60
    },
    "id": "gqoylqVV5qKh",
    "outputId": "5e134235-e855-44d6-d7b1-8786aef01dfd"
   },
   "outputs": [
    {
     "output_type": "stream",
     "name": "stdout",
     "text": [
      "Len Fold1: 908\n",
      "Len Test: 19709\n"
     ]
    }
   ],
   "source": [
    "print(f'Len Fold1: {len(train_fold1[0])}')\n",
    "print(f'Len Test: {len(test_data)}')"
   ]
  },
  {
   "cell_type": "code",
   "execution_count": 12,
   "metadata": {
    "executionInfo": {
     "elapsed": 35,
     "status": "ok",
     "timestamp": 1674063217864,
     "user": {
      "displayName": "Laurenz Wurdinger",
      "userId": "00707038666413498638"
     },
     "user_tz": -60
    },
    "id": "qFMxsNQ34cuV"
   },
   "outputs": [],
   "source": [
    "args1=(train_fold1,train_fold2,train_fold3,train_fold4,train_fold5)\n",
    "train_data=train_fold1#np.concatenate(args1)"
   ]
  },
  {
   "cell_type": "code",
   "execution_count": 13,
   "metadata": {
    "colab": {
     "base_uri": "https://localhost:8080/"
    },
    "executionInfo": {
     "elapsed": 33,
     "status": "ok",
     "timestamp": 1674063217865,
     "user": {
      "displayName": "Laurenz Wurdinger",
      "userId": "00707038666413498638"
     },
     "user_tz": -60
    },
    "id": "n20Scg526mW_",
    "outputId": "0dcc03a5-16aa-4bba-8a9b-ffa2ed41f572"
   },
   "outputs": [
    {
     "output_type": "stream",
     "name": "stdout",
     "text": [
      "Len Trainset: 19709\n"
     ]
    }
   ],
   "source": [
    "print(f'Len Trainset: {len(train_data)}')"
   ]
  },
  {
   "cell_type": "markdown",
   "metadata": {
    "id": "Wmqqq5465i_c"
   },
   "source": [
    "#Hyperpara Search"
   ]
  },
  {
   "cell_type": "code",
   "execution_count": null,
   "metadata": {
    "id": "FNr9dN-pBXJ7"
   },
   "outputs": [],
   "source": [
    "GBR=GradientBoostingRegressor()\n",
    "n_estimators = [200, 400, 600 ,800]\n",
    "max_depth = [5, 10, 15 , 20]\n",
    "min_samples_leaf = [1, 4, 8] \n",
    "min_samples_split = [6, 10, 14]\n",
    "max_features = ['sqrt']\n",
    "learning_rate = [0.1, 0.05, 0.01]\n",
    "\n",
    "# Define the grid of hyperparameters to search\n",
    "param_grid = {\n",
    "    'n_estimators': n_estimators,\n",
    "    'max_depth': max_depth,\n",
    "    'min_samples_leaf': min_samples_leaf,\n",
    "    'min_samples_split': min_samples_split,\n",
    "    'max_features': max_features,\n",
    "    'learning_rate':learning_rate}\n"
   ]
  },
  {
   "cell_type": "code",
   "execution_count": null,
   "metadata": {
    "colab": {
     "base_uri": "https://localhost:8080/"
    },
    "id": "J3aWR38mH8q7",
    "executionInfo": {
     "status": "ok",
     "timestamp": 1667787134337,
     "user_tz": -60,
     "elapsed": 30849629,
     "user": {
      "displayName": "Laurenz Wurdinger",
      "userId": "00707038666413498638"
     }
    },
    "outputId": "2967140a-d911-494a-99c1-79d0a31e3520"
   },
   "outputs": [
    {
     "output_type": "stream",
     "name": "stdout",
     "text": [
      "Fitting 5 folds for each of 50 candidates, totalling 250 fits\n",
      "[CV 1/5] END learning_rate=0.01, max_depth=5, max_features=sqrt, min_samples_leaf=1, min_samples_split=10, n_estimators=200;, score=0.499 total time=  22.8s\n",
      "[CV 2/5] END learning_rate=0.01, max_depth=5, max_features=sqrt, min_samples_leaf=1, min_samples_split=10, n_estimators=200;, score=0.491 total time=  21.9s\n",
      "[CV 3/5] END learning_rate=0.01, max_depth=5, max_features=sqrt, min_samples_leaf=1, min_samples_split=10, n_estimators=200;, score=0.472 total time=  21.9s\n",
      "[CV 4/5] END learning_rate=0.01, max_depth=5, max_features=sqrt, min_samples_leaf=1, min_samples_split=10, n_estimators=200;, score=0.478 total time=  21.7s\n",
      "[CV 5/5] END learning_rate=0.01, max_depth=5, max_features=sqrt, min_samples_leaf=1, min_samples_split=10, n_estimators=200;, score=0.481 total time=  21.7s\n",
      "[CV 1/5] END learning_rate=0.01, max_depth=15, max_features=sqrt, min_samples_leaf=1, min_samples_split=10, n_estimators=400;, score=0.602 total time= 1.9min\n",
      "[CV 2/5] END learning_rate=0.01, max_depth=15, max_features=sqrt, min_samples_leaf=1, min_samples_split=10, n_estimators=400;, score=0.608 total time= 1.9min\n",
      "[CV 3/5] END learning_rate=0.01, max_depth=15, max_features=sqrt, min_samples_leaf=1, min_samples_split=10, n_estimators=400;, score=0.594 total time= 1.9min\n",
      "[CV 4/5] END learning_rate=0.01, max_depth=15, max_features=sqrt, min_samples_leaf=1, min_samples_split=10, n_estimators=400;, score=0.620 total time= 1.9min\n",
      "[CV 5/5] END learning_rate=0.01, max_depth=15, max_features=sqrt, min_samples_leaf=1, min_samples_split=10, n_estimators=400;, score=0.593 total time= 1.9min\n",
      "[CV 1/5] END learning_rate=0.01, max_depth=15, max_features=sqrt, min_samples_leaf=1, min_samples_split=10, n_estimators=600;, score=0.605 total time= 2.8min\n",
      "[CV 2/5] END learning_rate=0.01, max_depth=15, max_features=sqrt, min_samples_leaf=1, min_samples_split=10, n_estimators=600;, score=0.608 total time= 2.8min\n",
      "[CV 3/5] END learning_rate=0.01, max_depth=15, max_features=sqrt, min_samples_leaf=1, min_samples_split=10, n_estimators=600;, score=0.600 total time= 2.9min\n",
      "[CV 4/5] END learning_rate=0.01, max_depth=15, max_features=sqrt, min_samples_leaf=1, min_samples_split=10, n_estimators=600;, score=0.623 total time= 3.0min\n",
      "[CV 5/5] END learning_rate=0.01, max_depth=15, max_features=sqrt, min_samples_leaf=1, min_samples_split=10, n_estimators=600;, score=0.592 total time= 2.9min\n",
      "[CV 1/5] END learning_rate=0.1, max_depth=20, max_features=sqrt, min_samples_leaf=1, min_samples_split=14, n_estimators=800;, score=0.574 total time= 5.2min\n",
      "[CV 2/5] END learning_rate=0.1, max_depth=20, max_features=sqrt, min_samples_leaf=1, min_samples_split=14, n_estimators=800;, score=0.581 total time= 5.0min\n",
      "[CV 3/5] END learning_rate=0.1, max_depth=20, max_features=sqrt, min_samples_leaf=1, min_samples_split=14, n_estimators=800;, score=0.569 total time= 5.1min\n",
      "[CV 4/5] END learning_rate=0.1, max_depth=20, max_features=sqrt, min_samples_leaf=1, min_samples_split=14, n_estimators=800;, score=0.603 total time= 5.2min\n",
      "[CV 5/5] END learning_rate=0.1, max_depth=20, max_features=sqrt, min_samples_leaf=1, min_samples_split=14, n_estimators=800;, score=0.564 total time= 5.2min\n",
      "[CV 1/5] END learning_rate=0.05, max_depth=15, max_features=sqrt, min_samples_leaf=4, min_samples_split=14, n_estimators=200;, score=0.602 total time=  57.5s\n",
      "[CV 2/5] END learning_rate=0.05, max_depth=15, max_features=sqrt, min_samples_leaf=4, min_samples_split=14, n_estimators=200;, score=0.606 total time=  57.0s\n",
      "[CV 3/5] END learning_rate=0.05, max_depth=15, max_features=sqrt, min_samples_leaf=4, min_samples_split=14, n_estimators=200;, score=0.600 total time=  57.3s\n",
      "[CV 4/5] END learning_rate=0.05, max_depth=15, max_features=sqrt, min_samples_leaf=4, min_samples_split=14, n_estimators=200;, score=0.625 total time=  57.6s\n",
      "[CV 5/5] END learning_rate=0.05, max_depth=15, max_features=sqrt, min_samples_leaf=4, min_samples_split=14, n_estimators=200;, score=0.588 total time=  57.6s\n",
      "[CV 1/5] END learning_rate=0.1, max_depth=20, max_features=sqrt, min_samples_leaf=1, min_samples_split=14, n_estimators=400;, score=0.587 total time= 2.4min\n",
      "[CV 2/5] END learning_rate=0.1, max_depth=20, max_features=sqrt, min_samples_leaf=1, min_samples_split=14, n_estimators=400;, score=0.580 total time= 2.4min\n",
      "[CV 3/5] END learning_rate=0.1, max_depth=20, max_features=sqrt, min_samples_leaf=1, min_samples_split=14, n_estimators=400;, score=0.584 total time= 2.4min\n",
      "[CV 4/5] END learning_rate=0.1, max_depth=20, max_features=sqrt, min_samples_leaf=1, min_samples_split=14, n_estimators=400;, score=0.599 total time= 2.4min\n",
      "[CV 5/5] END learning_rate=0.1, max_depth=20, max_features=sqrt, min_samples_leaf=1, min_samples_split=14, n_estimators=400;, score=0.575 total time= 2.4min\n",
      "[CV 1/5] END learning_rate=0.1, max_depth=5, max_features=sqrt, min_samples_leaf=1, min_samples_split=10, n_estimators=200;, score=0.569 total time=  22.4s\n",
      "[CV 2/5] END learning_rate=0.1, max_depth=5, max_features=sqrt, min_samples_leaf=1, min_samples_split=10, n_estimators=200;, score=0.571 total time=  22.4s\n",
      "[CV 3/5] END learning_rate=0.1, max_depth=5, max_features=sqrt, min_samples_leaf=1, min_samples_split=10, n_estimators=200;, score=0.557 total time=  22.8s\n",
      "[CV 4/5] END learning_rate=0.1, max_depth=5, max_features=sqrt, min_samples_leaf=1, min_samples_split=10, n_estimators=200;, score=0.567 total time=  22.5s\n",
      "[CV 5/5] END learning_rate=0.1, max_depth=5, max_features=sqrt, min_samples_leaf=1, min_samples_split=10, n_estimators=200;, score=0.569 total time=  22.5s\n",
      "[CV 1/5] END learning_rate=0.01, max_depth=10, max_features=sqrt, min_samples_leaf=8, min_samples_split=14, n_estimators=800;, score=0.611 total time= 2.8min\n",
      "[CV 2/5] END learning_rate=0.01, max_depth=10, max_features=sqrt, min_samples_leaf=8, min_samples_split=14, n_estimators=800;, score=0.612 total time= 2.8min\n",
      "[CV 3/5] END learning_rate=0.01, max_depth=10, max_features=sqrt, min_samples_leaf=8, min_samples_split=14, n_estimators=800;, score=0.602 total time= 2.8min\n",
      "[CV 4/5] END learning_rate=0.01, max_depth=10, max_features=sqrt, min_samples_leaf=8, min_samples_split=14, n_estimators=800;, score=0.620 total time= 2.7min\n",
      "[CV 5/5] END learning_rate=0.01, max_depth=10, max_features=sqrt, min_samples_leaf=8, min_samples_split=14, n_estimators=800;, score=0.600 total time= 2.8min\n",
      "[CV 1/5] END learning_rate=0.1, max_depth=15, max_features=sqrt, min_samples_leaf=8, min_samples_split=10, n_estimators=400;, score=0.590 total time= 1.9min\n",
      "[CV 2/5] END learning_rate=0.1, max_depth=15, max_features=sqrt, min_samples_leaf=8, min_samples_split=10, n_estimators=400;, score=0.604 total time= 2.0min\n",
      "[CV 3/5] END learning_rate=0.1, max_depth=15, max_features=sqrt, min_samples_leaf=8, min_samples_split=10, n_estimators=400;, score=0.593 total time= 2.0min\n",
      "[CV 4/5] END learning_rate=0.1, max_depth=15, max_features=sqrt, min_samples_leaf=8, min_samples_split=10, n_estimators=400;, score=0.618 total time= 2.0min\n",
      "[CV 5/5] END learning_rate=0.1, max_depth=15, max_features=sqrt, min_samples_leaf=8, min_samples_split=10, n_estimators=400;, score=0.583 total time= 2.0min\n",
      "[CV 1/5] END learning_rate=0.05, max_depth=20, max_features=sqrt, min_samples_leaf=4, min_samples_split=10, n_estimators=600;, score=0.597 total time= 3.7min\n",
      "[CV 2/5] END learning_rate=0.05, max_depth=20, max_features=sqrt, min_samples_leaf=4, min_samples_split=10, n_estimators=600;, score=0.607 total time= 3.8min\n",
      "[CV 3/5] END learning_rate=0.05, max_depth=20, max_features=sqrt, min_samples_leaf=4, min_samples_split=10, n_estimators=600;, score=0.593 total time= 3.8min\n",
      "[CV 4/5] END learning_rate=0.05, max_depth=20, max_features=sqrt, min_samples_leaf=4, min_samples_split=10, n_estimators=600;, score=0.620 total time= 3.8min\n",
      "[CV 5/5] END learning_rate=0.05, max_depth=20, max_features=sqrt, min_samples_leaf=4, min_samples_split=10, n_estimators=600;, score=0.589 total time= 3.8min\n",
      "[CV 1/5] END learning_rate=0.05, max_depth=15, max_features=sqrt, min_samples_leaf=4, min_samples_split=10, n_estimators=200;, score=0.603 total time=  56.9s\n",
      "[CV 2/5] END learning_rate=0.05, max_depth=15, max_features=sqrt, min_samples_leaf=4, min_samples_split=10, n_estimators=200;, score=0.609 total time=  57.7s\n",
      "[CV 3/5] END learning_rate=0.05, max_depth=15, max_features=sqrt, min_samples_leaf=4, min_samples_split=10, n_estimators=200;, score=0.594 total time=  58.1s\n",
      "[CV 4/5] END learning_rate=0.05, max_depth=15, max_features=sqrt, min_samples_leaf=4, min_samples_split=10, n_estimators=200;, score=0.623 total time=  58.1s\n",
      "[CV 5/5] END learning_rate=0.05, max_depth=15, max_features=sqrt, min_samples_leaf=4, min_samples_split=10, n_estimators=200;, score=0.586 total time=  58.2s\n",
      "[CV 1/5] END learning_rate=0.05, max_depth=5, max_features=sqrt, min_samples_leaf=4, min_samples_split=10, n_estimators=400;, score=0.582 total time=  45.1s\n",
      "[CV 2/5] END learning_rate=0.05, max_depth=5, max_features=sqrt, min_samples_leaf=4, min_samples_split=10, n_estimators=400;, score=0.579 total time=  44.7s\n",
      "[CV 3/5] END learning_rate=0.05, max_depth=5, max_features=sqrt, min_samples_leaf=4, min_samples_split=10, n_estimators=400;, score=0.568 total time=  45.1s\n",
      "[CV 4/5] END learning_rate=0.05, max_depth=5, max_features=sqrt, min_samples_leaf=4, min_samples_split=10, n_estimators=400;, score=0.581 total time=  45.2s\n",
      "[CV 5/5] END learning_rate=0.05, max_depth=5, max_features=sqrt, min_samples_leaf=4, min_samples_split=10, n_estimators=400;, score=0.566 total time=  45.1s\n",
      "[CV 1/5] END learning_rate=0.01, max_depth=15, max_features=sqrt, min_samples_leaf=8, min_samples_split=10, n_estimators=800;, score=0.613 total time= 3.7min\n",
      "[CV 2/5] END learning_rate=0.01, max_depth=15, max_features=sqrt, min_samples_leaf=8, min_samples_split=10, n_estimators=800;, score=0.618 total time= 3.7min\n",
      "[CV 3/5] END learning_rate=0.01, max_depth=15, max_features=sqrt, min_samples_leaf=8, min_samples_split=10, n_estimators=800;, score=0.604 total time= 3.7min\n",
      "[CV 4/5] END learning_rate=0.01, max_depth=15, max_features=sqrt, min_samples_leaf=8, min_samples_split=10, n_estimators=800;, score=0.627 total time= 3.7min\n",
      "[CV 5/5] END learning_rate=0.01, max_depth=15, max_features=sqrt, min_samples_leaf=8, min_samples_split=10, n_estimators=800;, score=0.599 total time= 3.7min\n",
      "[CV 1/5] END learning_rate=0.05, max_depth=15, max_features=sqrt, min_samples_leaf=8, min_samples_split=14, n_estimators=400;, score=0.606 total time= 1.9min\n",
      "[CV 2/5] END learning_rate=0.05, max_depth=15, max_features=sqrt, min_samples_leaf=8, min_samples_split=14, n_estimators=400;, score=0.613 total time= 1.9min\n",
      "[CV 3/5] END learning_rate=0.05, max_depth=15, max_features=sqrt, min_samples_leaf=8, min_samples_split=14, n_estimators=400;, score=0.598 total time= 1.9min\n",
      "[CV 4/5] END learning_rate=0.05, max_depth=15, max_features=sqrt, min_samples_leaf=8, min_samples_split=14, n_estimators=400;, score=0.618 total time= 1.9min\n",
      "[CV 5/5] END learning_rate=0.05, max_depth=15, max_features=sqrt, min_samples_leaf=8, min_samples_split=14, n_estimators=400;, score=0.597 total time= 1.9min\n",
      "[CV 1/5] END learning_rate=0.01, max_depth=5, max_features=sqrt, min_samples_leaf=1, min_samples_split=10, n_estimators=800;, score=0.561 total time= 1.5min\n",
      "[CV 2/5] END learning_rate=0.01, max_depth=5, max_features=sqrt, min_samples_leaf=1, min_samples_split=10, n_estimators=800;, score=0.560 total time= 1.5min\n",
      "[CV 3/5] END learning_rate=0.01, max_depth=5, max_features=sqrt, min_samples_leaf=1, min_samples_split=10, n_estimators=800;, score=0.550 total time= 1.5min\n",
      "[CV 4/5] END learning_rate=0.01, max_depth=5, max_features=sqrt, min_samples_leaf=1, min_samples_split=10, n_estimators=800;, score=0.560 total time= 1.5min\n",
      "[CV 5/5] END learning_rate=0.01, max_depth=5, max_features=sqrt, min_samples_leaf=1, min_samples_split=10, n_estimators=800;, score=0.552 total time= 1.5min\n",
      "[CV 1/5] END learning_rate=0.05, max_depth=20, max_features=sqrt, min_samples_leaf=1, min_samples_split=14, n_estimators=200;, score=0.590 total time= 1.1min\n",
      "[CV 2/5] END learning_rate=0.05, max_depth=20, max_features=sqrt, min_samples_leaf=1, min_samples_split=14, n_estimators=200;, score=0.595 total time= 1.1min\n",
      "[CV 3/5] END learning_rate=0.05, max_depth=20, max_features=sqrt, min_samples_leaf=1, min_samples_split=14, n_estimators=200;, score=0.589 total time= 1.1min\n",
      "[CV 4/5] END learning_rate=0.05, max_depth=20, max_features=sqrt, min_samples_leaf=1, min_samples_split=14, n_estimators=200;, score=0.608 total time= 1.1min\n",
      "[CV 5/5] END learning_rate=0.05, max_depth=20, max_features=sqrt, min_samples_leaf=1, min_samples_split=14, n_estimators=200;, score=0.584 total time= 1.1min\n",
      "[CV 1/5] END learning_rate=0.05, max_depth=15, max_features=sqrt, min_samples_leaf=8, min_samples_split=6, n_estimators=600;, score=0.609 total time= 2.8min\n",
      "[CV 2/5] END learning_rate=0.05, max_depth=15, max_features=sqrt, min_samples_leaf=8, min_samples_split=6, n_estimators=600;, score=0.608 total time= 2.9min\n",
      "[CV 3/5] END learning_rate=0.05, max_depth=15, max_features=sqrt, min_samples_leaf=8, min_samples_split=6, n_estimators=600;, score=0.601 total time= 2.9min\n",
      "[CV 4/5] END learning_rate=0.05, max_depth=15, max_features=sqrt, min_samples_leaf=8, min_samples_split=6, n_estimators=600;, score=0.624 total time= 2.9min\n",
      "[CV 5/5] END learning_rate=0.05, max_depth=15, max_features=sqrt, min_samples_leaf=8, min_samples_split=6, n_estimators=600;, score=0.592 total time= 2.9min\n",
      "[CV 1/5] END learning_rate=0.05, max_depth=15, max_features=sqrt, min_samples_leaf=8, min_samples_split=10, n_estimators=800;, score=0.608 total time= 3.9min\n",
      "[CV 2/5] END learning_rate=0.05, max_depth=15, max_features=sqrt, min_samples_leaf=8, min_samples_split=10, n_estimators=800;, score=0.616 total time= 3.9min\n",
      "[CV 3/5] END learning_rate=0.05, max_depth=15, max_features=sqrt, min_samples_leaf=8, min_samples_split=10, n_estimators=800;, score=0.605 total time= 3.9min\n",
      "[CV 4/5] END learning_rate=0.05, max_depth=15, max_features=sqrt, min_samples_leaf=8, min_samples_split=10, n_estimators=800;, score=0.625 total time= 3.9min\n",
      "[CV 5/5] END learning_rate=0.05, max_depth=15, max_features=sqrt, min_samples_leaf=8, min_samples_split=10, n_estimators=800;, score=0.595 total time= 3.9min\n",
      "[CV 1/5] END learning_rate=0.05, max_depth=15, max_features=sqrt, min_samples_leaf=4, min_samples_split=6, n_estimators=200;, score=0.603 total time=  56.6s\n",
      "[CV 2/5] END learning_rate=0.05, max_depth=15, max_features=sqrt, min_samples_leaf=4, min_samples_split=6, n_estimators=200;, score=0.607 total time=  56.5s\n",
      "[CV 3/5] END learning_rate=0.05, max_depth=15, max_features=sqrt, min_samples_leaf=4, min_samples_split=6, n_estimators=200;, score=0.599 total time=  57.4s\n",
      "[CV 4/5] END learning_rate=0.05, max_depth=15, max_features=sqrt, min_samples_leaf=4, min_samples_split=6, n_estimators=200;, score=0.620 total time=  56.9s\n",
      "[CV 5/5] END learning_rate=0.05, max_depth=15, max_features=sqrt, min_samples_leaf=4, min_samples_split=6, n_estimators=200;, score=0.590 total time=  57.5s\n",
      "[CV 1/5] END learning_rate=0.01, max_depth=5, max_features=sqrt, min_samples_leaf=1, min_samples_split=6, n_estimators=400;, score=0.540 total time=  43.6s\n",
      "[CV 2/5] END learning_rate=0.01, max_depth=5, max_features=sqrt, min_samples_leaf=1, min_samples_split=6, n_estimators=400;, score=0.540 total time=  43.8s\n",
      "[CV 3/5] END learning_rate=0.01, max_depth=5, max_features=sqrt, min_samples_leaf=1, min_samples_split=6, n_estimators=400;, score=0.525 total time=  43.7s\n",
      "[CV 4/5] END learning_rate=0.01, max_depth=5, max_features=sqrt, min_samples_leaf=1, min_samples_split=6, n_estimators=400;, score=0.532 total time=  43.3s\n",
      "[CV 5/5] END learning_rate=0.01, max_depth=5, max_features=sqrt, min_samples_leaf=1, min_samples_split=6, n_estimators=400;, score=0.530 total time=  43.7s\n",
      "[CV 1/5] END learning_rate=0.1, max_depth=5, max_features=sqrt, min_samples_leaf=1, min_samples_split=10, n_estimators=400;, score=0.575 total time=  44.1s\n",
      "[CV 2/5] END learning_rate=0.1, max_depth=5, max_features=sqrt, min_samples_leaf=1, min_samples_split=10, n_estimators=400;, score=0.586 total time=  44.0s\n",
      "[CV 3/5] END learning_rate=0.1, max_depth=5, max_features=sqrt, min_samples_leaf=1, min_samples_split=10, n_estimators=400;, score=0.560 total time=  44.5s\n",
      "[CV 4/5] END learning_rate=0.1, max_depth=5, max_features=sqrt, min_samples_leaf=1, min_samples_split=10, n_estimators=400;, score=0.584 total time=  44.9s\n",
      "[CV 5/5] END learning_rate=0.1, max_depth=5, max_features=sqrt, min_samples_leaf=1, min_samples_split=10, n_estimators=400;, score=0.564 total time=  44.6s\n",
      "[CV 1/5] END learning_rate=0.1, max_depth=10, max_features=sqrt, min_samples_leaf=1, min_samples_split=14, n_estimators=800;, score=0.583 total time= 2.8min\n",
      "[CV 2/5] END learning_rate=0.1, max_depth=10, max_features=sqrt, min_samples_leaf=1, min_samples_split=14, n_estimators=800;, score=0.603 total time= 2.8min\n",
      "[CV 3/5] END learning_rate=0.1, max_depth=10, max_features=sqrt, min_samples_leaf=1, min_samples_split=14, n_estimators=800;, score=0.594 total time= 2.8min\n",
      "[CV 4/5] END learning_rate=0.1, max_depth=10, max_features=sqrt, min_samples_leaf=1, min_samples_split=14, n_estimators=800;, score=0.611 total time= 2.8min\n",
      "[CV 5/5] END learning_rate=0.1, max_depth=10, max_features=sqrt, min_samples_leaf=1, min_samples_split=14, n_estimators=800;, score=0.578 total time= 2.8min\n",
      "[CV 1/5] END learning_rate=0.1, max_depth=15, max_features=sqrt, min_samples_leaf=8, min_samples_split=14, n_estimators=800;, score=0.593 total time= 3.9min\n",
      "[CV 2/5] END learning_rate=0.1, max_depth=15, max_features=sqrt, min_samples_leaf=8, min_samples_split=14, n_estimators=800;, score=0.608 total time= 3.9min\n",
      "[CV 3/5] END learning_rate=0.1, max_depth=15, max_features=sqrt, min_samples_leaf=8, min_samples_split=14, n_estimators=800;, score=0.589 total time= 3.9min\n",
      "[CV 4/5] END learning_rate=0.1, max_depth=15, max_features=sqrt, min_samples_leaf=8, min_samples_split=14, n_estimators=800;, score=0.605 total time= 4.0min\n",
      "[CV 5/5] END learning_rate=0.1, max_depth=15, max_features=sqrt, min_samples_leaf=8, min_samples_split=14, n_estimators=800;, score=0.589 total time= 3.9min\n",
      "[CV 1/5] END learning_rate=0.05, max_depth=20, max_features=sqrt, min_samples_leaf=8, min_samples_split=14, n_estimators=400;, score=0.610 total time= 2.3min\n",
      "[CV 2/5] END learning_rate=0.05, max_depth=20, max_features=sqrt, min_samples_leaf=8, min_samples_split=14, n_estimators=400;, score=0.608 total time= 2.4min\n",
      "[CV 3/5] END learning_rate=0.05, max_depth=20, max_features=sqrt, min_samples_leaf=8, min_samples_split=14, n_estimators=400;, score=0.599 total time= 2.4min\n",
      "[CV 4/5] END learning_rate=0.05, max_depth=20, max_features=sqrt, min_samples_leaf=8, min_samples_split=14, n_estimators=400;, score=0.624 total time= 2.4min\n",
      "[CV 5/5] END learning_rate=0.05, max_depth=20, max_features=sqrt, min_samples_leaf=8, min_samples_split=14, n_estimators=400;, score=0.592 total time= 2.4min\n",
      "[CV 1/5] END learning_rate=0.01, max_depth=10, max_features=sqrt, min_samples_leaf=4, min_samples_split=14, n_estimators=200;, score=0.569 total time=  40.1s\n",
      "[CV 2/5] END learning_rate=0.01, max_depth=10, max_features=sqrt, min_samples_leaf=4, min_samples_split=14, n_estimators=200;, score=0.562 total time=  39.7s\n",
      "[CV 3/5] END learning_rate=0.01, max_depth=10, max_features=sqrt, min_samples_leaf=4, min_samples_split=14, n_estimators=200;, score=0.549 total time=  39.9s\n",
      "[CV 4/5] END learning_rate=0.01, max_depth=10, max_features=sqrt, min_samples_leaf=4, min_samples_split=14, n_estimators=200;, score=0.561 total time=  40.0s\n",
      "[CV 5/5] END learning_rate=0.01, max_depth=10, max_features=sqrt, min_samples_leaf=4, min_samples_split=14, n_estimators=200;, score=0.557 total time=  39.9s\n",
      "[CV 1/5] END learning_rate=0.1, max_depth=5, max_features=sqrt, min_samples_leaf=4, min_samples_split=10, n_estimators=400;, score=0.582 total time=  43.9s\n",
      "[CV 2/5] END learning_rate=0.1, max_depth=5, max_features=sqrt, min_samples_leaf=4, min_samples_split=10, n_estimators=400;, score=0.581 total time=  44.4s\n",
      "[CV 3/5] END learning_rate=0.1, max_depth=5, max_features=sqrt, min_samples_leaf=4, min_samples_split=10, n_estimators=400;, score=0.573 total time=  44.0s\n",
      "[CV 4/5] END learning_rate=0.1, max_depth=5, max_features=sqrt, min_samples_leaf=4, min_samples_split=10, n_estimators=400;, score=0.587 total time=  44.0s\n",
      "[CV 5/5] END learning_rate=0.1, max_depth=5, max_features=sqrt, min_samples_leaf=4, min_samples_split=10, n_estimators=400;, score=0.575 total time=  44.0s\n",
      "[CV 1/5] END learning_rate=0.05, max_depth=5, max_features=sqrt, min_samples_leaf=4, min_samples_split=14, n_estimators=400;, score=0.575 total time=  44.3s\n",
      "[CV 2/5] END learning_rate=0.05, max_depth=5, max_features=sqrt, min_samples_leaf=4, min_samples_split=14, n_estimators=400;, score=0.582 total time=  44.2s\n",
      "[CV 3/5] END learning_rate=0.05, max_depth=5, max_features=sqrt, min_samples_leaf=4, min_samples_split=14, n_estimators=400;, score=0.566 total time=  44.1s\n",
      "[CV 4/5] END learning_rate=0.05, max_depth=5, max_features=sqrt, min_samples_leaf=4, min_samples_split=14, n_estimators=400;, score=0.584 total time=  44.2s\n",
      "[CV 5/5] END learning_rate=0.05, max_depth=5, max_features=sqrt, min_samples_leaf=4, min_samples_split=14, n_estimators=400;, score=0.568 total time=  43.8s\n",
      "[CV 1/5] END learning_rate=0.05, max_depth=10, max_features=sqrt, min_samples_leaf=8, min_samples_split=6, n_estimators=200;, score=0.599 total time=  40.7s\n",
      "[CV 2/5] END learning_rate=0.05, max_depth=10, max_features=sqrt, min_samples_leaf=8, min_samples_split=6, n_estimators=200;, score=0.613 total time=  40.9s\n",
      "[CV 3/5] END learning_rate=0.05, max_depth=10, max_features=sqrt, min_samples_leaf=8, min_samples_split=6, n_estimators=200;, score=0.596 total time=  41.1s\n",
      "[CV 4/5] END learning_rate=0.05, max_depth=10, max_features=sqrt, min_samples_leaf=8, min_samples_split=6, n_estimators=200;, score=0.619 total time=  40.9s\n",
      "[CV 5/5] END learning_rate=0.05, max_depth=10, max_features=sqrt, min_samples_leaf=8, min_samples_split=6, n_estimators=200;, score=0.594 total time=  40.5s\n",
      "[CV 1/5] END learning_rate=0.05, max_depth=5, max_features=sqrt, min_samples_leaf=8, min_samples_split=10, n_estimators=400;, score=0.579 total time=  44.4s\n",
      "[CV 2/5] END learning_rate=0.05, max_depth=5, max_features=sqrt, min_samples_leaf=8, min_samples_split=10, n_estimators=400;, score=0.583 total time=  43.9s\n",
      "[CV 3/5] END learning_rate=0.05, max_depth=5, max_features=sqrt, min_samples_leaf=8, min_samples_split=10, n_estimators=400;, score=0.568 total time=  44.1s\n",
      "[CV 4/5] END learning_rate=0.05, max_depth=5, max_features=sqrt, min_samples_leaf=8, min_samples_split=10, n_estimators=400;, score=0.584 total time=  44.2s\n",
      "[CV 5/5] END learning_rate=0.05, max_depth=5, max_features=sqrt, min_samples_leaf=8, min_samples_split=10, n_estimators=400;, score=0.566 total time=  44.2s\n",
      "[CV 1/5] END learning_rate=0.01, max_depth=20, max_features=sqrt, min_samples_leaf=4, min_samples_split=10, n_estimators=400;, score=0.605 total time= 2.1min\n",
      "[CV 2/5] END learning_rate=0.01, max_depth=20, max_features=sqrt, min_samples_leaf=4, min_samples_split=10, n_estimators=400;, score=0.609 total time= 2.1min\n",
      "[CV 3/5] END learning_rate=0.01, max_depth=20, max_features=sqrt, min_samples_leaf=4, min_samples_split=10, n_estimators=400;, score=0.597 total time= 2.2min\n",
      "[CV 4/5] END learning_rate=0.01, max_depth=20, max_features=sqrt, min_samples_leaf=4, min_samples_split=10, n_estimators=400;, score=0.623 total time= 2.2min\n",
      "[CV 5/5] END learning_rate=0.01, max_depth=20, max_features=sqrt, min_samples_leaf=4, min_samples_split=10, n_estimators=400;, score=0.597 total time= 2.1min\n",
      "[CV 1/5] END learning_rate=0.05, max_depth=15, max_features=sqrt, min_samples_leaf=8, min_samples_split=10, n_estimators=200;, score=0.605 total time=  55.4s\n",
      "[CV 2/5] END learning_rate=0.05, max_depth=15, max_features=sqrt, min_samples_leaf=8, min_samples_split=10, n_estimators=200;, score=0.614 total time=  56.1s\n",
      "[CV 3/5] END learning_rate=0.05, max_depth=15, max_features=sqrt, min_samples_leaf=8, min_samples_split=10, n_estimators=200;, score=0.602 total time=  56.2s\n",
      "[CV 4/5] END learning_rate=0.05, max_depth=15, max_features=sqrt, min_samples_leaf=8, min_samples_split=10, n_estimators=200;, score=0.620 total time=  56.4s\n",
      "[CV 5/5] END learning_rate=0.05, max_depth=15, max_features=sqrt, min_samples_leaf=8, min_samples_split=10, n_estimators=200;, score=0.597 total time=  56.3s\n",
      "[CV 1/5] END learning_rate=0.01, max_depth=10, max_features=sqrt, min_samples_leaf=1, min_samples_split=10, n_estimators=400;, score=0.597 total time= 1.3min\n",
      "[CV 2/5] END learning_rate=0.01, max_depth=10, max_features=sqrt, min_samples_leaf=1, min_samples_split=10, n_estimators=400;, score=0.598 total time= 1.3min\n",
      "[CV 3/5] END learning_rate=0.01, max_depth=10, max_features=sqrt, min_samples_leaf=1, min_samples_split=10, n_estimators=400;, score=0.584 total time= 1.3min\n",
      "[CV 4/5] END learning_rate=0.01, max_depth=10, max_features=sqrt, min_samples_leaf=1, min_samples_split=10, n_estimators=400;, score=0.604 total time= 1.4min\n",
      "[CV 5/5] END learning_rate=0.01, max_depth=10, max_features=sqrt, min_samples_leaf=1, min_samples_split=10, n_estimators=400;, score=0.590 total time= 1.4min\n",
      "[CV 1/5] END learning_rate=0.05, max_depth=10, max_features=sqrt, min_samples_leaf=8, min_samples_split=14, n_estimators=600;, score=0.612 total time= 2.1min\n",
      "[CV 2/5] END learning_rate=0.05, max_depth=10, max_features=sqrt, min_samples_leaf=8, min_samples_split=14, n_estimators=600;, score=0.618 total time= 2.1min\n",
      "[CV 3/5] END learning_rate=0.05, max_depth=10, max_features=sqrt, min_samples_leaf=8, min_samples_split=14, n_estimators=600;, score=0.605 total time= 2.1min\n",
      "[CV 4/5] END learning_rate=0.05, max_depth=10, max_features=sqrt, min_samples_leaf=8, min_samples_split=14, n_estimators=600;, score=0.636 total time= 2.1min\n",
      "[CV 5/5] END learning_rate=0.05, max_depth=10, max_features=sqrt, min_samples_leaf=8, min_samples_split=14, n_estimators=600;, score=0.597 total time= 2.1min\n",
      "[CV 1/5] END learning_rate=0.01, max_depth=10, max_features=sqrt, min_samples_leaf=4, min_samples_split=14, n_estimators=800;, score=0.608 total time= 2.7min\n",
      "[CV 2/5] END learning_rate=0.01, max_depth=10, max_features=sqrt, min_samples_leaf=4, min_samples_split=14, n_estimators=800;, score=0.613 total time= 2.7min\n",
      "[CV 3/5] END learning_rate=0.01, max_depth=10, max_features=sqrt, min_samples_leaf=4, min_samples_split=14, n_estimators=800;, score=0.599 total time= 2.7min\n",
      "[CV 4/5] END learning_rate=0.01, max_depth=10, max_features=sqrt, min_samples_leaf=4, min_samples_split=14, n_estimators=800;, score=0.620 total time= 2.7min\n",
      "[CV 5/5] END learning_rate=0.01, max_depth=10, max_features=sqrt, min_samples_leaf=4, min_samples_split=14, n_estimators=800;, score=0.601 total time= 2.7min\n",
      "[CV 1/5] END learning_rate=0.05, max_depth=10, max_features=sqrt, min_samples_leaf=4, min_samples_split=10, n_estimators=400;, score=0.610 total time= 1.4min\n",
      "[CV 2/5] END learning_rate=0.05, max_depth=10, max_features=sqrt, min_samples_leaf=4, min_samples_split=10, n_estimators=400;, score=0.619 total time= 1.4min\n",
      "[CV 3/5] END learning_rate=0.05, max_depth=10, max_features=sqrt, min_samples_leaf=4, min_samples_split=10, n_estimators=400;, score=0.606 total time= 1.4min\n",
      "[CV 4/5] END learning_rate=0.05, max_depth=10, max_features=sqrt, min_samples_leaf=4, min_samples_split=10, n_estimators=400;, score=0.620 total time= 1.4min\n",
      "[CV 5/5] END learning_rate=0.05, max_depth=10, max_features=sqrt, min_samples_leaf=4, min_samples_split=10, n_estimators=400;, score=0.599 total time= 1.4min\n",
      "[CV 1/5] END learning_rate=0.01, max_depth=5, max_features=sqrt, min_samples_leaf=1, min_samples_split=6, n_estimators=600;, score=0.553 total time= 1.1min\n",
      "[CV 2/5] END learning_rate=0.01, max_depth=5, max_features=sqrt, min_samples_leaf=1, min_samples_split=6, n_estimators=600;, score=0.551 total time= 1.1min\n",
      "[CV 3/5] END learning_rate=0.01, max_depth=5, max_features=sqrt, min_samples_leaf=1, min_samples_split=6, n_estimators=600;, score=0.542 total time= 1.1min\n",
      "[CV 4/5] END learning_rate=0.01, max_depth=5, max_features=sqrt, min_samples_leaf=1, min_samples_split=6, n_estimators=600;, score=0.552 total time= 1.1min\n",
      "[CV 5/5] END learning_rate=0.01, max_depth=5, max_features=sqrt, min_samples_leaf=1, min_samples_split=6, n_estimators=600;, score=0.544 total time= 1.1min\n",
      "[CV 1/5] END learning_rate=0.05, max_depth=10, max_features=sqrt, min_samples_leaf=1, min_samples_split=10, n_estimators=600;, score=0.601 total time= 2.1min\n",
      "[CV 2/5] END learning_rate=0.05, max_depth=10, max_features=sqrt, min_samples_leaf=1, min_samples_split=10, n_estimators=600;, score=0.617 total time= 2.1min\n",
      "[CV 3/5] END learning_rate=0.05, max_depth=10, max_features=sqrt, min_samples_leaf=1, min_samples_split=10, n_estimators=600;, score=0.600 total time= 2.1min\n",
      "[CV 4/5] END learning_rate=0.05, max_depth=10, max_features=sqrt, min_samples_leaf=1, min_samples_split=10, n_estimators=600;, score=0.626 total time= 2.0min\n",
      "[CV 5/5] END learning_rate=0.05, max_depth=10, max_features=sqrt, min_samples_leaf=1, min_samples_split=10, n_estimators=600;, score=0.601 total time= 2.0min\n",
      "[CV 1/5] END learning_rate=0.1, max_depth=5, max_features=sqrt, min_samples_leaf=8, min_samples_split=10, n_estimators=400;, score=0.583 total time=  42.9s\n",
      "[CV 2/5] END learning_rate=0.1, max_depth=5, max_features=sqrt, min_samples_leaf=8, min_samples_split=10, n_estimators=400;, score=0.589 total time=  43.2s\n",
      "[CV 3/5] END learning_rate=0.1, max_depth=5, max_features=sqrt, min_samples_leaf=8, min_samples_split=10, n_estimators=400;, score=0.573 total time=  43.2s\n",
      "[CV 4/5] END learning_rate=0.1, max_depth=5, max_features=sqrt, min_samples_leaf=8, min_samples_split=10, n_estimators=400;, score=0.592 total time=  43.1s\n",
      "[CV 5/5] END learning_rate=0.1, max_depth=5, max_features=sqrt, min_samples_leaf=8, min_samples_split=10, n_estimators=400;, score=0.575 total time=  43.6s\n",
      "[CV 1/5] END learning_rate=0.1, max_depth=10, max_features=sqrt, min_samples_leaf=8, min_samples_split=10, n_estimators=800;, score=0.587 total time= 2.7min\n",
      "[CV 2/5] END learning_rate=0.1, max_depth=10, max_features=sqrt, min_samples_leaf=8, min_samples_split=10, n_estimators=800;, score=0.612 total time= 2.7min\n",
      "[CV 3/5] END learning_rate=0.1, max_depth=10, max_features=sqrt, min_samples_leaf=8, min_samples_split=10, n_estimators=800;, score=0.596 total time= 2.7min\n",
      "[CV 4/5] END learning_rate=0.1, max_depth=10, max_features=sqrt, min_samples_leaf=8, min_samples_split=10, n_estimators=800;, score=0.626 total time= 2.8min\n",
      "[CV 5/5] END learning_rate=0.1, max_depth=10, max_features=sqrt, min_samples_leaf=8, min_samples_split=10, n_estimators=800;, score=0.595 total time= 2.7min\n",
      "[CV 1/5] END learning_rate=0.05, max_depth=15, max_features=sqrt, min_samples_leaf=1, min_samples_split=10, n_estimators=800;, score=0.598 total time= 3.8min\n",
      "[CV 2/5] END learning_rate=0.05, max_depth=15, max_features=sqrt, min_samples_leaf=1, min_samples_split=10, n_estimators=800;, score=0.603 total time= 3.8min\n",
      "[CV 3/5] END learning_rate=0.05, max_depth=15, max_features=sqrt, min_samples_leaf=1, min_samples_split=10, n_estimators=800;, score=0.587 total time= 3.8min\n",
      "[CV 4/5] END learning_rate=0.05, max_depth=15, max_features=sqrt, min_samples_leaf=1, min_samples_split=10, n_estimators=800;, score=0.619 total time= 3.8min\n",
      "[CV 5/5] END learning_rate=0.05, max_depth=15, max_features=sqrt, min_samples_leaf=1, min_samples_split=10, n_estimators=800;, score=0.595 total time= 3.8min\n",
      "[CV 1/5] END learning_rate=0.01, max_depth=20, max_features=sqrt, min_samples_leaf=1, min_samples_split=6, n_estimators=800;, score=0.600 total time= 4.4min\n",
      "[CV 2/5] END learning_rate=0.01, max_depth=20, max_features=sqrt, min_samples_leaf=1, min_samples_split=6, n_estimators=800;, score=0.606 total time= 4.5min\n",
      "[CV 3/5] END learning_rate=0.01, max_depth=20, max_features=sqrt, min_samples_leaf=1, min_samples_split=6, n_estimators=800;, score=0.596 total time= 4.5min\n",
      "[CV 4/5] END learning_rate=0.01, max_depth=20, max_features=sqrt, min_samples_leaf=1, min_samples_split=6, n_estimators=800;, score=0.618 total time= 4.5min\n",
      "[CV 5/5] END learning_rate=0.01, max_depth=20, max_features=sqrt, min_samples_leaf=1, min_samples_split=6, n_estimators=800;, score=0.591 total time= 4.5min\n",
      "[CV 1/5] END learning_rate=0.05, max_depth=20, max_features=sqrt, min_samples_leaf=8, min_samples_split=14, n_estimators=800;, score=0.603 total time= 4.9min\n",
      "[CV 2/5] END learning_rate=0.05, max_depth=20, max_features=sqrt, min_samples_leaf=8, min_samples_split=14, n_estimators=800;, score=0.616 total time= 4.9min\n",
      "[CV 3/5] END learning_rate=0.05, max_depth=20, max_features=sqrt, min_samples_leaf=8, min_samples_split=14, n_estimators=800;, score=0.597 total time= 4.9min\n",
      "[CV 4/5] END learning_rate=0.05, max_depth=20, max_features=sqrt, min_samples_leaf=8, min_samples_split=14, n_estimators=800;, score=0.623 total time= 5.0min\n",
      "[CV 5/5] END learning_rate=0.05, max_depth=20, max_features=sqrt, min_samples_leaf=8, min_samples_split=14, n_estimators=800;, score=0.594 total time= 5.0min\n",
      "[CV 1/5] END learning_rate=0.05, max_depth=20, max_features=sqrt, min_samples_leaf=4, min_samples_split=14, n_estimators=600;, score=0.592 total time= 3.5min\n",
      "[CV 2/5] END learning_rate=0.05, max_depth=20, max_features=sqrt, min_samples_leaf=4, min_samples_split=14, n_estimators=600;, score=0.616 total time= 3.5min\n",
      "[CV 3/5] END learning_rate=0.05, max_depth=20, max_features=sqrt, min_samples_leaf=4, min_samples_split=14, n_estimators=600;, score=0.593 total time= 3.6min\n",
      "[CV 4/5] END learning_rate=0.05, max_depth=20, max_features=sqrt, min_samples_leaf=4, min_samples_split=14, n_estimators=600;, score=0.622 total time= 3.6min\n",
      "[CV 5/5] END learning_rate=0.05, max_depth=20, max_features=sqrt, min_samples_leaf=4, min_samples_split=14, n_estimators=600;, score=0.593 total time= 3.6min\n",
      "[CV 1/5] END learning_rate=0.05, max_depth=5, max_features=sqrt, min_samples_leaf=4, min_samples_split=6, n_estimators=800;, score=0.589 total time= 1.4min\n",
      "[CV 2/5] END learning_rate=0.05, max_depth=5, max_features=sqrt, min_samples_leaf=4, min_samples_split=6, n_estimators=800;, score=0.594 total time= 1.4min\n",
      "[CV 3/5] END learning_rate=0.05, max_depth=5, max_features=sqrt, min_samples_leaf=4, min_samples_split=6, n_estimators=800;, score=0.575 total time= 1.4min\n",
      "[CV 4/5] END learning_rate=0.05, max_depth=5, max_features=sqrt, min_samples_leaf=4, min_samples_split=6, n_estimators=800;, score=0.595 total time= 1.4min\n",
      "[CV 5/5] END learning_rate=0.05, max_depth=5, max_features=sqrt, min_samples_leaf=4, min_samples_split=6, n_estimators=800;, score=0.576 total time= 1.4min\n",
      "[CV 1/5] END learning_rate=0.05, max_depth=20, max_features=sqrt, min_samples_leaf=8, min_samples_split=6, n_estimators=400;, score=0.601 total time= 2.3min\n",
      "[CV 2/5] END learning_rate=0.05, max_depth=20, max_features=sqrt, min_samples_leaf=8, min_samples_split=6, n_estimators=400;, score=0.608 total time= 2.3min\n",
      "[CV 3/5] END learning_rate=0.05, max_depth=20, max_features=sqrt, min_samples_leaf=8, min_samples_split=6, n_estimators=400;, score=0.599 total time= 2.3min\n",
      "[CV 4/5] END learning_rate=0.05, max_depth=20, max_features=sqrt, min_samples_leaf=8, min_samples_split=6, n_estimators=400;, score=0.623 total time= 2.4min\n",
      "[CV 5/5] END learning_rate=0.05, max_depth=20, max_features=sqrt, min_samples_leaf=8, min_samples_split=6, n_estimators=400;, score=0.591 total time= 2.4min\n",
      "[CV 1/5] END learning_rate=0.05, max_depth=5, max_features=sqrt, min_samples_leaf=4, min_samples_split=10, n_estimators=600;, score=0.582 total time= 1.1min\n",
      "[CV 2/5] END learning_rate=0.05, max_depth=5, max_features=sqrt, min_samples_leaf=4, min_samples_split=10, n_estimators=600;, score=0.583 total time= 1.1min\n",
      "[CV 3/5] END learning_rate=0.05, max_depth=5, max_features=sqrt, min_samples_leaf=4, min_samples_split=10, n_estimators=600;, score=0.572 total time= 1.1min\n",
      "[CV 4/5] END learning_rate=0.05, max_depth=5, max_features=sqrt, min_samples_leaf=4, min_samples_split=10, n_estimators=600;, score=0.595 total time= 1.1min\n",
      "[CV 5/5] END learning_rate=0.05, max_depth=5, max_features=sqrt, min_samples_leaf=4, min_samples_split=10, n_estimators=600;, score=0.578 total time= 1.1min\n",
      "[CV 1/5] END learning_rate=0.1, max_depth=15, max_features=sqrt, min_samples_leaf=1, min_samples_split=10, n_estimators=600;, score=0.582 total time= 2.9min\n",
      "[CV 2/5] END learning_rate=0.1, max_depth=15, max_features=sqrt, min_samples_leaf=1, min_samples_split=10, n_estimators=600;, score=0.598 total time= 2.9min\n",
      "[CV 3/5] END learning_rate=0.1, max_depth=15, max_features=sqrt, min_samples_leaf=1, min_samples_split=10, n_estimators=600;, score=0.579 total time= 2.9min\n",
      "[CV 4/5] END learning_rate=0.1, max_depth=15, max_features=sqrt, min_samples_leaf=1, min_samples_split=10, n_estimators=600;, score=0.592 total time= 2.9min\n",
      "[CV 5/5] END learning_rate=0.1, max_depth=15, max_features=sqrt, min_samples_leaf=1, min_samples_split=10, n_estimators=600;, score=0.577 total time= 2.8min\n",
      "[CV 1/5] END learning_rate=0.01, max_depth=5, max_features=sqrt, min_samples_leaf=4, min_samples_split=10, n_estimators=200;, score=0.493 total time=  21.0s\n",
      "[CV 2/5] END learning_rate=0.01, max_depth=5, max_features=sqrt, min_samples_leaf=4, min_samples_split=10, n_estimators=200;, score=0.487 total time=  21.0s\n",
      "[CV 3/5] END learning_rate=0.01, max_depth=5, max_features=sqrt, min_samples_leaf=4, min_samples_split=10, n_estimators=200;, score=0.474 total time=  20.8s\n",
      "[CV 4/5] END learning_rate=0.01, max_depth=5, max_features=sqrt, min_samples_leaf=4, min_samples_split=10, n_estimators=200;, score=0.474 total time=  20.8s\n",
      "[CV 5/5] END learning_rate=0.01, max_depth=5, max_features=sqrt, min_samples_leaf=4, min_samples_split=10, n_estimators=200;, score=0.481 total time=  20.9s\n",
      "[CV 1/5] END learning_rate=0.1, max_depth=20, max_features=sqrt, min_samples_leaf=4, min_samples_split=6, n_estimators=600;, score=0.585 total time= 3.7min\n",
      "[CV 2/5] END learning_rate=0.1, max_depth=20, max_features=sqrt, min_samples_leaf=4, min_samples_split=6, n_estimators=600;, score=0.584 total time= 3.7min\n",
      "[CV 3/5] END learning_rate=0.1, max_depth=20, max_features=sqrt, min_samples_leaf=4, min_samples_split=6, n_estimators=600;, score=0.576 total time= 3.7min\n",
      "[CV 4/5] END learning_rate=0.1, max_depth=20, max_features=sqrt, min_samples_leaf=4, min_samples_split=6, n_estimators=600;, score=0.606 total time= 3.7min\n",
      "[CV 5/5] END learning_rate=0.1, max_depth=20, max_features=sqrt, min_samples_leaf=4, min_samples_split=6, n_estimators=600;, score=0.582 total time= 3.7min\n",
      "[CV 1/5] END learning_rate=0.05, max_depth=20, max_features=sqrt, min_samples_leaf=1, min_samples_split=10, n_estimators=400;, score=0.595 total time= 2.3min\n",
      "[CV 2/5] END learning_rate=0.05, max_depth=20, max_features=sqrt, min_samples_leaf=1, min_samples_split=10, n_estimators=400;, score=0.598 total time= 2.2min\n",
      "[CV 3/5] END learning_rate=0.05, max_depth=20, max_features=sqrt, min_samples_leaf=1, min_samples_split=10, n_estimators=400;, score=0.590 total time= 2.3min\n",
      "[CV 4/5] END learning_rate=0.05, max_depth=20, max_features=sqrt, min_samples_leaf=1, min_samples_split=10, n_estimators=400;, score=0.604 total time= 2.2min\n",
      "[CV 5/5] END learning_rate=0.05, max_depth=20, max_features=sqrt, min_samples_leaf=1, min_samples_split=10, n_estimators=400;, score=0.578 total time= 2.3min\n"
     ]
    },
    {
     "output_type": "execute_result",
     "data": {
      "text/plain": [
       "{'n_estimators': 600,\n",
       " 'min_samples_split': 14,\n",
       " 'min_samples_leaf': 8,\n",
       " 'max_features': 'sqrt',\n",
       " 'max_depth': 10,\n",
       " 'learning_rate': 0.05}"
      ]
     },
     "metadata": {},
     "execution_count": 34
    }
   ],
   "source": [
    "random_search =RandomizedSearchCV(GradientBoostingRegressor(loss='squared_error'), param_grid, random_state=1, n_iter=50, cv=5, verbose=3, n_jobs=1)\n",
    "random_search.fit(train_data, y_train_KIBA)\n",
    "random_search.best_params_"
   ]
  },
  {
   "cell_type": "markdown",
   "metadata": {
    "id": "uPXvGxT28cN5"
   },
   "source": [
    "#Train on Full train data"
   ]
  },
  {
   "cell_type": "code",
   "execution_count": 14,
   "metadata": {
    "id": "Tb3iLoSD8fVw",
    "executionInfo": {
     "status": "ok",
     "timestamp": 1674063218206,
     "user_tz": -60,
     "elapsed": 368,
     "user": {
      "displayName": "Laurenz Wurdinger",
      "userId": "00707038666413498638"
     }
    }
   },
   "outputs": [],
   "source": [
    "#features\n",
    "args2=(train_fold1,train_fold2,train_fold3,train_fold4,train_fold5)\n",
    "train_full=np.concatenate(args2)\n",
    "\n",
    "#Labels\n",
    "y_train_full = y_train_fold1_KIBA+y_train_fold2_KIBA+y_train_fold3_KIBA+y_train_fold4_KIBA+y_train_fold5_KIBA"
   ]
  },
  {
   "cell_type": "code",
   "execution_count": 15,
   "metadata": {
    "id": "Bk2-rFXkFrur",
    "executionInfo": {
     "status": "ok",
     "timestamp": 1674078305991,
     "user_tz": -60,
     "elapsed": 15087790,
     "user": {
      "displayName": "Laurenz Wurdinger",
      "userId": "00707038666413498638"
     }
    }
   },
   "outputs": [],
   "source": [
    "seeds = np.load('seeds.npy')\n",
    "pred_KIBA=[]\n",
    "for seed in seeds:\n",
    "  #Fit\n",
    "  best_params = {'n_estimators': 800,\n",
    "                'min_samples_split': 10,\n",
    "                'min_samples_leaf': 8,\n",
    "                'max_features': 'sqrt',\n",
    "                'max_depth': 15,\n",
    "                'learning_rate': 0.01,\n",
    "                'random_state': seed}\n",
    "  classifier_KIBA = GradientBoostingRegressor(**best_params)\n",
    "  classifier_KIBA.fit(train_full, y_train_full)\n",
    "  pred_KIBA.append(classifier_KIBA.predict(test_data))"
   ]
  },
  {
   "cell_type": "code",
   "execution_count": 16,
   "metadata": {
    "id": "JEabLmitDB2H",
    "executionInfo": {
     "status": "ok",
     "timestamp": 1674078305992,
     "user_tz": -60,
     "elapsed": 52,
     "user": {
      "displayName": "Laurenz Wurdinger",
      "userId": "00707038666413498638"
     }
    },
    "colab": {
     "base_uri": "https://localhost:8080/"
    },
    "outputId": "a10e153f-3aaa-493b-cd70-21bd06071760"
   },
   "outputs": [
    {
     "output_type": "execute_result",
     "data": {
      "text/plain": [
       "[array([13.2545531 , 12.65724542, 11.46585802, ..., 11.4480296 ,\n",
       "        11.53263049, 11.52376433]),\n",
       " array([13.15033377, 12.7068249 , 11.44232757, ..., 11.42198041,\n",
       "        11.48598063, 11.49599053]),\n",
       " array([13.1611207 , 12.68797179, 11.42200694, ..., 11.41008168,\n",
       "        11.52087392, 11.49523401]),\n",
       " array([13.29990124, 12.63467273, 11.4687768 , ..., 11.42052219,\n",
       "        11.47202629, 11.5054276 ]),\n",
       " array([13.18281558, 12.67942245, 11.48091825, ..., 11.40396456,\n",
       "        11.49336259, 11.51727148]),\n",
       " array([13.23292774, 12.75350657, 11.44482158, ..., 11.44184427,\n",
       "        11.54259552, 11.46338519]),\n",
       " array([13.15758527, 12.67052443, 11.45719524, ..., 11.40946782,\n",
       "        11.47832937, 11.48400697]),\n",
       " array([13.14803188, 12.6842954 , 11.41000339, ..., 11.40309183,\n",
       "        11.51561109, 11.48138754]),\n",
       " array([13.18220261, 12.67479751, 11.39666475, ..., 11.40923983,\n",
       "        11.48940712, 11.49099018]),\n",
       " array([13.19421293, 12.61838057, 11.42478955, ..., 11.42854233,\n",
       "        11.48424495, 11.50937147])]"
      ]
     },
     "metadata": {},
     "execution_count": 16
    }
   ],
   "source": [
    "pred_KIBA"
   ]
  },
  {
   "cell_type": "markdown",
   "metadata": {
    "id": "oWWzvR81J61g"
   },
   "source": [
    "#Metrics"
   ]
  },
  {
   "cell_type": "code",
   "execution_count": 17,
   "metadata": {
    "id": "Gnhm9IKfWbje",
    "executionInfo": {
     "status": "ok",
     "timestamp": 1674078305992,
     "user_tz": -60,
     "elapsed": 41,
     "user": {
      "displayName": "Laurenz Wurdinger",
      "userId": "00707038666413498638"
     }
    }
   },
   "outputs": [],
   "source": [
    "def r_squared_error(y_obs,y_pred):\n",
    "    y_obs = np.array(y_obs)\n",
    "    y_pred = np.array(y_pred)\n",
    "    y_obs_mean = [np.mean(y_obs) for y in y_obs]\n",
    "    y_pred_mean = [np.mean(y_pred) for y in y_pred]\n",
    "\n",
    "    mult = sum((y_pred - y_pred_mean) * (y_obs - y_obs_mean))\n",
    "    mult = mult * mult\n",
    "\n",
    "    y_obs_sq = sum((y_obs - y_obs_mean)*(y_obs - y_obs_mean))\n",
    "    y_pred_sq = sum((y_pred - y_pred_mean) * (y_pred - y_pred_mean) )\n",
    "\n",
    "    return mult / float(y_obs_sq * y_pred_sq)\n",
    "\n",
    "def squared_error_zero(y_obs,y_pred):\n",
    "    k = get_k(y_obs,y_pred)\n",
    "\n",
    "    y_obs = np.array(y_obs)\n",
    "    y_pred = np.array(y_pred)\n",
    "    y_obs_mean = [np.mean(y_obs) for y in y_obs]\n",
    "    upp = sum((y_obs - (k*y_pred)) * (y_obs - (k* y_pred)))\n",
    "    down= sum((y_obs - y_obs_mean)*(y_obs - y_obs_mean))\n",
    "\n",
    "    return 1 - (upp / float(down))\n",
    "\n",
    "def get_k(y_obs,y_pred):\n",
    "    y_obs = np.array(y_obs)\n",
    "    y_pred = np.array(y_pred)\n",
    "\n",
    "    return sum(y_obs*y_pred) / float(sum(y_pred*y_pred))\n",
    "\n",
    "def get_rm2(ys_orig,ys_line):\n",
    "    r2 = r_squared_error(ys_orig, ys_line)\n",
    "    r02 = squared_error_zero(ys_orig, ys_line)\n",
    "    return r2 * (1 - np.sqrt(np.absolute((r2*r2)-(r02*r02))))\n",
    "    \n",
    "import torch \n",
    "def concordance_index_taskwise(predictions, labels, target_ids):\n",
    "    CIs = list()\n",
    "    target_id_list = list()\n",
    "    predictions = torch.tensor(predictions)\n",
    "    labels = torch.tensor(labels)\n",
    "    target_ids = torch.tensor(target_ids)\n",
    "\n",
    "    for target_idx in torch.unique(target_ids):\n",
    "        rows = torch.where(target_ids == target_idx)\n",
    "        preds = predictions[rows]\n",
    "        y = labels[rows]\n",
    "\n",
    "        if torch.unique(y).shape[0] >= 2:\n",
    "            ci = concordance_index(y, preds)\n",
    "            CIs.append(ci)\n",
    "            target_id_list.append(target_idx.item())\n",
    "        else:\n",
    "            CIs.append(np.nan)\n",
    "            target_id_list.append(target_idx.item())\n",
    "    return np.nanmean(CIs), CIs, target_id_list"
   ]
  },
  {
   "cell_type": "code",
   "execution_count": 18,
   "metadata": {
    "id": "_uriPmEMV7hk",
    "colab": {
     "base_uri": "https://localhost:8080/"
    },
    "executionInfo": {
     "status": "ok",
     "timestamp": 1674078318040,
     "user_tz": -60,
     "elapsed": 12087,
     "user": {
      "displayName": "Laurenz Wurdinger",
      "userId": "00707038666413498638"
     }
    },
    "outputId": "0b712e2d-7766-43e1-d28f-07e590bf4e22"
   },
   "outputs": [
    {
     "output_type": "stream",
     "name": "stdout",
     "text": [
      "Seed: 658\n",
      "Concordance index:\t 0.855702196894727\n",
      "MSE\t\t：0.17535033753873977\n",
      "rm2\t\t：0.6999629003349092\n",
      "Seed: 25\n",
      "Concordance index:\t 0.8569121932811433\n",
      "MSE\t\t：0.1760323382590237\n",
      "rm2\t\t：0.6994710509788628\n",
      "Seed: 502\n",
      "Concordance index:\t 0.8587763197108501\n",
      "MSE\t\t：0.17530384357990964\n",
      "rm2\t\t：0.7007044739328422\n",
      "Seed: 861\n",
      "Concordance index:\t 0.8550040605138737\n",
      "MSE\t\t：0.17450859437056385\n",
      "rm2\t\t：0.7007989390486459\n",
      "Seed: 696\n",
      "Concordance index:\t 0.8561843951495596\n",
      "MSE\t\t：0.1749403399926676\n",
      "rm2\t\t：0.7009062854106305\n",
      "Seed: 729\n",
      "Concordance index:\t 0.8553255796865478\n",
      "MSE\t\t：0.17563960832368058\n",
      "rm2\t\t：0.6994383799903441\n",
      "Seed: 647\n",
      "Concordance index:\t 0.8547414222814375\n",
      "MSE\t\t：0.1754730204984531\n",
      "rm2\t\t：0.7002717579865385\n",
      "Seed: 818\n",
      "Concordance index:\t 0.8540602781052331\n",
      "MSE\t\t：0.17548786468824645\n",
      "rm2\t\t：0.7003015904726869\n",
      "Seed: 83\n",
      "Concordance index:\t 0.8560705673304794\n",
      "MSE\t\t：0.1747473269099684\n",
      "rm2\t\t：0.7008924879494467\n",
      "Seed: 153\n",
      "Concordance index:\t 0.8568099822486304\n",
      "MSE\t\t：0.17553553371323044\n",
      "rm2\t\t：0.6998156433798469\n"
     ]
    }
   ],
   "source": [
    "cis=[]\n",
    "mses=[]\n",
    "for i, seed in enumerate(seeds):\n",
    "  print(f\"Seed: {seed}\")\n",
    "  ci, CIs, _ = concordance_index_taskwise(pred_KIBA[i], y_test_KIBA, y_test_KIBA_ID)\n",
    "  print(f'Concordance index:\\t {ci}')\n",
    "  cis.append(ci)\n",
    "  mse=mean_squared_error(y_test_KIBA, pred_KIBA[i])\n",
    "  print(f\"MSE\\t\\t：{mse}\")\n",
    "  mses.append(mse)\n",
    "  print(f\"rm2\\t\\t：{get_rm2(y_test_KIBA, pred_KIBA[i])}\")"
   ]
  },
  {
   "cell_type": "code",
   "source": [
    "np.save(\"GBT_ci.npy\", cis)\n",
    "np.save(\"GBT_mse.npy\", mses)"
   ],
   "metadata": {
    "id": "8pNdk5Ca3HjH",
    "executionInfo": {
     "status": "ok",
     "timestamp": 1674079141281,
     "user_tz": -60,
     "elapsed": 263,
     "user": {
      "displayName": "Laurenz Wurdinger",
      "userId": "00707038666413498638"
     }
    }
   },
   "execution_count": 22,
   "outputs": []
  },
  {
   "cell_type": "code",
   "source": [
    "concordance_index(y_test_KIBA, pred_KIBA)"
   ],
   "metadata": {
    "colab": {
     "base_uri": "https://localhost:8080/",
     "height": 318
    },
    "id": "QvQtXDnKEiYV",
    "executionInfo": {
     "status": "error",
     "timestamp": 1674078318729,
     "user_tz": -60,
     "elapsed": 304,
     "user": {
      "displayName": "Laurenz Wurdinger",
      "userId": "00707038666413498638"
     }
    },
    "outputId": "bd7a42f0-7ea7-41c5-f234-af83b7e8c9f3"
   },
   "execution_count": 20,
   "outputs": [
    {
     "output_type": "error",
     "ename": "ValueError",
     "evalue": "ignored",
     "traceback": [
      "\u001B[0;31m---------------------------------------------------------------------------\u001B[0m",
      "\u001B[0;31mValueError\u001B[0m                                Traceback (most recent call last)",
      "\u001B[0;32m<ipython-input-20-524a81630665>\u001B[0m in \u001B[0;36m<module>\u001B[0;34m\u001B[0m\n\u001B[0;32m----> 1\u001B[0;31m \u001B[0mconcordance_index\u001B[0m\u001B[0;34m(\u001B[0m\u001B[0my_test_KIBA\u001B[0m\u001B[0;34m,\u001B[0m \u001B[0mpred_KIBA\u001B[0m\u001B[0;34m)\u001B[0m\u001B[0;34m\u001B[0m\u001B[0;34m\u001B[0m\u001B[0m\n\u001B[0m",
      "\u001B[0;32m/usr/local/lib/python3.8/dist-packages/lifelines/utils/concordance.py\u001B[0m in \u001B[0;36mconcordance_index\u001B[0;34m(event_times, predicted_scores, event_observed)\u001B[0m\n\u001B[1;32m     89\u001B[0m \u001B[0;34m\u001B[0m\u001B[0m\n\u001B[1;32m     90\u001B[0m     \"\"\"\n\u001B[0;32m---> 91\u001B[0;31m     \u001B[0mevent_times\u001B[0m\u001B[0;34m,\u001B[0m \u001B[0mpredicted_scores\u001B[0m\u001B[0;34m,\u001B[0m \u001B[0mevent_observed\u001B[0m \u001B[0;34m=\u001B[0m \u001B[0m_preprocess_scoring_data\u001B[0m\u001B[0;34m(\u001B[0m\u001B[0mevent_times\u001B[0m\u001B[0;34m,\u001B[0m \u001B[0mpredicted_scores\u001B[0m\u001B[0;34m,\u001B[0m \u001B[0mevent_observed\u001B[0m\u001B[0;34m)\u001B[0m\u001B[0;34m\u001B[0m\u001B[0;34m\u001B[0m\u001B[0m\n\u001B[0m\u001B[1;32m     92\u001B[0m     \u001B[0mnum_correct\u001B[0m\u001B[0;34m,\u001B[0m \u001B[0mnum_tied\u001B[0m\u001B[0;34m,\u001B[0m \u001B[0mnum_pairs\u001B[0m \u001B[0;34m=\u001B[0m \u001B[0m_concordance_summary_statistics\u001B[0m\u001B[0;34m(\u001B[0m\u001B[0mevent_times\u001B[0m\u001B[0;34m,\u001B[0m \u001B[0mpredicted_scores\u001B[0m\u001B[0;34m,\u001B[0m \u001B[0mevent_observed\u001B[0m\u001B[0;34m)\u001B[0m\u001B[0;34m\u001B[0m\u001B[0;34m\u001B[0m\u001B[0m\n\u001B[1;32m     93\u001B[0m \u001B[0;34m\u001B[0m\u001B[0m\n",
      "\u001B[0;32m/usr/local/lib/python3.8/dist-packages/lifelines/utils/concordance.py\u001B[0m in \u001B[0;36m_preprocess_scoring_data\u001B[0;34m(event_times, predicted_scores, event_observed)\u001B[0m\n\u001B[1;32m    285\u001B[0m \u001B[0;34m\u001B[0m\u001B[0m\n\u001B[1;32m    286\u001B[0m     \u001B[0;32mif\u001B[0m \u001B[0mevent_times\u001B[0m\u001B[0;34m.\u001B[0m\u001B[0mshape\u001B[0m \u001B[0;34m!=\u001B[0m \u001B[0mpredicted_scores\u001B[0m\u001B[0;34m.\u001B[0m\u001B[0mshape\u001B[0m\u001B[0;34m:\u001B[0m\u001B[0;34m\u001B[0m\u001B[0;34m\u001B[0m\u001B[0m\n\u001B[0;32m--> 287\u001B[0;31m         \u001B[0;32mraise\u001B[0m \u001B[0mValueError\u001B[0m\u001B[0;34m(\u001B[0m\u001B[0;34m\"Event times and predictions must have the same shape\"\u001B[0m\u001B[0;34m)\u001B[0m\u001B[0;34m\u001B[0m\u001B[0;34m\u001B[0m\u001B[0m\n\u001B[0m\u001B[1;32m    288\u001B[0m     \u001B[0;32mif\u001B[0m \u001B[0mevent_times\u001B[0m\u001B[0;34m.\u001B[0m\u001B[0mndim\u001B[0m \u001B[0;34m!=\u001B[0m \u001B[0;36m1\u001B[0m\u001B[0;34m:\u001B[0m\u001B[0;34m\u001B[0m\u001B[0;34m\u001B[0m\u001B[0m\n\u001B[1;32m    289\u001B[0m         \u001B[0;32mraise\u001B[0m \u001B[0mValueError\u001B[0m\u001B[0;34m(\u001B[0m\u001B[0;34m\"Event times can only be 1-dimensional: (n,)\"\u001B[0m\u001B[0;34m)\u001B[0m\u001B[0;34m\u001B[0m\u001B[0;34m\u001B[0m\u001B[0m\n",
      "\u001B[0;31mValueError\u001B[0m: Event times and predictions must have the same shape"
     ]
    }
   ]
  },
  {
   "cell_type": "code",
   "execution_count": null,
   "metadata": {
    "id": "lhubodOGMIYB",
    "executionInfo": {
     "status": "aborted",
     "timestamp": 1674078318730,
     "user_tz": -60,
     "elapsed": 13,
     "user": {
      "displayName": "Laurenz Wurdinger",
      "userId": "00707038666413498638"
     }
    }
   },
   "outputs": [],
   "source": [
    "len(CIs)\n",
    "CIs"
   ]
  },
  {
   "cell_type": "code",
   "source": [],
   "metadata": {
    "id": "8MouZRRjAb9h"
   },
   "execution_count": null,
   "outputs": []
  }
 ],
 "metadata": {
  "colab": {
   "machine_shape": "hm",
   "provenance": [],
   "authorship_tag": "ABX9TyNuPqzbln2SwNrzXozg8tAi"
  },
  "kernelspec": {
   "display_name": "Python 3",
   "name": "python3"
  },
  "language_info": {
   "name": "python"
  }
 },
 "nbformat": 4,
 "nbformat_minor": 0
}
