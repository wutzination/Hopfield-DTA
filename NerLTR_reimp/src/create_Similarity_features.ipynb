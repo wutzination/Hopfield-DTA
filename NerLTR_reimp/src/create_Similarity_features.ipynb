{
 "nbformat": 4,
 "nbformat_minor": 0,
 "metadata": {
  "colab": {
   "provenance": [],
   "collapsed_sections": [],
   "machine_shape": "hm",
   "authorship_tag": "ABX9TyN+0AJTrxEzH8AIDc50NP38"
  },
  "kernelspec": {
   "name": "python3",
   "display_name": "Python 3"
  },
  "language_info": {
   "name": "python"
  }
 },
 "cells": [
  {
   "cell_type": "code",
   "execution_count": 1,
   "metadata": {
    "colab": {
     "base_uri": "https://localhost:8080/"
    },
    "id": "eCiBWPhwFPhg",
    "executionInfo": {
     "status": "ok",
     "timestamp": 1664822406034,
     "user_tz": -120,
     "elapsed": 22262,
     "user": {
      "displayName": "Laurenz Wurdinger",
      "userId": "00707038666413498638"
     }
    },
    "outputId": "d5b8c8c1-9c6c-40db-a737-65b8695634b7"
   },
   "outputs": [
    {
     "output_type": "stream",
     "name": "stdout",
     "text": [
      "Mounted at /content/gdrive\n"
     ]
    }
   ],
   "source": []
  },
  {
   "cell_type": "code",
   "source": [
    "#Connect to data folder of NerLTR-DTA\n",
    "root_path = '/data/'\n",
    "import os\n",
    "os.chdir(root_path)\n",
    "!pwd"
   ],
   "metadata": {
    "colab": {
     "base_uri": "https://localhost:8080/"
    },
    "id": "vNbsvo_TFXus",
    "executionInfo": {
     "status": "ok",
     "timestamp": 1664822408497,
     "user_tz": -120,
     "elapsed": 2470,
     "user": {
      "displayName": "Laurenz Wurdinger",
      "userId": "00707038666413498638"
     }
    },
    "outputId": "0ae63595-c4a4-477f-f2a4-b43299c810b8"
   },
   "execution_count": 2,
   "outputs": [
    {
     "output_type": "stream",
     "name": "stdout",
     "text": [
      "/content/gdrive/My Drive/KI JKU/Seminar_PracticalW_MasterThesis/MasterThesis/NerLTR/data\n"
     ]
    }
   ]
  },
  {
   "cell_type": "code",
   "source": [
    "import numpy as np\n",
    "import pandas as pd\n",
    "import linecache\n",
    "import math\n",
    "from collections import Counter\n",
    "import pickle\n",
    "from ast import literal_eval"
   ],
   "metadata": {
    "id": "JzOVis2OFYGs",
    "executionInfo": {
     "status": "ok",
     "timestamp": 1664822409096,
     "user_tz": -120,
     "elapsed": 616,
     "user": {
      "displayName": "Laurenz Wurdinger",
      "userId": "00707038666413498638"
     }
    }
   },
   "execution_count": 3,
   "outputs": []
  },
  {
   "cell_type": "markdown",
   "source": [
    "#get Folds for affinity and drug and protein Ids"
   ],
   "metadata": {
    "id": "8X7L8wqDHT3h"
   }
  },
  {
   "cell_type": "code",
   "source": [
    "path_KIBA_affinity = 'KIBA/kiba_binding_affinity_v2.txt' #Affinity Matrix AffiDT from Kiba Dataset\n",
    "path_KIBA_fold_train = 'KIBA/fold/train_fold_setting1.txt'\n",
    "path_KIBA_fold_test = 'KIBA/fold/test_fold_setting1.txt'"
   ],
   "metadata": {
    "id": "-p1odLFNFdaF",
    "executionInfo": {
     "status": "ok",
     "timestamp": 1664822409098,
     "user_tz": -120,
     "elapsed": 7,
     "user": {
      "displayName": "Laurenz Wurdinger",
      "userId": "00707038666413498638"
     }
    }
   },
   "execution_count": 4,
   "outputs": []
  },
  {
   "cell_type": "code",
   "source": [
    "with open(path_KIBA_fold_test) as f:\n",
    "    test_KIBA = literal_eval(f.read())\n",
    "print(f'Test {len(test_KIBA)}')"
   ],
   "metadata": {
    "colab": {
     "base_uri": "https://localhost:8080/"
    },
    "id": "2W867dJPGfHO",
    "executionInfo": {
     "status": "ok",
     "timestamp": 1664822410136,
     "user_tz": -120,
     "elapsed": 1044,
     "user": {
      "displayName": "Laurenz Wurdinger",
      "userId": "00707038666413498638"
     }
    },
    "outputId": "72897cff-ab75-409d-c1f2-9ed9d17f7726"
   },
   "execution_count": 5,
   "outputs": [
    {
     "output_type": "stream",
     "name": "stdout",
     "text": [
      "Test 19709\n"
     ]
    }
   ]
  },
  {
   "cell_type": "code",
   "source": [
    "with open(path_KIBA_fold_train) as f:\n",
    "    train_KIBA = literal_eval(f.read())\n",
    "print(f'Fold1 {len(train_KIBA[0])}')\n",
    "print(f'Fold2 {len(train_KIBA[1])}')\n",
    "print(f'Fold3 {len(train_KIBA[2])}')\n",
    "print(f'Fold4 {len(train_KIBA[3])}')\n",
    "print(f'Fold5 {len(train_KIBA[4])}')\n",
    "#arr[0] # check ids if fold with data fold file"
   ],
   "metadata": {
    "colab": {
     "base_uri": "https://localhost:8080/"
    },
    "id": "CpaVxF6MGL0y",
    "executionInfo": {
     "status": "ok",
     "timestamp": 1664822410549,
     "user_tz": -120,
     "elapsed": 416,
     "user": {
      "displayName": "Laurenz Wurdinger",
      "userId": "00707038666413498638"
     }
    },
    "outputId": "775616bd-0232-46bb-956d-151a883edbc0"
   },
   "execution_count": 6,
   "outputs": [
    {
     "output_type": "stream",
     "name": "stdout",
     "text": [
      "Fold1 19709\n",
      "Fold2 19709\n",
      "Fold3 19709\n",
      "Fold4 19709\n",
      "Fold5 19709\n"
     ]
    }
   ]
  },
  {
   "cell_type": "code",
   "source": [
    "#load Affinity Matrix\n",
    "aff_KIBA = np.loadtxt(path_KIBA_affinity)"
   ],
   "metadata": {
    "id": "oGzXxsOTFxlm",
    "executionInfo": {
     "status": "ok",
     "timestamp": 1664822411609,
     "user_tz": -120,
     "elapsed": 1095,
     "user": {
      "displayName": "Laurenz Wurdinger",
      "userId": "00707038666413498638"
     }
    }
   },
   "execution_count": 7,
   "outputs": []
  },
  {
   "cell_type": "code",
   "source": [
    "# counter to check how many elements in dataset are not nan e.g. KIBA 118254\n",
    "counter = 0\n",
    "#dataframe for Drug ID, Target ID plus Affinity and general ID \n",
    "kiba_df = pd.DataFrame(columns = ['drug_ID', 'target_ID', 'affinity'])\n",
    "for i,row in enumerate(aff_KIBA):\n",
    "  for j,el in enumerate(row):\n",
    "    if el > -1:\n",
    "      counter +=1\n",
    "      data = {\n",
    "        'drug_ID':i,\n",
    "        'target_ID':j,\n",
    "        'affinity': el\n",
    "        }\n",
    "\n",
    "      kiba_df=kiba_df.append(data, ignore_index=True)\n",
    "kiba_df.drug_ID = kiba_df.drug_ID.astype(int)\n",
    "kiba_df.target_ID = kiba_df.target_ID.astype(int)\n",
    "print(f'Counter: {counter}')"
   ],
   "metadata": {
    "colab": {
     "base_uri": "https://localhost:8080/"
    },
    "id": "8uA6R9OfFqJs",
    "executionInfo": {
     "status": "ok",
     "timestamp": 1664822524573,
     "user_tz": -120,
     "elapsed": 112968,
     "user": {
      "displayName": "Laurenz Wurdinger",
      "userId": "00707038666413498638"
     }
    },
    "outputId": "79880630-8850-4800-cb3f-08fa50e3be6a"
   },
   "execution_count": 8,
   "outputs": [
    {
     "output_type": "stream",
     "name": "stdout",
     "text": [
      "Counter: 118254\n"
     ]
    }
   ]
  },
  {
   "cell_type": "code",
   "source": [
    "affi_train = kiba_df.iloc[train_KIBA[0]+train_KIBA[1]+train_KIBA[2]+train_KIBA[3]+train_KIBA[4]].copy()\n",
    "affi_fold1 = kiba_df.iloc[train_KIBA[0]].copy()\n",
    "affi_fold2 = kiba_df.iloc[train_KIBA[1]].copy()\n",
    "affi_fold3 = kiba_df.iloc[train_KIBA[2]].copy()\n",
    "affi_fold4 = kiba_df.iloc[train_KIBA[3]].copy()\n",
    "affi_fold5 = kiba_df.iloc[train_KIBA[4]].copy()\n",
    "affi_test = kiba_df.iloc[test_KIBA].copy()"
   ],
   "metadata": {
    "id": "7PH8s6liFzEl",
    "executionInfo": {
     "status": "ok",
     "timestamp": 1664822595555,
     "user_tz": -120,
     "elapsed": 1287,
     "user": {
      "displayName": "Laurenz Wurdinger",
      "userId": "00707038666413498638"
     }
    }
   },
   "execution_count": 12,
   "outputs": []
  },
  {
   "cell_type": "code",
   "source": [
    "affi_train"
   ],
   "metadata": {
    "colab": {
     "base_uri": "https://localhost:8080/",
     "height": 424
    },
    "id": "_6pfLDUiHL-c",
    "executionInfo": {
     "status": "ok",
     "timestamp": 1664822596120,
     "user_tz": -120,
     "elapsed": 11,
     "user": {
      "displayName": "Laurenz Wurdinger",
      "userId": "00707038666413498638"
     }
    },
    "outputId": "b7497139-ed17-4be5-b6fc-c23897132e9b"
   },
   "execution_count": 13,
   "outputs": [
    {
     "output_type": "execute_result",
     "data": {
      "text/plain": [
       "        drug_ID  target_ID   affinity\n",
       "113703     1776         20   9.798970\n",
       "51222       492        160  11.400000\n",
       "98078      1207        204  11.200000\n",
       "29622       305         98  11.200000\n",
       "80976       917         46  11.999998\n",
       "...         ...        ...        ...\n",
       "88379      1017         96  13.800057\n",
       "98714      1218         39  11.600000\n",
       "11884       158          3  11.500000\n",
       "90741      1080         36  10.600000\n",
       "77366       869         48  11.400000\n",
       "\n",
       "[98545 rows x 3 columns]"
      ],
      "text/html": [
       "\n",
       "  <div id=\"df-3284339b-8d72-411a-b5b8-d813f362288b\">\n",
       "    <div class=\"colab-df-container\">\n",
       "      <div>\n",
       "<style scoped>\n",
       "    .dataframe tbody tr th:only-of-type {\n",
       "        vertical-align: middle;\n",
       "    }\n",
       "\n",
       "    .dataframe tbody tr th {\n",
       "        vertical-align: top;\n",
       "    }\n",
       "\n",
       "    .dataframe thead th {\n",
       "        text-align: right;\n",
       "    }\n",
       "</style>\n",
       "<table border=\"1\" class=\"dataframe\">\n",
       "  <thead>\n",
       "    <tr style=\"text-align: right;\">\n",
       "      <th></th>\n",
       "      <th>drug_ID</th>\n",
       "      <th>target_ID</th>\n",
       "      <th>affinity</th>\n",
       "    </tr>\n",
       "  </thead>\n",
       "  <tbody>\n",
       "    <tr>\n",
       "      <th>113703</th>\n",
       "      <td>1776</td>\n",
       "      <td>20</td>\n",
       "      <td>9.798970</td>\n",
       "    </tr>\n",
       "    <tr>\n",
       "      <th>51222</th>\n",
       "      <td>492</td>\n",
       "      <td>160</td>\n",
       "      <td>11.400000</td>\n",
       "    </tr>\n",
       "    <tr>\n",
       "      <th>98078</th>\n",
       "      <td>1207</td>\n",
       "      <td>204</td>\n",
       "      <td>11.200000</td>\n",
       "    </tr>\n",
       "    <tr>\n",
       "      <th>29622</th>\n",
       "      <td>305</td>\n",
       "      <td>98</td>\n",
       "      <td>11.200000</td>\n",
       "    </tr>\n",
       "    <tr>\n",
       "      <th>80976</th>\n",
       "      <td>917</td>\n",
       "      <td>46</td>\n",
       "      <td>11.999998</td>\n",
       "    </tr>\n",
       "    <tr>\n",
       "      <th>...</th>\n",
       "      <td>...</td>\n",
       "      <td>...</td>\n",
       "      <td>...</td>\n",
       "    </tr>\n",
       "    <tr>\n",
       "      <th>88379</th>\n",
       "      <td>1017</td>\n",
       "      <td>96</td>\n",
       "      <td>13.800057</td>\n",
       "    </tr>\n",
       "    <tr>\n",
       "      <th>98714</th>\n",
       "      <td>1218</td>\n",
       "      <td>39</td>\n",
       "      <td>11.600000</td>\n",
       "    </tr>\n",
       "    <tr>\n",
       "      <th>11884</th>\n",
       "      <td>158</td>\n",
       "      <td>3</td>\n",
       "      <td>11.500000</td>\n",
       "    </tr>\n",
       "    <tr>\n",
       "      <th>90741</th>\n",
       "      <td>1080</td>\n",
       "      <td>36</td>\n",
       "      <td>10.600000</td>\n",
       "    </tr>\n",
       "    <tr>\n",
       "      <th>77366</th>\n",
       "      <td>869</td>\n",
       "      <td>48</td>\n",
       "      <td>11.400000</td>\n",
       "    </tr>\n",
       "  </tbody>\n",
       "</table>\n",
       "<p>98545 rows × 3 columns</p>\n",
       "</div>\n",
       "      <button class=\"colab-df-convert\" onclick=\"convertToInteractive('df-3284339b-8d72-411a-b5b8-d813f362288b')\"\n",
       "              title=\"Convert this dataframe to an interactive table.\"\n",
       "              style=\"display:none;\">\n",
       "        \n",
       "  <svg xmlns=\"http://www.w3.org/2000/svg\" height=\"24px\"viewBox=\"0 0 24 24\"\n",
       "       width=\"24px\">\n",
       "    <path d=\"M0 0h24v24H0V0z\" fill=\"none\"/>\n",
       "    <path d=\"M18.56 5.44l.94 2.06.94-2.06 2.06-.94-2.06-.94-.94-2.06-.94 2.06-2.06.94zm-11 1L8.5 8.5l.94-2.06 2.06-.94-2.06-.94L8.5 2.5l-.94 2.06-2.06.94zm10 10l.94 2.06.94-2.06 2.06-.94-2.06-.94-.94-2.06-.94 2.06-2.06.94z\"/><path d=\"M17.41 7.96l-1.37-1.37c-.4-.4-.92-.59-1.43-.59-.52 0-1.04.2-1.43.59L10.3 9.45l-7.72 7.72c-.78.78-.78 2.05 0 2.83L4 21.41c.39.39.9.59 1.41.59.51 0 1.02-.2 1.41-.59l7.78-7.78 2.81-2.81c.8-.78.8-2.07 0-2.86zM5.41 20L4 18.59l7.72-7.72 1.47 1.35L5.41 20z\"/>\n",
       "  </svg>\n",
       "      </button>\n",
       "      \n",
       "  <style>\n",
       "    .colab-df-container {\n",
       "      display:flex;\n",
       "      flex-wrap:wrap;\n",
       "      gap: 12px;\n",
       "    }\n",
       "\n",
       "    .colab-df-convert {\n",
       "      background-color: #E8F0FE;\n",
       "      border: none;\n",
       "      border-radius: 50%;\n",
       "      cursor: pointer;\n",
       "      display: none;\n",
       "      fill: #1967D2;\n",
       "      height: 32px;\n",
       "      padding: 0 0 0 0;\n",
       "      width: 32px;\n",
       "    }\n",
       "\n",
       "    .colab-df-convert:hover {\n",
       "      background-color: #E2EBFA;\n",
       "      box-shadow: 0px 1px 2px rgba(60, 64, 67, 0.3), 0px 1px 3px 1px rgba(60, 64, 67, 0.15);\n",
       "      fill: #174EA6;\n",
       "    }\n",
       "\n",
       "    [theme=dark] .colab-df-convert {\n",
       "      background-color: #3B4455;\n",
       "      fill: #D2E3FC;\n",
       "    }\n",
       "\n",
       "    [theme=dark] .colab-df-convert:hover {\n",
       "      background-color: #434B5C;\n",
       "      box-shadow: 0px 1px 3px 1px rgba(0, 0, 0, 0.15);\n",
       "      filter: drop-shadow(0px 1px 2px rgba(0, 0, 0, 0.3));\n",
       "      fill: #FFFFFF;\n",
       "    }\n",
       "  </style>\n",
       "\n",
       "      <script>\n",
       "        const buttonEl =\n",
       "          document.querySelector('#df-3284339b-8d72-411a-b5b8-d813f362288b button.colab-df-convert');\n",
       "        buttonEl.style.display =\n",
       "          google.colab.kernel.accessAllowed ? 'block' : 'none';\n",
       "\n",
       "        async function convertToInteractive(key) {\n",
       "          const element = document.querySelector('#df-3284339b-8d72-411a-b5b8-d813f362288b');\n",
       "          const dataTable =\n",
       "            await google.colab.kernel.invokeFunction('convertToInteractive',\n",
       "                                                     [key], {});\n",
       "          if (!dataTable) return;\n",
       "\n",
       "          const docLinkHtml = 'Like what you see? Visit the ' +\n",
       "            '<a target=\"_blank\" href=https://colab.research.google.com/notebooks/data_table.ipynb>data table notebook</a>'\n",
       "            + ' to learn more about interactive tables.';\n",
       "          element.innerHTML = '';\n",
       "          dataTable['output_type'] = 'display_data';\n",
       "          await google.colab.output.renderOutput(dataTable, element);\n",
       "          const docLink = document.createElement('div');\n",
       "          docLink.innerHTML = docLinkHtml;\n",
       "          element.appendChild(docLink);\n",
       "        }\n",
       "      </script>\n",
       "    </div>\n",
       "  </div>\n",
       "  "
      ]
     },
     "metadata": {},
     "execution_count": 13
    }
   ]
  },
  {
   "cell_type": "markdown",
   "source": [
    "#Get Similaritys"
   ],
   "metadata": {
    "id": "BpWY-11xHbtP"
   }
  },
  {
   "cell_type": "code",
   "source": [
    "path_KIBA_drug_sim = 'KIBA/kiba_drug_sim.txt' #Drug Similarity Matrix SimDD from Kiba Dataset\n",
    "path_KIBA_target_sim = 'KIBA/kiba_target_sim.txt' #Target Similarity Matrix SimTT from Kiba Dataset"
   ],
   "metadata": {
    "id": "a2k3cDF0HM0l",
    "executionInfo": {
     "status": "ok",
     "timestamp": 1664822524576,
     "user_tz": -120,
     "elapsed": 476,
     "user": {
      "displayName": "Laurenz Wurdinger",
      "userId": "00707038666413498638"
     }
    }
   },
   "execution_count": 9,
   "outputs": []
  },
  {
   "cell_type": "code",
   "source": [
    "def get_features(drug_sim_path, target_sim_path, fold):\n",
    "  drug_sim = np.loadtxt(drug_sim_path)\n",
    "  target_sim = np.loadtxt(target_sim_path)\n",
    "  feature_list=[]\n",
    "  for index, row in fold.iterrows():\n",
    "   drug_feature = drug_sim[int(row['drug_ID'])]\n",
    "   target_feature = target_sim[int(row['target_ID'])]\n",
    "\n",
    "   feature_list.append(np.concatenate((drug_feature, target_feature)))\n",
    "  return feature_list\n"
   ],
   "metadata": {
    "id": "3C7_uRLVHyer",
    "executionInfo": {
     "status": "ok",
     "timestamp": 1664822524578,
     "user_tz": -120,
     "elapsed": 472,
     "user": {
      "displayName": "Laurenz Wurdinger",
      "userId": "00707038666413498638"
     }
    }
   },
   "execution_count": 10,
   "outputs": []
  },
  {
   "cell_type": "code",
   "source": [
    "features_fold1 = get_features(path_KIBA_drug_sim, path_KIBA_target_sim, affi_fold1)\n",
    "features_fold2 = get_features(path_KIBA_drug_sim, path_KIBA_target_sim, affi_fold2)\n",
    "features_fold3 = get_features(path_KIBA_drug_sim, path_KIBA_target_sim, affi_fold3)\n",
    "features_fold4 = get_features(path_KIBA_drug_sim, path_KIBA_target_sim, affi_fold4)\n",
    "features_fold5 = get_features(path_KIBA_drug_sim, path_KIBA_target_sim, affi_fold5)"
   ],
   "metadata": {
    "id": "Z2iY_FPYH1sd",
    "executionInfo": {
     "status": "error",
     "timestamp": 1664822524580,
     "user_tz": -120,
     "elapsed": 470,
     "user": {
      "displayName": "Laurenz Wurdinger",
      "userId": "00707038666413498638"
     }
    },
    "colab": {
     "base_uri": "https://localhost:8080/",
     "height": 241
    },
    "outputId": "a9a6e3c9-31d1-48f4-e31f-7b0ea43766f8"
   },
   "execution_count": 11,
   "outputs": [
    {
     "output_type": "error",
     "ename": "NameError",
     "evalue": "ignored",
     "traceback": [
      "\u001B[0;31m---------------------------------------------------------------------------\u001B[0m",
      "\u001B[0;31mNameError\u001B[0m                                 Traceback (most recent call last)",
      "\u001B[0;32m<ipython-input-11-1a1e9d40ae4e>\u001B[0m in \u001B[0;36m<module>\u001B[0;34m\u001B[0m\n\u001B[0;32m----> 1\u001B[0;31m \u001B[0mfeatures_fold1\u001B[0m \u001B[0;34m=\u001B[0m \u001B[0mget_features\u001B[0m\u001B[0;34m(\u001B[0m\u001B[0mpath_KIBA_drug_sim\u001B[0m\u001B[0;34m,\u001B[0m \u001B[0mpath_KIBA_target_sim\u001B[0m\u001B[0;34m,\u001B[0m \u001B[0maffi_fold1\u001B[0m\u001B[0;34m)\u001B[0m\u001B[0;34m\u001B[0m\u001B[0;34m\u001B[0m\u001B[0m\n\u001B[0m\u001B[1;32m      2\u001B[0m \u001B[0mfeatures_fold2\u001B[0m \u001B[0;34m=\u001B[0m \u001B[0mget_features\u001B[0m\u001B[0;34m(\u001B[0m\u001B[0mpath_KIBA_drug_sim\u001B[0m\u001B[0;34m,\u001B[0m \u001B[0mpath_KIBA_target_sim\u001B[0m\u001B[0;34m,\u001B[0m \u001B[0maffi_fold2\u001B[0m\u001B[0;34m)\u001B[0m\u001B[0;34m\u001B[0m\u001B[0;34m\u001B[0m\u001B[0m\n\u001B[1;32m      3\u001B[0m \u001B[0mfeatures_fold3\u001B[0m \u001B[0;34m=\u001B[0m \u001B[0mget_features\u001B[0m\u001B[0;34m(\u001B[0m\u001B[0mpath_KIBA_drug_sim\u001B[0m\u001B[0;34m,\u001B[0m \u001B[0mpath_KIBA_target_sim\u001B[0m\u001B[0;34m,\u001B[0m \u001B[0maffi_fold3\u001B[0m\u001B[0;34m)\u001B[0m\u001B[0;34m\u001B[0m\u001B[0;34m\u001B[0m\u001B[0m\n\u001B[1;32m      4\u001B[0m \u001B[0mfeatures_fold4\u001B[0m \u001B[0;34m=\u001B[0m \u001B[0mget_features\u001B[0m\u001B[0;34m(\u001B[0m\u001B[0mpath_KIBA_drug_sim\u001B[0m\u001B[0;34m,\u001B[0m \u001B[0mpath_KIBA_target_sim\u001B[0m\u001B[0;34m,\u001B[0m \u001B[0maffi_fold4\u001B[0m\u001B[0;34m)\u001B[0m\u001B[0;34m\u001B[0m\u001B[0;34m\u001B[0m\u001B[0m\n\u001B[1;32m      5\u001B[0m \u001B[0mfeatures_fold5\u001B[0m \u001B[0;34m=\u001B[0m \u001B[0mget_features\u001B[0m\u001B[0;34m(\u001B[0m\u001B[0mpath_KIBA_drug_sim\u001B[0m\u001B[0;34m,\u001B[0m \u001B[0mpath_KIBA_target_sim\u001B[0m\u001B[0;34m,\u001B[0m \u001B[0maffi_fold5\u001B[0m\u001B[0;34m)\u001B[0m\u001B[0;34m\u001B[0m\u001B[0;34m\u001B[0m\u001B[0m\n",
      "\u001B[0;31mNameError\u001B[0m: name 'affi_fold1' is not defined"
     ]
    }
   ]
  },
  {
   "cell_type": "code",
   "source": [
    "features_test = get_features(path_KIBA_drug_sim, path_KIBA_target_sim, affi_test)"
   ],
   "metadata": {
    "id": "Qm2g_QeHKum0",
    "executionInfo": {
     "status": "aborted",
     "timestamp": 1664822524599,
     "user_tz": -120,
     "elapsed": 471,
     "user": {
      "displayName": "Laurenz Wurdinger",
      "userId": "00707038666413498638"
     }
    }
   },
   "execution_count": null,
   "outputs": []
  },
  {
   "cell_type": "markdown",
   "source": [
    "#Write Files in the RankLibFormat"
   ],
   "metadata": {
    "id": "acB_FGbqLWO3"
   }
  },
  {
   "cell_type": "code",
   "source": [
    "def write_file(outpath:str, drug_sim_path, target_sim_path, fold):\n",
    "  with open(outpath, 'w') as f:\n",
    "    drug_sim = np.loadtxt(drug_sim_path)\n",
    "    target_sim = np.loadtxt(target_sim_path)\n",
    "    for index, row in fold.iterrows():\n",
    "      #write affinity\n",
    "      f.write(str(row['affinity']))\n",
    "      #write qid\n",
    "      f.write(' qid:')\n",
    "      f.write(str(int(row['drug_ID'])))\n",
    "      f.write(' ')\n",
    "      #write features\n",
    "      feature_number = 1  # for Ranklib thte feature number has to be infront of each feature\n",
    "      #features\n",
    "      #Drugs\n",
    "      drug_feature = drug_sim[int(row['drug_ID'])]\n",
    "      for el in drug_feature:\n",
    "        f.write(str(feature_number)+':')\n",
    "        f.write(str(el))\n",
    "        f.write(' ')\n",
    "        feature_number +=1\n",
    "      #Targets\n",
    "      target_feature = target_sim[int(row['target_ID'])]\n",
    "      for el in target_feature:\n",
    "        f.write(str(feature_number)+':')\n",
    "        f.write(str(el))\n",
    "        f.write(' ')\n",
    "        feature_number +=1\n",
    "      f.write('\\n')\n",
    "      "
   ],
   "metadata": {
    "id": "SNB9idY0LaUu"
   },
   "execution_count": null,
   "outputs": []
  },
  {
   "cell_type": "code",
   "source": [
    "write_file('features/combined_similarities/train_fold1_KIBA.txt', path_KIBA_drug_sim, path_KIBA_target_sim, affi_fold1)\n",
    "write_file('features/combined_similarities/train_fold2_KIBA.txt', path_KIBA_drug_sim, path_KIBA_target_sim, affi_fold2)\n",
    "write_file('features/combined_similarities/train_fold3_KIBA.txt', path_KIBA_drug_sim, path_KIBA_target_sim, affi_fold3)\n",
    "write_file('features/combined_similarities/train_fold4_KIBA.txt', path_KIBA_drug_sim, path_KIBA_target_sim, affi_fold4)\n",
    "write_file('features/combined_similarities/train_fold5_KIBA.txt', path_KIBA_drug_sim, path_KIBA_target_sim, affi_fold5)"
   ],
   "metadata": {
    "id": "R69CZdd8MiMc"
   },
   "execution_count": null,
   "outputs": []
  },
  {
   "cell_type": "code",
   "source": [
    "write_file('train_KIBA_sim.txt', path_KIBA_drug_sim, path_KIBA_target_sim, affi_train)\n",
    "write_file('test_KIBA_sim.txt', path_KIBA_drug_sim, path_KIBA_target_sim, affi_test)"
   ],
   "metadata": {
    "id": "uob_Ilh1M52t"
   },
   "execution_count": null,
   "outputs": []
  },
  {
   "cell_type": "markdown",
   "source": [
    "#Write Files separate for Drugs and Targets without RankLib Format"
   ],
   "metadata": {
    "id": "gERxPyKaVF9r"
   }
  },
  {
   "cell_type": "code",
   "source": [
    "def write_file_drugs(outpath:str, drug_sim_path, fold):\n",
    "    drug_sim = np.loadtxt(drug_sim_path)\n",
    "    features = []\n",
    "    for index, row in fold.iterrows():\n",
    "      #Drugs\n",
    "      drug_feature = drug_sim[int(row['drug_ID'])]\n",
    "      features.append(drug_feature)\n",
    "    features_np = np.asarray(features)\n",
    "    np.save(outpath, features_np)\n",
    "\n",
    "def write_file_targets(outpath:str, target_sim_path, fold):\n",
    "    target_sim = np.loadtxt(target_sim_path)\n",
    "    features = []\n",
    "    for index, row in fold.iterrows():\n",
    "      #Targets\n",
    "      target_feature = target_sim[int(row['target_ID'])]\n",
    "      features.append(target_feature)\n",
    "    features_np = np.asarray(features)\n",
    "    np.save(outpath, features_np)"
   ],
   "metadata": {
    "id": "V4VnKbBoVMGs"
   },
   "execution_count": null,
   "outputs": []
  },
  {
   "cell_type": "code",
   "source": [
    "write_file_drugs('features/learned/train_fold1_drugs.npy', path_KIBA_drug_sim, affi_fold1)\n",
    "write_file_drugs('features/learned/train_fold2_drugs.npy', path_KIBA_drug_sim, affi_fold2)\n",
    "write_file_drugs('features/learned/train_fold3_drugs.npy', path_KIBA_drug_sim, affi_fold3)\n",
    "write_file_drugs('features/learned/train_fold4_drugs.npy', path_KIBA_drug_sim, affi_fold4)\n",
    "write_file_drugs('features/learned/train_fold5_drugs.npy', path_KIBA_drug_sim, affi_fold5)"
   ],
   "metadata": {
    "id": "xRZ1JfriVMGu"
   },
   "execution_count": null,
   "outputs": []
  },
  {
   "cell_type": "code",
   "source": [
    "write_file_targets('features/learned/train_fold1_targets.npy', path_KIBA_target_sim, affi_fold1)\n",
    "write_file_targets('features/learned/train_fold2_targets.npy', path_KIBA_target_sim, affi_fold2)\n",
    "write_file_targets('features/learned/train_fold3_targets.npy', path_KIBA_target_sim, affi_fold3)\n",
    "write_file_targets('features/learned/train_fold4_targets.npy', path_KIBA_target_sim, affi_fold4)\n",
    "write_file_targets('features/learned/train_fold5_targets.npy', path_KIBA_target_sim, affi_fold5)"
   ],
   "metadata": {
    "id": "HU9ABbVOOlit"
   },
   "execution_count": null,
   "outputs": []
  },
  {
   "cell_type": "code",
   "source": [
    "def write_file_full_rf(outpath:str, drug_sim_path, target_sim_path, fold):\n",
    "\n",
    "  drug_sim = np.loadtxt(drug_sim_path)\n",
    "  target_sim = np.loadtxt(target_sim_path)\n",
    "  features_full = []\n",
    "  for index, row in fold.iterrows():\n",
    "    #features\n",
    "    features = []\n",
    "    #Drugs\n",
    "    drug_feature = drug_sim[int(row['drug_ID'])]\n",
    "    for el in drug_feature:\n",
    "      features.append(el)\n",
    "    #Targets\n",
    "    target_feature = target_sim[int(row['target_ID'])]\n",
    "    for el in target_feature:\n",
    "      features.append(el)\n",
    "    features_full.append(features)\n",
    "  features_np = np.asarray(features_full)\n",
    "  print(len(features_np))\n",
    "  #np.save(outpath, features_np)\n",
    "  np.savetxt(outpath, features_np, delimiter=',') "
   ],
   "metadata": {
    "id": "59Y1Wo_FW6x1",
    "executionInfo": {
     "status": "ok",
     "timestamp": 1664823156380,
     "user_tz": -120,
     "elapsed": 320,
     "user": {
      "displayName": "Laurenz Wurdinger",
      "userId": "00707038666413498638"
     }
    }
   },
   "execution_count": 27,
   "outputs": []
  },
  {
   "cell_type": "code",
   "source": [
    "write_file_full_rf('train_KIBA_sim_RF', path_KIBA_drug_sim,  path_KIBA_target_sim, affi_train)\n",
    "write_file_full_rf('test_KIBA_sim_RF', path_KIBA_drug_sim,  path_KIBA_target_sim, affi_test)"
   ],
   "metadata": {
    "id": "ZWyKSqGyAUQp",
    "executionInfo": {
     "status": "ok",
     "timestamp": 1664823393788,
     "user_tz": -120,
     "elapsed": 235616,
     "user": {
      "displayName": "Laurenz Wurdinger",
      "userId": "00707038666413498638"
     }
    },
    "colab": {
     "base_uri": "https://localhost:8080/"
    },
    "outputId": "f36318c3-2222-4ee3-89df-7679d64116ef"
   },
   "execution_count": 28,
   "outputs": [
    {
     "output_type": "stream",
     "name": "stdout",
     "text": [
      "98545\n",
      "19709\n"
     ]
    }
   ]
  },
  {
   "cell_type": "code",
   "source": [],
   "metadata": {
    "id": "Yg48PcvqAjyr"
   },
   "execution_count": null,
   "outputs": []
  }
 ]
}
