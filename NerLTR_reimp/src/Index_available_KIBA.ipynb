{
 "nbformat": 4,
 "nbformat_minor": 0,
 "metadata": {
  "colab": {
   "name": "Index_available_KIBA.ipynb",
   "provenance": [],
   "collapsed_sections": [],
   "authorship_tag": "ABX9TyPoSM/IldiBI01HRfJK6FVS"
  },
  "kernelspec": {
   "name": "python3",
   "display_name": "Python 3"
  },
  "language_info": {
   "name": "python"
  }
 },
 "cells": [
  {
   "cell_type": "code",
   "execution_count": 1,
   "metadata": {
    "colab": {
     "base_uri": "https://localhost:8080/"
    },
    "id": "R418lbcvAiq5",
    "executionInfo": {
     "status": "ok",
     "timestamp": 1658849113604,
     "user_tz": -120,
     "elapsed": 2093,
     "user": {
      "displayName": "Laurenz Wurdinger",
      "userId": "00707038666413498638"
     }
    },
    "outputId": "cb907752-09b2-4c62-9558-2dac15a2e6ed"
   },
   "outputs": [
    {
     "output_type": "stream",
     "name": "stdout",
     "text": [
      "Drive already mounted at /content/gdrive; to attempt to forcibly remount, call drive.mount(\"/content/gdrive\", force_remount=True).\n"
     ]
    }
   ],
   "source": []
  },
  {
   "cell_type": "code",
   "source": [
    "root_path = '/data/KIBA/'  #change dir to your project folder\n",
    "import os\n",
    "os.chdir(root_path)\n",
    "!pwd"
   ],
   "metadata": {
    "colab": {
     "base_uri": "https://localhost:8080/"
    },
    "id": "JIrkhr-1Ar0T",
    "executionInfo": {
     "status": "ok",
     "timestamp": 1658849113606,
     "user_tz": -120,
     "elapsed": 16,
     "user": {
      "displayName": "Laurenz Wurdinger",
      "userId": "00707038666413498638"
     }
    },
    "outputId": "8693c741-1eac-41d3-8402-b8fcb5f37a04"
   },
   "execution_count": 2,
   "outputs": [
    {
     "output_type": "stream",
     "name": "stdout",
     "text": [
      "/content/gdrive/My Drive/KI JKU/Seminar_PracticalW_MasterThesis/MasterThesis/NerLTR/data/KIBA\n"
     ]
    }
   ]
  },
  {
   "cell_type": "code",
   "source": [
    "!python3 --version"
   ],
   "metadata": {
    "colab": {
     "base_uri": "https://localhost:8080/"
    },
    "id": "0jJHMX0uBAWc",
    "executionInfo": {
     "status": "ok",
     "timestamp": 1658849113987,
     "user_tz": -120,
     "elapsed": 387,
     "user": {
      "displayName": "Laurenz Wurdinger",
      "userId": "00707038666413498638"
     }
    },
    "outputId": "4e71f815-9369-435d-9c2d-5a4a985cb0b8"
   },
   "execution_count": 3,
   "outputs": [
    {
     "output_type": "stream",
     "name": "stdout",
     "text": [
      "Python 3.7.13\n"
     ]
    }
   ]
  },
  {
   "cell_type": "code",
   "source": [
    "#!/usr/bin/env python\n",
    "# coding: utf-8\n",
    "!pip install numpy==1.17.0\n",
    "!pip install pandas==1.2.3\n",
    "\n",
    "import numpy as np\n",
    "import pandas as pd\n",
    "import linecache\n",
    "import math"
   ],
   "metadata": {
    "colab": {
     "base_uri": "https://localhost:8080/"
    },
    "id": "knyFRYwvBAZE",
    "executionInfo": {
     "status": "ok",
     "timestamp": 1658849122357,
     "user_tz": -120,
     "elapsed": 8372,
     "user": {
      "displayName": "Laurenz Wurdinger",
      "userId": "00707038666413498638"
     }
    },
    "outputId": "3036838a-4c7e-4456-c35f-d549d276c26d"
   },
   "execution_count": 4,
   "outputs": [
    {
     "output_type": "stream",
     "name": "stdout",
     "text": [
      "Looking in indexes: https://pypi.org/simple, https://us-python.pkg.dev/colab-wheels/public/simple/\n",
      "Requirement already satisfied: numpy==1.17.0 in /usr/local/lib/python3.7/dist-packages (1.17.0)\n",
      "Looking in indexes: https://pypi.org/simple, https://us-python.pkg.dev/colab-wheels/public/simple/\n",
      "Requirement already satisfied: pandas==1.2.3 in /usr/local/lib/python3.7/dist-packages (1.2.3)\n",
      "Requirement already satisfied: python-dateutil>=2.7.3 in /usr/local/lib/python3.7/dist-packages (from pandas==1.2.3) (2.8.2)\n",
      "Requirement already satisfied: pytz>=2017.3 in /usr/local/lib/python3.7/dist-packages (from pandas==1.2.3) (2022.1)\n",
      "Requirement already satisfied: numpy>=1.16.5 in /usr/local/lib/python3.7/dist-packages (from pandas==1.2.3) (1.17.0)\n",
      "Requirement already satisfied: six>=1.5 in /usr/local/lib/python3.7/dist-packages (from python-dateutil>=2.7.3->pandas==1.2.3) (1.15.0)\n"
     ]
    }
   ]
  },
  {
   "cell_type": "code",
   "source": [
    "#Get the index of the data that satisfies the constraint\n",
    "lines1 = linecache.getlines(\"quantile/drug_eachrow_avg_sim.txt\")#AA\n",
    "lines1 = [line1.rstrip('\\n').strip() for line1 in lines1]\n",
    "num = 0\n",
    "with open('kiba_drug_sim.txt','r') as f, open('index/drug_eachrow_avg_sim_index.txt','w') as f1, open('index/drug_eachrow_avg_sim_num.txt','w') as f2:\n",
    "    lines = f.readlines()\n",
    "   \n",
    "    for i in lines:\n",
    "        j = i.split(\" \")\n",
    "        counter = 0\n",
    "        for i,p in enumerate(j):\n",
    "            m = float(p)\n",
    "            if m> float(lines1[num]):\n",
    "                counter += 1 \n",
    "                f1.write(str(i)+' ')\n",
    "                #q = i\n",
    "        f1.write('\\n')\n",
    "        f2.write(str(counter)+' ')\n",
    "        f2.write('\\n')\n",
    "        num = num+1"
   ],
   "metadata": {
    "id": "xhAU9LF7G7nw",
    "executionInfo": {
     "status": "ok",
     "timestamp": 1658849205069,
     "user_tz": -120,
     "elapsed": 5744,
     "user": {
      "displayName": "Laurenz Wurdinger",
      "userId": "00707038666413498638"
     }
    }
   },
   "execution_count": 5,
   "outputs": []
  },
  {
   "cell_type": "code",
   "source": [
    "#Index of the 5 most similar data\n",
    "#step1\n",
    "data = np.loadtxt('kiba_drug_sim.txt')\n",
    "sim_index_rank = np.argsort(-data)\n",
    "#sim_index_rank\n",
    "#np.savetxt(\"low_sim_drug\\drug_sim_index_rank.txt\", sim_index_rank,fmt='%d',delimiter=' ')\n",
    "q = pd.DataFrame(sim_index_rank)\n",
    "d = q[[0,1, 2,3,4,5]]\n",
    "f = q[[0,1]]\n",
    "np.savetxt(\"index/drug_sim_rank_F5_index_pre.txt\", d,fmt='%d',delimiter=' ')\n",
    "#np.savetxt(\"index/drug_sim_rank_F1_index.txt\", f,fmt='%d',delimiter=' ')"
   ],
   "metadata": {
    "id": "eBH4xRE3HgKa",
    "executionInfo": {
     "status": "ok",
     "timestamp": 1658849272967,
     "user_tz": -120,
     "elapsed": 4583,
     "user": {
      "displayName": "Laurenz Wurdinger",
      "userId": "00707038666413498638"
     }
    }
   },
   "execution_count": 6,
   "outputs": []
  },
  {
   "cell_type": "code",
   "source": [
    "#step2\n",
    "lines1 = linecache.getlines(\"index/A_Row_index.txt\")#AA\n",
    "lines1 = [line1.rstrip('\\n').strip() for line1 in lines1]\n",
    "num = 0\n",
    "with open('index/drug_sim_rank_F5_index_pre.txt','r') as f, open('index/drug_sim_rank_F5_index.txt','w') as f1:\n",
    "    lines = f.readlines()\n",
    "   \n",
    "    for i in lines:\n",
    "        j = i.split()\n",
    "        counter = 0\n",
    "        for i,p in enumerate(j):\n",
    "            #m = float(p)\n",
    "            print(i)\n",
    "            print(p)\n",
    "            print(j)\n",
    "            if p == lines1[num]:\n",
    "                counter += 1 \n",
    "                #f1.write(str(i)+' ')\n",
    "                #q = i\n",
    "            \n",
    "            else:\n",
    "                #print(p)\n",
    "                f1.write(p+' ')\n",
    "        #f1.write('\\n')\n",
    "        #f2.write(str(counter)+' ')\n",
    "        #f2.write('\\n')\n",
    "        num = num+1"
   ],
   "metadata": {
    "colab": {
     "base_uri": "https://localhost:8080/",
     "height": 294
    },
    "id": "nso-m4hsHxCB",
    "executionInfo": {
     "status": "error",
     "timestamp": 1658850403308,
     "user_tz": -120,
     "elapsed": 8,
     "user": {
      "displayName": "Laurenz Wurdinger",
      "userId": "00707038666413498638"
     }
    },
    "outputId": "685fc207-c504-4cb7-e42b-251841afedf8"
   },
   "execution_count": 15,
   "outputs": [
    {
     "output_type": "stream",
     "name": "stdout",
     "text": [
      "0\n",
      "0\n",
      "['0', '1', '1183', '1120', '295', '1172']\n"
     ]
    },
    {
     "output_type": "error",
     "ename": "IndexError",
     "evalue": "ignored",
     "traceback": [
      "\u001B[0;31m---------------------------------------------------------------------------\u001B[0m",
      "\u001B[0;31mIndexError\u001B[0m                                Traceback (most recent call last)",
      "\u001B[0;32m<ipython-input-15-768fa237e7b5>\u001B[0m in \u001B[0;36m<module>\u001B[0;34m()\u001B[0m\n\u001B[1;32m     14\u001B[0m             \u001B[0mprint\u001B[0m\u001B[0;34m(\u001B[0m\u001B[0mp\u001B[0m\u001B[0;34m)\u001B[0m\u001B[0;34m\u001B[0m\u001B[0;34m\u001B[0m\u001B[0m\n\u001B[1;32m     15\u001B[0m             \u001B[0mprint\u001B[0m\u001B[0;34m(\u001B[0m\u001B[0mj\u001B[0m\u001B[0;34m)\u001B[0m\u001B[0;34m\u001B[0m\u001B[0;34m\u001B[0m\u001B[0m\n\u001B[0;32m---> 16\u001B[0;31m             \u001B[0;32mif\u001B[0m \u001B[0mp\u001B[0m \u001B[0;34m==\u001B[0m \u001B[0mlines1\u001B[0m\u001B[0;34m[\u001B[0m\u001B[0mnum\u001B[0m\u001B[0;34m]\u001B[0m\u001B[0;34m:\u001B[0m\u001B[0;34m\u001B[0m\u001B[0;34m\u001B[0m\u001B[0m\n\u001B[0m\u001B[1;32m     17\u001B[0m                 \u001B[0mcounter\u001B[0m \u001B[0;34m+=\u001B[0m \u001B[0;36m1\u001B[0m\u001B[0;34m\u001B[0m\u001B[0;34m\u001B[0m\u001B[0m\n\u001B[1;32m     18\u001B[0m                 \u001B[0;31m#f1.write(str(i)+' ')\u001B[0m\u001B[0;34m\u001B[0m\u001B[0;34m\u001B[0m\u001B[0;34m\u001B[0m\u001B[0m\n",
      "\u001B[0;31mIndexError\u001B[0m: list index out of range"
     ]
    }
   ]
  },
  {
   "cell_type": "code",
   "source": [],
   "metadata": {
    "id": "KNNnspj3KLRw"
   },
   "execution_count": null,
   "outputs": []
  }
 ]
}
