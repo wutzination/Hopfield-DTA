{
 "nbformat": 4,
 "nbformat_minor": 0,
 "metadata": {
  "colab": {
   "name": "AAF_KIBA.ipynb",
   "provenance": [],
   "authorship_tag": "ABX9TyP/lU2wlE8z4XMUA+zClBtO"
  },
  "kernelspec": {
   "name": "python3",
   "display_name": "Python 3"
  },
  "language_info": {
   "name": "python"
  }
 },
 "cells": [
  {
   "cell_type": "code",
   "execution_count": null,
   "metadata": {
    "colab": {
     "base_uri": "https://localhost:8080/"
    },
    "id": "R418lbcvAiq5",
    "executionInfo": {
     "status": "ok",
     "timestamp": 1658850756197,
     "user_tz": -120,
     "elapsed": 1737,
     "user": {
      "displayName": "Laurenz Wurdinger",
      "userId": "00707038666413498638"
     }
    },
    "outputId": "c7f67291-47ee-4d15-8b5a-b621a495e432"
   },
   "outputs": [
    {
     "output_type": "stream",
     "name": "stdout",
     "text": [
      "Drive already mounted at /content/gdrive; to attempt to forcibly remount, call drive.mount(\"/content/gdrive\", force_remount=True).\n"
     ]
    }
   ],
   "source": []
  },
  {
   "cell_type": "code",
   "source": [
    "root_path = 'data/KIBA/'  #change dir to your project folder\n",
    "import os\n",
    "os.chdir(root_path)\n",
    "!pwd"
   ],
   "metadata": {
    "colab": {
     "base_uri": "https://localhost:8080/"
    },
    "id": "JIrkhr-1Ar0T",
    "executionInfo": {
     "status": "ok",
     "timestamp": 1658850756578,
     "user_tz": -120,
     "elapsed": 384,
     "user": {
      "displayName": "Laurenz Wurdinger",
      "userId": "00707038666413498638"
     }
    },
    "outputId": "0bffbd0e-4814-4a61-d5a8-349e6ad3e3ff"
   },
   "execution_count": null,
   "outputs": [
    {
     "output_type": "stream",
     "name": "stdout",
     "text": [
      "/content/gdrive/My Drive/KI JKU/Seminar_PracticalW_MasterThesis/MasterThesis/NerLTR/data/KIBA\n"
     ]
    }
   ]
  },
  {
   "cell_type": "code",
   "source": [
    "!python3 --version"
   ],
   "metadata": {
    "colab": {
     "base_uri": "https://localhost:8080/"
    },
    "id": "0jJHMX0uBAWc",
    "executionInfo": {
     "status": "ok",
     "timestamp": 1658850756578,
     "user_tz": -120,
     "elapsed": 8,
     "user": {
      "displayName": "Laurenz Wurdinger",
      "userId": "00707038666413498638"
     }
    },
    "outputId": "7c4a384f-9de0-4fb9-fe6c-82ca73a40d5f"
   },
   "execution_count": null,
   "outputs": [
    {
     "output_type": "stream",
     "name": "stdout",
     "text": [
      "Python 3.7.13\n"
     ]
    }
   ]
  },
  {
   "cell_type": "code",
   "source": [
    "#!/usr/bin/env python\n",
    "# coding: utf-8\n",
    "!pip install numpy==1.17.0\n",
    "!pip install pandas==1.2.3\n",
    "\n",
    "import numpy as np\n",
    "import pandas as pd\n",
    "import linecache\n",
    "import math"
   ],
   "metadata": {
    "colab": {
     "base_uri": "https://localhost:8080/"
    },
    "id": "knyFRYwvBAZE",
    "executionInfo": {
     "status": "ok",
     "timestamp": 1658850765361,
     "user_tz": -120,
     "elapsed": 8787,
     "user": {
      "displayName": "Laurenz Wurdinger",
      "userId": "00707038666413498638"
     }
    },
    "outputId": "e3ca0898-bab6-4aef-f5c0-0d90186bfd1b"
   },
   "execution_count": null,
   "outputs": [
    {
     "output_type": "stream",
     "name": "stdout",
     "text": [
      "Looking in indexes: https://pypi.org/simple, https://us-python.pkg.dev/colab-wheels/public/simple/\n",
      "Requirement already satisfied: numpy==1.17.0 in /usr/local/lib/python3.7/dist-packages (1.17.0)\n",
      "Looking in indexes: https://pypi.org/simple, https://us-python.pkg.dev/colab-wheels/public/simple/\n",
      "Requirement already satisfied: pandas==1.2.3 in /usr/local/lib/python3.7/dist-packages (1.2.3)\n",
      "Requirement already satisfied: numpy>=1.16.5 in /usr/local/lib/python3.7/dist-packages (from pandas==1.2.3) (1.17.0)\n",
      "Requirement already satisfied: python-dateutil>=2.7.3 in /usr/local/lib/python3.7/dist-packages (from pandas==1.2.3) (2.8.2)\n",
      "Requirement already satisfied: pytz>=2017.3 in /usr/local/lib/python3.7/dist-packages (from pandas==1.2.3) (2022.1)\n",
      "Requirement already satisfied: six>=1.5 in /usr/local/lib/python3.7/dist-packages (from python-dateutil>=2.7.3->pandas==1.2.3) (1.15.0)\n"
     ]
    }
   ]
  },
  {
   "cell_type": "code",
   "source": [
    "#AAF\n",
    "#step1\n",
    "lines = linecache.getlines(\"quantile/Affi_DT_num.txt\")#ASAF data file\n",
    "lines = [line.rstrip('\\n') for line in lines]\n",
    "\n",
    "lines1 = linecache.getlines(\"index/drug_eachrow_avg_sim_index_del.txt\")#index_available file\n",
    "lines1 = [line1.rstrip('\\n').strip() for line1 in lines1]\n",
    "file = open(\"features/drug_fea/avg_DT_num.txt\",'w')\n",
    "for idx, line in enumerate(lines1):\n",
    "    line = line.split(' ')\n",
    "    for i in line:\n",
    "        \n",
    "        #print(lines[int(i)], end=\" \")\n",
    "    #print()\n",
    "        file.write(lines[int(i)]+\" \")\n",
    "    file.write('\\n')\n",
    "file.close()"
   ],
   "metadata": {
    "id": "DrusGeFKBGO3"
   },
   "execution_count": null,
   "outputs": []
  },
  {
   "cell_type": "code",
   "source": [
    "#step2\n",
    "lines1 = linecache.getlines(\"avg_DT_num.txt\")#AA\n",
    "lines1 = [line1.rstrip('\\n').strip() for line1 in lines1]\n",
    "\n",
    "def calculate_percentile(arry, percentile):\n",
    "    size = len(arry)\n",
    "    return sorted(arry)[int(math.ceil((size * percentile) / 100)) - 1]\n",
    "\n",
    "mm = open('f/avg_DT_num_percent25.txt',mode = 'w+', encoding='utf-8') \n",
    "mm1 = open('f/avg_DT_num_percent50.txt',mode = 'w+', encoding='utf-8') \n",
    "mm2 = open('f/avg_DT_num_percent75.txt',mode = 'w+', encoding='utf-8') \n",
    "for i in lines1:\n",
    "    #i=i.replace('\\n','')\n",
    "    \n",
    "    a = i.split(\" \")\n",
    "    #print(a)\n",
    "    #a=a[0:-1]\n",
    "    a_float = [ ]\n",
    "    for num in a:\n",
    "        a_float.append(float(num))\n",
    "    #print(a_float)\n",
    "    percentile_25 = calculate_percentile(a_float, 25)\n",
    "    percentile_50 = calculate_percentile(a_float, 50)\n",
    "    percentile_75 = calculate_percentile(a_float, 75)\n",
    "    mm.write(str(percentile_25)+' ')\n",
    "    mm.write('\\n')\n",
    "    mm1.write(str(percentile_50)+' ')\n",
    "    mm1.write('\\n')\n",
    "    mm2.write(str(percentile_75)+' ')\n",
    "    mm2.write('\\n')\n",
    "    #print(percentile_25)\n",
    "    #print(percentile_50)\n",
    "   #print(percentile_75)\n",
    "mm.close()\n",
    "mm1.close()\n",
    "mm2.close()"
   ],
   "metadata": {
    "id": "MHofCcPxBbvR"
   },
   "execution_count": null,
   "outputs": []
  },
  {
   "cell_type": "code",
   "source": [
    "lines1 = linecache.getlines(\"avg_DT_num.txt\")#AA\n",
    "lines1 = [line1.rstrip('\\n').strip() for line1 in lines1]\n",
    "\n",
    "mm = open('f/avg_DT_num_mode.txt',mode = 'w+', encoding='utf-8')\n",
    "for i in lines1:\n",
    "    #i=i.replace('\\n','')\n",
    "    \n",
    "    a = i.split(\" \")\n",
    "    a_float = [ ]\n",
    "    for num in a:\n",
    "        a_float.append(float(num))\n",
    "    #print(a_float)\n",
    "\n",
    "    li = a_float\n",
    "    #print(li)\n",
    "    d = {}\n",
    "    for i in li:\n",
    "        ss = d.get(i)\n",
    "        if ss == None:\n",
    "            d[i] = 1\n",
    "        else:\n",
    "            d[i]+=1\n",
    "    for i in d.items():\n",
    "        if i[1] == max(d.values()):\n",
    "            #print(\"众数:\",i[0])\n",
    "            \n",
    "    #print(\" \")\n",
    "            mm.write(str(i[0])+' ')\n",
    "    mm.write('\\n')\n",
    "mm.close()"
   ],
   "metadata": {
    "id": "NwKb8u8DBbxj"
   },
   "execution_count": null,
   "outputs": []
  },
  {
   "cell_type": "code",
   "source": [
    "\n",
    "lines1 = linecache.getlines(\"avg_DT_num.txt\")#AA\n",
    "lines1 = [line1.rstrip('\\n').strip() for line1 in lines1]\n",
    "mm = open('f/avg_DT_num_mean.txt',mode = 'w+', encoding='utf-8') \n",
    "mm1 = open('f/avg_DT_num_min.txt',mode = 'w+', encoding='utf-8')\n",
    "mm2 = open('f/avg_DT_num_max.txt',mode = 'w+', encoding='utf-8')\n",
    "for i in lines1:\n",
    "    #i=i.replace('\\n','')\n",
    "    \n",
    "    a = i.split(\" \")\n",
    "    a_float = [ ]\n",
    "    for num in a:\n",
    "        a_float.append(float(num))\n",
    "    #print(a_float)\n",
    "    li = a_float\n",
    "    c = np.mean(li)#均值\n",
    "    x = np.amin(li)\n",
    "    d = np.amax(li)\n",
    "\n",
    "    mm.write(str(c)+' ')\n",
    "    mm.write('\\n')\n",
    "    mm1.write(str(x)+' ')\n",
    "    mm1.write('\\n')\n",
    "    mm2.write(str(d)+' ')\n",
    "    mm2.write('\\n')\n",
    "mm.close()\n",
    "mm1.close()\n",
    "mm2.close()"
   ],
   "metadata": {
    "id": "zeZOt9qZNh54"
   },
   "execution_count": null,
   "outputs": []
  }
 ]
}
