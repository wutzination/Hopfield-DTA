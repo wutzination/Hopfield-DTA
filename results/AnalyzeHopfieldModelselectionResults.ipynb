{
 "nbformat": 4,
 "nbformat_minor": 0,
 "metadata": {
  "colab": {
   "provenance": [],
   "collapsed_sections": [
    "dj2yDG0IZgEE",
    "bRxQT2ZflUsf",
    "bwZQQN_5l23q"
   ],
   "authorship_tag": "ABX9TyOuneFTsuuMYmcsxl0jL3Bm"
  },
  "kernelspec": {
   "name": "python3",
   "display_name": "Python 3"
  },
  "language_info": {
   "name": "python"
  }
 },
 "cells": [
  {
   "cell_type": "code",
   "execution_count": 1,
   "metadata": {
    "id": "_IGRfo4iTzXV",
    "executionInfo": {
     "status": "ok",
     "timestamp": 1670782722586,
     "user_tz": -60,
     "elapsed": 1225,
     "user": {
      "displayName": "Laurenz Wurdinger",
      "userId": "00707038666413498638"
     }
    }
   },
   "outputs": [],
   "source": [
    "import numpy as np\n",
    "import scipy\n",
    "from scipy.stats import sem, ttest_ind, ttest_rel, wilcoxon"
   ]
  },
  {
   "cell_type": "code",
   "source": [
    "#FUnction for Sats\n",
    "def compute_stats(name:str, arr:np.array):\n",
    "  #Mean\n",
    "  mean = np.mean(arr)\n",
    "  print(f'{name} Mean: {mean}')\n",
    "  #STD\n",
    "  std = np.std(arr)\n",
    "  print(f'{name} STD. {std}')\n",
    "  #Standarderror\n",
    "  ste = sem(arr)\n",
    "  print(f'{name} STE: {ste}')\n"
   ],
   "metadata": {
    "id": "ymtsICjckh1n",
    "executionInfo": {
     "status": "ok",
     "timestamp": 1670782722588,
     "user_tz": -60,
     "elapsed": 34,
     "user": {
      "displayName": "Laurenz Wurdinger",
      "userId": "00707038666413498638"
     }
    }
   },
   "execution_count": 2,
   "outputs": []
  },
  {
   "cell_type": "markdown",
   "source": [
    "#Hopfield Tests\n",
    "with scaling = 0.03125\n",
    "\n",
    "scaled labels\n",
    "\n",
    "overfitting after around 200 epochs\n",
    "\n",
    "WandB: \n",
    "https://wandb.ai/js-test-team/wurdinger-hopfield-model-selection\n",
    "\n",
    "first five runs (staring with blue): Hop for Mol and Prot\n",
    "\n",
    "Second five runs (staring with orange): Hop only for Mol\n",
    "\n",
    "THird five runs (staring with forest): Hop Only for Prot"
   ],
   "metadata": {
    "id": "0YBK3GC5ZqDR"
   }
  },
  {
   "cell_type": "markdown",
   "source": [
    "##Hopfield for Mol and Prot"
   ],
   "metadata": {
    "id": "Itp43TlJm3Pt"
   }
  },
  {
   "cell_type": "code",
   "source": [
    "fullhop_ci2 = np.array([0.8668,\n",
    "                       0.8674,\n",
    "                       0.8659,\n",
    "                       0.8705,\n",
    "                       0.8679])"
   ],
   "metadata": {
    "executionInfo": {
     "status": "ok",
     "timestamp": 1670783837139,
     "user_tz": -60,
     "elapsed": 285,
     "user": {
      "displayName": "Laurenz Wurdinger",
      "userId": "00707038666413498638"
     }
    },
    "id": "pLKWhTOwm3Pz"
   },
   "execution_count": 18,
   "outputs": []
  },
  {
   "cell_type": "code",
   "source": [
    "compute_stats(\"Full Hop 2 CI\", fullhop_ci2)"
   ],
   "metadata": {
    "colab": {
     "base_uri": "https://localhost:8080/"
    },
    "executionInfo": {
     "status": "ok",
     "timestamp": 1670783837422,
     "user_tz": -60,
     "elapsed": 5,
     "user": {
      "displayName": "Laurenz Wurdinger",
      "userId": "00707038666413498638"
     }
    },
    "outputId": "9344c455-2acf-4e11-f630-d0de72995e76",
    "id": "VwQmq_hJm3P2"
   },
   "execution_count": 19,
   "outputs": [
    {
     "output_type": "stream",
     "name": "stdout",
     "text": [
      "Full Hop 2 CI Mean: 0.8676999999999999\n",
      "Full Hop 2 CI STD. 0.0015504837954651628\n",
      "Full Hop 2 CI STE: 0.0007752418977325813\n"
     ]
    }
   ]
  },
  {
   "cell_type": "code",
   "source": [
    "fullhop_mse2 = np.array([0.1488,\n",
    "                       0.15,\n",
    "                       0.1551,\n",
    "                       0.1556,\n",
    "                       0.1567])"
   ],
   "metadata": {
    "executionInfo": {
     "status": "ok",
     "timestamp": 1670783837724,
     "user_tz": -60,
     "elapsed": 4,
     "user": {
      "displayName": "Laurenz Wurdinger",
      "userId": "00707038666413498638"
     }
    },
    "id": "09bBtgQsm3P4"
   },
   "execution_count": 20,
   "outputs": []
  },
  {
   "cell_type": "code",
   "source": [
    "compute_stats(\"Full Hop 2 MSE\", fullhop_mse2)"
   ],
   "metadata": {
    "colab": {
     "base_uri": "https://localhost:8080/"
    },
    "executionInfo": {
     "status": "ok",
     "timestamp": 1670783838195,
     "user_tz": -60,
     "elapsed": 3,
     "user": {
      "displayName": "Laurenz Wurdinger",
      "userId": "00707038666413498638"
     }
    },
    "outputId": "4c1295de-88b4-4560-ed07-e97325814bed",
    "id": "YdwvyWvLm3P5"
   },
   "execution_count": 21,
   "outputs": [
    {
     "output_type": "stream",
     "name": "stdout",
     "text": [
      "Full Hop 2 MSE Mean: 0.15324\n",
      "Full Hop 2 MSE STD. 0.003200374978029921\n",
      "Full Hop 2 MSE STE: 0.0016001874890149603\n"
     ]
    }
   ]
  },
  {
   "cell_type": "markdown",
   "source": [
    "##Hopfield for Mol"
   ],
   "metadata": {
    "id": "CPlENJlJZxIc"
   }
  },
  {
   "cell_type": "code",
   "source": [
    "molhop_ci2 = np.array([0.8735,\n",
    "                       0.877,\n",
    "                       0.8786,\n",
    "                       0.8733,\n",
    "                       0.8742])"
   ],
   "metadata": {
    "id": "dv6Z1_SBZxIg",
    "executionInfo": {
     "status": "ok",
     "timestamp": 1670783838874,
     "user_tz": -60,
     "elapsed": 4,
     "user": {
      "displayName": "Laurenz Wurdinger",
      "userId": "00707038666413498638"
     }
    }
   },
   "execution_count": 22,
   "outputs": []
  },
  {
   "cell_type": "code",
   "source": [
    "compute_stats(\"Mol Hop 2 CI\", molhop_ci2)"
   ],
   "metadata": {
    "colab": {
     "base_uri": "https://localhost:8080/"
    },
    "executionInfo": {
     "status": "ok",
     "timestamp": 1670783838875,
     "user_tz": -60,
     "elapsed": 4,
     "user": {
      "displayName": "Laurenz Wurdinger",
      "userId": "00707038666413498638"
     }
    },
    "outputId": "bc3b21b0-146c-43a4-8f35-661732ca0c07",
    "id": "a6J1jhEAZxIj"
   },
   "execution_count": 23,
   "outputs": [
    {
     "output_type": "stream",
     "name": "stdout",
     "text": [
      "Mol Hop 2 CI Mean: 0.87532\n",
      "Mol Hop 2 CI STD. 0.0021084591530309673\n",
      "Mol Hop 2 CI STE: 0.0010542295765154834\n"
     ]
    }
   ]
  },
  {
   "cell_type": "code",
   "source": [
    "molhop_mse2 = np.array([0.1525,\n",
    "                       0.1536,\n",
    "                       0.15,\n",
    "                       0.1528,\n",
    "                       0.1507])"
   ],
   "metadata": {
    "id": "fQX9r7ktZxIl",
    "executionInfo": {
     "status": "ok",
     "timestamp": 1670783839562,
     "user_tz": -60,
     "elapsed": 3,
     "user": {
      "displayName": "Laurenz Wurdinger",
      "userId": "00707038666413498638"
     }
    }
   },
   "execution_count": 24,
   "outputs": []
  },
  {
   "cell_type": "code",
   "source": [
    "compute_stats(\"Mol Hop 2 MSE\", molhop_mse2)"
   ],
   "metadata": {
    "colab": {
     "base_uri": "https://localhost:8080/"
    },
    "executionInfo": {
     "status": "ok",
     "timestamp": 1670783839873,
     "user_tz": -60,
     "elapsed": 3,
     "user": {
      "displayName": "Laurenz Wurdinger",
      "userId": "00707038666413498638"
     }
    },
    "outputId": "580aea6e-f178-4e98-80c4-9f4398c47323",
    "id": "yCybGzz9ZxIn"
   },
   "execution_count": 25,
   "outputs": [
    {
     "output_type": "stream",
     "name": "stdout",
     "text": [
      "Mol Hop 2 MSE Mean: 0.15192\n",
      "Mol Hop 2 MSE STD. 0.0013496666255042359\n",
      "Mol Hop 2 MSE STE: 0.0006748333127521179\n"
     ]
    }
   ]
  },
  {
   "cell_type": "markdown",
   "source": [
    "##Hopfield for Prot"
   ],
   "metadata": {
    "id": "3un-6L0wad-a"
   }
  },
  {
   "cell_type": "code",
   "source": [
    "prothop_ci2 = np.array([0.8695,\n",
    "                       0.8714,\n",
    "                       0.8749,\n",
    "                       0.865,\n",
    "                       0.873])"
   ],
   "metadata": {
    "executionInfo": {
     "status": "ok",
     "timestamp": 1670783840561,
     "user_tz": -60,
     "elapsed": 4,
     "user": {
      "displayName": "Laurenz Wurdinger",
      "userId": "00707038666413498638"
     }
    },
    "id": "2IHz1gPRad-e"
   },
   "execution_count": 26,
   "outputs": []
  },
  {
   "cell_type": "code",
   "source": [
    "compute_stats(\"Prot Hop 2 CI\", prothop_ci2)"
   ],
   "metadata": {
    "colab": {
     "base_uri": "https://localhost:8080/"
    },
    "executionInfo": {
     "status": "ok",
     "timestamp": 1670783840904,
     "user_tz": -60,
     "elapsed": 8,
     "user": {
      "displayName": "Laurenz Wurdinger",
      "userId": "00707038666413498638"
     }
    },
    "outputId": "eb77a719-c0c0-4dbf-b850-2104ade4043b",
    "id": "dBU1juMJad-l"
   },
   "execution_count": 27,
   "outputs": [
    {
     "output_type": "stream",
     "name": "stdout",
     "text": [
      "Prot Hop 2 CI Mean: 0.8707600000000001\n",
      "Prot Hop 2 CI STD. 0.0033862073179296037\n",
      "Prot Hop 2 CI STE: 0.0016931036589648016\n"
     ]
    }
   ]
  },
  {
   "cell_type": "code",
   "source": [
    "prothop_mse2 = np.array([0.1501,\n",
    "                       0.1511,\n",
    "                       0.1526,\n",
    "                       0.1494,\n",
    "                       0.1521])"
   ],
   "metadata": {
    "executionInfo": {
     "status": "ok",
     "timestamp": 1670783841205,
     "user_tz": -60,
     "elapsed": 5,
     "user": {
      "displayName": "Laurenz Wurdinger",
      "userId": "00707038666413498638"
     }
    },
    "id": "qmkjcDK_ad-p"
   },
   "execution_count": 28,
   "outputs": []
  },
  {
   "cell_type": "code",
   "source": [
    "compute_stats(\"Prot Hop 2 MSE\", prothop_mse2)"
   ],
   "metadata": {
    "colab": {
     "base_uri": "https://localhost:8080/"
    },
    "executionInfo": {
     "status": "ok",
     "timestamp": 1670783841828,
     "user_tz": -60,
     "elapsed": 10,
     "user": {
      "displayName": "Laurenz Wurdinger",
      "userId": "00707038666413498638"
     }
    },
    "outputId": "30c7bf46-6458-4dfc-d715-b5f8202c1afe",
    "id": "qxRUfqLxad-t"
   },
   "execution_count": 29,
   "outputs": [
    {
     "output_type": "stream",
     "name": "stdout",
     "text": [
      "Prot Hop 2 MSE Mean: 0.15106000000000003\n",
      "Prot Hop 2 MSE STD. 0.001194319890146692\n",
      "Prot Hop 2 MSE STE: 0.000597159945073346\n"
     ]
    }
   ]
  },
  {
   "cell_type": "markdown",
   "source": [
    "#Hopfield Tests with non-scaled labels\n",
    "Error!\n",
    "\n",
    "WandB:\n",
    "https://wandb.ai/js-test-team/pcm-wurdinger-hyper-hopfield-testFull\n",
    "\n",
    "first five runs (staring with blue): Hop for Mol and Prot\n",
    "\n",
    "Second five runs (staring with orange): Hop only for Mol\n",
    "\n",
    "THird five runs (staring with forest): Hop Only for Prot"
   ],
   "metadata": {
    "id": "dj2yDG0IZgEE"
   }
  },
  {
   "cell_type": "markdown",
   "source": [
    "##Hopfield for Mol and Prot\n",
    "Error: Used original labels (not standardized)"
   ],
   "metadata": {
    "id": "o3I5zD80jkFP"
   }
  },
  {
   "cell_type": "code",
   "source": [
    "fullhop_ci = np.array([0.8669,\n",
    "                       0.8627,\n",
    "                       0.8709,\n",
    "                       0.8679,\n",
    "                       0.8649])"
   ],
   "metadata": {
    "id": "1vdApTTaT6OY"
   },
   "execution_count": null,
   "outputs": []
  },
  {
   "cell_type": "code",
   "source": [
    "compute_stats(\"Full Hop CI\", fullhop_ci)"
   ],
   "metadata": {
    "colab": {
     "base_uri": "https://localhost:8080/"
    },
    "id": "Ti0O0hXNUkPG",
    "executionInfo": {
     "status": "ok",
     "timestamp": 1670567819632,
     "user_tz": -60,
     "elapsed": 8,
     "user": {
      "displayName": "Laurenz Wurdinger",
      "userId": "00707038666413498638"
     }
    },
    "outputId": "e27d3263-d187-4f0c-baf3-95f751835bbd"
   },
   "execution_count": null,
   "outputs": [
    {
     "output_type": "stream",
     "name": "stdout",
     "text": [
      "Full Hop CI Mean: 0.8666600000000001\n",
      "Full Hop CI STD. 0.002769548699698198\n",
      "Full Hop CI STE: 0.0013847743498490988\n"
     ]
    }
   ]
  },
  {
   "cell_type": "code",
   "source": [
    "fullhop_mse = np.array([0.1133,\n",
    "                       0.1135,\n",
    "                       0.1157,\n",
    "                       0.1133,\n",
    "                       0.1121])"
   ],
   "metadata": {
    "id": "OHt1VACdU2J1"
   },
   "execution_count": null,
   "outputs": []
  },
  {
   "cell_type": "code",
   "source": [
    "compute_stats(\"Full Hop MSE\", fullhop_mse)"
   ],
   "metadata": {
    "colab": {
     "base_uri": "https://localhost:8080/"
    },
    "id": "gdjxH7fFVYkj",
    "executionInfo": {
     "status": "ok",
     "timestamp": 1670567819914,
     "user_tz": -60,
     "elapsed": 287,
     "user": {
      "displayName": "Laurenz Wurdinger",
      "userId": "00707038666413498638"
     }
    },
    "outputId": "1992400f-f28c-4421-aa20-227d4d20a1cf"
   },
   "execution_count": null,
   "outputs": [
    {
     "output_type": "stream",
     "name": "stdout",
     "text": [
      "Full Hop MSE Mean: 0.11358000000000001\n",
      "Full Hop MSE STD. 0.0011702991070662212\n",
      "Full Hop MSE STE: 0.0005851495535331106\n"
     ]
    }
   ]
  },
  {
   "cell_type": "markdown",
   "source": [
    "##Hopfield only at Mol\n",
    "Error: Used original labels (not standardized)"
   ],
   "metadata": {
    "id": "bRxQT2ZflUsf"
   }
  },
  {
   "cell_type": "code",
   "source": [
    "molhop_ci = np.array([0.8659,\n",
    "                       0.8725,\n",
    "                       0.865,\n",
    "                       0.8636,\n",
    "                       0.8609])"
   ],
   "metadata": {
    "id": "as423AA-lais"
   },
   "execution_count": null,
   "outputs": []
  },
  {
   "cell_type": "code",
   "source": [
    "compute_stats(\"Mol Hop CI\", molhop_ci)"
   ],
   "metadata": {
    "colab": {
     "base_uri": "https://localhost:8080/"
    },
    "executionInfo": {
     "status": "ok",
     "timestamp": 1670567819916,
     "user_tz": -60,
     "elapsed": 40,
     "user": {
      "displayName": "Laurenz Wurdinger",
      "userId": "00707038666413498638"
     }
    },
    "outputId": "51cc6a08-9563-4346-c98a-c36440f15ea4",
    "id": "aKZo5UIplaiw"
   },
   "execution_count": null,
   "outputs": [
    {
     "output_type": "stream",
     "name": "stdout",
     "text": [
      "Mol Hop CI Mean: 0.8655799999999999\n",
      "Mol Hop CI STD. 0.0038509219675293502\n",
      "Mol Hop CI STE: 0.0019254609837646751\n"
     ]
    }
   ]
  },
  {
   "cell_type": "code",
   "source": [
    "molhop_mse = np.array([0.118,\n",
    "                       0.115,\n",
    "                       0.1147,\n",
    "                       0.1136,\n",
    "                       0.1105])"
   ],
   "metadata": {
    "id": "uYcw_PDXllKo"
   },
   "execution_count": null,
   "outputs": []
  },
  {
   "cell_type": "code",
   "source": [
    "compute_stats(\"Mol Hop MSE\", molhop_mse)"
   ],
   "metadata": {
    "colab": {
     "base_uri": "https://localhost:8080/"
    },
    "executionInfo": {
     "status": "ok",
     "timestamp": 1670567819917,
     "user_tz": -60,
     "elapsed": 34,
     "user": {
      "displayName": "Laurenz Wurdinger",
      "userId": "00707038666413498638"
     }
    },
    "outputId": "489c17c2-ded1-4b08-aac1-0d0c7e0074a3",
    "id": "X9xmBio4llKr"
   },
   "execution_count": null,
   "outputs": [
    {
     "output_type": "stream",
     "name": "stdout",
     "text": [
      "Mol Hop MSE Mean: 0.11436000000000002\n",
      "Mol Hop MSE STD. 0.002418760012899169\n",
      "Mol Hop MSE STE: 0.0012093800064495845\n"
     ]
    }
   ]
  },
  {
   "cell_type": "markdown",
   "source": [
    "##Hopfield only at Prot\n",
    "Error: Used original labels (not standardized)"
   ],
   "metadata": {
    "id": "bwZQQN_5l23q"
   }
  },
  {
   "cell_type": "code",
   "source": [
    "prothop_ci = np.array([0.8676,\n",
    "                       0.8724,\n",
    "                       0.8629,\n",
    "                       0.8742,\n",
    "                       0.8624])"
   ],
   "metadata": {
    "id": "t2uHy1Irl23s"
   },
   "execution_count": null,
   "outputs": []
  },
  {
   "cell_type": "code",
   "source": [
    "compute_stats(\"Prot Hop CI\", prothop_ci)"
   ],
   "metadata": {
    "colab": {
     "base_uri": "https://localhost:8080/"
    },
    "executionInfo": {
     "status": "ok",
     "timestamp": 1670567819918,
     "user_tz": -60,
     "elapsed": 29,
     "user": {
      "displayName": "Laurenz Wurdinger",
      "userId": "00707038666413498638"
     }
    },
    "outputId": "0f49aa11-a367-4030-b189-afd474626cad",
    "id": "QKdCTYvZl23u"
   },
   "execution_count": null,
   "outputs": [
    {
     "output_type": "stream",
     "name": "stdout",
     "text": [
      "Prot Hop CI Mean: 0.8679\n",
      "Prot Hop CI STD. 0.004801666377415212\n",
      "Prot Hop CI STE: 0.002400833188707606\n"
     ]
    }
   ]
  },
  {
   "cell_type": "code",
   "source": [
    "prothop_mse = np.array([0.1106,\n",
    "                       0.1126,\n",
    "                       0.116,\n",
    "                       0.1143,\n",
    "                       0.1128])"
   ],
   "metadata": {
    "id": "vkspejZ3l23y"
   },
   "execution_count": null,
   "outputs": []
  },
  {
   "cell_type": "code",
   "source": [
    "compute_stats(\"Prot Hop MSE\", prothop_mse)"
   ],
   "metadata": {
    "colab": {
     "base_uri": "https://localhost:8080/"
    },
    "executionInfo": {
     "status": "ok",
     "timestamp": 1670567897505,
     "user_tz": -60,
     "elapsed": 7,
     "user": {
      "displayName": "Laurenz Wurdinger",
      "userId": "00707038666413498638"
     }
    },
    "outputId": "f0c11f17-0030-4a24-b323-4806992a95d9",
    "id": "qo_ROKAtl230"
   },
   "execution_count": null,
   "outputs": [
    {
     "output_type": "stream",
     "name": "stdout",
     "text": [
      "Prot Hop MSE Mean: 0.11326\n",
      "Prot Hop MSE STD. 0.001806211504780102\n",
      "Prot Hop MSE STE: 0.000903105752390051\n"
     ]
    }
   ]
  },
  {
   "cell_type": "code",
   "source": [],
   "metadata": {
    "id": "KCtsL35JVfCz"
   },
   "execution_count": null,
   "outputs": []
  }
 ]
}
